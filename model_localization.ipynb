{
  "cells": [
    {
      "cell_type": "markdown",
      "metadata": {
        "id": "view-in-github",
        "colab_type": "text"
      },
      "source": [
        "<a href=\"https://colab.research.google.com/github/lauranenart/ObjectLocalizationClassification/blob/main/model_localization.ipynb\" target=\"_parent\"><img src=\"https://colab.research.google.com/assets/colab-badge.svg\" alt=\"Open In Colab\"/></a>"
      ]
    },
    {
      "cell_type": "code",
      "execution_count": 1,
      "metadata": {
        "colab": {
          "base_uri": "https://localhost:8080/",
          "height": 1000
        },
        "id": "pjn8fjF6D1w4",
        "outputId": "02bbf78a-f959-4ec9-ec8e-8b864f478000"
      },
      "outputs": [
        {
          "output_type": "stream",
          "name": "stdout",
          "text": [
            "Requirement already satisfied: d2l==0.17.2 in /usr/local/lib/python3.7/dist-packages (0.17.2)\n",
            "Collecting matplotlib==3.3.3\n",
            "  Using cached matplotlib-3.3.3-cp37-cp37m-manylinux1_x86_64.whl (11.6 MB)\n",
            "Requirement already satisfied: pandas==1.2.2 in /usr/local/lib/python3.7/dist-packages (from d2l==0.17.2) (1.2.2)\n",
            "Requirement already satisfied: jupyter==1.0.0 in /usr/local/lib/python3.7/dist-packages (from d2l==0.17.2) (1.0.0)\n",
            "Requirement already satisfied: requests==2.25.1 in /usr/local/lib/python3.7/dist-packages (from d2l==0.17.2) (2.25.1)\n",
            "Requirement already satisfied: numpy==1.18.5 in /usr/local/lib/python3.7/dist-packages (from d2l==0.17.2) (1.18.5)\n",
            "Requirement already satisfied: ipywidgets in /usr/local/lib/python3.7/dist-packages (from jupyter==1.0.0->d2l==0.17.2) (7.7.0)\n",
            "Requirement already satisfied: qtconsole in /usr/local/lib/python3.7/dist-packages (from jupyter==1.0.0->d2l==0.17.2) (5.3.0)\n",
            "Requirement already satisfied: jupyter-console in /usr/local/lib/python3.7/dist-packages (from jupyter==1.0.0->d2l==0.17.2) (5.2.0)\n",
            "Requirement already satisfied: ipykernel in /usr/local/lib/python3.7/dist-packages (from jupyter==1.0.0->d2l==0.17.2) (4.10.1)\n",
            "Requirement already satisfied: notebook in /usr/local/lib/python3.7/dist-packages (from jupyter==1.0.0->d2l==0.17.2) (5.3.1)\n",
            "Requirement already satisfied: nbconvert in /usr/local/lib/python3.7/dist-packages (from jupyter==1.0.0->d2l==0.17.2) (5.6.1)\n",
            "Requirement already satisfied: python-dateutil>=2.1 in /usr/local/lib/python3.7/dist-packages (from matplotlib==3.3.3->d2l==0.17.2) (2.8.2)\n",
            "Requirement already satisfied: pyparsing!=2.0.4,!=2.1.2,!=2.1.6,>=2.0.3 in /usr/local/lib/python3.7/dist-packages (from matplotlib==3.3.3->d2l==0.17.2) (3.0.8)\n",
            "Requirement already satisfied: cycler>=0.10 in /usr/local/lib/python3.7/dist-packages (from matplotlib==3.3.3->d2l==0.17.2) (0.11.0)\n",
            "Requirement already satisfied: pillow>=6.2.0 in /usr/local/lib/python3.7/dist-packages (from matplotlib==3.3.3->d2l==0.17.2) (7.1.2)\n",
            "Requirement already satisfied: kiwisolver>=1.0.1 in /usr/local/lib/python3.7/dist-packages (from matplotlib==3.3.3->d2l==0.17.2) (1.4.2)\n",
            "Requirement already satisfied: pytz>=2017.3 in /usr/local/lib/python3.7/dist-packages (from pandas==1.2.2->d2l==0.17.2) (2022.1)\n",
            "Requirement already satisfied: chardet<5,>=3.0.2 in /usr/local/lib/python3.7/dist-packages (from requests==2.25.1->d2l==0.17.2) (3.0.4)\n",
            "Requirement already satisfied: certifi>=2017.4.17 in /usr/local/lib/python3.7/dist-packages (from requests==2.25.1->d2l==0.17.2) (2021.10.8)\n",
            "Requirement already satisfied: urllib3<1.27,>=1.21.1 in /usr/local/lib/python3.7/dist-packages (from requests==2.25.1->d2l==0.17.2) (1.24.3)\n",
            "Requirement already satisfied: idna<3,>=2.5 in /usr/local/lib/python3.7/dist-packages (from requests==2.25.1->d2l==0.17.2) (2.10)\n",
            "Requirement already satisfied: typing-extensions in /usr/local/lib/python3.7/dist-packages (from kiwisolver>=1.0.1->matplotlib==3.3.3->d2l==0.17.2) (4.1.1)\n",
            "Requirement already satisfied: six>=1.5 in /usr/local/lib/python3.7/dist-packages (from python-dateutil>=2.1->matplotlib==3.3.3->d2l==0.17.2) (1.15.0)\n",
            "Requirement already satisfied: tornado>=4.0 in /usr/local/lib/python3.7/dist-packages (from ipykernel->jupyter==1.0.0->d2l==0.17.2) (5.1.1)\n",
            "Requirement already satisfied: traitlets>=4.1.0 in /usr/local/lib/python3.7/dist-packages (from ipykernel->jupyter==1.0.0->d2l==0.17.2) (5.1.1)\n",
            "Requirement already satisfied: ipython>=4.0.0 in /usr/local/lib/python3.7/dist-packages (from ipykernel->jupyter==1.0.0->d2l==0.17.2) (5.5.0)\n",
            "Requirement already satisfied: jupyter-client in /usr/local/lib/python3.7/dist-packages (from ipykernel->jupyter==1.0.0->d2l==0.17.2) (5.3.5)\n",
            "Requirement already satisfied: simplegeneric>0.8 in /usr/local/lib/python3.7/dist-packages (from ipython>=4.0.0->ipykernel->jupyter==1.0.0->d2l==0.17.2) (0.8.1)\n",
            "Requirement already satisfied: prompt-toolkit<2.0.0,>=1.0.4 in /usr/local/lib/python3.7/dist-packages (from ipython>=4.0.0->ipykernel->jupyter==1.0.0->d2l==0.17.2) (1.0.18)\n",
            "Requirement already satisfied: pickleshare in /usr/local/lib/python3.7/dist-packages (from ipython>=4.0.0->ipykernel->jupyter==1.0.0->d2l==0.17.2) (0.7.5)\n",
            "Requirement already satisfied: pygments in /usr/local/lib/python3.7/dist-packages (from ipython>=4.0.0->ipykernel->jupyter==1.0.0->d2l==0.17.2) (2.6.1)\n",
            "Requirement already satisfied: decorator in /usr/local/lib/python3.7/dist-packages (from ipython>=4.0.0->ipykernel->jupyter==1.0.0->d2l==0.17.2) (4.4.2)\n",
            "Requirement already satisfied: setuptools>=18.5 in /usr/local/lib/python3.7/dist-packages (from ipython>=4.0.0->ipykernel->jupyter==1.0.0->d2l==0.17.2) (57.4.0)\n",
            "Requirement already satisfied: pexpect in /usr/local/lib/python3.7/dist-packages (from ipython>=4.0.0->ipykernel->jupyter==1.0.0->d2l==0.17.2) (4.8.0)\n",
            "Requirement already satisfied: wcwidth in /usr/local/lib/python3.7/dist-packages (from prompt-toolkit<2.0.0,>=1.0.4->ipython>=4.0.0->ipykernel->jupyter==1.0.0->d2l==0.17.2) (0.2.5)\n",
            "Requirement already satisfied: jupyterlab-widgets>=1.0.0 in /usr/local/lib/python3.7/dist-packages (from ipywidgets->jupyter==1.0.0->d2l==0.17.2) (1.1.0)\n",
            "Requirement already satisfied: widgetsnbextension~=3.6.0 in /usr/local/lib/python3.7/dist-packages (from ipywidgets->jupyter==1.0.0->d2l==0.17.2) (3.6.0)\n",
            "Requirement already satisfied: ipython-genutils~=0.2.0 in /usr/local/lib/python3.7/dist-packages (from ipywidgets->jupyter==1.0.0->d2l==0.17.2) (0.2.0)\n",
            "Requirement already satisfied: nbformat>=4.2.0 in /usr/local/lib/python3.7/dist-packages (from ipywidgets->jupyter==1.0.0->d2l==0.17.2) (5.3.0)\n",
            "Requirement already satisfied: fastjsonschema in /usr/local/lib/python3.7/dist-packages (from nbformat>=4.2.0->ipywidgets->jupyter==1.0.0->d2l==0.17.2) (2.15.3)\n",
            "Requirement already satisfied: jupyter-core in /usr/local/lib/python3.7/dist-packages (from nbformat>=4.2.0->ipywidgets->jupyter==1.0.0->d2l==0.17.2) (4.9.2)\n",
            "Requirement already satisfied: jsonschema>=2.6 in /usr/local/lib/python3.7/dist-packages (from nbformat>=4.2.0->ipywidgets->jupyter==1.0.0->d2l==0.17.2) (4.3.3)\n",
            "Requirement already satisfied: importlib-metadata in /usr/local/lib/python3.7/dist-packages (from jsonschema>=2.6->nbformat>=4.2.0->ipywidgets->jupyter==1.0.0->d2l==0.17.2) (4.11.3)\n",
            "Requirement already satisfied: importlib-resources>=1.4.0 in /usr/local/lib/python3.7/dist-packages (from jsonschema>=2.6->nbformat>=4.2.0->ipywidgets->jupyter==1.0.0->d2l==0.17.2) (5.7.0)\n",
            "Requirement already satisfied: pyrsistent!=0.17.0,!=0.17.1,!=0.17.2,>=0.14.0 in /usr/local/lib/python3.7/dist-packages (from jsonschema>=2.6->nbformat>=4.2.0->ipywidgets->jupyter==1.0.0->d2l==0.17.2) (0.18.1)\n",
            "Requirement already satisfied: attrs>=17.4.0 in /usr/local/lib/python3.7/dist-packages (from jsonschema>=2.6->nbformat>=4.2.0->ipywidgets->jupyter==1.0.0->d2l==0.17.2) (21.4.0)\n",
            "Requirement already satisfied: zipp>=3.1.0 in /usr/local/lib/python3.7/dist-packages (from importlib-resources>=1.4.0->jsonschema>=2.6->nbformat>=4.2.0->ipywidgets->jupyter==1.0.0->d2l==0.17.2) (3.8.0)\n",
            "Requirement already satisfied: Send2Trash in /usr/local/lib/python3.7/dist-packages (from notebook->jupyter==1.0.0->d2l==0.17.2) (1.8.0)\n",
            "Requirement already satisfied: terminado>=0.8.1 in /usr/local/lib/python3.7/dist-packages (from notebook->jupyter==1.0.0->d2l==0.17.2) (0.13.3)\n",
            "Requirement already satisfied: jinja2 in /usr/local/lib/python3.7/dist-packages (from notebook->jupyter==1.0.0->d2l==0.17.2) (2.11.3)\n",
            "Requirement already satisfied: pyzmq>=13 in /usr/local/lib/python3.7/dist-packages (from jupyter-client->ipykernel->jupyter==1.0.0->d2l==0.17.2) (22.3.0)\n",
            "Requirement already satisfied: ptyprocess in /usr/local/lib/python3.7/dist-packages (from terminado>=0.8.1->notebook->jupyter==1.0.0->d2l==0.17.2) (0.7.0)\n",
            "Requirement already satisfied: MarkupSafe>=0.23 in /usr/local/lib/python3.7/dist-packages (from jinja2->notebook->jupyter==1.0.0->d2l==0.17.2) (2.0.1)\n",
            "Requirement already satisfied: testpath in /usr/local/lib/python3.7/dist-packages (from nbconvert->jupyter==1.0.0->d2l==0.17.2) (0.6.0)\n",
            "Requirement already satisfied: bleach in /usr/local/lib/python3.7/dist-packages (from nbconvert->jupyter==1.0.0->d2l==0.17.2) (5.0.0)\n",
            "Requirement already satisfied: defusedxml in /usr/local/lib/python3.7/dist-packages (from nbconvert->jupyter==1.0.0->d2l==0.17.2) (0.7.1)\n",
            "Requirement already satisfied: pandocfilters>=1.4.1 in /usr/local/lib/python3.7/dist-packages (from nbconvert->jupyter==1.0.0->d2l==0.17.2) (1.5.0)\n",
            "Requirement already satisfied: entrypoints>=0.2.2 in /usr/local/lib/python3.7/dist-packages (from nbconvert->jupyter==1.0.0->d2l==0.17.2) (0.4)\n",
            "Requirement already satisfied: mistune<2,>=0.8.1 in /usr/local/lib/python3.7/dist-packages (from nbconvert->jupyter==1.0.0->d2l==0.17.2) (0.8.4)\n",
            "Requirement already satisfied: webencodings in /usr/local/lib/python3.7/dist-packages (from bleach->nbconvert->jupyter==1.0.0->d2l==0.17.2) (0.5.1)\n",
            "Requirement already satisfied: qtpy>=2.0.1 in /usr/local/lib/python3.7/dist-packages (from qtconsole->jupyter==1.0.0->d2l==0.17.2) (2.0.1)\n",
            "Requirement already satisfied: packaging in /usr/local/lib/python3.7/dist-packages (from qtpy>=2.0.1->qtconsole->jupyter==1.0.0->d2l==0.17.2) (21.3)\n",
            "Installing collected packages: matplotlib\n",
            "  Attempting uninstall: matplotlib\n",
            "    Found existing installation: matplotlib 3.0.2\n",
            "    Uninstalling matplotlib-3.0.2:\n",
            "      Successfully uninstalled matplotlib-3.0.2\n",
            "\u001b[31mERROR: pip's dependency resolver does not currently take into account all the packages that are installed. This behaviour is the source of the following dependency conflicts.\n",
            "albumentations 0.1.12 requires imgaug<0.2.7,>=0.2.5, but you have imgaug 0.2.9 which is incompatible.\u001b[0m\n",
            "Successfully installed matplotlib-3.3.3\n"
          ]
        },
        {
          "output_type": "display_data",
          "data": {
            "application/vnd.colab-display-data+json": {
              "pip_warning": {
                "packages": [
                  "matplotlib",
                  "mpl_toolkits"
                ]
              }
            }
          },
          "metadata": {}
        }
      ],
      "source": [
        "!pip install d2l==0.17.2"
      ]
    },
    {
      "cell_type": "code",
      "execution_count": 2,
      "metadata": {
        "colab": {
          "base_uri": "https://localhost:8080/",
          "height": 470
        },
        "id": "uEUtTMJCe8JG",
        "outputId": "889e31e2-c6aa-4b57-e25f-45cf980caa97"
      },
      "outputs": [
        {
          "output_type": "stream",
          "name": "stdout",
          "text": [
            "Collecting matplotlib==3.0.2\n",
            "  Using cached matplotlib-3.0.2-cp37-cp37m-manylinux1_x86_64.whl (12.9 MB)\n",
            "Requirement already satisfied: kiwisolver>=1.0.1 in /usr/local/lib/python3.7/dist-packages (from matplotlib==3.0.2) (1.4.2)\n",
            "Requirement already satisfied: cycler>=0.10 in /usr/local/lib/python3.7/dist-packages (from matplotlib==3.0.2) (0.11.0)\n",
            "Requirement already satisfied: pyparsing!=2.0.4,!=2.1.2,!=2.1.6,>=2.0.1 in /usr/local/lib/python3.7/dist-packages (from matplotlib==3.0.2) (3.0.8)\n",
            "Requirement already satisfied: python-dateutil>=2.1 in /usr/local/lib/python3.7/dist-packages (from matplotlib==3.0.2) (2.8.2)\n",
            "Requirement already satisfied: numpy>=1.10.0 in /usr/local/lib/python3.7/dist-packages (from matplotlib==3.0.2) (1.18.5)\n",
            "Requirement already satisfied: typing-extensions in /usr/local/lib/python3.7/dist-packages (from kiwisolver>=1.0.1->matplotlib==3.0.2) (4.1.1)\n",
            "Requirement already satisfied: six>=1.5 in /usr/local/lib/python3.7/dist-packages (from python-dateutil>=2.1->matplotlib==3.0.2) (1.15.0)\n",
            "Installing collected packages: matplotlib\n",
            "  Attempting uninstall: matplotlib\n",
            "    Found existing installation: matplotlib 3.3.3\n",
            "    Uninstalling matplotlib-3.3.3:\n",
            "      Successfully uninstalled matplotlib-3.3.3\n",
            "\u001b[31mERROR: pip's dependency resolver does not currently take into account all the packages that are installed. This behaviour is the source of the following dependency conflicts.\n",
            "plotnine 0.6.0 requires matplotlib>=3.1.1, but you have matplotlib 3.0.2 which is incompatible.\n",
            "mizani 0.6.0 requires matplotlib>=3.1.1, but you have matplotlib 3.0.2 which is incompatible.\n",
            "d2l 0.17.2 requires matplotlib==3.3.3, but you have matplotlib 3.0.2 which is incompatible.\n",
            "albumentations 0.1.12 requires imgaug<0.2.7,>=0.2.5, but you have imgaug 0.2.9 which is incompatible.\u001b[0m\n",
            "Successfully installed matplotlib-3.0.2\n"
          ]
        },
        {
          "output_type": "display_data",
          "data": {
            "application/vnd.colab-display-data+json": {
              "pip_warning": {
                "packages": [
                  "matplotlib",
                  "mpl_toolkits"
                ]
              }
            }
          },
          "metadata": {}
        }
      ],
      "source": [
        "!pip install matplotlib==3.0.2"
      ]
    },
    {
      "cell_type": "code",
      "execution_count": 3,
      "metadata": {
        "id": "wmAkpjB3EAQd"
      },
      "outputs": [],
      "source": [
        "import torch\n",
        "import torchvision\n",
        "from torch.utils import data\n",
        "from torchvision import transforms\n",
        "from d2l import torch as d2l\n",
        "import torch.nn as nn\n",
        "import matplotlib.pyplot as plt\n",
        "%matplotlib inline\n",
        "import PIL\n",
        "import numpy as np\n",
        "\n",
        "d2l.use_svg_display()"
      ]
    },
    {
      "cell_type": "code",
      "execution_count": null,
      "metadata": {
        "id": "uAftWEecY53s"
      },
      "outputs": [],
      "source": [
        "pip install oidv6"
      ]
    },
    {
      "cell_type": "code",
      "execution_count": 2,
      "metadata": {
        "colab": {
          "base_uri": "https://localhost:8080/"
        },
        "id": "hj1jdJNGmVEd",
        "outputId": "ee18e16a-aaca-4c37-b3df-ed4a7f39451c"
      },
      "outputs": [
        {
          "output_type": "stream",
          "name": "stdout",
          "text": [
            "Drive already mounted at /content/drive; to attempt to forcibly remount, call drive.mount(\"/content/drive\", force_remount=True).\n"
          ]
        }
      ],
      "source": [
        "from google.colab import drive\n",
        "drive.mount('/content/drive')"
      ]
    },
    {
      "cell_type": "code",
      "execution_count": null,
      "metadata": {
        "id": "Gk7N2xPNndD2"
      },
      "outputs": [],
      "source": [
        "!oidv6 downloader en --dataset drive/MyDrive/data --multi-classes --type_csv all --classes \"human_body\" horse knife --limit 1000"
      ]
    },
    {
      "cell_type": "code",
      "execution_count": 5,
      "metadata": {
        "id": "oXnRwrJDpbgE"
      },
      "outputs": [],
      "source": [
        "import csv\n",
        "import pandas as pd\n",
        "import glob"
      ]
    },
    {
      "cell_type": "code",
      "execution_count": null,
      "metadata": {
        "id": "WKqWaKa4KEba"
      },
      "outputs": [],
      "source": [
        "header = ['img_path', 'class', 'x0', 'y0', 'x1', 'x2']\n",
        "\n",
        "for type in ['test', 'train', 'validation']:\n",
        "  f = open('/content/drive/My Drive/filtered_data/' + type + '.csv', 'w')\n",
        "  writer = csv.writer(f)\n",
        "  writer.writerow(header)\n",
        "\n",
        "  for folder in ['horse', 'human_body', 'knife']:\n",
        "    for img_path in glob.glob('/content/drive/My Drive/data/' + type + '/' + folder + '/*.jpg'):\n",
        "      img = img_path.rsplit(\"/\", 1)[1]\n",
        "      data = []\n",
        "      data.append(img)\n",
        "      with open(img_path.rsplit(\"/\", 1)[0] + '/labels/' + img.rsplit(\".\", 1)[0] + '.txt','r') as f:\n",
        "        for line in f:\n",
        "          columns = line.split()\n",
        "      data = data + columns\n",
        "      writer.writerow(data)\n",
        "\n",
        "  f.close()"
      ]
    },
    {
      "cell_type": "code",
      "execution_count": null,
      "metadata": {
        "id": "j1JbWXfc2IYq"
      },
      "outputs": [],
      "source": [
        "train_df = pd.read_csv(\"/content/drive/My Drive/filtered_data/train.csv\")\n",
        "valid_df = pd.read_csv(\"/content/drive/My Drive/filtered_data/validation.csv\")\n",
        "test_df = pd.read_csv(\"/content/drive/My Drive/filtered_data/test.csv\")"
      ]
    },
    {
      "cell_type": "code",
      "execution_count": null,
      "metadata": {
        "colab": {
          "base_uri": "https://localhost:8080/",
          "height": 206
        },
        "id": "mqFjINfRCRlR",
        "outputId": "892e9f04-0d11-4639-b8c1-860f01d932e3"
      },
      "outputs": [
        {
          "data": {
            "text/html": [
              "\n",
              "  <div id=\"df-0576c14f-5124-4147-bdc4-4b73f6e8e83b\">\n",
              "    <div class=\"colab-df-container\">\n",
              "      <div>\n",
              "<style scoped>\n",
              "    .dataframe tbody tr th:only-of-type {\n",
              "        vertical-align: middle;\n",
              "    }\n",
              "\n",
              "    .dataframe tbody tr th {\n",
              "        vertical-align: top;\n",
              "    }\n",
              "\n",
              "    .dataframe thead th {\n",
              "        text-align: right;\n",
              "    }\n",
              "</style>\n",
              "<table border=\"1\" class=\"dataframe\">\n",
              "  <thead>\n",
              "    <tr style=\"text-align: right;\">\n",
              "      <th></th>\n",
              "      <th>img_path</th>\n",
              "      <th>class</th>\n",
              "      <th>x0</th>\n",
              "      <th>y0</th>\n",
              "      <th>x1</th>\n",
              "      <th>x2</th>\n",
              "    </tr>\n",
              "  </thead>\n",
              "  <tbody>\n",
              "    <tr>\n",
              "      <th>0</th>\n",
              "      <td>0003d1891fd14575.jpg</td>\n",
              "      <td>horse</td>\n",
              "      <td>323.840000</td>\n",
              "      <td>211.877528</td>\n",
              "      <td>764.800000</td>\n",
              "      <td>518.491254</td>\n",
              "    </tr>\n",
              "    <tr>\n",
              "      <th>1</th>\n",
              "      <td>00061d30b2965c3e.jpg</td>\n",
              "      <td>horse</td>\n",
              "      <td>373.760256</td>\n",
              "      <td>108.800000</td>\n",
              "      <td>494.079744</td>\n",
              "      <td>396.800000</td>\n",
              "    </tr>\n",
              "    <tr>\n",
              "      <th>2</th>\n",
              "      <td>0006476c7a10ac38.jpg</td>\n",
              "      <td>horse</td>\n",
              "      <td>314.880000</td>\n",
              "      <td>147.840000</td>\n",
              "      <td>755.840256</td>\n",
              "      <td>845.440000</td>\n",
              "    </tr>\n",
              "    <tr>\n",
              "      <th>3</th>\n",
              "      <td>000851174d48d3d9.jpg</td>\n",
              "      <td>horse</td>\n",
              "      <td>145.280000</td>\n",
              "      <td>9.610493</td>\n",
              "      <td>893.440000</td>\n",
              "      <td>682.359346</td>\n",
              "    </tr>\n",
              "    <tr>\n",
              "      <th>4</th>\n",
              "      <td>000a12b69b0de9f2.jpg</td>\n",
              "      <td>horse</td>\n",
              "      <td>160.640000</td>\n",
              "      <td>67.839744</td>\n",
              "      <td>933.760000</td>\n",
              "      <td>714.879744</td>\n",
              "    </tr>\n",
              "  </tbody>\n",
              "</table>\n",
              "</div>\n",
              "      <button class=\"colab-df-convert\" onclick=\"convertToInteractive('df-0576c14f-5124-4147-bdc4-4b73f6e8e83b')\"\n",
              "              title=\"Convert this dataframe to an interactive table.\"\n",
              "              style=\"display:none;\">\n",
              "        \n",
              "  <svg xmlns=\"http://www.w3.org/2000/svg\" height=\"24px\"viewBox=\"0 0 24 24\"\n",
              "       width=\"24px\">\n",
              "    <path d=\"M0 0h24v24H0V0z\" fill=\"none\"/>\n",
              "    <path d=\"M18.56 5.44l.94 2.06.94-2.06 2.06-.94-2.06-.94-.94-2.06-.94 2.06-2.06.94zm-11 1L8.5 8.5l.94-2.06 2.06-.94-2.06-.94L8.5 2.5l-.94 2.06-2.06.94zm10 10l.94 2.06.94-2.06 2.06-.94-2.06-.94-.94-2.06-.94 2.06-2.06.94z\"/><path d=\"M17.41 7.96l-1.37-1.37c-.4-.4-.92-.59-1.43-.59-.52 0-1.04.2-1.43.59L10.3 9.45l-7.72 7.72c-.78.78-.78 2.05 0 2.83L4 21.41c.39.39.9.59 1.41.59.51 0 1.02-.2 1.41-.59l7.78-7.78 2.81-2.81c.8-.78.8-2.07 0-2.86zM5.41 20L4 18.59l7.72-7.72 1.47 1.35L5.41 20z\"/>\n",
              "  </svg>\n",
              "      </button>\n",
              "      \n",
              "  <style>\n",
              "    .colab-df-container {\n",
              "      display:flex;\n",
              "      flex-wrap:wrap;\n",
              "      gap: 12px;\n",
              "    }\n",
              "\n",
              "    .colab-df-convert {\n",
              "      background-color: #E8F0FE;\n",
              "      border: none;\n",
              "      border-radius: 50%;\n",
              "      cursor: pointer;\n",
              "      display: none;\n",
              "      fill: #1967D2;\n",
              "      height: 32px;\n",
              "      padding: 0 0 0 0;\n",
              "      width: 32px;\n",
              "    }\n",
              "\n",
              "    .colab-df-convert:hover {\n",
              "      background-color: #E2EBFA;\n",
              "      box-shadow: 0px 1px 2px rgba(60, 64, 67, 0.3), 0px 1px 3px 1px rgba(60, 64, 67, 0.15);\n",
              "      fill: #174EA6;\n",
              "    }\n",
              "\n",
              "    [theme=dark] .colab-df-convert {\n",
              "      background-color: #3B4455;\n",
              "      fill: #D2E3FC;\n",
              "    }\n",
              "\n",
              "    [theme=dark] .colab-df-convert:hover {\n",
              "      background-color: #434B5C;\n",
              "      box-shadow: 0px 1px 3px 1px rgba(0, 0, 0, 0.15);\n",
              "      filter: drop-shadow(0px 1px 2px rgba(0, 0, 0, 0.3));\n",
              "      fill: #FFFFFF;\n",
              "    }\n",
              "  </style>\n",
              "\n",
              "      <script>\n",
              "        const buttonEl =\n",
              "          document.querySelector('#df-0576c14f-5124-4147-bdc4-4b73f6e8e83b button.colab-df-convert');\n",
              "        buttonEl.style.display =\n",
              "          google.colab.kernel.accessAllowed ? 'block' : 'none';\n",
              "\n",
              "        async function convertToInteractive(key) {\n",
              "          const element = document.querySelector('#df-0576c14f-5124-4147-bdc4-4b73f6e8e83b');\n",
              "          const dataTable =\n",
              "            await google.colab.kernel.invokeFunction('convertToInteractive',\n",
              "                                                     [key], {});\n",
              "          if (!dataTable) return;\n",
              "\n",
              "          const docLinkHtml = 'Like what you see? Visit the ' +\n",
              "            '<a target=\"_blank\" href=https://colab.research.google.com/notebooks/data_table.ipynb>data table notebook</a>'\n",
              "            + ' to learn more about interactive tables.';\n",
              "          element.innerHTML = '';\n",
              "          dataTable['output_type'] = 'display_data';\n",
              "          await google.colab.output.renderOutput(dataTable, element);\n",
              "          const docLink = document.createElement('div');\n",
              "          docLink.innerHTML = docLinkHtml;\n",
              "          element.appendChild(docLink);\n",
              "        }\n",
              "      </script>\n",
              "    </div>\n",
              "  </div>\n",
              "  "
            ],
            "text/plain": [
              "               img_path  class          x0          y0          x1          x2\n",
              "0  0003d1891fd14575.jpg  horse  323.840000  211.877528  764.800000  518.491254\n",
              "1  00061d30b2965c3e.jpg  horse  373.760256  108.800000  494.079744  396.800000\n",
              "2  0006476c7a10ac38.jpg  horse  314.880000  147.840000  755.840256  845.440000\n",
              "3  000851174d48d3d9.jpg  horse  145.280000    9.610493  893.440000  682.359346\n",
              "4  000a12b69b0de9f2.jpg  horse  160.640000   67.839744  933.760000  714.879744"
            ]
          },
          "execution_count": 20,
          "metadata": {},
          "output_type": "execute_result"
        }
      ],
      "source": [
        "train_df.head()"
      ]
    },
    {
      "cell_type": "code",
      "execution_count": null,
      "metadata": {
        "colab": {
          "base_uri": "https://localhost:8080/"
        },
        "id": "iGD-Wnh22iXN",
        "outputId": "cda0b1ea-cb20-484c-b71d-e73b59441c37"
      },
      "outputs": [
        {
          "data": {
            "text/plain": [
              "(2509, 6)"
            ]
          },
          "execution_count": 21,
          "metadata": {},
          "output_type": "execute_result"
        }
      ],
      "source": [
        "train_df.shape"
      ]
    },
    {
      "cell_type": "code",
      "execution_count": 6,
      "metadata": {
        "id": "wwVqhFoJIjGW"
      },
      "outputs": [],
      "source": [
        "from torch.utils.data import Dataset, DataLoader\n",
        "from torchvision import transforms, utils"
      ]
    },
    {
      "cell_type": "code",
      "execution_count": 7,
      "metadata": {
        "id": "CndyrtbUIjuV"
      },
      "outputs": [],
      "source": [
        "labels_to_num= {'horse':0, 'human_body': 1, 'knife': 2}"
      ]
    },
    {
      "cell_type": "code",
      "execution_count": 8,
      "metadata": {
        "id": "b6QTF0p5Z8cI"
      },
      "outputs": [],
      "source": [
        "import cv2\n",
        "import random\n",
        "import os"
      ]
    },
    {
      "cell_type": "code",
      "source": [
        "def brightness(img, low, high):\n",
        "    value = random.uniform(low, high)\n",
        "    hsv = cv2.cvtColor(img, cv2.COLOR_BGR2HSV)\n",
        "    hsv = np.array(hsv, dtype = np.float64)\n",
        "    hsv[:,:,1] = hsv[:,:,1]*value\n",
        "    hsv[:,:,1][hsv[:,:,1]>255]  = 255\n",
        "    hsv[:,:,2] = hsv[:,:,2]*value \n",
        "    hsv[:,:,2][hsv[:,:,2]>255]  = 255\n",
        "    hsv = np.array(hsv, dtype = np.uint8)\n",
        "    img = cv2.cvtColor(hsv, cv2.COLOR_HSV2BGR)\n",
        "    return img"
      ],
      "metadata": {
        "id": "huHnfTjhQhpW"
      },
      "execution_count": 10,
      "outputs": []
    },
    {
      "cell_type": "code",
      "execution_count": 11,
      "metadata": {
        "id": "qR5JaIJbaIX0"
      },
      "outputs": [],
      "source": [
        "def preprocess_dataset(filename, data_type):\n",
        "  labels = []\n",
        "  boxes = []\n",
        "  img_list = []\n",
        "  height = []\n",
        "  width = []\n",
        "\n",
        "  h = 224\n",
        "  w = 224\n",
        "\n",
        "  with open(filename) as csvfile:\n",
        "      rows = csv.reader(csvfile)\n",
        "      columns = next(iter(rows))\n",
        "      for row in rows:\n",
        "        labels.append(labels_to_num[row[1]])\n",
        "        \n",
        "        img_path = row[0]\n",
        "        image_dir = '/content/drive/My Drive/data/' + data_type + '/' + row[1] \n",
        "        \n",
        "        img_shape  = cv2.imread(os.path.join(image_dir, img_path)).shape\n",
        "        img  = cv2.imread(os.path.join(image_dir, img_path))\n",
        "        image = cv2.resize(img, (w, h))\n",
        "\n",
        "        width_size = (img_shape)[0]/w\n",
        "        height_size = (img_shape)[1]/h\n",
        "\n",
        "        height.append(height_size)\n",
        "        width.append(width_size)\n",
        "\n",
        "        arr = [float(row[2])/height_size,  \n",
        "               float(row[3])/width_size,\n",
        "               float(row[4])/height_size,\n",
        "               float(row[5])/width_size]\n",
        "        boxes.append(arr)\n",
        "\n",
        "        image = cv2.cvtColor(image, cv2.COLOR_BGR2RGB)\n",
        "        \n",
        "        if(data_type == \"train\"):\n",
        "          img = brightness(img, 0.5, 2.5)\n",
        "\n",
        "        image = image.astype(\"float\") / 255.0\n",
        "\n",
        "        img_list.append(image)\n",
        "\n",
        "  return labels, boxes, np.array(img_list), height, width"
      ]
    },
    {
      "cell_type": "code",
      "execution_count": 12,
      "metadata": {
        "colab": {
          "base_uri": "https://localhost:8080/"
        },
        "id": "_el271oyfsGB",
        "outputId": "50b106fc-9033-44c9-c1be-88b72bb183f6"
      },
      "outputs": [
        {
          "output_type": "execute_result",
          "data": {
            "text/plain": [
              "device(type='cuda')"
            ]
          },
          "metadata": {},
          "execution_count": 12
        }
      ],
      "source": [
        "device = torch.device('cuda' if torch.cuda.is_available() else 'cpu')\n",
        "device"
      ]
    },
    {
      "cell_type": "code",
      "execution_count": 13,
      "metadata": {
        "id": "4P_tTRSFpPLx"
      },
      "outputs": [],
      "source": [
        "transform_train = transforms.Compose([\n",
        "      transforms.Normalize(mean=(0.485, 0.456, 0.406), std=(0.229, 0.224, 0.225))\n",
        "  ])\n",
        "transform_valid = transforms.Compose([\n",
        "      transforms.Normalize(mean=(0.485, 0.456, 0.406), std=(0.229, 0.224, 0.225))\n",
        "  ])"
      ]
    },
    {
      "cell_type": "code",
      "execution_count": 14,
      "metadata": {
        "id": "AhVSkWE9qB7J"
      },
      "outputs": [],
      "source": [
        "from torch.utils.data import Dataset, DataLoader\n",
        "from torchvision import transforms, utils\n",
        "from skimage import io\n",
        "from skimage.transform import resize\n",
        "from skimage.color import gray2rgb"
      ]
    },
    {
      "cell_type": "code",
      "execution_count": 15,
      "metadata": {
        "id": "u-t2A2cDgBlM"
      },
      "outputs": [],
      "source": [
        "class CustomImageDataset(Dataset):\n",
        "    def __init__(self, img_dir, dataset_type, transform=None, target_transform=None):\n",
        "        labels, boxes, images, height, width = preprocess_dataset(img_dir + dataset_type +\".csv\", dataset_type)\n",
        "        self.labels = labels\n",
        "        self.images = torch.permute(torch.from_numpy(images),(0,3,1,2)).float()\n",
        "        self.boxes = torch.from_numpy(np.array(boxes)).float()\n",
        "        self.transform = transform\n",
        "        self.target_transform = target_transform\n",
        "\n",
        "    def __len__(self):\n",
        "        return len(self.labels)\n",
        "\n",
        "    def __getitem__(self, idx):\n",
        "        image = self.images[idx]\n",
        "\n",
        "        label = self.labels[idx]\n",
        "        boxes = self.boxes[idx]\n",
        "        if self.transform:\n",
        "            image = self.transform(image)\n",
        "        if self.target_transform:\n",
        "            label = self.target_transform(label)\n",
        "        return image, label, boxes"
      ]
    },
    {
      "cell_type": "code",
      "execution_count": 16,
      "metadata": {
        "id": "rbkO9et5qEFI"
      },
      "outputs": [],
      "source": [
        "train_dataset = CustomImageDataset(\"/content/drive/My Drive/filtered_data/\", \"train\", transform=transform_train)\n",
        "valid_dataset = CustomImageDataset(\"/content/drive/My Drive/filtered_data/\", \"validation\", transform=transform_valid)"
      ]
    },
    {
      "cell_type": "code",
      "execution_count": 17,
      "metadata": {
        "colab": {
          "base_uri": "https://localhost:8080/"
        },
        "id": "y15uTOaCrwwV",
        "outputId": "3e9cb30f-cc46-4da6-e14b-f247e7659527"
      },
      "outputs": [
        {
          "output_type": "execute_result",
          "data": {
            "text/plain": [
              "2509"
            ]
          },
          "metadata": {},
          "execution_count": 17
        }
      ],
      "source": [
        "len(train_dataset)"
      ]
    },
    {
      "cell_type": "code",
      "execution_count": 18,
      "metadata": {
        "colab": {
          "base_uri": "https://localhost:8080/"
        },
        "id": "4utfhAF1rNdR",
        "outputId": "aff6e3ba-4c3e-4778-de7e-1587a1b5fbac"
      },
      "outputs": [
        {
          "output_type": "stream",
          "name": "stderr",
          "text": [
            "/usr/local/lib/python3.7/dist-packages/torch/utils/data/dataloader.py:481: UserWarning: This DataLoader will create 4 worker processes in total. Our suggested max number of worker in current system is 2, which is smaller than what this DataLoader is going to create. Please be aware that excessive worker creation might get DataLoader running slow or even freeze, lower the worker number to avoid potential slowness/freeze if necessary.\n",
            "  cpuset_checked))\n"
          ]
        }
      ],
      "source": [
        "train_loader = torch.utils.data.DataLoader(train_dataset, 64, shuffle=True, num_workers=4, pin_memory=True)\n",
        "valid_loader = torch.utils.data.DataLoader(valid_dataset, 64, shuffle=True, num_workers=4, pin_memory=True)"
      ]
    },
    {
      "cell_type": "code",
      "execution_count": 41,
      "metadata": {
        "colab": {
          "base_uri": "https://localhost:8080/"
        },
        "id": "odasYf3qESeI",
        "outputId": "12618571-5e53-419a-96cb-cc9919e93b91"
      },
      "outputs": [
        {
          "output_type": "stream",
          "name": "stderr",
          "text": [
            "Using cache found in /root/.cache/torch/hub/pytorch_vision_v0.10.0\n"
          ]
        },
        {
          "output_type": "execute_result",
          "data": {
            "text/plain": [
              "ResNet(\n",
              "  (conv1): Conv2d(3, 64, kernel_size=(7, 7), stride=(2, 2), padding=(3, 3), bias=False)\n",
              "  (bn1): BatchNorm2d(64, eps=1e-05, momentum=0.1, affine=True, track_running_stats=True)\n",
              "  (relu): ReLU(inplace=True)\n",
              "  (maxpool): MaxPool2d(kernel_size=3, stride=2, padding=1, dilation=1, ceil_mode=False)\n",
              "  (layer1): Sequential(\n",
              "    (0): Bottleneck(\n",
              "      (conv1): Conv2d(64, 64, kernel_size=(1, 1), stride=(1, 1), bias=False)\n",
              "      (bn1): BatchNorm2d(64, eps=1e-05, momentum=0.1, affine=True, track_running_stats=True)\n",
              "      (conv2): Conv2d(64, 64, kernel_size=(3, 3), stride=(1, 1), padding=(1, 1), bias=False)\n",
              "      (bn2): BatchNorm2d(64, eps=1e-05, momentum=0.1, affine=True, track_running_stats=True)\n",
              "      (conv3): Conv2d(64, 256, kernel_size=(1, 1), stride=(1, 1), bias=False)\n",
              "      (bn3): BatchNorm2d(256, eps=1e-05, momentum=0.1, affine=True, track_running_stats=True)\n",
              "      (relu): ReLU(inplace=True)\n",
              "      (downsample): Sequential(\n",
              "        (0): Conv2d(64, 256, kernel_size=(1, 1), stride=(1, 1), bias=False)\n",
              "        (1): BatchNorm2d(256, eps=1e-05, momentum=0.1, affine=True, track_running_stats=True)\n",
              "      )\n",
              "    )\n",
              "    (1): Bottleneck(\n",
              "      (conv1): Conv2d(256, 64, kernel_size=(1, 1), stride=(1, 1), bias=False)\n",
              "      (bn1): BatchNorm2d(64, eps=1e-05, momentum=0.1, affine=True, track_running_stats=True)\n",
              "      (conv2): Conv2d(64, 64, kernel_size=(3, 3), stride=(1, 1), padding=(1, 1), bias=False)\n",
              "      (bn2): BatchNorm2d(64, eps=1e-05, momentum=0.1, affine=True, track_running_stats=True)\n",
              "      (conv3): Conv2d(64, 256, kernel_size=(1, 1), stride=(1, 1), bias=False)\n",
              "      (bn3): BatchNorm2d(256, eps=1e-05, momentum=0.1, affine=True, track_running_stats=True)\n",
              "      (relu): ReLU(inplace=True)\n",
              "    )\n",
              "    (2): Bottleneck(\n",
              "      (conv1): Conv2d(256, 64, kernel_size=(1, 1), stride=(1, 1), bias=False)\n",
              "      (bn1): BatchNorm2d(64, eps=1e-05, momentum=0.1, affine=True, track_running_stats=True)\n",
              "      (conv2): Conv2d(64, 64, kernel_size=(3, 3), stride=(1, 1), padding=(1, 1), bias=False)\n",
              "      (bn2): BatchNorm2d(64, eps=1e-05, momentum=0.1, affine=True, track_running_stats=True)\n",
              "      (conv3): Conv2d(64, 256, kernel_size=(1, 1), stride=(1, 1), bias=False)\n",
              "      (bn3): BatchNorm2d(256, eps=1e-05, momentum=0.1, affine=True, track_running_stats=True)\n",
              "      (relu): ReLU(inplace=True)\n",
              "    )\n",
              "  )\n",
              "  (layer2): Sequential(\n",
              "    (0): Bottleneck(\n",
              "      (conv1): Conv2d(256, 128, kernel_size=(1, 1), stride=(1, 1), bias=False)\n",
              "      (bn1): BatchNorm2d(128, eps=1e-05, momentum=0.1, affine=True, track_running_stats=True)\n",
              "      (conv2): Conv2d(128, 128, kernel_size=(3, 3), stride=(2, 2), padding=(1, 1), bias=False)\n",
              "      (bn2): BatchNorm2d(128, eps=1e-05, momentum=0.1, affine=True, track_running_stats=True)\n",
              "      (conv3): Conv2d(128, 512, kernel_size=(1, 1), stride=(1, 1), bias=False)\n",
              "      (bn3): BatchNorm2d(512, eps=1e-05, momentum=0.1, affine=True, track_running_stats=True)\n",
              "      (relu): ReLU(inplace=True)\n",
              "      (downsample): Sequential(\n",
              "        (0): Conv2d(256, 512, kernel_size=(1, 1), stride=(2, 2), bias=False)\n",
              "        (1): BatchNorm2d(512, eps=1e-05, momentum=0.1, affine=True, track_running_stats=True)\n",
              "      )\n",
              "    )\n",
              "    (1): Bottleneck(\n",
              "      (conv1): Conv2d(512, 128, kernel_size=(1, 1), stride=(1, 1), bias=False)\n",
              "      (bn1): BatchNorm2d(128, eps=1e-05, momentum=0.1, affine=True, track_running_stats=True)\n",
              "      (conv2): Conv2d(128, 128, kernel_size=(3, 3), stride=(1, 1), padding=(1, 1), bias=False)\n",
              "      (bn2): BatchNorm2d(128, eps=1e-05, momentum=0.1, affine=True, track_running_stats=True)\n",
              "      (conv3): Conv2d(128, 512, kernel_size=(1, 1), stride=(1, 1), bias=False)\n",
              "      (bn3): BatchNorm2d(512, eps=1e-05, momentum=0.1, affine=True, track_running_stats=True)\n",
              "      (relu): ReLU(inplace=True)\n",
              "    )\n",
              "    (2): Bottleneck(\n",
              "      (conv1): Conv2d(512, 128, kernel_size=(1, 1), stride=(1, 1), bias=False)\n",
              "      (bn1): BatchNorm2d(128, eps=1e-05, momentum=0.1, affine=True, track_running_stats=True)\n",
              "      (conv2): Conv2d(128, 128, kernel_size=(3, 3), stride=(1, 1), padding=(1, 1), bias=False)\n",
              "      (bn2): BatchNorm2d(128, eps=1e-05, momentum=0.1, affine=True, track_running_stats=True)\n",
              "      (conv3): Conv2d(128, 512, kernel_size=(1, 1), stride=(1, 1), bias=False)\n",
              "      (bn3): BatchNorm2d(512, eps=1e-05, momentum=0.1, affine=True, track_running_stats=True)\n",
              "      (relu): ReLU(inplace=True)\n",
              "    )\n",
              "    (3): Bottleneck(\n",
              "      (conv1): Conv2d(512, 128, kernel_size=(1, 1), stride=(1, 1), bias=False)\n",
              "      (bn1): BatchNorm2d(128, eps=1e-05, momentum=0.1, affine=True, track_running_stats=True)\n",
              "      (conv2): Conv2d(128, 128, kernel_size=(3, 3), stride=(1, 1), padding=(1, 1), bias=False)\n",
              "      (bn2): BatchNorm2d(128, eps=1e-05, momentum=0.1, affine=True, track_running_stats=True)\n",
              "      (conv3): Conv2d(128, 512, kernel_size=(1, 1), stride=(1, 1), bias=False)\n",
              "      (bn3): BatchNorm2d(512, eps=1e-05, momentum=0.1, affine=True, track_running_stats=True)\n",
              "      (relu): ReLU(inplace=True)\n",
              "    )\n",
              "  )\n",
              "  (layer3): Sequential(\n",
              "    (0): Bottleneck(\n",
              "      (conv1): Conv2d(512, 256, kernel_size=(1, 1), stride=(1, 1), bias=False)\n",
              "      (bn1): BatchNorm2d(256, eps=1e-05, momentum=0.1, affine=True, track_running_stats=True)\n",
              "      (conv2): Conv2d(256, 256, kernel_size=(3, 3), stride=(2, 2), padding=(1, 1), bias=False)\n",
              "      (bn2): BatchNorm2d(256, eps=1e-05, momentum=0.1, affine=True, track_running_stats=True)\n",
              "      (conv3): Conv2d(256, 1024, kernel_size=(1, 1), stride=(1, 1), bias=False)\n",
              "      (bn3): BatchNorm2d(1024, eps=1e-05, momentum=0.1, affine=True, track_running_stats=True)\n",
              "      (relu): ReLU(inplace=True)\n",
              "      (downsample): Sequential(\n",
              "        (0): Conv2d(512, 1024, kernel_size=(1, 1), stride=(2, 2), bias=False)\n",
              "        (1): BatchNorm2d(1024, eps=1e-05, momentum=0.1, affine=True, track_running_stats=True)\n",
              "      )\n",
              "    )\n",
              "    (1): Bottleneck(\n",
              "      (conv1): Conv2d(1024, 256, kernel_size=(1, 1), stride=(1, 1), bias=False)\n",
              "      (bn1): BatchNorm2d(256, eps=1e-05, momentum=0.1, affine=True, track_running_stats=True)\n",
              "      (conv2): Conv2d(256, 256, kernel_size=(3, 3), stride=(1, 1), padding=(1, 1), bias=False)\n",
              "      (bn2): BatchNorm2d(256, eps=1e-05, momentum=0.1, affine=True, track_running_stats=True)\n",
              "      (conv3): Conv2d(256, 1024, kernel_size=(1, 1), stride=(1, 1), bias=False)\n",
              "      (bn3): BatchNorm2d(1024, eps=1e-05, momentum=0.1, affine=True, track_running_stats=True)\n",
              "      (relu): ReLU(inplace=True)\n",
              "    )\n",
              "    (2): Bottleneck(\n",
              "      (conv1): Conv2d(1024, 256, kernel_size=(1, 1), stride=(1, 1), bias=False)\n",
              "      (bn1): BatchNorm2d(256, eps=1e-05, momentum=0.1, affine=True, track_running_stats=True)\n",
              "      (conv2): Conv2d(256, 256, kernel_size=(3, 3), stride=(1, 1), padding=(1, 1), bias=False)\n",
              "      (bn2): BatchNorm2d(256, eps=1e-05, momentum=0.1, affine=True, track_running_stats=True)\n",
              "      (conv3): Conv2d(256, 1024, kernel_size=(1, 1), stride=(1, 1), bias=False)\n",
              "      (bn3): BatchNorm2d(1024, eps=1e-05, momentum=0.1, affine=True, track_running_stats=True)\n",
              "      (relu): ReLU(inplace=True)\n",
              "    )\n",
              "    (3): Bottleneck(\n",
              "      (conv1): Conv2d(1024, 256, kernel_size=(1, 1), stride=(1, 1), bias=False)\n",
              "      (bn1): BatchNorm2d(256, eps=1e-05, momentum=0.1, affine=True, track_running_stats=True)\n",
              "      (conv2): Conv2d(256, 256, kernel_size=(3, 3), stride=(1, 1), padding=(1, 1), bias=False)\n",
              "      (bn2): BatchNorm2d(256, eps=1e-05, momentum=0.1, affine=True, track_running_stats=True)\n",
              "      (conv3): Conv2d(256, 1024, kernel_size=(1, 1), stride=(1, 1), bias=False)\n",
              "      (bn3): BatchNorm2d(1024, eps=1e-05, momentum=0.1, affine=True, track_running_stats=True)\n",
              "      (relu): ReLU(inplace=True)\n",
              "    )\n",
              "    (4): Bottleneck(\n",
              "      (conv1): Conv2d(1024, 256, kernel_size=(1, 1), stride=(1, 1), bias=False)\n",
              "      (bn1): BatchNorm2d(256, eps=1e-05, momentum=0.1, affine=True, track_running_stats=True)\n",
              "      (conv2): Conv2d(256, 256, kernel_size=(3, 3), stride=(1, 1), padding=(1, 1), bias=False)\n",
              "      (bn2): BatchNorm2d(256, eps=1e-05, momentum=0.1, affine=True, track_running_stats=True)\n",
              "      (conv3): Conv2d(256, 1024, kernel_size=(1, 1), stride=(1, 1), bias=False)\n",
              "      (bn3): BatchNorm2d(1024, eps=1e-05, momentum=0.1, affine=True, track_running_stats=True)\n",
              "      (relu): ReLU(inplace=True)\n",
              "    )\n",
              "    (5): Bottleneck(\n",
              "      (conv1): Conv2d(1024, 256, kernel_size=(1, 1), stride=(1, 1), bias=False)\n",
              "      (bn1): BatchNorm2d(256, eps=1e-05, momentum=0.1, affine=True, track_running_stats=True)\n",
              "      (conv2): Conv2d(256, 256, kernel_size=(3, 3), stride=(1, 1), padding=(1, 1), bias=False)\n",
              "      (bn2): BatchNorm2d(256, eps=1e-05, momentum=0.1, affine=True, track_running_stats=True)\n",
              "      (conv3): Conv2d(256, 1024, kernel_size=(1, 1), stride=(1, 1), bias=False)\n",
              "      (bn3): BatchNorm2d(1024, eps=1e-05, momentum=0.1, affine=True, track_running_stats=True)\n",
              "      (relu): ReLU(inplace=True)\n",
              "    )\n",
              "  )\n",
              "  (layer4): Sequential(\n",
              "    (0): Bottleneck(\n",
              "      (conv1): Conv2d(1024, 512, kernel_size=(1, 1), stride=(1, 1), bias=False)\n",
              "      (bn1): BatchNorm2d(512, eps=1e-05, momentum=0.1, affine=True, track_running_stats=True)\n",
              "      (conv2): Conv2d(512, 512, kernel_size=(3, 3), stride=(2, 2), padding=(1, 1), bias=False)\n",
              "      (bn2): BatchNorm2d(512, eps=1e-05, momentum=0.1, affine=True, track_running_stats=True)\n",
              "      (conv3): Conv2d(512, 2048, kernel_size=(1, 1), stride=(1, 1), bias=False)\n",
              "      (bn3): BatchNorm2d(2048, eps=1e-05, momentum=0.1, affine=True, track_running_stats=True)\n",
              "      (relu): ReLU(inplace=True)\n",
              "      (downsample): Sequential(\n",
              "        (0): Conv2d(1024, 2048, kernel_size=(1, 1), stride=(2, 2), bias=False)\n",
              "        (1): BatchNorm2d(2048, eps=1e-05, momentum=0.1, affine=True, track_running_stats=True)\n",
              "      )\n",
              "    )\n",
              "    (1): Bottleneck(\n",
              "      (conv1): Conv2d(2048, 512, kernel_size=(1, 1), stride=(1, 1), bias=False)\n",
              "      (bn1): BatchNorm2d(512, eps=1e-05, momentum=0.1, affine=True, track_running_stats=True)\n",
              "      (conv2): Conv2d(512, 512, kernel_size=(3, 3), stride=(1, 1), padding=(1, 1), bias=False)\n",
              "      (bn2): BatchNorm2d(512, eps=1e-05, momentum=0.1, affine=True, track_running_stats=True)\n",
              "      (conv3): Conv2d(512, 2048, kernel_size=(1, 1), stride=(1, 1), bias=False)\n",
              "      (bn3): BatchNorm2d(2048, eps=1e-05, momentum=0.1, affine=True, track_running_stats=True)\n",
              "      (relu): ReLU(inplace=True)\n",
              "    )\n",
              "    (2): Bottleneck(\n",
              "      (conv1): Conv2d(2048, 512, kernel_size=(1, 1), stride=(1, 1), bias=False)\n",
              "      (bn1): BatchNorm2d(512, eps=1e-05, momentum=0.1, affine=True, track_running_stats=True)\n",
              "      (conv2): Conv2d(512, 512, kernel_size=(3, 3), stride=(1, 1), padding=(1, 1), bias=False)\n",
              "      (bn2): BatchNorm2d(512, eps=1e-05, momentum=0.1, affine=True, track_running_stats=True)\n",
              "      (conv3): Conv2d(512, 2048, kernel_size=(1, 1), stride=(1, 1), bias=False)\n",
              "      (bn3): BatchNorm2d(2048, eps=1e-05, momentum=0.1, affine=True, track_running_stats=True)\n",
              "      (relu): ReLU(inplace=True)\n",
              "    )\n",
              "  )\n",
              "  (avgpool): AdaptiveAvgPool2d(output_size=(1, 1))\n",
              "  (fc): Linear(in_features=2048, out_features=1000, bias=True)\n",
              ")"
            ]
          },
          "metadata": {},
          "execution_count": 41
        }
      ],
      "source": [
        "pretrained_model = torch.hub.load('pytorch/vision:v0.10.0', 'resnet50', pretrained=True)\n",
        "pretrained_model"
      ]
    },
    {
      "cell_type": "code",
      "execution_count": 42,
      "metadata": {
        "id": "REgEPrSd1tYa"
      },
      "outputs": [],
      "source": [
        "def set_parameter_requires_grad(model, feature_extracting):\n",
        "    if feature_extracting:\n",
        "        for param in model.parameters():\n",
        "            param.requires_grad = False\n",
        "    else:\n",
        "      for param in model.parameters():\n",
        "            param.requires_grad = True"
      ]
    },
    {
      "cell_type": "code",
      "execution_count": 43,
      "metadata": {
        "id": "Pawr1MZ0vFqr"
      },
      "outputs": [],
      "source": [
        "feature_extract = True\n",
        "\n",
        "set_parameter_requires_grad(pretrained_model, feature_extract)"
      ]
    },
    {
      "cell_type": "code",
      "execution_count": 44,
      "metadata": {
        "colab": {
          "base_uri": "https://localhost:8080/"
        },
        "id": "JQWIE5mz_167",
        "outputId": "ffb16071-ad3a-4d59-bf45-442633e5113e"
      },
      "outputs": [
        {
          "output_type": "execute_result",
          "data": {
            "text/plain": [
              "Sequential(\n",
              "  (0): Conv2d(3, 64, kernel_size=(7, 7), stride=(2, 2), padding=(3, 3), bias=False)\n",
              "  (1): BatchNorm2d(64, eps=1e-05, momentum=0.1, affine=True, track_running_stats=True)\n",
              "  (2): ReLU(inplace=True)\n",
              "  (3): MaxPool2d(kernel_size=3, stride=2, padding=1, dilation=1, ceil_mode=False)\n",
              "  (4): Sequential(\n",
              "    (0): Bottleneck(\n",
              "      (conv1): Conv2d(64, 64, kernel_size=(1, 1), stride=(1, 1), bias=False)\n",
              "      (bn1): BatchNorm2d(64, eps=1e-05, momentum=0.1, affine=True, track_running_stats=True)\n",
              "      (conv2): Conv2d(64, 64, kernel_size=(3, 3), stride=(1, 1), padding=(1, 1), bias=False)\n",
              "      (bn2): BatchNorm2d(64, eps=1e-05, momentum=0.1, affine=True, track_running_stats=True)\n",
              "      (conv3): Conv2d(64, 256, kernel_size=(1, 1), stride=(1, 1), bias=False)\n",
              "      (bn3): BatchNorm2d(256, eps=1e-05, momentum=0.1, affine=True, track_running_stats=True)\n",
              "      (relu): ReLU(inplace=True)\n",
              "      (downsample): Sequential(\n",
              "        (0): Conv2d(64, 256, kernel_size=(1, 1), stride=(1, 1), bias=False)\n",
              "        (1): BatchNorm2d(256, eps=1e-05, momentum=0.1, affine=True, track_running_stats=True)\n",
              "      )\n",
              "    )\n",
              "    (1): Bottleneck(\n",
              "      (conv1): Conv2d(256, 64, kernel_size=(1, 1), stride=(1, 1), bias=False)\n",
              "      (bn1): BatchNorm2d(64, eps=1e-05, momentum=0.1, affine=True, track_running_stats=True)\n",
              "      (conv2): Conv2d(64, 64, kernel_size=(3, 3), stride=(1, 1), padding=(1, 1), bias=False)\n",
              "      (bn2): BatchNorm2d(64, eps=1e-05, momentum=0.1, affine=True, track_running_stats=True)\n",
              "      (conv3): Conv2d(64, 256, kernel_size=(1, 1), stride=(1, 1), bias=False)\n",
              "      (bn3): BatchNorm2d(256, eps=1e-05, momentum=0.1, affine=True, track_running_stats=True)\n",
              "      (relu): ReLU(inplace=True)\n",
              "    )\n",
              "    (2): Bottleneck(\n",
              "      (conv1): Conv2d(256, 64, kernel_size=(1, 1), stride=(1, 1), bias=False)\n",
              "      (bn1): BatchNorm2d(64, eps=1e-05, momentum=0.1, affine=True, track_running_stats=True)\n",
              "      (conv2): Conv2d(64, 64, kernel_size=(3, 3), stride=(1, 1), padding=(1, 1), bias=False)\n",
              "      (bn2): BatchNorm2d(64, eps=1e-05, momentum=0.1, affine=True, track_running_stats=True)\n",
              "      (conv3): Conv2d(64, 256, kernel_size=(1, 1), stride=(1, 1), bias=False)\n",
              "      (bn3): BatchNorm2d(256, eps=1e-05, momentum=0.1, affine=True, track_running_stats=True)\n",
              "      (relu): ReLU(inplace=True)\n",
              "    )\n",
              "  )\n",
              "  (5): Sequential(\n",
              "    (0): Bottleneck(\n",
              "      (conv1): Conv2d(256, 128, kernel_size=(1, 1), stride=(1, 1), bias=False)\n",
              "      (bn1): BatchNorm2d(128, eps=1e-05, momentum=0.1, affine=True, track_running_stats=True)\n",
              "      (conv2): Conv2d(128, 128, kernel_size=(3, 3), stride=(2, 2), padding=(1, 1), bias=False)\n",
              "      (bn2): BatchNorm2d(128, eps=1e-05, momentum=0.1, affine=True, track_running_stats=True)\n",
              "      (conv3): Conv2d(128, 512, kernel_size=(1, 1), stride=(1, 1), bias=False)\n",
              "      (bn3): BatchNorm2d(512, eps=1e-05, momentum=0.1, affine=True, track_running_stats=True)\n",
              "      (relu): ReLU(inplace=True)\n",
              "      (downsample): Sequential(\n",
              "        (0): Conv2d(256, 512, kernel_size=(1, 1), stride=(2, 2), bias=False)\n",
              "        (1): BatchNorm2d(512, eps=1e-05, momentum=0.1, affine=True, track_running_stats=True)\n",
              "      )\n",
              "    )\n",
              "    (1): Bottleneck(\n",
              "      (conv1): Conv2d(512, 128, kernel_size=(1, 1), stride=(1, 1), bias=False)\n",
              "      (bn1): BatchNorm2d(128, eps=1e-05, momentum=0.1, affine=True, track_running_stats=True)\n",
              "      (conv2): Conv2d(128, 128, kernel_size=(3, 3), stride=(1, 1), padding=(1, 1), bias=False)\n",
              "      (bn2): BatchNorm2d(128, eps=1e-05, momentum=0.1, affine=True, track_running_stats=True)\n",
              "      (conv3): Conv2d(128, 512, kernel_size=(1, 1), stride=(1, 1), bias=False)\n",
              "      (bn3): BatchNorm2d(512, eps=1e-05, momentum=0.1, affine=True, track_running_stats=True)\n",
              "      (relu): ReLU(inplace=True)\n",
              "    )\n",
              "    (2): Bottleneck(\n",
              "      (conv1): Conv2d(512, 128, kernel_size=(1, 1), stride=(1, 1), bias=False)\n",
              "      (bn1): BatchNorm2d(128, eps=1e-05, momentum=0.1, affine=True, track_running_stats=True)\n",
              "      (conv2): Conv2d(128, 128, kernel_size=(3, 3), stride=(1, 1), padding=(1, 1), bias=False)\n",
              "      (bn2): BatchNorm2d(128, eps=1e-05, momentum=0.1, affine=True, track_running_stats=True)\n",
              "      (conv3): Conv2d(128, 512, kernel_size=(1, 1), stride=(1, 1), bias=False)\n",
              "      (bn3): BatchNorm2d(512, eps=1e-05, momentum=0.1, affine=True, track_running_stats=True)\n",
              "      (relu): ReLU(inplace=True)\n",
              "    )\n",
              "    (3): Bottleneck(\n",
              "      (conv1): Conv2d(512, 128, kernel_size=(1, 1), stride=(1, 1), bias=False)\n",
              "      (bn1): BatchNorm2d(128, eps=1e-05, momentum=0.1, affine=True, track_running_stats=True)\n",
              "      (conv2): Conv2d(128, 128, kernel_size=(3, 3), stride=(1, 1), padding=(1, 1), bias=False)\n",
              "      (bn2): BatchNorm2d(128, eps=1e-05, momentum=0.1, affine=True, track_running_stats=True)\n",
              "      (conv3): Conv2d(128, 512, kernel_size=(1, 1), stride=(1, 1), bias=False)\n",
              "      (bn3): BatchNorm2d(512, eps=1e-05, momentum=0.1, affine=True, track_running_stats=True)\n",
              "      (relu): ReLU(inplace=True)\n",
              "    )\n",
              "  )\n",
              "  (6): Sequential(\n",
              "    (0): Bottleneck(\n",
              "      (conv1): Conv2d(512, 256, kernel_size=(1, 1), stride=(1, 1), bias=False)\n",
              "      (bn1): BatchNorm2d(256, eps=1e-05, momentum=0.1, affine=True, track_running_stats=True)\n",
              "      (conv2): Conv2d(256, 256, kernel_size=(3, 3), stride=(2, 2), padding=(1, 1), bias=False)\n",
              "      (bn2): BatchNorm2d(256, eps=1e-05, momentum=0.1, affine=True, track_running_stats=True)\n",
              "      (conv3): Conv2d(256, 1024, kernel_size=(1, 1), stride=(1, 1), bias=False)\n",
              "      (bn3): BatchNorm2d(1024, eps=1e-05, momentum=0.1, affine=True, track_running_stats=True)\n",
              "      (relu): ReLU(inplace=True)\n",
              "      (downsample): Sequential(\n",
              "        (0): Conv2d(512, 1024, kernel_size=(1, 1), stride=(2, 2), bias=False)\n",
              "        (1): BatchNorm2d(1024, eps=1e-05, momentum=0.1, affine=True, track_running_stats=True)\n",
              "      )\n",
              "    )\n",
              "    (1): Bottleneck(\n",
              "      (conv1): Conv2d(1024, 256, kernel_size=(1, 1), stride=(1, 1), bias=False)\n",
              "      (bn1): BatchNorm2d(256, eps=1e-05, momentum=0.1, affine=True, track_running_stats=True)\n",
              "      (conv2): Conv2d(256, 256, kernel_size=(3, 3), stride=(1, 1), padding=(1, 1), bias=False)\n",
              "      (bn2): BatchNorm2d(256, eps=1e-05, momentum=0.1, affine=True, track_running_stats=True)\n",
              "      (conv3): Conv2d(256, 1024, kernel_size=(1, 1), stride=(1, 1), bias=False)\n",
              "      (bn3): BatchNorm2d(1024, eps=1e-05, momentum=0.1, affine=True, track_running_stats=True)\n",
              "      (relu): ReLU(inplace=True)\n",
              "    )\n",
              "    (2): Bottleneck(\n",
              "      (conv1): Conv2d(1024, 256, kernel_size=(1, 1), stride=(1, 1), bias=False)\n",
              "      (bn1): BatchNorm2d(256, eps=1e-05, momentum=0.1, affine=True, track_running_stats=True)\n",
              "      (conv2): Conv2d(256, 256, kernel_size=(3, 3), stride=(1, 1), padding=(1, 1), bias=False)\n",
              "      (bn2): BatchNorm2d(256, eps=1e-05, momentum=0.1, affine=True, track_running_stats=True)\n",
              "      (conv3): Conv2d(256, 1024, kernel_size=(1, 1), stride=(1, 1), bias=False)\n",
              "      (bn3): BatchNorm2d(1024, eps=1e-05, momentum=0.1, affine=True, track_running_stats=True)\n",
              "      (relu): ReLU(inplace=True)\n",
              "    )\n",
              "    (3): Bottleneck(\n",
              "      (conv1): Conv2d(1024, 256, kernel_size=(1, 1), stride=(1, 1), bias=False)\n",
              "      (bn1): BatchNorm2d(256, eps=1e-05, momentum=0.1, affine=True, track_running_stats=True)\n",
              "      (conv2): Conv2d(256, 256, kernel_size=(3, 3), stride=(1, 1), padding=(1, 1), bias=False)\n",
              "      (bn2): BatchNorm2d(256, eps=1e-05, momentum=0.1, affine=True, track_running_stats=True)\n",
              "      (conv3): Conv2d(256, 1024, kernel_size=(1, 1), stride=(1, 1), bias=False)\n",
              "      (bn3): BatchNorm2d(1024, eps=1e-05, momentum=0.1, affine=True, track_running_stats=True)\n",
              "      (relu): ReLU(inplace=True)\n",
              "    )\n",
              "    (4): Bottleneck(\n",
              "      (conv1): Conv2d(1024, 256, kernel_size=(1, 1), stride=(1, 1), bias=False)\n",
              "      (bn1): BatchNorm2d(256, eps=1e-05, momentum=0.1, affine=True, track_running_stats=True)\n",
              "      (conv2): Conv2d(256, 256, kernel_size=(3, 3), stride=(1, 1), padding=(1, 1), bias=False)\n",
              "      (bn2): BatchNorm2d(256, eps=1e-05, momentum=0.1, affine=True, track_running_stats=True)\n",
              "      (conv3): Conv2d(256, 1024, kernel_size=(1, 1), stride=(1, 1), bias=False)\n",
              "      (bn3): BatchNorm2d(1024, eps=1e-05, momentum=0.1, affine=True, track_running_stats=True)\n",
              "      (relu): ReLU(inplace=True)\n",
              "    )\n",
              "    (5): Bottleneck(\n",
              "      (conv1): Conv2d(1024, 256, kernel_size=(1, 1), stride=(1, 1), bias=False)\n",
              "      (bn1): BatchNorm2d(256, eps=1e-05, momentum=0.1, affine=True, track_running_stats=True)\n",
              "      (conv2): Conv2d(256, 256, kernel_size=(3, 3), stride=(1, 1), padding=(1, 1), bias=False)\n",
              "      (bn2): BatchNorm2d(256, eps=1e-05, momentum=0.1, affine=True, track_running_stats=True)\n",
              "      (conv3): Conv2d(256, 1024, kernel_size=(1, 1), stride=(1, 1), bias=False)\n",
              "      (bn3): BatchNorm2d(1024, eps=1e-05, momentum=0.1, affine=True, track_running_stats=True)\n",
              "      (relu): ReLU(inplace=True)\n",
              "    )\n",
              "  )\n",
              "  (7): Sequential(\n",
              "    (0): Bottleneck(\n",
              "      (conv1): Conv2d(1024, 512, kernel_size=(1, 1), stride=(1, 1), bias=False)\n",
              "      (bn1): BatchNorm2d(512, eps=1e-05, momentum=0.1, affine=True, track_running_stats=True)\n",
              "      (conv2): Conv2d(512, 512, kernel_size=(3, 3), stride=(2, 2), padding=(1, 1), bias=False)\n",
              "      (bn2): BatchNorm2d(512, eps=1e-05, momentum=0.1, affine=True, track_running_stats=True)\n",
              "      (conv3): Conv2d(512, 2048, kernel_size=(1, 1), stride=(1, 1), bias=False)\n",
              "      (bn3): BatchNorm2d(2048, eps=1e-05, momentum=0.1, affine=True, track_running_stats=True)\n",
              "      (relu): ReLU(inplace=True)\n",
              "      (downsample): Sequential(\n",
              "        (0): Conv2d(1024, 2048, kernel_size=(1, 1), stride=(2, 2), bias=False)\n",
              "        (1): BatchNorm2d(2048, eps=1e-05, momentum=0.1, affine=True, track_running_stats=True)\n",
              "      )\n",
              "    )\n",
              "    (1): Bottleneck(\n",
              "      (conv1): Conv2d(2048, 512, kernel_size=(1, 1), stride=(1, 1), bias=False)\n",
              "      (bn1): BatchNorm2d(512, eps=1e-05, momentum=0.1, affine=True, track_running_stats=True)\n",
              "      (conv2): Conv2d(512, 512, kernel_size=(3, 3), stride=(1, 1), padding=(1, 1), bias=False)\n",
              "      (bn2): BatchNorm2d(512, eps=1e-05, momentum=0.1, affine=True, track_running_stats=True)\n",
              "      (conv3): Conv2d(512, 2048, kernel_size=(1, 1), stride=(1, 1), bias=False)\n",
              "      (bn3): BatchNorm2d(2048, eps=1e-05, momentum=0.1, affine=True, track_running_stats=True)\n",
              "      (relu): ReLU(inplace=True)\n",
              "    )\n",
              "    (2): Bottleneck(\n",
              "      (conv1): Conv2d(2048, 512, kernel_size=(1, 1), stride=(1, 1), bias=False)\n",
              "      (bn1): BatchNorm2d(512, eps=1e-05, momentum=0.1, affine=True, track_running_stats=True)\n",
              "      (conv2): Conv2d(512, 512, kernel_size=(3, 3), stride=(1, 1), padding=(1, 1), bias=False)\n",
              "      (bn2): BatchNorm2d(512, eps=1e-05, momentum=0.1, affine=True, track_running_stats=True)\n",
              "      (conv3): Conv2d(512, 2048, kernel_size=(1, 1), stride=(1, 1), bias=False)\n",
              "      (bn3): BatchNorm2d(2048, eps=1e-05, momentum=0.1, affine=True, track_running_stats=True)\n",
              "      (relu): ReLU(inplace=True)\n",
              "    )\n",
              "  )\n",
              "  (8): AdaptiveAvgPool2d(output_size=(1, 1))\n",
              ")"
            ]
          },
          "metadata": {},
          "execution_count": 44
        }
      ],
      "source": [
        "new_classifier = torch.nn.Sequential(*list(pretrained_model.children())[:-1])\n",
        "new_classifier"
      ]
    },
    {
      "cell_type": "code",
      "execution_count": 45,
      "metadata": {
        "id": "88isqthBA_YV"
      },
      "outputs": [],
      "source": [
        "import torch.nn.functional as F"
      ]
    },
    {
      "cell_type": "code",
      "execution_count": 46,
      "metadata": {
        "id": "miZMxGFhBqhF"
      },
      "outputs": [],
      "source": [
        "class CustomModel(nn.Module):\n",
        "    def __init__(self):\n",
        "        super(CustomModel, self).__init__()\n",
        "        self.model_resnet = new_classifier\n",
        "\n",
        "        self.classification = nn.Sequential(\n",
        "            nn.Linear(2048, 1024),\n",
        "            nn.ReLU(),\n",
        "            nn.Linear(1024, 512),\n",
        "            nn.ReLU(),\n",
        "            nn.Linear(512, 256),\n",
        "            nn.ReLU(),\n",
        "            nn.Dropout(p=0.3),\n",
        "            nn.Linear(256, 3)\n",
        "        )\n",
        "\n",
        "        self.regression = nn.Sequential(\n",
        "        nn.Linear(2048, 1024),\n",
        "        nn.ReLU(),\n",
        "        nn.Linear(1024, 512),\n",
        "        nn.ReLU(),\n",
        "        nn.Linear(512, 256),\n",
        "        nn.ReLU(),\n",
        "        nn.Linear(256, 4)\n",
        "\t\t    )\n",
        "\n",
        "    def forward(self, x):\n",
        "        x = self.model_resnet(x)\n",
        "        x = x.view(x.size(0), -1)\n",
        "\n",
        "        out1 = self.classification(x)\n",
        "        out2 = self.regression(x)\n",
        "\n",
        "        return out1, out2"
      ]
    },
    {
      "cell_type": "code",
      "execution_count": 47,
      "metadata": {
        "colab": {
          "base_uri": "https://localhost:8080/"
        },
        "id": "DrSfMEoU_2ub",
        "outputId": "2c21fd57-1a40-49eb-ecad-c847b6bb878d"
      },
      "outputs": [
        {
          "output_type": "execute_result",
          "data": {
            "text/plain": [
              "CustomModel(\n",
              "  (model_resnet): Sequential(\n",
              "    (0): Conv2d(3, 64, kernel_size=(7, 7), stride=(2, 2), padding=(3, 3), bias=False)\n",
              "    (1): BatchNorm2d(64, eps=1e-05, momentum=0.1, affine=True, track_running_stats=True)\n",
              "    (2): ReLU(inplace=True)\n",
              "    (3): MaxPool2d(kernel_size=3, stride=2, padding=1, dilation=1, ceil_mode=False)\n",
              "    (4): Sequential(\n",
              "      (0): Bottleneck(\n",
              "        (conv1): Conv2d(64, 64, kernel_size=(1, 1), stride=(1, 1), bias=False)\n",
              "        (bn1): BatchNorm2d(64, eps=1e-05, momentum=0.1, affine=True, track_running_stats=True)\n",
              "        (conv2): Conv2d(64, 64, kernel_size=(3, 3), stride=(1, 1), padding=(1, 1), bias=False)\n",
              "        (bn2): BatchNorm2d(64, eps=1e-05, momentum=0.1, affine=True, track_running_stats=True)\n",
              "        (conv3): Conv2d(64, 256, kernel_size=(1, 1), stride=(1, 1), bias=False)\n",
              "        (bn3): BatchNorm2d(256, eps=1e-05, momentum=0.1, affine=True, track_running_stats=True)\n",
              "        (relu): ReLU(inplace=True)\n",
              "        (downsample): Sequential(\n",
              "          (0): Conv2d(64, 256, kernel_size=(1, 1), stride=(1, 1), bias=False)\n",
              "          (1): BatchNorm2d(256, eps=1e-05, momentum=0.1, affine=True, track_running_stats=True)\n",
              "        )\n",
              "      )\n",
              "      (1): Bottleneck(\n",
              "        (conv1): Conv2d(256, 64, kernel_size=(1, 1), stride=(1, 1), bias=False)\n",
              "        (bn1): BatchNorm2d(64, eps=1e-05, momentum=0.1, affine=True, track_running_stats=True)\n",
              "        (conv2): Conv2d(64, 64, kernel_size=(3, 3), stride=(1, 1), padding=(1, 1), bias=False)\n",
              "        (bn2): BatchNorm2d(64, eps=1e-05, momentum=0.1, affine=True, track_running_stats=True)\n",
              "        (conv3): Conv2d(64, 256, kernel_size=(1, 1), stride=(1, 1), bias=False)\n",
              "        (bn3): BatchNorm2d(256, eps=1e-05, momentum=0.1, affine=True, track_running_stats=True)\n",
              "        (relu): ReLU(inplace=True)\n",
              "      )\n",
              "      (2): Bottleneck(\n",
              "        (conv1): Conv2d(256, 64, kernel_size=(1, 1), stride=(1, 1), bias=False)\n",
              "        (bn1): BatchNorm2d(64, eps=1e-05, momentum=0.1, affine=True, track_running_stats=True)\n",
              "        (conv2): Conv2d(64, 64, kernel_size=(3, 3), stride=(1, 1), padding=(1, 1), bias=False)\n",
              "        (bn2): BatchNorm2d(64, eps=1e-05, momentum=0.1, affine=True, track_running_stats=True)\n",
              "        (conv3): Conv2d(64, 256, kernel_size=(1, 1), stride=(1, 1), bias=False)\n",
              "        (bn3): BatchNorm2d(256, eps=1e-05, momentum=0.1, affine=True, track_running_stats=True)\n",
              "        (relu): ReLU(inplace=True)\n",
              "      )\n",
              "    )\n",
              "    (5): Sequential(\n",
              "      (0): Bottleneck(\n",
              "        (conv1): Conv2d(256, 128, kernel_size=(1, 1), stride=(1, 1), bias=False)\n",
              "        (bn1): BatchNorm2d(128, eps=1e-05, momentum=0.1, affine=True, track_running_stats=True)\n",
              "        (conv2): Conv2d(128, 128, kernel_size=(3, 3), stride=(2, 2), padding=(1, 1), bias=False)\n",
              "        (bn2): BatchNorm2d(128, eps=1e-05, momentum=0.1, affine=True, track_running_stats=True)\n",
              "        (conv3): Conv2d(128, 512, kernel_size=(1, 1), stride=(1, 1), bias=False)\n",
              "        (bn3): BatchNorm2d(512, eps=1e-05, momentum=0.1, affine=True, track_running_stats=True)\n",
              "        (relu): ReLU(inplace=True)\n",
              "        (downsample): Sequential(\n",
              "          (0): Conv2d(256, 512, kernel_size=(1, 1), stride=(2, 2), bias=False)\n",
              "          (1): BatchNorm2d(512, eps=1e-05, momentum=0.1, affine=True, track_running_stats=True)\n",
              "        )\n",
              "      )\n",
              "      (1): Bottleneck(\n",
              "        (conv1): Conv2d(512, 128, kernel_size=(1, 1), stride=(1, 1), bias=False)\n",
              "        (bn1): BatchNorm2d(128, eps=1e-05, momentum=0.1, affine=True, track_running_stats=True)\n",
              "        (conv2): Conv2d(128, 128, kernel_size=(3, 3), stride=(1, 1), padding=(1, 1), bias=False)\n",
              "        (bn2): BatchNorm2d(128, eps=1e-05, momentum=0.1, affine=True, track_running_stats=True)\n",
              "        (conv3): Conv2d(128, 512, kernel_size=(1, 1), stride=(1, 1), bias=False)\n",
              "        (bn3): BatchNorm2d(512, eps=1e-05, momentum=0.1, affine=True, track_running_stats=True)\n",
              "        (relu): ReLU(inplace=True)\n",
              "      )\n",
              "      (2): Bottleneck(\n",
              "        (conv1): Conv2d(512, 128, kernel_size=(1, 1), stride=(1, 1), bias=False)\n",
              "        (bn1): BatchNorm2d(128, eps=1e-05, momentum=0.1, affine=True, track_running_stats=True)\n",
              "        (conv2): Conv2d(128, 128, kernel_size=(3, 3), stride=(1, 1), padding=(1, 1), bias=False)\n",
              "        (bn2): BatchNorm2d(128, eps=1e-05, momentum=0.1, affine=True, track_running_stats=True)\n",
              "        (conv3): Conv2d(128, 512, kernel_size=(1, 1), stride=(1, 1), bias=False)\n",
              "        (bn3): BatchNorm2d(512, eps=1e-05, momentum=0.1, affine=True, track_running_stats=True)\n",
              "        (relu): ReLU(inplace=True)\n",
              "      )\n",
              "      (3): Bottleneck(\n",
              "        (conv1): Conv2d(512, 128, kernel_size=(1, 1), stride=(1, 1), bias=False)\n",
              "        (bn1): BatchNorm2d(128, eps=1e-05, momentum=0.1, affine=True, track_running_stats=True)\n",
              "        (conv2): Conv2d(128, 128, kernel_size=(3, 3), stride=(1, 1), padding=(1, 1), bias=False)\n",
              "        (bn2): BatchNorm2d(128, eps=1e-05, momentum=0.1, affine=True, track_running_stats=True)\n",
              "        (conv3): Conv2d(128, 512, kernel_size=(1, 1), stride=(1, 1), bias=False)\n",
              "        (bn3): BatchNorm2d(512, eps=1e-05, momentum=0.1, affine=True, track_running_stats=True)\n",
              "        (relu): ReLU(inplace=True)\n",
              "      )\n",
              "    )\n",
              "    (6): Sequential(\n",
              "      (0): Bottleneck(\n",
              "        (conv1): Conv2d(512, 256, kernel_size=(1, 1), stride=(1, 1), bias=False)\n",
              "        (bn1): BatchNorm2d(256, eps=1e-05, momentum=0.1, affine=True, track_running_stats=True)\n",
              "        (conv2): Conv2d(256, 256, kernel_size=(3, 3), stride=(2, 2), padding=(1, 1), bias=False)\n",
              "        (bn2): BatchNorm2d(256, eps=1e-05, momentum=0.1, affine=True, track_running_stats=True)\n",
              "        (conv3): Conv2d(256, 1024, kernel_size=(1, 1), stride=(1, 1), bias=False)\n",
              "        (bn3): BatchNorm2d(1024, eps=1e-05, momentum=0.1, affine=True, track_running_stats=True)\n",
              "        (relu): ReLU(inplace=True)\n",
              "        (downsample): Sequential(\n",
              "          (0): Conv2d(512, 1024, kernel_size=(1, 1), stride=(2, 2), bias=False)\n",
              "          (1): BatchNorm2d(1024, eps=1e-05, momentum=0.1, affine=True, track_running_stats=True)\n",
              "        )\n",
              "      )\n",
              "      (1): Bottleneck(\n",
              "        (conv1): Conv2d(1024, 256, kernel_size=(1, 1), stride=(1, 1), bias=False)\n",
              "        (bn1): BatchNorm2d(256, eps=1e-05, momentum=0.1, affine=True, track_running_stats=True)\n",
              "        (conv2): Conv2d(256, 256, kernel_size=(3, 3), stride=(1, 1), padding=(1, 1), bias=False)\n",
              "        (bn2): BatchNorm2d(256, eps=1e-05, momentum=0.1, affine=True, track_running_stats=True)\n",
              "        (conv3): Conv2d(256, 1024, kernel_size=(1, 1), stride=(1, 1), bias=False)\n",
              "        (bn3): BatchNorm2d(1024, eps=1e-05, momentum=0.1, affine=True, track_running_stats=True)\n",
              "        (relu): ReLU(inplace=True)\n",
              "      )\n",
              "      (2): Bottleneck(\n",
              "        (conv1): Conv2d(1024, 256, kernel_size=(1, 1), stride=(1, 1), bias=False)\n",
              "        (bn1): BatchNorm2d(256, eps=1e-05, momentum=0.1, affine=True, track_running_stats=True)\n",
              "        (conv2): Conv2d(256, 256, kernel_size=(3, 3), stride=(1, 1), padding=(1, 1), bias=False)\n",
              "        (bn2): BatchNorm2d(256, eps=1e-05, momentum=0.1, affine=True, track_running_stats=True)\n",
              "        (conv3): Conv2d(256, 1024, kernel_size=(1, 1), stride=(1, 1), bias=False)\n",
              "        (bn3): BatchNorm2d(1024, eps=1e-05, momentum=0.1, affine=True, track_running_stats=True)\n",
              "        (relu): ReLU(inplace=True)\n",
              "      )\n",
              "      (3): Bottleneck(\n",
              "        (conv1): Conv2d(1024, 256, kernel_size=(1, 1), stride=(1, 1), bias=False)\n",
              "        (bn1): BatchNorm2d(256, eps=1e-05, momentum=0.1, affine=True, track_running_stats=True)\n",
              "        (conv2): Conv2d(256, 256, kernel_size=(3, 3), stride=(1, 1), padding=(1, 1), bias=False)\n",
              "        (bn2): BatchNorm2d(256, eps=1e-05, momentum=0.1, affine=True, track_running_stats=True)\n",
              "        (conv3): Conv2d(256, 1024, kernel_size=(1, 1), stride=(1, 1), bias=False)\n",
              "        (bn3): BatchNorm2d(1024, eps=1e-05, momentum=0.1, affine=True, track_running_stats=True)\n",
              "        (relu): ReLU(inplace=True)\n",
              "      )\n",
              "      (4): Bottleneck(\n",
              "        (conv1): Conv2d(1024, 256, kernel_size=(1, 1), stride=(1, 1), bias=False)\n",
              "        (bn1): BatchNorm2d(256, eps=1e-05, momentum=0.1, affine=True, track_running_stats=True)\n",
              "        (conv2): Conv2d(256, 256, kernel_size=(3, 3), stride=(1, 1), padding=(1, 1), bias=False)\n",
              "        (bn2): BatchNorm2d(256, eps=1e-05, momentum=0.1, affine=True, track_running_stats=True)\n",
              "        (conv3): Conv2d(256, 1024, kernel_size=(1, 1), stride=(1, 1), bias=False)\n",
              "        (bn3): BatchNorm2d(1024, eps=1e-05, momentum=0.1, affine=True, track_running_stats=True)\n",
              "        (relu): ReLU(inplace=True)\n",
              "      )\n",
              "      (5): Bottleneck(\n",
              "        (conv1): Conv2d(1024, 256, kernel_size=(1, 1), stride=(1, 1), bias=False)\n",
              "        (bn1): BatchNorm2d(256, eps=1e-05, momentum=0.1, affine=True, track_running_stats=True)\n",
              "        (conv2): Conv2d(256, 256, kernel_size=(3, 3), stride=(1, 1), padding=(1, 1), bias=False)\n",
              "        (bn2): BatchNorm2d(256, eps=1e-05, momentum=0.1, affine=True, track_running_stats=True)\n",
              "        (conv3): Conv2d(256, 1024, kernel_size=(1, 1), stride=(1, 1), bias=False)\n",
              "        (bn3): BatchNorm2d(1024, eps=1e-05, momentum=0.1, affine=True, track_running_stats=True)\n",
              "        (relu): ReLU(inplace=True)\n",
              "      )\n",
              "    )\n",
              "    (7): Sequential(\n",
              "      (0): Bottleneck(\n",
              "        (conv1): Conv2d(1024, 512, kernel_size=(1, 1), stride=(1, 1), bias=False)\n",
              "        (bn1): BatchNorm2d(512, eps=1e-05, momentum=0.1, affine=True, track_running_stats=True)\n",
              "        (conv2): Conv2d(512, 512, kernel_size=(3, 3), stride=(2, 2), padding=(1, 1), bias=False)\n",
              "        (bn2): BatchNorm2d(512, eps=1e-05, momentum=0.1, affine=True, track_running_stats=True)\n",
              "        (conv3): Conv2d(512, 2048, kernel_size=(1, 1), stride=(1, 1), bias=False)\n",
              "        (bn3): BatchNorm2d(2048, eps=1e-05, momentum=0.1, affine=True, track_running_stats=True)\n",
              "        (relu): ReLU(inplace=True)\n",
              "        (downsample): Sequential(\n",
              "          (0): Conv2d(1024, 2048, kernel_size=(1, 1), stride=(2, 2), bias=False)\n",
              "          (1): BatchNorm2d(2048, eps=1e-05, momentum=0.1, affine=True, track_running_stats=True)\n",
              "        )\n",
              "      )\n",
              "      (1): Bottleneck(\n",
              "        (conv1): Conv2d(2048, 512, kernel_size=(1, 1), stride=(1, 1), bias=False)\n",
              "        (bn1): BatchNorm2d(512, eps=1e-05, momentum=0.1, affine=True, track_running_stats=True)\n",
              "        (conv2): Conv2d(512, 512, kernel_size=(3, 3), stride=(1, 1), padding=(1, 1), bias=False)\n",
              "        (bn2): BatchNorm2d(512, eps=1e-05, momentum=0.1, affine=True, track_running_stats=True)\n",
              "        (conv3): Conv2d(512, 2048, kernel_size=(1, 1), stride=(1, 1), bias=False)\n",
              "        (bn3): BatchNorm2d(2048, eps=1e-05, momentum=0.1, affine=True, track_running_stats=True)\n",
              "        (relu): ReLU(inplace=True)\n",
              "      )\n",
              "      (2): Bottleneck(\n",
              "        (conv1): Conv2d(2048, 512, kernel_size=(1, 1), stride=(1, 1), bias=False)\n",
              "        (bn1): BatchNorm2d(512, eps=1e-05, momentum=0.1, affine=True, track_running_stats=True)\n",
              "        (conv2): Conv2d(512, 512, kernel_size=(3, 3), stride=(1, 1), padding=(1, 1), bias=False)\n",
              "        (bn2): BatchNorm2d(512, eps=1e-05, momentum=0.1, affine=True, track_running_stats=True)\n",
              "        (conv3): Conv2d(512, 2048, kernel_size=(1, 1), stride=(1, 1), bias=False)\n",
              "        (bn3): BatchNorm2d(2048, eps=1e-05, momentum=0.1, affine=True, track_running_stats=True)\n",
              "        (relu): ReLU(inplace=True)\n",
              "      )\n",
              "    )\n",
              "    (8): AdaptiveAvgPool2d(output_size=(1, 1))\n",
              "  )\n",
              "  (classification): Sequential(\n",
              "    (0): Linear(in_features=2048, out_features=1024, bias=True)\n",
              "    (1): ReLU()\n",
              "    (2): Linear(in_features=1024, out_features=512, bias=True)\n",
              "    (3): ReLU()\n",
              "    (4): Linear(in_features=512, out_features=256, bias=True)\n",
              "    (5): ReLU()\n",
              "    (6): Dropout(p=0.3, inplace=False)\n",
              "    (7): Linear(in_features=256, out_features=3, bias=True)\n",
              "  )\n",
              "  (regression): Sequential(\n",
              "    (0): Linear(in_features=2048, out_features=1024, bias=True)\n",
              "    (1): ReLU()\n",
              "    (2): Linear(in_features=1024, out_features=512, bias=True)\n",
              "    (3): ReLU()\n",
              "    (4): Linear(in_features=512, out_features=256, bias=True)\n",
              "    (5): ReLU()\n",
              "    (6): Linear(in_features=256, out_features=4, bias=True)\n",
              "  )\n",
              ")"
            ]
          },
          "metadata": {},
          "execution_count": 47
        }
      ],
      "source": [
        "model = CustomModel()\n",
        "model = model.to(device)\n",
        "model"
      ]
    },
    {
      "cell_type": "code",
      "execution_count": 48,
      "metadata": {
        "id": "NFKrrzvPC0ff"
      },
      "outputs": [],
      "source": [
        "import torch.optim as optim"
      ]
    },
    {
      "cell_type": "code",
      "execution_count": 49,
      "metadata": {
        "colab": {
          "base_uri": "https://localhost:8080/"
        },
        "id": "h86lGygS377j",
        "outputId": "5722a1a5-155e-459a-c09b-f19bdb206e30"
      },
      "outputs": [
        {
          "output_type": "stream",
          "name": "stdout",
          "text": [
            "Params to learn:\n",
            "\t classification.0.weight\n",
            "\t classification.0.bias\n",
            "\t classification.2.weight\n",
            "\t classification.2.bias\n",
            "\t classification.4.weight\n",
            "\t classification.4.bias\n",
            "\t classification.7.weight\n",
            "\t classification.7.bias\n",
            "\t regression.0.weight\n",
            "\t regression.0.bias\n",
            "\t regression.2.weight\n",
            "\t regression.2.bias\n",
            "\t regression.4.weight\n",
            "\t regression.4.bias\n",
            "\t regression.6.weight\n",
            "\t regression.6.bias\n"
          ]
        }
      ],
      "source": [
        "params_to_update = model.parameters()\n",
        "print(\"Params to learn:\")\n",
        "if feature_extract:\n",
        "    params_to_update = []\n",
        "    for name,param in model.named_parameters():\n",
        "        if param.requires_grad == True:\n",
        "            params_to_update.append(param)\n",
        "            print(\"\\t\",name)\n",
        "else:\n",
        "    for name,param in model.named_parameters():\n",
        "        if param.requires_grad == True:\n",
        "            print(\"\\t\",name)"
      ]
    },
    {
      "cell_type": "code",
      "execution_count": 50,
      "metadata": {
        "id": "E_fn01HsDBDU"
      },
      "outputs": [],
      "source": [
        "optimizer = optim.Adam(params_to_update, lr=0.001)\n",
        "criterion_classes = nn.CrossEntropyLoss()\n",
        "criterion_boxes = nn.MSELoss()"
      ]
    },
    {
      "cell_type": "code",
      "execution_count": 51,
      "metadata": {
        "id": "A9Dzk-S_DLNq"
      },
      "outputs": [],
      "source": [
        "H = {\n",
        "\t\"train_loss_classes\": [],\n",
        "\t\"train_acc_classes\": [],\n",
        "\t\"val_loss_classes\": [],\n",
        "\t\"val_acc_classes\": [],\n",
        "  \"train_loss_boxes\": [],\n",
        "\t\"train_acc_boxes\": [],\n",
        "\t\"val_loss_boxes\": [],\n",
        "\t\"val_acc_boxes\": []\n",
        "}\n",
        "\n",
        "trainSteps = len(train_loader.dataset) // 64\n",
        "valSteps = len(valid_loader.dataset) // 64"
      ]
    },
    {
      "cell_type": "code",
      "execution_count": 52,
      "metadata": {
        "id": "fW_WjWQnUAE3"
      },
      "outputs": [],
      "source": [
        "def CalculateIoU(pred_boxes, boxes):\n",
        "  \n",
        "  iou_threshold = 0.5\n",
        "\n",
        "  results = []\n",
        "\n",
        "  for (pred_box, box) in zip(pred_boxes.cpu(), boxes.cpu()):\n",
        "    \n",
        "    x0_pred, y0_pred, x1_pred, y1_pred = pred_box\n",
        "    x0, y0, x1, y1 = box\n",
        "\n",
        "    if(x0 > x1) or (y0 > y1):\n",
        "      raise AssertionError(\"Ground Truth Bounding Box is not correct\")\n",
        "    if(x0_pred > x1_pred) or (y0_pred > y1_pred):\n",
        "      results.append(0.0 >= 0.5)\n",
        "\n",
        "    if(x1 < x0_pred):\n",
        "      results.append(0.0 >= 0.5)\n",
        "    if(y1 < y0_pred):\n",
        "      results.append(0.0 >= 0.5)\n",
        "    if(x0 > x1_pred):\n",
        "      results.append(0.0 >= 0.5)\n",
        "    if(y0 > y1_pred):\n",
        "      results.append(0.0 >= 0.5)\n",
        "    else:\n",
        "      bbox_area = (x1 - x0 + 1) * (y1 - y0 + 1)\n",
        "      bbox_area_pred = (x1_pred - x0_pred + 1) * (y1_pred - y0_pred + 1)\n",
        "\n",
        "      x_top_left = np.max([x0.detach().numpy(), x0_pred.detach().numpy()])\n",
        "      y_top_left = np.max([y0.detach().numpy(), y0_pred.detach().numpy()])\n",
        "      x_bottom_right = np.max([x1.detach().numpy(), x1_pred.detach().numpy()])\n",
        "      y_bottom_right = np.max([y1.detach().numpy(), y1_pred.detach().numpy()])\n",
        "\n",
        "      intersection_area = (x_bottom_right - x_top_left + 1) * (y_bottom_right - y_top_left + 1)\n",
        "      \n",
        "      union_area = (bbox_area + bbox_area_pred - intersection_area)\n",
        "      result = (intersection_area/union_area) >= iou_threshold\n",
        "      results.append(result.item())\n",
        "\n",
        "  return torch.tensor(results)"
      ]
    },
    {
      "cell_type": "markdown",
      "metadata": {
        "id": "02uRVvs6tzIf"
      },
      "source": [
        "Feature Extraction"
      ]
    },
    {
      "cell_type": "code",
      "execution_count": 53,
      "metadata": {
        "colab": {
          "base_uri": "https://localhost:8080/"
        },
        "id": "GBB_zmMCDTcB",
        "outputId": "2971b9eb-1be2-46fc-b433-7b0e0dfe4333"
      },
      "outputs": [
        {
          "output_type": "stream",
          "name": "stderr",
          "text": [
            "/usr/local/lib/python3.7/dist-packages/torch/utils/data/dataloader.py:481: UserWarning: This DataLoader will create 4 worker processes in total. Our suggested max number of worker in current system is 2, which is smaller than what this DataLoader is going to create. Please be aware that excessive worker creation might get DataLoader running slow or even freeze, lower the worker number to avoid potential slowness/freeze if necessary.\n",
            "  cpuset_checked))\n"
          ]
        },
        {
          "output_type": "stream",
          "name": "stdout",
          "text": [
            "[INFO] EPOCH: 1/20\n",
            "Train loss classes: 0.389167, Train accuracy classes: 0.8430, Train loss boxes: 6080.293282, Train accuracy boxes: 0.6708\n",
            "Val loss classes: 0.269803, Val accuracy classes: 0.9026, Val loss boxes: 2848.907715, Val accuracy boxes: 0.8256\n",
            "\n",
            "[INFO] EPOCH: 2/20\n",
            "Train loss classes: 0.247725, Train accuracy classes: 0.9195, Train loss boxes: 2617.242957, Train accuracy boxes: 0.7856\n",
            "Val loss classes: 0.261898, Val accuracy classes: 0.9269, Val loss boxes: 2624.569824, Val accuracy boxes: 0.8526\n",
            "\n",
            "[INFO] EPOCH: 3/20\n",
            "Train loss classes: 0.179848, Train accuracy classes: 0.9398, Train loss boxes: 2519.713520, Train accuracy boxes: 0.7788\n",
            "Val loss classes: 0.294656, Val accuracy classes: 0.8782, Val loss boxes: 2923.187012, Val accuracy boxes: 0.7667\n",
            "\n",
            "[INFO] EPOCH: 4/20\n",
            "Train loss classes: 0.146584, Train accuracy classes: 0.9482, Train loss boxes: 2463.414285, Train accuracy boxes: 0.7772\n",
            "Val loss classes: 0.145675, Val accuracy classes: 0.9513, Val loss boxes: 2582.382324, Val accuracy boxes: 0.8615\n",
            "\n",
            "[INFO] EPOCH: 5/20\n",
            "Train loss classes: 0.203630, Train accuracy classes: 0.9187, Train loss boxes: 2427.699801, Train accuracy boxes: 0.7736\n",
            "Val loss classes: 0.207793, Val accuracy classes: 0.9410, Val loss boxes: 2580.396973, Val accuracy boxes: 0.8321\n",
            "\n",
            "[INFO] EPOCH: 6/20\n",
            "Train loss classes: 0.146024, Train accuracy classes: 0.9462, Train loss boxes: 2333.509008, Train accuracy boxes: 0.7788\n",
            "Val loss classes: 0.148139, Val accuracy classes: 0.9423, Val loss boxes: 2546.618652, Val accuracy boxes: 0.8538\n",
            "\n",
            "[INFO] EPOCH: 7/20\n",
            "Train loss classes: 0.156029, Train accuracy classes: 0.9430, Train loss boxes: 2185.643883, Train accuracy boxes: 0.7991\n",
            "Val loss classes: 0.367531, Val accuracy classes: 0.8872, Val loss boxes: 2453.838379, Val accuracy boxes: 0.8615\n",
            "\n",
            "[INFO] EPOCH: 8/20\n",
            "Train loss classes: 0.146945, Train accuracy classes: 0.9450, Train loss boxes: 1995.692927, Train accuracy boxes: 0.8298\n",
            "Val loss classes: 0.148697, Val accuracy classes: 0.9474, Val loss boxes: 2460.160645, Val accuracy boxes: 0.8064\n",
            "\n",
            "[INFO] EPOCH: 9/20\n",
            "Train loss classes: 0.134154, Train accuracy classes: 0.9510, Train loss boxes: 1979.933553, Train accuracy boxes: 0.8230\n",
            "Val loss classes: 0.288804, Val accuracy classes: 0.8885, Val loss boxes: 2403.028320, Val accuracy boxes: 0.8231\n",
            "\n",
            "[INFO] EPOCH: 10/20\n",
            "Train loss classes: 0.109784, Train accuracy classes: 0.9621, Train loss boxes: 1870.519613, Train accuracy boxes: 0.8406\n",
            "Val loss classes: 0.213604, Val accuracy classes: 0.9295, Val loss boxes: 2385.240479, Val accuracy boxes: 0.8628\n",
            "\n",
            "[INFO] EPOCH: 11/20\n",
            "Train loss classes: 0.100131, Train accuracy classes: 0.9578, Train loss boxes: 1855.703707, Train accuracy boxes: 0.8398\n",
            "Val loss classes: 0.233383, Val accuracy classes: 0.9333, Val loss boxes: 2422.026367, Val accuracy boxes: 0.8333\n",
            "\n",
            "[INFO] EPOCH: 12/20\n",
            "Train loss classes: 0.105214, Train accuracy classes: 0.9629, Train loss boxes: 1802.631592, Train accuracy boxes: 0.8430\n",
            "Val loss classes: 0.318496, Val accuracy classes: 0.8821, Val loss boxes: 2273.805176, Val accuracy boxes: 0.8551\n",
            "\n",
            "[INFO] EPOCH: 13/20\n",
            "Train loss classes: 0.105748, Train accuracy classes: 0.9641, Train loss boxes: 1836.382744, Train accuracy boxes: 0.8438\n",
            "Val loss classes: 0.186608, Val accuracy classes: 0.9436, Val loss boxes: 2407.934326, Val accuracy boxes: 0.8205\n",
            "\n",
            "[INFO] EPOCH: 14/20\n",
            "Train loss classes: 0.092975, Train accuracy classes: 0.9609, Train loss boxes: 1828.163386, Train accuracy boxes: 0.8338\n",
            "Val loss classes: 0.229286, Val accuracy classes: 0.9154, Val loss boxes: 2318.107178, Val accuracy boxes: 0.8269\n",
            "\n",
            "[INFO] EPOCH: 15/20\n",
            "Train loss classes: 0.087537, Train accuracy classes: 0.9657, Train loss boxes: 1756.264533, Train accuracy boxes: 0.8458\n",
            "Val loss classes: 0.350798, Val accuracy classes: 0.8872, Val loss boxes: 2353.751465, Val accuracy boxes: 0.8359\n",
            "\n",
            "[INFO] EPOCH: 16/20\n",
            "Train loss classes: 0.072170, Train accuracy classes: 0.9801, Train loss boxes: 1758.580266, Train accuracy boxes: 0.8466\n",
            "Val loss classes: 0.559978, Val accuracy classes: 0.8397, Val loss boxes: 2478.528076, Val accuracy boxes: 0.7974\n",
            "\n",
            "[INFO] EPOCH: 17/20\n",
            "Train loss classes: 0.093142, Train accuracy classes: 0.9613, Train loss boxes: 1799.184730, Train accuracy boxes: 0.8438\n",
            "Val loss classes: 0.172025, Val accuracy classes: 0.9474, Val loss boxes: 2189.142578, Val accuracy boxes: 0.8295\n",
            "\n",
            "[INFO] EPOCH: 18/20\n",
            "Train loss classes: 0.082420, Train accuracy classes: 0.9653, Train loss boxes: 1735.056979, Train accuracy boxes: 0.8517\n",
            "Val loss classes: 0.305011, Val accuracy classes: 0.9141, Val loss boxes: 2161.851074, Val accuracy boxes: 0.8256\n",
            "\n",
            "[INFO] EPOCH: 19/20\n",
            "Train loss classes: 0.077585, Train accuracy classes: 0.9709, Train loss boxes: 1735.662807, Train accuracy boxes: 0.8477\n",
            "Val loss classes: 0.149106, Val accuracy classes: 0.9603, Val loss boxes: 2576.513184, Val accuracy boxes: 0.7897\n",
            "\n",
            "[INFO] EPOCH: 20/20\n",
            "Train loss classes: 0.101541, Train accuracy classes: 0.9637, Train loss boxes: 1764.675856, Train accuracy boxes: 0.8394\n",
            "Val loss classes: 0.368407, Val accuracy classes: 0.8974, Val loss boxes: 2169.848633, Val accuracy boxes: 0.8385\n",
            "\n"
          ]
        }
      ],
      "source": [
        "epochs = 20\n",
        "\n",
        "for e in range(0, epochs):\n",
        "  model.train()\n",
        "\n",
        "  totalTrainLossClasses = 0\n",
        "  totalValLossClasses = 0\n",
        "  trainCorrectClasses = 0\n",
        "  valCorrectClasses = 0\n",
        "\n",
        "  total_train = 0\n",
        "  total_valid = 0\n",
        "\n",
        "  totalTrainLossBoxes = 0\n",
        "  totalValLossBoxes = 0\n",
        "  trainCorrectBoxes = 0\n",
        "  valCorrectBoxes = 0\n",
        "  \n",
        "  for batch_idx, (images, labels, boxes) in enumerate(train_loader, 0):\n",
        "    (images, labels, boxes) = (images.to(device, non_blocking=True), labels.to(device, non_blocking=True), boxes.to(device, non_blocking=True))\n",
        "    \n",
        "    pred_labels, pred_boxes = model(images)\n",
        "    loss_classes = criterion_classes(pred_labels, labels)\n",
        "    loss_boxes = criterion_boxes(pred_boxes, boxes)\n",
        "\n",
        "    optimizer.zero_grad()\n",
        "    (loss_classes + loss_boxes).backward()\n",
        "    optimizer.step()\n",
        "\n",
        "    totalTrainLossClasses += loss_classes\n",
        "    trainCorrectClasses += (pred_labels.argmax(1) == labels).type(torch.float).sum().item()\n",
        "\n",
        "    totalTrainLossBoxes += loss_boxes.item()\n",
        "    trainCorrectBoxes += (CalculateIoU(pred_boxes, boxes)).type(torch.float).sum().item()\n",
        "\n",
        "    torch.cuda.empty_cache()\n",
        "    \n",
        "  with torch.no_grad():\n",
        "    model.eval()\n",
        "\n",
        "    for batch_idx, (images, labels, boxes) in enumerate(valid_loader, 0):\n",
        "      (images, labels, boxes) = (images.to(device, non_blocking=True), labels.to(device, non_blocking=True), boxes.to(device, non_blocking=True))\n",
        "\n",
        "      pred_labels, pred_boxes = model(images)\n",
        "      totalValLossClasses += criterion_classes(pred_labels, labels)\n",
        "      totalValLossBoxes += criterion_boxes(pred_boxes, boxes)\n",
        "\n",
        "      valCorrectClasses += (pred_labels.argmax(1) == labels).type(torch.float).sum().item()\n",
        "      valCorrectBoxes += (CalculateIoU(pred_boxes, boxes)).type(torch.float).sum().item()\n",
        "\n",
        "      torch.cuda.empty_cache()\n",
        "    \n",
        "  avgTrainLossClasses = totalTrainLossClasses / trainSteps\n",
        "  avgValLossClasses = totalValLossClasses / valSteps\n",
        "  trainCorrectClasses = trainCorrectClasses / len(train_loader.dataset)\n",
        "  valCorrectClasses = valCorrectClasses / len(valid_loader.dataset)\n",
        "\n",
        "  avgTrainLossBoxes = totalTrainLossBoxes / trainSteps\n",
        "  avgValLossBoxes = totalValLossBoxes / valSteps\n",
        "  trainCorrectBoxes = trainCorrectBoxes / len(train_loader.dataset)\n",
        "  valCorrectBoxes = valCorrectBoxes / len(valid_loader.dataset)\n",
        "\n",
        "  \n",
        "  H[\"train_loss_classes\"].append(avgTrainLossClasses.cpu().detach().numpy())\n",
        "  H[\"train_acc_classes\"].append(trainCorrectClasses)\n",
        "  H[\"val_loss_classes\"].append(avgValLossClasses.cpu().detach().numpy())\n",
        "  H[\"val_acc_classes\"].append(valCorrectClasses)\n",
        "\n",
        "  H[\"train_loss_boxes\"].append(avgTrainLossBoxes)\n",
        "  H[\"train_acc_boxes\"].append(trainCorrectBoxes)\n",
        "  H[\"val_loss_boxes\"].append(avgValLossBoxes.cpu().detach().numpy())\n",
        "  H[\"val_acc_boxes\"].append(valCorrectBoxes)\n",
        "\n",
        "  print(\"[INFO] EPOCH: {}/{}\".format(e + 1, epochs))\n",
        "  print(\"Train loss classes: {:.6f}, Train accuracy classes: {:.4f}, Train loss boxes: {:.6f}, Train accuracy boxes: {:.4f}\".format(\n",
        "    avgTrainLossClasses, trainCorrectClasses, avgTrainLossBoxes, trainCorrectBoxes))\n",
        "  print(\"Val loss classes: {:.6f}, Val accuracy classes: {:.4f}, Val loss boxes: {:.6f}, Val accuracy boxes: {:.4f}\\n\".format(\n",
        "    avgValLossClasses, valCorrectClasses, avgValLossBoxes, valCorrectBoxes))"
      ]
    },
    {
      "cell_type": "markdown",
      "source": [
        "Fine-Tuning"
      ],
      "metadata": {
        "id": "AJEPTxKkwT8P"
      }
    },
    {
      "cell_type": "code",
      "source": [
        "feature_extract = False\n",
        "\n",
        "set_parameter_requires_grad(model, feature_extract)"
      ],
      "metadata": {
        "id": "tp0t7uDVwVAx"
      },
      "execution_count": 54,
      "outputs": []
    },
    {
      "cell_type": "code",
      "source": [
        "params_to_update = model.parameters()\n",
        "print(\"Params to learn:\")\n",
        "if feature_extract:\n",
        "    params_to_update = []\n",
        "    for name,param in model.named_parameters():\n",
        "        if param.requires_grad == True:\n",
        "            params_to_update.append(param)\n",
        "            print(\"\\t\",name)\n",
        "else:\n",
        "    for name,param in model.named_parameters():\n",
        "        if param.requires_grad == True:\n",
        "            print(\"\\t\",name)"
      ],
      "metadata": {
        "colab": {
          "base_uri": "https://localhost:8080/"
        },
        "id": "w43mkF77wWeT",
        "outputId": "a4d19f4a-a05c-46fc-bfee-3a2ebe35588b"
      },
      "execution_count": 55,
      "outputs": [
        {
          "output_type": "stream",
          "name": "stdout",
          "text": [
            "Params to learn:\n",
            "\t model_resnet.0.weight\n",
            "\t model_resnet.1.weight\n",
            "\t model_resnet.1.bias\n",
            "\t model_resnet.4.0.conv1.weight\n",
            "\t model_resnet.4.0.bn1.weight\n",
            "\t model_resnet.4.0.bn1.bias\n",
            "\t model_resnet.4.0.conv2.weight\n",
            "\t model_resnet.4.0.bn2.weight\n",
            "\t model_resnet.4.0.bn2.bias\n",
            "\t model_resnet.4.0.conv3.weight\n",
            "\t model_resnet.4.0.bn3.weight\n",
            "\t model_resnet.4.0.bn3.bias\n",
            "\t model_resnet.4.0.downsample.0.weight\n",
            "\t model_resnet.4.0.downsample.1.weight\n",
            "\t model_resnet.4.0.downsample.1.bias\n",
            "\t model_resnet.4.1.conv1.weight\n",
            "\t model_resnet.4.1.bn1.weight\n",
            "\t model_resnet.4.1.bn1.bias\n",
            "\t model_resnet.4.1.conv2.weight\n",
            "\t model_resnet.4.1.bn2.weight\n",
            "\t model_resnet.4.1.bn2.bias\n",
            "\t model_resnet.4.1.conv3.weight\n",
            "\t model_resnet.4.1.bn3.weight\n",
            "\t model_resnet.4.1.bn3.bias\n",
            "\t model_resnet.4.2.conv1.weight\n",
            "\t model_resnet.4.2.bn1.weight\n",
            "\t model_resnet.4.2.bn1.bias\n",
            "\t model_resnet.4.2.conv2.weight\n",
            "\t model_resnet.4.2.bn2.weight\n",
            "\t model_resnet.4.2.bn2.bias\n",
            "\t model_resnet.4.2.conv3.weight\n",
            "\t model_resnet.4.2.bn3.weight\n",
            "\t model_resnet.4.2.bn3.bias\n",
            "\t model_resnet.5.0.conv1.weight\n",
            "\t model_resnet.5.0.bn1.weight\n",
            "\t model_resnet.5.0.bn1.bias\n",
            "\t model_resnet.5.0.conv2.weight\n",
            "\t model_resnet.5.0.bn2.weight\n",
            "\t model_resnet.5.0.bn2.bias\n",
            "\t model_resnet.5.0.conv3.weight\n",
            "\t model_resnet.5.0.bn3.weight\n",
            "\t model_resnet.5.0.bn3.bias\n",
            "\t model_resnet.5.0.downsample.0.weight\n",
            "\t model_resnet.5.0.downsample.1.weight\n",
            "\t model_resnet.5.0.downsample.1.bias\n",
            "\t model_resnet.5.1.conv1.weight\n",
            "\t model_resnet.5.1.bn1.weight\n",
            "\t model_resnet.5.1.bn1.bias\n",
            "\t model_resnet.5.1.conv2.weight\n",
            "\t model_resnet.5.1.bn2.weight\n",
            "\t model_resnet.5.1.bn2.bias\n",
            "\t model_resnet.5.1.conv3.weight\n",
            "\t model_resnet.5.1.bn3.weight\n",
            "\t model_resnet.5.1.bn3.bias\n",
            "\t model_resnet.5.2.conv1.weight\n",
            "\t model_resnet.5.2.bn1.weight\n",
            "\t model_resnet.5.2.bn1.bias\n",
            "\t model_resnet.5.2.conv2.weight\n",
            "\t model_resnet.5.2.bn2.weight\n",
            "\t model_resnet.5.2.bn2.bias\n",
            "\t model_resnet.5.2.conv3.weight\n",
            "\t model_resnet.5.2.bn3.weight\n",
            "\t model_resnet.5.2.bn3.bias\n",
            "\t model_resnet.5.3.conv1.weight\n",
            "\t model_resnet.5.3.bn1.weight\n",
            "\t model_resnet.5.3.bn1.bias\n",
            "\t model_resnet.5.3.conv2.weight\n",
            "\t model_resnet.5.3.bn2.weight\n",
            "\t model_resnet.5.3.bn2.bias\n",
            "\t model_resnet.5.3.conv3.weight\n",
            "\t model_resnet.5.3.bn3.weight\n",
            "\t model_resnet.5.3.bn3.bias\n",
            "\t model_resnet.6.0.conv1.weight\n",
            "\t model_resnet.6.0.bn1.weight\n",
            "\t model_resnet.6.0.bn1.bias\n",
            "\t model_resnet.6.0.conv2.weight\n",
            "\t model_resnet.6.0.bn2.weight\n",
            "\t model_resnet.6.0.bn2.bias\n",
            "\t model_resnet.6.0.conv3.weight\n",
            "\t model_resnet.6.0.bn3.weight\n",
            "\t model_resnet.6.0.bn3.bias\n",
            "\t model_resnet.6.0.downsample.0.weight\n",
            "\t model_resnet.6.0.downsample.1.weight\n",
            "\t model_resnet.6.0.downsample.1.bias\n",
            "\t model_resnet.6.1.conv1.weight\n",
            "\t model_resnet.6.1.bn1.weight\n",
            "\t model_resnet.6.1.bn1.bias\n",
            "\t model_resnet.6.1.conv2.weight\n",
            "\t model_resnet.6.1.bn2.weight\n",
            "\t model_resnet.6.1.bn2.bias\n",
            "\t model_resnet.6.1.conv3.weight\n",
            "\t model_resnet.6.1.bn3.weight\n",
            "\t model_resnet.6.1.bn3.bias\n",
            "\t model_resnet.6.2.conv1.weight\n",
            "\t model_resnet.6.2.bn1.weight\n",
            "\t model_resnet.6.2.bn1.bias\n",
            "\t model_resnet.6.2.conv2.weight\n",
            "\t model_resnet.6.2.bn2.weight\n",
            "\t model_resnet.6.2.bn2.bias\n",
            "\t model_resnet.6.2.conv3.weight\n",
            "\t model_resnet.6.2.bn3.weight\n",
            "\t model_resnet.6.2.bn3.bias\n",
            "\t model_resnet.6.3.conv1.weight\n",
            "\t model_resnet.6.3.bn1.weight\n",
            "\t model_resnet.6.3.bn1.bias\n",
            "\t model_resnet.6.3.conv2.weight\n",
            "\t model_resnet.6.3.bn2.weight\n",
            "\t model_resnet.6.3.bn2.bias\n",
            "\t model_resnet.6.3.conv3.weight\n",
            "\t model_resnet.6.3.bn3.weight\n",
            "\t model_resnet.6.3.bn3.bias\n",
            "\t model_resnet.6.4.conv1.weight\n",
            "\t model_resnet.6.4.bn1.weight\n",
            "\t model_resnet.6.4.bn1.bias\n",
            "\t model_resnet.6.4.conv2.weight\n",
            "\t model_resnet.6.4.bn2.weight\n",
            "\t model_resnet.6.4.bn2.bias\n",
            "\t model_resnet.6.4.conv3.weight\n",
            "\t model_resnet.6.4.bn3.weight\n",
            "\t model_resnet.6.4.bn3.bias\n",
            "\t model_resnet.6.5.conv1.weight\n",
            "\t model_resnet.6.5.bn1.weight\n",
            "\t model_resnet.6.5.bn1.bias\n",
            "\t model_resnet.6.5.conv2.weight\n",
            "\t model_resnet.6.5.bn2.weight\n",
            "\t model_resnet.6.5.bn2.bias\n",
            "\t model_resnet.6.5.conv3.weight\n",
            "\t model_resnet.6.5.bn3.weight\n",
            "\t model_resnet.6.5.bn3.bias\n",
            "\t model_resnet.7.0.conv1.weight\n",
            "\t model_resnet.7.0.bn1.weight\n",
            "\t model_resnet.7.0.bn1.bias\n",
            "\t model_resnet.7.0.conv2.weight\n",
            "\t model_resnet.7.0.bn2.weight\n",
            "\t model_resnet.7.0.bn2.bias\n",
            "\t model_resnet.7.0.conv3.weight\n",
            "\t model_resnet.7.0.bn3.weight\n",
            "\t model_resnet.7.0.bn3.bias\n",
            "\t model_resnet.7.0.downsample.0.weight\n",
            "\t model_resnet.7.0.downsample.1.weight\n",
            "\t model_resnet.7.0.downsample.1.bias\n",
            "\t model_resnet.7.1.conv1.weight\n",
            "\t model_resnet.7.1.bn1.weight\n",
            "\t model_resnet.7.1.bn1.bias\n",
            "\t model_resnet.7.1.conv2.weight\n",
            "\t model_resnet.7.1.bn2.weight\n",
            "\t model_resnet.7.1.bn2.bias\n",
            "\t model_resnet.7.1.conv3.weight\n",
            "\t model_resnet.7.1.bn3.weight\n",
            "\t model_resnet.7.1.bn3.bias\n",
            "\t model_resnet.7.2.conv1.weight\n",
            "\t model_resnet.7.2.bn1.weight\n",
            "\t model_resnet.7.2.bn1.bias\n",
            "\t model_resnet.7.2.conv2.weight\n",
            "\t model_resnet.7.2.bn2.weight\n",
            "\t model_resnet.7.2.bn2.bias\n",
            "\t model_resnet.7.2.conv3.weight\n",
            "\t model_resnet.7.2.bn3.weight\n",
            "\t model_resnet.7.2.bn3.bias\n",
            "\t classification.0.weight\n",
            "\t classification.0.bias\n",
            "\t classification.2.weight\n",
            "\t classification.2.bias\n",
            "\t classification.4.weight\n",
            "\t classification.4.bias\n",
            "\t classification.7.weight\n",
            "\t classification.7.bias\n",
            "\t regression.0.weight\n",
            "\t regression.0.bias\n",
            "\t regression.2.weight\n",
            "\t regression.2.bias\n",
            "\t regression.4.weight\n",
            "\t regression.4.bias\n",
            "\t regression.6.weight\n",
            "\t regression.6.bias\n"
          ]
        }
      ]
    },
    {
      "cell_type": "code",
      "source": [
        "optimizer = optim.Adam(params_to_update, lr=0.000015)\n",
        "criterion_classes = nn.CrossEntropyLoss()\n",
        "criterion_boxes = nn.MSELoss()"
      ],
      "metadata": {
        "id": "gbOm42CewX8A"
      },
      "execution_count": 56,
      "outputs": []
    },
    {
      "cell_type": "code",
      "source": [
        "def calculate_iou(box1, box2):\n",
        "  intersection = np.logical_and(box1.cpu()[0].tolist(), box2.cpu()[0].tolist())\n",
        "  union = np.logical_or(box1.cpu()[0].tolist(), box2.cpu()[0].tolist())\n",
        "  iou_score = np.sum(intersection) / np.sum(union)\n",
        "  return iou_score"
      ],
      "metadata": {
        "id": "0chHVqYqwabI"
      },
      "execution_count": 57,
      "outputs": []
    },
    {
      "cell_type": "code",
      "source": [
        "def get_miou(iou_list):\n",
        "  return np.mean(iou_list)"
      ],
      "metadata": {
        "id": "ZY4ppdAJwb-v"
      },
      "execution_count": 58,
      "outputs": []
    },
    {
      "cell_type": "code",
      "source": [
        "epochs = 10\n",
        "\n",
        "for e in range(0, epochs):\n",
        "  model.train()\n",
        "\n",
        "  totalTrainLossClasses = 0\n",
        "  totalValLossClasses = 0\n",
        "  trainCorrectClasses = 0\n",
        "  valCorrectClasses = 0\n",
        "\n",
        "  total_train = 0\n",
        "  total_valid = 0\n",
        "\n",
        "  totalTrainLossBoxes = 0\n",
        "  totalValLossBoxes = 0\n",
        "  trainCorrectBoxes = 0\n",
        "  valCorrectBoxes = 0\n",
        "\n",
        "  iou_list = []\n",
        "  \n",
        "  for batch_idx, (images, labels, boxes) in enumerate(train_loader, 0):\n",
        "    (images, labels, boxes) = (images.to(device, non_blocking=True), labels.to(device, non_blocking=True), boxes.to(device, non_blocking=True))\n",
        "    \n",
        "    pred_labels, pred_boxes = model(images)\n",
        "    loss_classes = criterion_classes(pred_labels, labels)\n",
        "    loss_boxes = criterion_boxes(pred_boxes, boxes)\n",
        "\n",
        "    optimizer.zero_grad()\n",
        "    (loss_classes + loss_boxes).backward()\n",
        "    optimizer.step()\n",
        "\n",
        "    totalTrainLossClasses += loss_classes\n",
        "    trainCorrectClasses += (pred_labels.argmax(1) == labels).type(torch.float).sum().item()\n",
        "\n",
        "    totalTrainLossBoxes += loss_boxes.item()\n",
        "    trainCorrectBoxes += (CalculateIoU(pred_boxes, boxes)).type(torch.float).sum().item()\n",
        "\n",
        "    torch.cuda.empty_cache()\n",
        "\n",
        "  with torch.no_grad():\n",
        "    model.eval()\n",
        "\n",
        "    for batch_idx, (images, labels, boxes) in enumerate(valid_loader, 0):\n",
        "      (images, labels, boxes) = (images.to(device, non_blocking=True), labels.to(device, non_blocking=True), boxes.to(device, non_blocking=True))\n",
        "\n",
        "      pred_labels, pred_boxes = model(images)\n",
        "      totalValLossClasses += criterion_classes(pred_labels, labels)\n",
        "      totalValLossBoxes += criterion_boxes(pred_boxes, boxes)\n",
        "\n",
        "      valCorrectClasses += (pred_labels.argmax(1) == labels).type(torch.float).sum().item()\n",
        "      valCorrectBoxes += (CalculateIoU(pred_boxes, boxes)).type(torch.float).sum().item()\n",
        "\n",
        "      iou_list.append(calculate_iou(pred_boxes, boxes))\n",
        "\n",
        "      torch.cuda.empty_cache()\n",
        "    \n",
        "  avgTrainLossClasses = totalTrainLossClasses / trainSteps\n",
        "  avgValLossClasses = totalValLossClasses / valSteps\n",
        "  trainCorrectClasses = trainCorrectClasses / len(train_loader.dataset)\n",
        "  valCorrectClasses = valCorrectClasses / len(valid_loader.dataset)\n",
        "\n",
        "  avgTrainLossBoxes = totalTrainLossBoxes / trainSteps\n",
        "  avgValLossBoxes = totalValLossBoxes / valSteps\n",
        "  trainCorrectBoxes = trainCorrectBoxes / len(train_loader.dataset)\n",
        "  valCorrectBoxes = valCorrectBoxes / len(valid_loader.dataset)\n",
        "\n",
        "  \n",
        "  H[\"train_loss_classes\"].append(avgTrainLossClasses.cpu().detach().numpy())\n",
        "  H[\"train_acc_classes\"].append(trainCorrectClasses)\n",
        "  H[\"val_loss_classes\"].append(avgValLossClasses.cpu().detach().numpy())\n",
        "  H[\"val_acc_classes\"].append(valCorrectClasses)\n",
        "\n",
        "  H[\"train_loss_boxes\"].append(avgTrainLossBoxes)\n",
        "  H[\"train_acc_boxes\"].append(trainCorrectBoxes)\n",
        "  H[\"val_loss_boxes\"].append(avgValLossBoxes.cpu().detach().numpy())\n",
        "  H[\"val_acc_boxes\"].append(valCorrectBoxes)\n",
        "\n",
        "  print(\"[INFO] EPOCH: {}/{}\".format(e + 1, epochs))\n",
        "  print(\"Train loss classes: {:.6f}, Train accuracy classes: {:.4f}, Train loss boxes: {:.6f}, Train accuracy boxes: {:.4f}\".format(\n",
        "    avgTrainLossClasses, trainCorrectClasses, avgTrainLossBoxes, trainCorrectBoxes))\n",
        "  print(\"Val loss classes: {:.6f}, Val accuracy classes: {:.4f}, Val loss boxes: {:.6f}, Val accuracy boxes: {:.4f}\\n\".format(\n",
        "  avgValLossClasses, valCorrectClasses, avgValLossBoxes, valCorrectBoxes))\n",
        "  print(\"IoU is {:.4f}\".format(get_miou(iou_list)))"
      ],
      "metadata": {
        "colab": {
          "base_uri": "https://localhost:8080/"
        },
        "id": "yB66GK7xwdWf",
        "outputId": "53fc0d5a-0840-46f0-c71d-315c7a91a350"
      },
      "execution_count": 59,
      "outputs": [
        {
          "output_type": "stream",
          "name": "stderr",
          "text": [
            "/usr/local/lib/python3.7/dist-packages/torch/utils/data/dataloader.py:481: UserWarning: This DataLoader will create 4 worker processes in total. Our suggested max number of worker in current system is 2, which is smaller than what this DataLoader is going to create. Please be aware that excessive worker creation might get DataLoader running slow or even freeze, lower the worker number to avoid potential slowness/freeze if necessary.\n",
            "  cpuset_checked))\n"
          ]
        },
        {
          "output_type": "stream",
          "name": "stdout",
          "text": [
            "[INFO] EPOCH: 1/10\n",
            "Train loss classes: 0.055585, Train accuracy classes: 0.9825, Train loss boxes: 1619.801057, Train accuracy boxes: 0.8481\n",
            "Val loss classes: 0.273257, Val accuracy classes: 0.9205, Val loss boxes: 2113.574219, Val accuracy boxes: 0.8397\n",
            "\n",
            "IoU is 0.9231\n",
            "[INFO] EPOCH: 2/10\n",
            "Train loss classes: 0.044440, Train accuracy classes: 0.9853, Train loss boxes: 1260.269088, Train accuracy boxes: 0.8657\n",
            "Val loss classes: 0.393952, Val accuracy classes: 0.9218, Val loss boxes: 2163.027832, Val accuracy boxes: 0.8282\n",
            "\n",
            "IoU is 0.8654\n",
            "[INFO] EPOCH: 3/10\n",
            "Train loss classes: 0.052495, Train accuracy classes: 0.9845, Train loss boxes: 1084.540116, Train accuracy boxes: 0.8892\n",
            "Val loss classes: 0.265329, Val accuracy classes: 0.9282, Val loss boxes: 2163.121338, Val accuracy boxes: 0.8256\n",
            "\n",
            "IoU is 0.9038\n",
            "[INFO] EPOCH: 4/10\n",
            "Train loss classes: 0.039170, Train accuracy classes: 0.9861, Train loss boxes: 948.473567, Train accuracy boxes: 0.9024\n",
            "Val loss classes: 0.352758, Val accuracy classes: 0.9115, Val loss boxes: 2137.292969, Val accuracy boxes: 0.8231\n",
            "\n",
            "IoU is 0.8654\n",
            "[INFO] EPOCH: 5/10\n",
            "Train loss classes: 0.055524, Train accuracy classes: 0.9817, Train loss boxes: 863.683946, Train accuracy boxes: 0.9187\n",
            "Val loss classes: 0.289850, Val accuracy classes: 0.9231, Val loss boxes: 2066.468994, Val accuracy boxes: 0.8333\n",
            "\n",
            "IoU is 0.9038\n",
            "[INFO] EPOCH: 6/10\n",
            "Train loss classes: 0.049084, Train accuracy classes: 0.9837, Train loss boxes: 789.048791, Train accuracy boxes: 0.9334\n",
            "Val loss classes: 0.268640, Val accuracy classes: 0.9295, Val loss boxes: 2201.871338, Val accuracy boxes: 0.8282\n",
            "\n",
            "IoU is 0.8654\n",
            "[INFO] EPOCH: 7/10\n",
            "Train loss classes: 0.066992, Train accuracy classes: 0.9777, Train loss boxes: 749.502836, Train accuracy boxes: 0.9334\n",
            "Val loss classes: 0.311136, Val accuracy classes: 0.9179, Val loss boxes: 2182.748047, Val accuracy boxes: 0.8256\n",
            "\n",
            "IoU is 0.8269\n",
            "[INFO] EPOCH: 8/10\n",
            "Train loss classes: 0.065364, Train accuracy classes: 0.9757, Train loss boxes: 724.348218, Train accuracy boxes: 0.9446\n",
            "Val loss classes: 0.294529, Val accuracy classes: 0.9231, Val loss boxes: 2178.951416, Val accuracy boxes: 0.8231\n",
            "\n",
            "IoU is 0.8846\n",
            "[INFO] EPOCH: 9/10\n",
            "Train loss classes: 0.094967, Train accuracy classes: 0.9669, Train loss boxes: 694.351013, Train accuracy boxes: 0.9442\n",
            "Val loss classes: 0.316801, Val accuracy classes: 0.9154, Val loss boxes: 2203.508789, Val accuracy boxes: 0.8282\n",
            "\n",
            "IoU is 0.8654\n",
            "[INFO] EPOCH: 10/10\n",
            "Train loss classes: 0.092093, Train accuracy classes: 0.9673, Train loss boxes: 696.623820, Train accuracy boxes: 0.9458\n",
            "Val loss classes: 0.261105, Val accuracy classes: 0.9321, Val loss boxes: 2106.177979, Val accuracy boxes: 0.8244\n",
            "\n",
            "IoU is 0.8846\n"
          ]
        }
      ]
    },
    {
      "cell_type": "code",
      "source": [
        "torch.save(model, 'model.pt')"
      ],
      "metadata": {
        "id": "3WWzN92xwvBX"
      },
      "execution_count": 60,
      "outputs": []
    },
    {
      "cell_type": "code",
      "source": [
        "model = torch.load('model.pt')\n",
        "model.eval()"
      ],
      "metadata": {
        "colab": {
          "base_uri": "https://localhost:8080/"
        },
        "id": "7WaN56gpxI0A",
        "outputId": "c182b20c-63ee-4bb8-b65e-b05f4e50e85f"
      },
      "execution_count": 61,
      "outputs": [
        {
          "output_type": "execute_result",
          "data": {
            "text/plain": [
              "CustomModel(\n",
              "  (model_resnet): Sequential(\n",
              "    (0): Conv2d(3, 64, kernel_size=(7, 7), stride=(2, 2), padding=(3, 3), bias=False)\n",
              "    (1): BatchNorm2d(64, eps=1e-05, momentum=0.1, affine=True, track_running_stats=True)\n",
              "    (2): ReLU(inplace=True)\n",
              "    (3): MaxPool2d(kernel_size=3, stride=2, padding=1, dilation=1, ceil_mode=False)\n",
              "    (4): Sequential(\n",
              "      (0): Bottleneck(\n",
              "        (conv1): Conv2d(64, 64, kernel_size=(1, 1), stride=(1, 1), bias=False)\n",
              "        (bn1): BatchNorm2d(64, eps=1e-05, momentum=0.1, affine=True, track_running_stats=True)\n",
              "        (conv2): Conv2d(64, 64, kernel_size=(3, 3), stride=(1, 1), padding=(1, 1), bias=False)\n",
              "        (bn2): BatchNorm2d(64, eps=1e-05, momentum=0.1, affine=True, track_running_stats=True)\n",
              "        (conv3): Conv2d(64, 256, kernel_size=(1, 1), stride=(1, 1), bias=False)\n",
              "        (bn3): BatchNorm2d(256, eps=1e-05, momentum=0.1, affine=True, track_running_stats=True)\n",
              "        (relu): ReLU(inplace=True)\n",
              "        (downsample): Sequential(\n",
              "          (0): Conv2d(64, 256, kernel_size=(1, 1), stride=(1, 1), bias=False)\n",
              "          (1): BatchNorm2d(256, eps=1e-05, momentum=0.1, affine=True, track_running_stats=True)\n",
              "        )\n",
              "      )\n",
              "      (1): Bottleneck(\n",
              "        (conv1): Conv2d(256, 64, kernel_size=(1, 1), stride=(1, 1), bias=False)\n",
              "        (bn1): BatchNorm2d(64, eps=1e-05, momentum=0.1, affine=True, track_running_stats=True)\n",
              "        (conv2): Conv2d(64, 64, kernel_size=(3, 3), stride=(1, 1), padding=(1, 1), bias=False)\n",
              "        (bn2): BatchNorm2d(64, eps=1e-05, momentum=0.1, affine=True, track_running_stats=True)\n",
              "        (conv3): Conv2d(64, 256, kernel_size=(1, 1), stride=(1, 1), bias=False)\n",
              "        (bn3): BatchNorm2d(256, eps=1e-05, momentum=0.1, affine=True, track_running_stats=True)\n",
              "        (relu): ReLU(inplace=True)\n",
              "      )\n",
              "      (2): Bottleneck(\n",
              "        (conv1): Conv2d(256, 64, kernel_size=(1, 1), stride=(1, 1), bias=False)\n",
              "        (bn1): BatchNorm2d(64, eps=1e-05, momentum=0.1, affine=True, track_running_stats=True)\n",
              "        (conv2): Conv2d(64, 64, kernel_size=(3, 3), stride=(1, 1), padding=(1, 1), bias=False)\n",
              "        (bn2): BatchNorm2d(64, eps=1e-05, momentum=0.1, affine=True, track_running_stats=True)\n",
              "        (conv3): Conv2d(64, 256, kernel_size=(1, 1), stride=(1, 1), bias=False)\n",
              "        (bn3): BatchNorm2d(256, eps=1e-05, momentum=0.1, affine=True, track_running_stats=True)\n",
              "        (relu): ReLU(inplace=True)\n",
              "      )\n",
              "    )\n",
              "    (5): Sequential(\n",
              "      (0): Bottleneck(\n",
              "        (conv1): Conv2d(256, 128, kernel_size=(1, 1), stride=(1, 1), bias=False)\n",
              "        (bn1): BatchNorm2d(128, eps=1e-05, momentum=0.1, affine=True, track_running_stats=True)\n",
              "        (conv2): Conv2d(128, 128, kernel_size=(3, 3), stride=(2, 2), padding=(1, 1), bias=False)\n",
              "        (bn2): BatchNorm2d(128, eps=1e-05, momentum=0.1, affine=True, track_running_stats=True)\n",
              "        (conv3): Conv2d(128, 512, kernel_size=(1, 1), stride=(1, 1), bias=False)\n",
              "        (bn3): BatchNorm2d(512, eps=1e-05, momentum=0.1, affine=True, track_running_stats=True)\n",
              "        (relu): ReLU(inplace=True)\n",
              "        (downsample): Sequential(\n",
              "          (0): Conv2d(256, 512, kernel_size=(1, 1), stride=(2, 2), bias=False)\n",
              "          (1): BatchNorm2d(512, eps=1e-05, momentum=0.1, affine=True, track_running_stats=True)\n",
              "        )\n",
              "      )\n",
              "      (1): Bottleneck(\n",
              "        (conv1): Conv2d(512, 128, kernel_size=(1, 1), stride=(1, 1), bias=False)\n",
              "        (bn1): BatchNorm2d(128, eps=1e-05, momentum=0.1, affine=True, track_running_stats=True)\n",
              "        (conv2): Conv2d(128, 128, kernel_size=(3, 3), stride=(1, 1), padding=(1, 1), bias=False)\n",
              "        (bn2): BatchNorm2d(128, eps=1e-05, momentum=0.1, affine=True, track_running_stats=True)\n",
              "        (conv3): Conv2d(128, 512, kernel_size=(1, 1), stride=(1, 1), bias=False)\n",
              "        (bn3): BatchNorm2d(512, eps=1e-05, momentum=0.1, affine=True, track_running_stats=True)\n",
              "        (relu): ReLU(inplace=True)\n",
              "      )\n",
              "      (2): Bottleneck(\n",
              "        (conv1): Conv2d(512, 128, kernel_size=(1, 1), stride=(1, 1), bias=False)\n",
              "        (bn1): BatchNorm2d(128, eps=1e-05, momentum=0.1, affine=True, track_running_stats=True)\n",
              "        (conv2): Conv2d(128, 128, kernel_size=(3, 3), stride=(1, 1), padding=(1, 1), bias=False)\n",
              "        (bn2): BatchNorm2d(128, eps=1e-05, momentum=0.1, affine=True, track_running_stats=True)\n",
              "        (conv3): Conv2d(128, 512, kernel_size=(1, 1), stride=(1, 1), bias=False)\n",
              "        (bn3): BatchNorm2d(512, eps=1e-05, momentum=0.1, affine=True, track_running_stats=True)\n",
              "        (relu): ReLU(inplace=True)\n",
              "      )\n",
              "      (3): Bottleneck(\n",
              "        (conv1): Conv2d(512, 128, kernel_size=(1, 1), stride=(1, 1), bias=False)\n",
              "        (bn1): BatchNorm2d(128, eps=1e-05, momentum=0.1, affine=True, track_running_stats=True)\n",
              "        (conv2): Conv2d(128, 128, kernel_size=(3, 3), stride=(1, 1), padding=(1, 1), bias=False)\n",
              "        (bn2): BatchNorm2d(128, eps=1e-05, momentum=0.1, affine=True, track_running_stats=True)\n",
              "        (conv3): Conv2d(128, 512, kernel_size=(1, 1), stride=(1, 1), bias=False)\n",
              "        (bn3): BatchNorm2d(512, eps=1e-05, momentum=0.1, affine=True, track_running_stats=True)\n",
              "        (relu): ReLU(inplace=True)\n",
              "      )\n",
              "    )\n",
              "    (6): Sequential(\n",
              "      (0): Bottleneck(\n",
              "        (conv1): Conv2d(512, 256, kernel_size=(1, 1), stride=(1, 1), bias=False)\n",
              "        (bn1): BatchNorm2d(256, eps=1e-05, momentum=0.1, affine=True, track_running_stats=True)\n",
              "        (conv2): Conv2d(256, 256, kernel_size=(3, 3), stride=(2, 2), padding=(1, 1), bias=False)\n",
              "        (bn2): BatchNorm2d(256, eps=1e-05, momentum=0.1, affine=True, track_running_stats=True)\n",
              "        (conv3): Conv2d(256, 1024, kernel_size=(1, 1), stride=(1, 1), bias=False)\n",
              "        (bn3): BatchNorm2d(1024, eps=1e-05, momentum=0.1, affine=True, track_running_stats=True)\n",
              "        (relu): ReLU(inplace=True)\n",
              "        (downsample): Sequential(\n",
              "          (0): Conv2d(512, 1024, kernel_size=(1, 1), stride=(2, 2), bias=False)\n",
              "          (1): BatchNorm2d(1024, eps=1e-05, momentum=0.1, affine=True, track_running_stats=True)\n",
              "        )\n",
              "      )\n",
              "      (1): Bottleneck(\n",
              "        (conv1): Conv2d(1024, 256, kernel_size=(1, 1), stride=(1, 1), bias=False)\n",
              "        (bn1): BatchNorm2d(256, eps=1e-05, momentum=0.1, affine=True, track_running_stats=True)\n",
              "        (conv2): Conv2d(256, 256, kernel_size=(3, 3), stride=(1, 1), padding=(1, 1), bias=False)\n",
              "        (bn2): BatchNorm2d(256, eps=1e-05, momentum=0.1, affine=True, track_running_stats=True)\n",
              "        (conv3): Conv2d(256, 1024, kernel_size=(1, 1), stride=(1, 1), bias=False)\n",
              "        (bn3): BatchNorm2d(1024, eps=1e-05, momentum=0.1, affine=True, track_running_stats=True)\n",
              "        (relu): ReLU(inplace=True)\n",
              "      )\n",
              "      (2): Bottleneck(\n",
              "        (conv1): Conv2d(1024, 256, kernel_size=(1, 1), stride=(1, 1), bias=False)\n",
              "        (bn1): BatchNorm2d(256, eps=1e-05, momentum=0.1, affine=True, track_running_stats=True)\n",
              "        (conv2): Conv2d(256, 256, kernel_size=(3, 3), stride=(1, 1), padding=(1, 1), bias=False)\n",
              "        (bn2): BatchNorm2d(256, eps=1e-05, momentum=0.1, affine=True, track_running_stats=True)\n",
              "        (conv3): Conv2d(256, 1024, kernel_size=(1, 1), stride=(1, 1), bias=False)\n",
              "        (bn3): BatchNorm2d(1024, eps=1e-05, momentum=0.1, affine=True, track_running_stats=True)\n",
              "        (relu): ReLU(inplace=True)\n",
              "      )\n",
              "      (3): Bottleneck(\n",
              "        (conv1): Conv2d(1024, 256, kernel_size=(1, 1), stride=(1, 1), bias=False)\n",
              "        (bn1): BatchNorm2d(256, eps=1e-05, momentum=0.1, affine=True, track_running_stats=True)\n",
              "        (conv2): Conv2d(256, 256, kernel_size=(3, 3), stride=(1, 1), padding=(1, 1), bias=False)\n",
              "        (bn2): BatchNorm2d(256, eps=1e-05, momentum=0.1, affine=True, track_running_stats=True)\n",
              "        (conv3): Conv2d(256, 1024, kernel_size=(1, 1), stride=(1, 1), bias=False)\n",
              "        (bn3): BatchNorm2d(1024, eps=1e-05, momentum=0.1, affine=True, track_running_stats=True)\n",
              "        (relu): ReLU(inplace=True)\n",
              "      )\n",
              "      (4): Bottleneck(\n",
              "        (conv1): Conv2d(1024, 256, kernel_size=(1, 1), stride=(1, 1), bias=False)\n",
              "        (bn1): BatchNorm2d(256, eps=1e-05, momentum=0.1, affine=True, track_running_stats=True)\n",
              "        (conv2): Conv2d(256, 256, kernel_size=(3, 3), stride=(1, 1), padding=(1, 1), bias=False)\n",
              "        (bn2): BatchNorm2d(256, eps=1e-05, momentum=0.1, affine=True, track_running_stats=True)\n",
              "        (conv3): Conv2d(256, 1024, kernel_size=(1, 1), stride=(1, 1), bias=False)\n",
              "        (bn3): BatchNorm2d(1024, eps=1e-05, momentum=0.1, affine=True, track_running_stats=True)\n",
              "        (relu): ReLU(inplace=True)\n",
              "      )\n",
              "      (5): Bottleneck(\n",
              "        (conv1): Conv2d(1024, 256, kernel_size=(1, 1), stride=(1, 1), bias=False)\n",
              "        (bn1): BatchNorm2d(256, eps=1e-05, momentum=0.1, affine=True, track_running_stats=True)\n",
              "        (conv2): Conv2d(256, 256, kernel_size=(3, 3), stride=(1, 1), padding=(1, 1), bias=False)\n",
              "        (bn2): BatchNorm2d(256, eps=1e-05, momentum=0.1, affine=True, track_running_stats=True)\n",
              "        (conv3): Conv2d(256, 1024, kernel_size=(1, 1), stride=(1, 1), bias=False)\n",
              "        (bn3): BatchNorm2d(1024, eps=1e-05, momentum=0.1, affine=True, track_running_stats=True)\n",
              "        (relu): ReLU(inplace=True)\n",
              "      )\n",
              "    )\n",
              "    (7): Sequential(\n",
              "      (0): Bottleneck(\n",
              "        (conv1): Conv2d(1024, 512, kernel_size=(1, 1), stride=(1, 1), bias=False)\n",
              "        (bn1): BatchNorm2d(512, eps=1e-05, momentum=0.1, affine=True, track_running_stats=True)\n",
              "        (conv2): Conv2d(512, 512, kernel_size=(3, 3), stride=(2, 2), padding=(1, 1), bias=False)\n",
              "        (bn2): BatchNorm2d(512, eps=1e-05, momentum=0.1, affine=True, track_running_stats=True)\n",
              "        (conv3): Conv2d(512, 2048, kernel_size=(1, 1), stride=(1, 1), bias=False)\n",
              "        (bn3): BatchNorm2d(2048, eps=1e-05, momentum=0.1, affine=True, track_running_stats=True)\n",
              "        (relu): ReLU(inplace=True)\n",
              "        (downsample): Sequential(\n",
              "          (0): Conv2d(1024, 2048, kernel_size=(1, 1), stride=(2, 2), bias=False)\n",
              "          (1): BatchNorm2d(2048, eps=1e-05, momentum=0.1, affine=True, track_running_stats=True)\n",
              "        )\n",
              "      )\n",
              "      (1): Bottleneck(\n",
              "        (conv1): Conv2d(2048, 512, kernel_size=(1, 1), stride=(1, 1), bias=False)\n",
              "        (bn1): BatchNorm2d(512, eps=1e-05, momentum=0.1, affine=True, track_running_stats=True)\n",
              "        (conv2): Conv2d(512, 512, kernel_size=(3, 3), stride=(1, 1), padding=(1, 1), bias=False)\n",
              "        (bn2): BatchNorm2d(512, eps=1e-05, momentum=0.1, affine=True, track_running_stats=True)\n",
              "        (conv3): Conv2d(512, 2048, kernel_size=(1, 1), stride=(1, 1), bias=False)\n",
              "        (bn3): BatchNorm2d(2048, eps=1e-05, momentum=0.1, affine=True, track_running_stats=True)\n",
              "        (relu): ReLU(inplace=True)\n",
              "      )\n",
              "      (2): Bottleneck(\n",
              "        (conv1): Conv2d(2048, 512, kernel_size=(1, 1), stride=(1, 1), bias=False)\n",
              "        (bn1): BatchNorm2d(512, eps=1e-05, momentum=0.1, affine=True, track_running_stats=True)\n",
              "        (conv2): Conv2d(512, 512, kernel_size=(3, 3), stride=(1, 1), padding=(1, 1), bias=False)\n",
              "        (bn2): BatchNorm2d(512, eps=1e-05, momentum=0.1, affine=True, track_running_stats=True)\n",
              "        (conv3): Conv2d(512, 2048, kernel_size=(1, 1), stride=(1, 1), bias=False)\n",
              "        (bn3): BatchNorm2d(2048, eps=1e-05, momentum=0.1, affine=True, track_running_stats=True)\n",
              "        (relu): ReLU(inplace=True)\n",
              "      )\n",
              "    )\n",
              "    (8): AdaptiveAvgPool2d(output_size=(1, 1))\n",
              "  )\n",
              "  (classification): Sequential(\n",
              "    (0): Linear(in_features=2048, out_features=1024, bias=True)\n",
              "    (1): ReLU()\n",
              "    (2): Linear(in_features=1024, out_features=512, bias=True)\n",
              "    (3): ReLU()\n",
              "    (4): Linear(in_features=512, out_features=256, bias=True)\n",
              "    (5): ReLU()\n",
              "    (6): Dropout(p=0.3, inplace=False)\n",
              "    (7): Linear(in_features=256, out_features=3, bias=True)\n",
              "  )\n",
              "  (regression): Sequential(\n",
              "    (0): Linear(in_features=2048, out_features=1024, bias=True)\n",
              "    (1): ReLU()\n",
              "    (2): Linear(in_features=1024, out_features=512, bias=True)\n",
              "    (3): ReLU()\n",
              "    (4): Linear(in_features=512, out_features=256, bias=True)\n",
              "    (5): ReLU()\n",
              "    (6): Linear(in_features=256, out_features=4, bias=True)\n",
              "  )\n",
              ")"
            ]
          },
          "metadata": {},
          "execution_count": 61
        }
      ]
    },
    {
      "cell_type": "code",
      "source": [
        "def predict_image(img, model):\n",
        "    xb = img.unsqueeze(0).to(device)\n",
        "    yb, boxes = model(xb)\n",
        "    _, preds  = torch.max(yb, dim=1)\n",
        "    print(preds[0])\n",
        "    print(boxes[0].tolist())\n",
        "    return preds[0].item(), boxes[0].tolist()"
      ],
      "metadata": {
        "id": "iyQB3DhtxKNV"
      },
      "execution_count": 62,
      "outputs": []
    },
    {
      "cell_type": "code",
      "source": [
        "labels_map = {\n",
        "    0: \"horse\",\n",
        "    1: \"human_body\",\n",
        "    2: \"knife\"\n",
        "}"
      ],
      "metadata": {
        "id": "M4fd2yLixMZk"
      },
      "execution_count": 63,
      "outputs": []
    },
    {
      "cell_type": "code",
      "source": [
        "transform_test = transforms.Compose([\n",
        "      transforms.Normalize(mean=(0.485, 0.456, 0.406), std=(0.229, 0.224, 0.225))\n",
        "  ])\n",
        "\n",
        "test_dataset = CustomImageDataset(\"/content/drive/My Drive/filtered_data/\", \"test\", transform=transform_test)"
      ],
      "metadata": {
        "id": "ss8okgu4E18w"
      },
      "execution_count": 64,
      "outputs": []
    },
    {
      "cell_type": "code",
      "source": [
        "def show_results(idx):\n",
        "  img, label, boxes = test_dataset[idx]\n",
        "  print(boxes)\n",
        "  fig = plt.imshow(img[0])\n",
        "  fig.axes.add_patch(d2l.plt.Rectangle(xy=(boxes[0], boxes[1]), width=boxes[2]-boxes[0], height=boxes[3]-boxes[1],\n",
        "          fill=False, edgecolor='blue', linewidth=2))\n",
        "\n",
        "  pred_label, pred_boxes = predict_image(img, model)\n",
        "  fig.axes.add_patch(d2l.plt.Rectangle(xy=(pred_boxes[0], pred_boxes[1]), width=pred_boxes[2]-pred_boxes[0], height=pred_boxes[3]-pred_boxes[1],\n",
        "          fill=False, edgecolor='red', linewidth=2))\n",
        "\n",
        "  print(\"Label is: \" + labels_map[label], ', Predicted:', labels_map[pred_label])"
      ],
      "metadata": {
        "id": "IrHVkPFwd_Yq"
      },
      "execution_count": 65,
      "outputs": []
    },
    {
      "cell_type": "code",
      "source": [
        "show_results(1898)"
      ],
      "metadata": {
        "colab": {
          "base_uri": "https://localhost:8080/",
          "height": 427
        },
        "id": "5vvh6NZ-xN2-",
        "outputId": "0f53ee74-a184-4b66-f8b1-bdbf33701143"
      },
      "execution_count": 66,
      "outputs": [
        {
          "output_type": "stream",
          "name": "stdout",
          "text": [
            "tensor([ 16.1733,  32.3466, 199.7401, 197.3141])\n",
            "tensor(2, device='cuda:0')\n",
            "[5.274456024169922, 24.190248489379883, 182.50668334960938, 189.6781768798828]\n",
            "Label is: knife , Predicted: knife\n"
          ]
        },
        {
          "output_type": "display_data",
          "data": {
            "text/plain": [
              "<Figure size 432x288 with 1 Axes>"
            ],
            "image/svg+xml": "<?xml version=\"1.0\" encoding=\"utf-8\" standalone=\"no\"?>\n<!DOCTYPE svg PUBLIC \"-//W3C//DTD SVG 1.1//EN\"\n  \"http://www.w3.org/Graphics/SVG/1.1/DTD/svg11.dtd\">\n<!-- Created with matplotlib (https://matplotlib.org/) -->\n<svg height=\"252.018125pt\" version=\"1.1\" viewBox=\"0 0 261.4275 252.018125\" width=\"261.4275pt\" xmlns=\"http://www.w3.org/2000/svg\" xmlns:xlink=\"http://www.w3.org/1999/xlink\">\n <defs>\n  <style type=\"text/css\">\n*{stroke-linecap:butt;stroke-linejoin:round;}\n  </style>\n </defs>\n <g id=\"figure_1\">\n  <g id=\"patch_1\">\n   <path d=\"M 0 252.018125 \nL 261.4275 252.018125 \nL 261.4275 0 \nL 0 0 \nz\n\" style=\"fill:none;\"/>\n  </g>\n  <g id=\"axes_1\">\n   <g id=\"patch_2\">\n    <path d=\"M 33.2875 228.14 \nL 250.7275 228.14 \nL 250.7275 10.7 \nL 33.2875 10.7 \nz\n\" style=\"fill:#ffffff;\"/>\n   </g>\n   <g clip-path=\"url(#p8db50320db)\">\n    <image height=\"218\" id=\"imagef94e9f439c\" transform=\"scale(1 -1)translate(0 -218)\" width=\"218\" x=\"33.2875\" xlink:href=\"data:image/png;base64,\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\" y=\"-10.14\"/>\n   </g>\n   <g id=\"patch_3\">\n    <path clip-path=\"url(#p8db50320db)\" d=\"M 49.472497 42.584638 \nL 227.663378 42.584638 \nL 227.663378 202.720945 \nL 49.472497 202.720945 \nz\n\" style=\"fill:none;stroke:#0000ff;stroke-linejoin:miter;stroke-width:2;\"/>\n   </g>\n   <g id=\"patch_4\">\n    <path clip-path=\"url(#p8db50320db)\" d=\"M 38.892847 34.667177 \nL 210.934702 34.667177 \nL 210.934702 195.308673 \nL 38.892847 195.308673 \nz\n\" style=\"fill:none;stroke:#ff0000;stroke-linejoin:miter;stroke-width:2;\"/>\n   </g>\n   <g id=\"matplotlib.axis_1\">\n    <g id=\"xtick_1\">\n     <g id=\"line2d_1\">\n      <defs>\n       <path d=\"M 0 0 \nL 0 3.5 \n\" id=\"m3df9ba4462\" style=\"stroke:#000000;stroke-width:0.8;\"/>\n      </defs>\n      <g>\n       <use style=\"stroke:#000000;stroke-width:0.8;\" x=\"33.772857\" xlink:href=\"#m3df9ba4462\" y=\"228.14\"/>\n      </g>\n     </g>\n     <g id=\"text_1\">\n      <!-- 0 -->\n      <defs>\n       <path d=\"M 31.78125 66.40625 \nQ 24.171875 66.40625 20.328125 58.90625 \nQ 16.5 51.421875 16.5 36.375 \nQ 16.5 21.390625 20.328125 13.890625 \nQ 24.171875 6.390625 31.78125 6.390625 \nQ 39.453125 6.390625 43.28125 13.890625 \nQ 47.125 21.390625 47.125 36.375 \nQ 47.125 51.421875 43.28125 58.90625 \nQ 39.453125 66.40625 31.78125 66.40625 \nz\nM 31.78125 74.21875 \nQ 44.046875 74.21875 50.515625 64.515625 \nQ 56.984375 54.828125 56.984375 36.375 \nQ 56.984375 17.96875 50.515625 8.265625 \nQ 44.046875 -1.421875 31.78125 -1.421875 \nQ 19.53125 -1.421875 13.0625 8.265625 \nQ 6.59375 17.96875 6.59375 36.375 \nQ 6.59375 54.828125 13.0625 64.515625 \nQ 19.53125 74.21875 31.78125 74.21875 \nz\n\" id=\"DejaVuSans-48\"/>\n      </defs>\n      <g transform=\"translate(30.591607 242.738437)scale(0.1 -0.1)\">\n       <use xlink:href=\"#DejaVuSans-48\"/>\n      </g>\n     </g>\n    </g>\n    <g id=\"xtick_2\">\n     <g id=\"line2d_2\">\n      <g>\n       <use style=\"stroke:#000000;stroke-width:0.8;\" x=\"82.308571\" xlink:href=\"#m3df9ba4462\" y=\"228.14\"/>\n      </g>\n     </g>\n     <g id=\"text_2\">\n      <!-- 50 -->\n      <defs>\n       <path d=\"M 10.796875 72.90625 \nL 49.515625 72.90625 \nL 49.515625 64.59375 \nL 19.828125 64.59375 \nL 19.828125 46.734375 \nQ 21.96875 47.46875 24.109375 47.828125 \nQ 26.265625 48.1875 28.421875 48.1875 \nQ 40.625 48.1875 47.75 41.5 \nQ 54.890625 34.8125 54.890625 23.390625 \nQ 54.890625 11.625 47.5625 5.09375 \nQ 40.234375 -1.421875 26.90625 -1.421875 \nQ 22.3125 -1.421875 17.546875 -0.640625 \nQ 12.796875 0.140625 7.71875 1.703125 \nL 7.71875 11.625 \nQ 12.109375 9.234375 16.796875 8.0625 \nQ 21.484375 6.890625 26.703125 6.890625 \nQ 35.15625 6.890625 40.078125 11.328125 \nQ 45.015625 15.765625 45.015625 23.390625 \nQ 45.015625 31 40.078125 35.4375 \nQ 35.15625 39.890625 26.703125 39.890625 \nQ 22.75 39.890625 18.8125 39.015625 \nQ 14.890625 38.140625 10.796875 36.28125 \nz\n\" id=\"DejaVuSans-53\"/>\n      </defs>\n      <g transform=\"translate(75.946071 242.738437)scale(0.1 -0.1)\">\n       <use xlink:href=\"#DejaVuSans-53\"/>\n       <use x=\"63.623047\" xlink:href=\"#DejaVuSans-48\"/>\n      </g>\n     </g>\n    </g>\n    <g id=\"xtick_3\">\n     <g id=\"line2d_3\">\n      <g>\n       <use style=\"stroke:#000000;stroke-width:0.8;\" x=\"130.844286\" xlink:href=\"#m3df9ba4462\" y=\"228.14\"/>\n      </g>\n     </g>\n     <g id=\"text_3\">\n      <!-- 100 -->\n      <defs>\n       <path d=\"M 12.40625 8.296875 \nL 28.515625 8.296875 \nL 28.515625 63.921875 \nL 10.984375 60.40625 \nL 10.984375 69.390625 \nL 28.421875 72.90625 \nL 38.28125 72.90625 \nL 38.28125 8.296875 \nL 54.390625 8.296875 \nL 54.390625 0 \nL 12.40625 0 \nz\n\" id=\"DejaVuSans-49\"/>\n      </defs>\n      <g transform=\"translate(121.300536 242.738437)scale(0.1 -0.1)\">\n       <use xlink:href=\"#DejaVuSans-49\"/>\n       <use x=\"63.623047\" xlink:href=\"#DejaVuSans-48\"/>\n       <use x=\"127.246094\" xlink:href=\"#DejaVuSans-48\"/>\n      </g>\n     </g>\n    </g>\n    <g id=\"xtick_4\">\n     <g id=\"line2d_4\">\n      <g>\n       <use style=\"stroke:#000000;stroke-width:0.8;\" x=\"179.38\" xlink:href=\"#m3df9ba4462\" y=\"228.14\"/>\n      </g>\n     </g>\n     <g id=\"text_4\">\n      <!-- 150 -->\n      <g transform=\"translate(169.83625 242.738437)scale(0.1 -0.1)\">\n       <use xlink:href=\"#DejaVuSans-49\"/>\n       <use x=\"63.623047\" xlink:href=\"#DejaVuSans-53\"/>\n       <use x=\"127.246094\" xlink:href=\"#DejaVuSans-48\"/>\n      </g>\n     </g>\n    </g>\n    <g id=\"xtick_5\">\n     <g id=\"line2d_5\">\n      <g>\n       <use style=\"stroke:#000000;stroke-width:0.8;\" x=\"227.915714\" xlink:href=\"#m3df9ba4462\" y=\"228.14\"/>\n      </g>\n     </g>\n     <g id=\"text_5\">\n      <!-- 200 -->\n      <defs>\n       <path d=\"M 19.1875 8.296875 \nL 53.609375 8.296875 \nL 53.609375 0 \nL 7.328125 0 \nL 7.328125 8.296875 \nQ 12.9375 14.109375 22.625 23.890625 \nQ 32.328125 33.6875 34.8125 36.53125 \nQ 39.546875 41.84375 41.421875 45.53125 \nQ 43.3125 49.21875 43.3125 52.78125 \nQ 43.3125 58.59375 39.234375 62.25 \nQ 35.15625 65.921875 28.609375 65.921875 \nQ 23.96875 65.921875 18.8125 64.3125 \nQ 13.671875 62.703125 7.8125 59.421875 \nL 7.8125 69.390625 \nQ 13.765625 71.78125 18.9375 73 \nQ 24.125 74.21875 28.421875 74.21875 \nQ 39.75 74.21875 46.484375 68.546875 \nQ 53.21875 62.890625 53.21875 53.421875 \nQ 53.21875 48.921875 51.53125 44.890625 \nQ 49.859375 40.875 45.40625 35.40625 \nQ 44.1875 33.984375 37.640625 27.21875 \nQ 31.109375 20.453125 19.1875 8.296875 \nz\n\" id=\"DejaVuSans-50\"/>\n      </defs>\n      <g transform=\"translate(218.371964 242.738437)scale(0.1 -0.1)\">\n       <use xlink:href=\"#DejaVuSans-50\"/>\n       <use x=\"63.623047\" xlink:href=\"#DejaVuSans-48\"/>\n       <use x=\"127.246094\" xlink:href=\"#DejaVuSans-48\"/>\n      </g>\n     </g>\n    </g>\n   </g>\n   <g id=\"matplotlib.axis_2\">\n    <g id=\"ytick_1\">\n     <g id=\"line2d_6\">\n      <defs>\n       <path d=\"M 0 0 \nL -3.5 0 \n\" id=\"mf6b89c0d86\" style=\"stroke:#000000;stroke-width:0.8;\"/>\n      </defs>\n      <g>\n       <use style=\"stroke:#000000;stroke-width:0.8;\" x=\"33.2875\" xlink:href=\"#mf6b89c0d86\" y=\"11.185357\"/>\n      </g>\n     </g>\n     <g id=\"text_6\">\n      <!-- 0 -->\n      <g transform=\"translate(19.925 14.984576)scale(0.1 -0.1)\">\n       <use xlink:href=\"#DejaVuSans-48\"/>\n      </g>\n     </g>\n    </g>\n    <g id=\"ytick_2\">\n     <g id=\"line2d_7\">\n      <g>\n       <use style=\"stroke:#000000;stroke-width:0.8;\" x=\"33.2875\" xlink:href=\"#mf6b89c0d86\" y=\"35.453214\"/>\n      </g>\n     </g>\n     <g id=\"text_7\">\n      <!-- 25 -->\n      <g transform=\"translate(13.5625 39.252433)scale(0.1 -0.1)\">\n       <use xlink:href=\"#DejaVuSans-50\"/>\n       <use x=\"63.623047\" xlink:href=\"#DejaVuSans-53\"/>\n      </g>\n     </g>\n    </g>\n    <g id=\"ytick_3\">\n     <g id=\"line2d_8\">\n      <g>\n       <use style=\"stroke:#000000;stroke-width:0.8;\" x=\"33.2875\" xlink:href=\"#mf6b89c0d86\" y=\"59.721071\"/>\n      </g>\n     </g>\n     <g id=\"text_8\">\n      <!-- 50 -->\n      <g transform=\"translate(13.5625 63.52029)scale(0.1 -0.1)\">\n       <use xlink:href=\"#DejaVuSans-53\"/>\n       <use x=\"63.623047\" xlink:href=\"#DejaVuSans-48\"/>\n      </g>\n     </g>\n    </g>\n    <g id=\"ytick_4\">\n     <g id=\"line2d_9\">\n      <g>\n       <use style=\"stroke:#000000;stroke-width:0.8;\" x=\"33.2875\" xlink:href=\"#mf6b89c0d86\" y=\"83.988929\"/>\n      </g>\n     </g>\n     <g id=\"text_9\">\n      <!-- 75 -->\n      <defs>\n       <path d=\"M 8.203125 72.90625 \nL 55.078125 72.90625 \nL 55.078125 68.703125 \nL 28.609375 0 \nL 18.3125 0 \nL 43.21875 64.59375 \nL 8.203125 64.59375 \nz\n\" id=\"DejaVuSans-55\"/>\n      </defs>\n      <g transform=\"translate(13.5625 87.788147)scale(0.1 -0.1)\">\n       <use xlink:href=\"#DejaVuSans-55\"/>\n       <use x=\"63.623047\" xlink:href=\"#DejaVuSans-53\"/>\n      </g>\n     </g>\n    </g>\n    <g id=\"ytick_5\">\n     <g id=\"line2d_10\">\n      <g>\n       <use style=\"stroke:#000000;stroke-width:0.8;\" x=\"33.2875\" xlink:href=\"#mf6b89c0d86\" y=\"108.256786\"/>\n      </g>\n     </g>\n     <g id=\"text_10\">\n      <!-- 100 -->\n      <g transform=\"translate(7.2 112.056004)scale(0.1 -0.1)\">\n       <use xlink:href=\"#DejaVuSans-49\"/>\n       <use x=\"63.623047\" xlink:href=\"#DejaVuSans-48\"/>\n       <use x=\"127.246094\" xlink:href=\"#DejaVuSans-48\"/>\n      </g>\n     </g>\n    </g>\n    <g id=\"ytick_6\">\n     <g id=\"line2d_11\">\n      <g>\n       <use style=\"stroke:#000000;stroke-width:0.8;\" x=\"33.2875\" xlink:href=\"#mf6b89c0d86\" y=\"132.524643\"/>\n      </g>\n     </g>\n     <g id=\"text_11\">\n      <!-- 125 -->\n      <g transform=\"translate(7.2 136.323862)scale(0.1 -0.1)\">\n       <use xlink:href=\"#DejaVuSans-49\"/>\n       <use x=\"63.623047\" xlink:href=\"#DejaVuSans-50\"/>\n       <use x=\"127.246094\" xlink:href=\"#DejaVuSans-53\"/>\n      </g>\n     </g>\n    </g>\n    <g id=\"ytick_7\">\n     <g id=\"line2d_12\">\n      <g>\n       <use style=\"stroke:#000000;stroke-width:0.8;\" x=\"33.2875\" xlink:href=\"#mf6b89c0d86\" y=\"156.7925\"/>\n      </g>\n     </g>\n     <g id=\"text_12\">\n      <!-- 150 -->\n      <g transform=\"translate(7.2 160.591719)scale(0.1 -0.1)\">\n       <use xlink:href=\"#DejaVuSans-49\"/>\n       <use x=\"63.623047\" xlink:href=\"#DejaVuSans-53\"/>\n       <use x=\"127.246094\" xlink:href=\"#DejaVuSans-48\"/>\n      </g>\n     </g>\n    </g>\n    <g id=\"ytick_8\">\n     <g id=\"line2d_13\">\n      <g>\n       <use style=\"stroke:#000000;stroke-width:0.8;\" x=\"33.2875\" xlink:href=\"#mf6b89c0d86\" y=\"181.060357\"/>\n      </g>\n     </g>\n     <g id=\"text_13\">\n      <!-- 175 -->\n      <g transform=\"translate(7.2 184.859576)scale(0.1 -0.1)\">\n       <use xlink:href=\"#DejaVuSans-49\"/>\n       <use x=\"63.623047\" xlink:href=\"#DejaVuSans-55\"/>\n       <use x=\"127.246094\" xlink:href=\"#DejaVuSans-53\"/>\n      </g>\n     </g>\n    </g>\n    <g id=\"ytick_9\">\n     <g id=\"line2d_14\">\n      <g>\n       <use style=\"stroke:#000000;stroke-width:0.8;\" x=\"33.2875\" xlink:href=\"#mf6b89c0d86\" y=\"205.328214\"/>\n      </g>\n     </g>\n     <g id=\"text_14\">\n      <!-- 200 -->\n      <g transform=\"translate(7.2 209.127433)scale(0.1 -0.1)\">\n       <use xlink:href=\"#DejaVuSans-50\"/>\n       <use x=\"63.623047\" xlink:href=\"#DejaVuSans-48\"/>\n       <use x=\"127.246094\" xlink:href=\"#DejaVuSans-48\"/>\n      </g>\n     </g>\n    </g>\n   </g>\n   <g id=\"patch_5\">\n    <path d=\"M 33.2875 228.14 \nL 33.2875 10.7 \n\" style=\"fill:none;stroke:#000000;stroke-linecap:square;stroke-linejoin:miter;stroke-width:0.8;\"/>\n   </g>\n   <g id=\"patch_6\">\n    <path d=\"M 250.7275 228.14 \nL 250.7275 10.7 \n\" style=\"fill:none;stroke:#000000;stroke-linecap:square;stroke-linejoin:miter;stroke-width:0.8;\"/>\n   </g>\n   <g id=\"patch_7\">\n    <path d=\"M 33.2875 228.14 \nL 250.7275 228.14 \n\" style=\"fill:none;stroke:#000000;stroke-linecap:square;stroke-linejoin:miter;stroke-width:0.8;\"/>\n   </g>\n   <g id=\"patch_8\">\n    <path d=\"M 33.2875 10.7 \nL 250.7275 10.7 \n\" style=\"fill:none;stroke:#000000;stroke-linecap:square;stroke-linejoin:miter;stroke-width:0.8;\"/>\n   </g>\n  </g>\n </g>\n <defs>\n  <clipPath id=\"p8db50320db\">\n   <rect height=\"217.44\" width=\"217.44\" x=\"33.2875\" y=\"10.7\"/>\n  </clipPath>\n </defs>\n</svg>\n"
          },
          "metadata": {
            "needs_background": "light"
          }
        }
      ]
    },
    {
      "cell_type": "code",
      "source": [
        "show_results(950)"
      ],
      "metadata": {
        "colab": {
          "base_uri": "https://localhost:8080/",
          "height": 427
        },
        "id": "1yxOFvkgeK0g",
        "outputId": "0a26659f-2da0-4ffd-ff14-50ae7f9c910b"
      },
      "execution_count": 73,
      "outputs": [
        {
          "output_type": "stream",
          "name": "stdout",
          "text": [
            "tensor([ 72.8000,  24.7333, 156.8000, 201.1333])\n",
            "tensor(1, device='cuda:0')\n",
            "[69.05805969238281, 45.632564544677734, 168.424072265625, 189.72457885742188]\n",
            "Label is: human_body , Predicted: human_body\n"
          ]
        },
        {
          "output_type": "display_data",
          "data": {
            "text/plain": [
              "<Figure size 432x288 with 1 Axes>"
            ],
            "image/svg+xml": "<?xml version=\"1.0\" encoding=\"utf-8\" standalone=\"no\"?>\n<!DOCTYPE svg PUBLIC \"-//W3C//DTD SVG 1.1//EN\"\n  \"http://www.w3.org/Graphics/SVG/1.1/DTD/svg11.dtd\">\n<!-- Created with matplotlib (https://matplotlib.org/) -->\n<svg height=\"252.018125pt\" version=\"1.1\" viewBox=\"0 0 261.4275 252.018125\" width=\"261.4275pt\" xmlns=\"http://www.w3.org/2000/svg\" xmlns:xlink=\"http://www.w3.org/1999/xlink\">\n <defs>\n  <style type=\"text/css\">\n*{stroke-linecap:butt;stroke-linejoin:round;}\n  </style>\n </defs>\n <g id=\"figure_1\">\n  <g id=\"patch_1\">\n   <path d=\"M 0 252.018125 \nL 261.4275 252.018125 \nL 261.4275 0 \nL 0 0 \nz\n\" style=\"fill:none;\"/>\n  </g>\n  <g id=\"axes_1\">\n   <g id=\"patch_2\">\n    <path d=\"M 33.2875 228.14 \nL 250.7275 228.14 \nL 250.7275 10.7 \nL 33.2875 10.7 \nz\n\" style=\"fill:#ffffff;\"/>\n   </g>\n   <g clip-path=\"url(#pabd9bb066e)\">\n    <image height=\"218\" id=\"image87f9914209\" transform=\"scale(1 -1)translate(0 -218)\" width=\"218\" x=\"33.2875\" xlink:href=\"data:image/png;base64,\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\" y=\"-10.14\"/>\n   </g>\n   <g id=\"patch_3\">\n    <path clip-path=\"url(#pabd9bb066e)\" d=\"M 104.44086 35.194357 \nL 185.98086 35.194357 \nL 185.98086 206.42837 \nL 104.44086 206.42837 \nz\n\" style=\"fill:none;stroke:#0000ff;stroke-linejoin:miter;stroke-width:2;\"/>\n   </g>\n   <g id=\"patch_4\">\n    <path clip-path=\"url(#pabd9bb066e)\" d=\"M 100.808502 55.481539 \nL 197.26451 55.481539 \nL 197.26451 195.353716 \nL 100.808502 195.353716 \nz\n\" style=\"fill:none;stroke:#ff0000;stroke-linejoin:miter;stroke-width:2;\"/>\n   </g>\n   <g id=\"matplotlib.axis_1\">\n    <g id=\"xtick_1\">\n     <g id=\"line2d_1\">\n      <defs>\n       <path d=\"M 0 0 \nL 0 3.5 \n\" id=\"mf45b6c681e\" style=\"stroke:#000000;stroke-width:0.8;\"/>\n      </defs>\n      <g>\n       <use style=\"stroke:#000000;stroke-width:0.8;\" x=\"33.772857\" xlink:href=\"#mf45b6c681e\" y=\"228.14\"/>\n      </g>\n     </g>\n     <g id=\"text_1\">\n      <!-- 0 -->\n      <defs>\n       <path d=\"M 31.78125 66.40625 \nQ 24.171875 66.40625 20.328125 58.90625 \nQ 16.5 51.421875 16.5 36.375 \nQ 16.5 21.390625 20.328125 13.890625 \nQ 24.171875 6.390625 31.78125 6.390625 \nQ 39.453125 6.390625 43.28125 13.890625 \nQ 47.125 21.390625 47.125 36.375 \nQ 47.125 51.421875 43.28125 58.90625 \nQ 39.453125 66.40625 31.78125 66.40625 \nz\nM 31.78125 74.21875 \nQ 44.046875 74.21875 50.515625 64.515625 \nQ 56.984375 54.828125 56.984375 36.375 \nQ 56.984375 17.96875 50.515625 8.265625 \nQ 44.046875 -1.421875 31.78125 -1.421875 \nQ 19.53125 -1.421875 13.0625 8.265625 \nQ 6.59375 17.96875 6.59375 36.375 \nQ 6.59375 54.828125 13.0625 64.515625 \nQ 19.53125 74.21875 31.78125 74.21875 \nz\n\" id=\"DejaVuSans-48\"/>\n      </defs>\n      <g transform=\"translate(30.591607 242.738437)scale(0.1 -0.1)\">\n       <use xlink:href=\"#DejaVuSans-48\"/>\n      </g>\n     </g>\n    </g>\n    <g id=\"xtick_2\">\n     <g id=\"line2d_2\">\n      <g>\n       <use style=\"stroke:#000000;stroke-width:0.8;\" x=\"82.308571\" xlink:href=\"#mf45b6c681e\" y=\"228.14\"/>\n      </g>\n     </g>\n     <g id=\"text_2\">\n      <!-- 50 -->\n      <defs>\n       <path d=\"M 10.796875 72.90625 \nL 49.515625 72.90625 \nL 49.515625 64.59375 \nL 19.828125 64.59375 \nL 19.828125 46.734375 \nQ 21.96875 47.46875 24.109375 47.828125 \nQ 26.265625 48.1875 28.421875 48.1875 \nQ 40.625 48.1875 47.75 41.5 \nQ 54.890625 34.8125 54.890625 23.390625 \nQ 54.890625 11.625 47.5625 5.09375 \nQ 40.234375 -1.421875 26.90625 -1.421875 \nQ 22.3125 -1.421875 17.546875 -0.640625 \nQ 12.796875 0.140625 7.71875 1.703125 \nL 7.71875 11.625 \nQ 12.109375 9.234375 16.796875 8.0625 \nQ 21.484375 6.890625 26.703125 6.890625 \nQ 35.15625 6.890625 40.078125 11.328125 \nQ 45.015625 15.765625 45.015625 23.390625 \nQ 45.015625 31 40.078125 35.4375 \nQ 35.15625 39.890625 26.703125 39.890625 \nQ 22.75 39.890625 18.8125 39.015625 \nQ 14.890625 38.140625 10.796875 36.28125 \nz\n\" id=\"DejaVuSans-53\"/>\n      </defs>\n      <g transform=\"translate(75.946071 242.738437)scale(0.1 -0.1)\">\n       <use xlink:href=\"#DejaVuSans-53\"/>\n       <use x=\"63.623047\" xlink:href=\"#DejaVuSans-48\"/>\n      </g>\n     </g>\n    </g>\n    <g id=\"xtick_3\">\n     <g id=\"line2d_3\">\n      <g>\n       <use style=\"stroke:#000000;stroke-width:0.8;\" x=\"130.844286\" xlink:href=\"#mf45b6c681e\" y=\"228.14\"/>\n      </g>\n     </g>\n     <g id=\"text_3\">\n      <!-- 100 -->\n      <defs>\n       <path d=\"M 12.40625 8.296875 \nL 28.515625 8.296875 \nL 28.515625 63.921875 \nL 10.984375 60.40625 \nL 10.984375 69.390625 \nL 28.421875 72.90625 \nL 38.28125 72.90625 \nL 38.28125 8.296875 \nL 54.390625 8.296875 \nL 54.390625 0 \nL 12.40625 0 \nz\n\" id=\"DejaVuSans-49\"/>\n      </defs>\n      <g transform=\"translate(121.300536 242.738437)scale(0.1 -0.1)\">\n       <use xlink:href=\"#DejaVuSans-49\"/>\n       <use x=\"63.623047\" xlink:href=\"#DejaVuSans-48\"/>\n       <use x=\"127.246094\" xlink:href=\"#DejaVuSans-48\"/>\n      </g>\n     </g>\n    </g>\n    <g id=\"xtick_4\">\n     <g id=\"line2d_4\">\n      <g>\n       <use style=\"stroke:#000000;stroke-width:0.8;\" x=\"179.38\" xlink:href=\"#mf45b6c681e\" y=\"228.14\"/>\n      </g>\n     </g>\n     <g id=\"text_4\">\n      <!-- 150 -->\n      <g transform=\"translate(169.83625 242.738437)scale(0.1 -0.1)\">\n       <use xlink:href=\"#DejaVuSans-49\"/>\n       <use x=\"63.623047\" xlink:href=\"#DejaVuSans-53\"/>\n       <use x=\"127.246094\" xlink:href=\"#DejaVuSans-48\"/>\n      </g>\n     </g>\n    </g>\n    <g id=\"xtick_5\">\n     <g id=\"line2d_5\">\n      <g>\n       <use style=\"stroke:#000000;stroke-width:0.8;\" x=\"227.915714\" xlink:href=\"#mf45b6c681e\" y=\"228.14\"/>\n      </g>\n     </g>\n     <g id=\"text_5\">\n      <!-- 200 -->\n      <defs>\n       <path d=\"M 19.1875 8.296875 \nL 53.609375 8.296875 \nL 53.609375 0 \nL 7.328125 0 \nL 7.328125 8.296875 \nQ 12.9375 14.109375 22.625 23.890625 \nQ 32.328125 33.6875 34.8125 36.53125 \nQ 39.546875 41.84375 41.421875 45.53125 \nQ 43.3125 49.21875 43.3125 52.78125 \nQ 43.3125 58.59375 39.234375 62.25 \nQ 35.15625 65.921875 28.609375 65.921875 \nQ 23.96875 65.921875 18.8125 64.3125 \nQ 13.671875 62.703125 7.8125 59.421875 \nL 7.8125 69.390625 \nQ 13.765625 71.78125 18.9375 73 \nQ 24.125 74.21875 28.421875 74.21875 \nQ 39.75 74.21875 46.484375 68.546875 \nQ 53.21875 62.890625 53.21875 53.421875 \nQ 53.21875 48.921875 51.53125 44.890625 \nQ 49.859375 40.875 45.40625 35.40625 \nQ 44.1875 33.984375 37.640625 27.21875 \nQ 31.109375 20.453125 19.1875 8.296875 \nz\n\" id=\"DejaVuSans-50\"/>\n      </defs>\n      <g transform=\"translate(218.371964 242.738437)scale(0.1 -0.1)\">\n       <use xlink:href=\"#DejaVuSans-50\"/>\n       <use x=\"63.623047\" xlink:href=\"#DejaVuSans-48\"/>\n       <use x=\"127.246094\" xlink:href=\"#DejaVuSans-48\"/>\n      </g>\n     </g>\n    </g>\n   </g>\n   <g id=\"matplotlib.axis_2\">\n    <g id=\"ytick_1\">\n     <g id=\"line2d_6\">\n      <defs>\n       <path d=\"M 0 0 \nL -3.5 0 \n\" id=\"m04fc6741e2\" style=\"stroke:#000000;stroke-width:0.8;\"/>\n      </defs>\n      <g>\n       <use style=\"stroke:#000000;stroke-width:0.8;\" x=\"33.2875\" xlink:href=\"#m04fc6741e2\" y=\"11.185357\"/>\n      </g>\n     </g>\n     <g id=\"text_6\">\n      <!-- 0 -->\n      <g transform=\"translate(19.925 14.984576)scale(0.1 -0.1)\">\n       <use xlink:href=\"#DejaVuSans-48\"/>\n      </g>\n     </g>\n    </g>\n    <g id=\"ytick_2\">\n     <g id=\"line2d_7\">\n      <g>\n       <use style=\"stroke:#000000;stroke-width:0.8;\" x=\"33.2875\" xlink:href=\"#m04fc6741e2\" y=\"35.453214\"/>\n      </g>\n     </g>\n     <g id=\"text_7\">\n      <!-- 25 -->\n      <g transform=\"translate(13.5625 39.252433)scale(0.1 -0.1)\">\n       <use xlink:href=\"#DejaVuSans-50\"/>\n       <use x=\"63.623047\" xlink:href=\"#DejaVuSans-53\"/>\n      </g>\n     </g>\n    </g>\n    <g id=\"ytick_3\">\n     <g id=\"line2d_8\">\n      <g>\n       <use style=\"stroke:#000000;stroke-width:0.8;\" x=\"33.2875\" xlink:href=\"#m04fc6741e2\" y=\"59.721071\"/>\n      </g>\n     </g>\n     <g id=\"text_8\">\n      <!-- 50 -->\n      <g transform=\"translate(13.5625 63.52029)scale(0.1 -0.1)\">\n       <use xlink:href=\"#DejaVuSans-53\"/>\n       <use x=\"63.623047\" xlink:href=\"#DejaVuSans-48\"/>\n      </g>\n     </g>\n    </g>\n    <g id=\"ytick_4\">\n     <g id=\"line2d_9\">\n      <g>\n       <use style=\"stroke:#000000;stroke-width:0.8;\" x=\"33.2875\" xlink:href=\"#m04fc6741e2\" y=\"83.988929\"/>\n      </g>\n     </g>\n     <g id=\"text_9\">\n      <!-- 75 -->\n      <defs>\n       <path d=\"M 8.203125 72.90625 \nL 55.078125 72.90625 \nL 55.078125 68.703125 \nL 28.609375 0 \nL 18.3125 0 \nL 43.21875 64.59375 \nL 8.203125 64.59375 \nz\n\" id=\"DejaVuSans-55\"/>\n      </defs>\n      <g transform=\"translate(13.5625 87.788147)scale(0.1 -0.1)\">\n       <use xlink:href=\"#DejaVuSans-55\"/>\n       <use x=\"63.623047\" xlink:href=\"#DejaVuSans-53\"/>\n      </g>\n     </g>\n    </g>\n    <g id=\"ytick_5\">\n     <g id=\"line2d_10\">\n      <g>\n       <use style=\"stroke:#000000;stroke-width:0.8;\" x=\"33.2875\" xlink:href=\"#m04fc6741e2\" y=\"108.256786\"/>\n      </g>\n     </g>\n     <g id=\"text_10\">\n      <!-- 100 -->\n      <g transform=\"translate(7.2 112.056004)scale(0.1 -0.1)\">\n       <use xlink:href=\"#DejaVuSans-49\"/>\n       <use x=\"63.623047\" xlink:href=\"#DejaVuSans-48\"/>\n       <use x=\"127.246094\" xlink:href=\"#DejaVuSans-48\"/>\n      </g>\n     </g>\n    </g>\n    <g id=\"ytick_6\">\n     <g id=\"line2d_11\">\n      <g>\n       <use style=\"stroke:#000000;stroke-width:0.8;\" x=\"33.2875\" xlink:href=\"#m04fc6741e2\" y=\"132.524643\"/>\n      </g>\n     </g>\n     <g id=\"text_11\">\n      <!-- 125 -->\n      <g transform=\"translate(7.2 136.323862)scale(0.1 -0.1)\">\n       <use xlink:href=\"#DejaVuSans-49\"/>\n       <use x=\"63.623047\" xlink:href=\"#DejaVuSans-50\"/>\n       <use x=\"127.246094\" xlink:href=\"#DejaVuSans-53\"/>\n      </g>\n     </g>\n    </g>\n    <g id=\"ytick_7\">\n     <g id=\"line2d_12\">\n      <g>\n       <use style=\"stroke:#000000;stroke-width:0.8;\" x=\"33.2875\" xlink:href=\"#m04fc6741e2\" y=\"156.7925\"/>\n      </g>\n     </g>\n     <g id=\"text_12\">\n      <!-- 150 -->\n      <g transform=\"translate(7.2 160.591719)scale(0.1 -0.1)\">\n       <use xlink:href=\"#DejaVuSans-49\"/>\n       <use x=\"63.623047\" xlink:href=\"#DejaVuSans-53\"/>\n       <use x=\"127.246094\" xlink:href=\"#DejaVuSans-48\"/>\n      </g>\n     </g>\n    </g>\n    <g id=\"ytick_8\">\n     <g id=\"line2d_13\">\n      <g>\n       <use style=\"stroke:#000000;stroke-width:0.8;\" x=\"33.2875\" xlink:href=\"#m04fc6741e2\" y=\"181.060357\"/>\n      </g>\n     </g>\n     <g id=\"text_13\">\n      <!-- 175 -->\n      <g transform=\"translate(7.2 184.859576)scale(0.1 -0.1)\">\n       <use xlink:href=\"#DejaVuSans-49\"/>\n       <use x=\"63.623047\" xlink:href=\"#DejaVuSans-55\"/>\n       <use x=\"127.246094\" xlink:href=\"#DejaVuSans-53\"/>\n      </g>\n     </g>\n    </g>\n    <g id=\"ytick_9\">\n     <g id=\"line2d_14\">\n      <g>\n       <use style=\"stroke:#000000;stroke-width:0.8;\" x=\"33.2875\" xlink:href=\"#m04fc6741e2\" y=\"205.328214\"/>\n      </g>\n     </g>\n     <g id=\"text_14\">\n      <!-- 200 -->\n      <g transform=\"translate(7.2 209.127433)scale(0.1 -0.1)\">\n       <use xlink:href=\"#DejaVuSans-50\"/>\n       <use x=\"63.623047\" xlink:href=\"#DejaVuSans-48\"/>\n       <use x=\"127.246094\" xlink:href=\"#DejaVuSans-48\"/>\n      </g>\n     </g>\n    </g>\n   </g>\n   <g id=\"patch_5\">\n    <path d=\"M 33.2875 228.14 \nL 33.2875 10.7 \n\" style=\"fill:none;stroke:#000000;stroke-linecap:square;stroke-linejoin:miter;stroke-width:0.8;\"/>\n   </g>\n   <g id=\"patch_6\">\n    <path d=\"M 250.7275 228.14 \nL 250.7275 10.7 \n\" style=\"fill:none;stroke:#000000;stroke-linecap:square;stroke-linejoin:miter;stroke-width:0.8;\"/>\n   </g>\n   <g id=\"patch_7\">\n    <path d=\"M 33.2875 228.14 \nL 250.7275 228.14 \n\" style=\"fill:none;stroke:#000000;stroke-linecap:square;stroke-linejoin:miter;stroke-width:0.8;\"/>\n   </g>\n   <g id=\"patch_8\">\n    <path d=\"M 33.2875 10.7 \nL 250.7275 10.7 \n\" style=\"fill:none;stroke:#000000;stroke-linecap:square;stroke-linejoin:miter;stroke-width:0.8;\"/>\n   </g>\n  </g>\n </g>\n <defs>\n  <clipPath id=\"pabd9bb066e\">\n   <rect height=\"217.44\" width=\"217.44\" x=\"33.2875\" y=\"10.7\"/>\n  </clipPath>\n </defs>\n</svg>\n"
          },
          "metadata": {
            "needs_background": "light"
          }
        }
      ]
    },
    {
      "cell_type": "code",
      "source": [
        "show_results(350)"
      ],
      "metadata": {
        "colab": {
          "base_uri": "https://localhost:8080/",
          "height": 427
        },
        "id": "efdP9QCWeRHA",
        "outputId": "e4971ba6-4e8d-496d-b6a0-34dae9fbe173"
      },
      "execution_count": 75,
      "outputs": [
        {
          "output_type": "stream",
          "name": "stdout",
          "text": [
            "tensor([ 31.9529,  34.7672, 203.5765, 215.5565])\n",
            "tensor(0, device='cuda:0')\n",
            "[40.49333953857422, 39.53852081298828, 178.29713439941406, 195.70346069335938]\n",
            "Label is: horse , Predicted: horse\n"
          ]
        },
        {
          "output_type": "display_data",
          "data": {
            "text/plain": [
              "<Figure size 432x288 with 1 Axes>"
            ],
            "image/svg+xml": "<?xml version=\"1.0\" encoding=\"utf-8\" standalone=\"no\"?>\n<!DOCTYPE svg PUBLIC \"-//W3C//DTD SVG 1.1//EN\"\n  \"http://www.w3.org/Graphics/SVG/1.1/DTD/svg11.dtd\">\n<!-- Created with matplotlib (https://matplotlib.org/) -->\n<svg height=\"252.018125pt\" version=\"1.1\" viewBox=\"0 0 261.4275 252.018125\" width=\"261.4275pt\" xmlns=\"http://www.w3.org/2000/svg\" xmlns:xlink=\"http://www.w3.org/1999/xlink\">\n <defs>\n  <style type=\"text/css\">\n*{stroke-linecap:butt;stroke-linejoin:round;}\n  </style>\n </defs>\n <g id=\"figure_1\">\n  <g id=\"patch_1\">\n   <path d=\"M 0 252.018125 \nL 261.4275 252.018125 \nL 261.4275 0 \nL 0 0 \nz\n\" style=\"fill:none;\"/>\n  </g>\n  <g id=\"axes_1\">\n   <g id=\"patch_2\">\n    <path d=\"M 33.2875 228.14 \nL 250.7275 228.14 \nL 250.7275 10.7 \nL 33.2875 10.7 \nz\n\" style=\"fill:#ffffff;\"/>\n   </g>\n   <g clip-path=\"url(#p0c17502d69)\">\n    <image height=\"218\" id=\"imagefdb8b9a65e\" transform=\"scale(1 -1)translate(0 -218)\" width=\"218\" x=\"33.2875\" xlink:href=\"data:image/png;base64,\niVBORw0KGgoAAAANSUhEUgAAANoAAADaCAYAAADAHVzbAAAABHNCSVQICAgIfAhkiAAAIABJREFUeJxUvNmvZdl93/dZa+21pzPe+d66NVdXd5PNFil2mhSpgTRlS7RMKQ4i5yVO7CBOYsAIkARBXvLSD3lIHvLsPyLIgxMoRmRAE0RJFmc2h+7q6pqr7nzvmfe0hjz8TrWQAi6qG1W1z9lrr/X7faffVvf+1/89ul4gWWqUB90pogbXC3DQoJ/moCHYSHqpqW539D61+AyiiQQLUcPoAcQEdAcXv9Vy78YpD5/tYo9TfBEhQDrT+DSiIvg8kk40uoN0GiECClypaMaRdK7ILiLdQKE7ME1kfgtAvmM3CuR35mS2YzLpERrD5t6My/MB5tLCfoOfWuzUkF0oms1IfqGw3zznc1unvFiMOZ31qc5LXv/SvQ7OMkIRUIUnOU5RHUQjf+7LSH6iUe9PGRQ1pe24+DfXCRbq7YhpFfmZrEe9DfHtBeFxD7tUKC/3bBeKxb0OokLXmlB6cAozbjGfFrzzjYf8+Cd3MZXG7zcUvYYYFTc2JrTBUHWWk+cbvP/OI77387sQFNfunHN0vEH6LKXdCDDs6P80J1joehHTKHwWiQkkK0V9r0ElgRgU5ihDBeh2O9TSoDZb1ElG3GsIVUL52KI7WNxxkAfKT1LSOUzvBwDsXPHe3/uIH/zJ28QEupEnOze0N1tYJgw/NixuBdJbC5oXfZQD3w/ofkeoElSlOXjzjKOHO6hOEfKACorsxNCOA+WRphvIui1veOxM0+510GmUU5iVxo08ZqHxZQAFJJHimcUVkWyiaL68wJ0X2CuNu12zuz0jM55VZyltx9Nn25jSkecd7cdDXD+gW4Xf7LDHKdxeyQZQkSLvWCxy4kVG7DnKjQqtI3c2L/nou3dIZ7J/3W6HyTzhKoVBhxn+59/8gNYQDbgth+sHkoWRzdyLlDcWhOMct+Up789wxwXh/grfJKigsAuFqRUKxeoQ6veXhKsM3Xf0+g3ZboX9mx7JSmFasEsFUdGNA92Gp9vxqDbB1IpmW5GfR1xPkVSwuAX5OYRMUe0p0NDueKIGP/B0ixT/qEd2uKJrLG0wKAXUCcGALh16mpBfKdK5YvZuSzXPef5qm7lL6SqLmVjY6Cg/TTFXlm7Tk8wMIYGQRaJR5BcaV8oB//y3HnL6V9dwD/tcTAaooHB98DnkF4p6J1IdBlw/EOaWmEVcP9Jtenwv0pWgvEINHHpuIGiSSmO3Gu6+fcTPnlxHLQ2+DJSfplQDRTfNmDwfsUo11c82iCgufrFD0LIm/8OX/5i/OLqPN5pkobHnlm4YISpcP+LKSEjB73QEpUlPLeWnlhAM/rBBLRNCGilfJHRbnvTI0lnF1g8Sur6iG0eUXxfgfqTeD6Ajdq7xZeTly21Anq+pNd2NFjWx6O2GvV89ZTLto57nuB2HmRtCFmGVsH/7gqW3/IM7H/HR0+vEvsMOW96++4qjZsDwgaHZjrheRLdK7mGvY7i5oqlSzErD9Zokd6ihIyaAieAVYb9FzxPqa57QGHZuXVH3IHSGX73+HI/mZDbg/NUIlQWyBwWrTEPUHLx1RvfxAJzBX2vgqMCcWMxew/KyBAVqJWemaxPaZcrFk012v3jKZcyJCajCE5xGZUHW5nP/8r0PvnT3GatSs7oqSaYJm7+MNJuKuNvCR31iAv/oN37Ih5/elJuZpphrK8LKklSK6pqnu9+QnFjyRynZpSZ+XHK1Yahf9ekGkFSKdBYpzyLJCnyuCXstxcc5rhfpvwKfK5Y3YeOjyOqaonylqHcU3SBiOjks7Z4j2oiqDWQBnKb3txntvY7iRyVOG5KlwswN9tTSbgeazYgKGl1r7MTghoFiVOOPC/a/cEr1yYhuFFEB/IYnWFClA6+kAA0i5SuN68Or6YhkockvIuUxTN912JnBLhRuEEkqRbCKWAZMpWGrhTTwzr1XXD3cRAeFvb5Em0j6OGPwDAZPI5N9Q/23W7iDjnfffs7J2Rg3jOi5waw0fhAwL3J0J92xHUey60v83PI33/sCVAnplabZ9YT9huyFJZtATBTuekNymaBXBhSMPwbtoP8yQmVlA5eR0RcucR8PaHY9xVECQeF70G0E0olBOUWwkcGnCd0wEjVklxo3CGSXGt0pijNoM0MYOWzuuHg1Jj9O8Dn0niRopyAoQhpZtBl4xZN6A7ewYMA+zTk9G5NdGuovrfAuIeaBeKOGRUKwEJ6XKCfPpnyYUvcV5jhj+LOEtqeJGu7cPuMi5GBgvLsgt45xr8bmjpezMafTAe1Jyd03j5kcjVC3V/jWYLdqennLfARxEAirhPTK0N5p8E4TnUGngZBGBjtLNsYrllclseeZzwp06SALXN+/Is0dXzx8yf3dU0zy7d/7oCw7Xl2OONifML/qsbgbBO7NE9yGJxp49oPr+N2O5Nzi+4FQJfze13/ML1a7sqGWCa4fUVGxvNdR70SSC8v2jyFqTbMlf6ZbaDYVyQr01JJNIu0IuoGi2QoUJxpXyiJiYHXTUb4wAlENJBNDfiZYzl5f0dtdctVPefvOEce9DHtqya8UzVYk3lsSKkuylA2YzA12BTEqmigbKf50QH6hiEoJHA6a8mCBaxPUKkF5RXZuCBl8/e//jGdP97AzhV1CvanQjaHZDBTnClCsbnfENJIfWVwvEoMGp5n9YpPuWksyMbSZIskc9RAGDwxdX5Efa9IZhMbyQvVQnUFXimBh+FgTjCJZKuwcWdtG4VYWFRVuGPB9L5jVK9TMot5e0PpUqutCujooFFCcwfyOFARfQEjBNJrlvCCbaHwmMDdk0Gx78tOEdArNTkS3mvrQYWpNtBHdycFxA4HOUStcD2Ie6X+voOsjKGGu8QW4HvhhQDeCbNBw8+CSu9dPOboaM/6ZphtIIQkKVFTYjQbzsMT1I3rQETqDbgRptKOIrjUxiYRfXTLaW7BaZcy6jFgnjHcWTE4HDEYVJ5dDFrOC9rTAe0P/YMHVoiQdtHRNgk4jvkmYXfYohw1dmxCjQrUaOkNyatGVQFSbO9ouoXUG7wx6ltA/nJNljmaRMT8aQOl59tNDnj3Zw1z/Z7/+wapLub4x5XQ+4N7tE666HHWZks40ydwwfKRYHUa2/jZBRdmQ97/wkg9Pr+FmmRyKrZbkwuLvVRQf50SlKI8UzaY8XJSiHUbQiq4H3SCSrBTVNXCDINzQQnalSBeRegequy3psZXNkENzoyO5tSJ9kKG9Qh9luKMC5RXdd8c4EkYPYXEbfC/igwYUYehJjxNiIg96+ATSSzm8roBuCCoofC8SC0/XJfR/ntHd6NCzBF9E9L0FTz48JIwdycRQ7UK6kMJRHsHqmhSGwWNDjBpfCCeyc0350tBuRFRjUFGB18SrlGjBrAzL69B/Hlnc0qgAtAKv7NSQrBTNRmTwTL5jsx2Fw1wofA6jT4Sn6MbQbjtiJjDPr6ygj8Oa5DSl3g3YuVpDSg1KClf/VSRYRTpRhFx4sopK1moQSK8M/afgeoqQgB8EVKewcy3UYa4wjaLddUS0XD+B3tOEek+KK1HhRgHdaIozuX8VILsQ/nV12ef08RbppayrLyNstNjC4aMCBemRxfWANKKXBtMotJfPjhZCBulGw/RoiGo0+UZNPmhw3vCbbzzkpx/dYmdvxnBQ0dusWJ72iFkEoD0uiVEx2FjhvCHrtygFXS3FNlpZc7fhISqK3RVbwyU+auqjHro2pDeWNI2ledUHExkfzlg8H1LcntOuUsy3//t7HzyfbnD8eBv1NKf592NabQWDLxWuFDiUn0M+CfhUsboZqIxmdVGiG016sMJf5RTHmqYPqpWFXN3r+PxXn/DcDxm8ecXOjQnnpcWNPDFq2o1A2Oog86g6AQ3NXsBbLd0gAXNY0fUiep5IR3qYMb/n8blaV7UISuFT4UqLW4FgI8lSo1cG5RX0HdtvXDGflwyeaHwhAkvXh27LAwpfBmIe0bXBTA3dWzVxZglZIBYBv7DoVsPQQbPmtD2odwJRaYpz6YrdUDao7wXsUuOzSDeIxDRil5pkpfBlxNSyAXUjm6Xah2ZLRCn3ZkVQSg54q8gmitmbgYgmqRTZpWJ1PRCKSH2/xd5bUnsLacBME2Iu928XmrhMwIDfcCinMa0UyvIUmi0ARXkiYlQ3EB6a1Ir8QhCG3/B4Y0BLd7VTTTrTtJuR7EI4WvNGg6oTQhrY+pHGZ5pq35NONHYpfLx8kdAcOrxVgPDfbisI/PeKdKrxKdKZ+rIfog2Y44yAcOSYBuyZRYg4dCPhnqYS/tjlkeg1v/+VH9EvWh49OmB3d8bJasBoY8nFtIcxgYtPtsnPDU0JSebxTQI2EpTCTVNcZUkKR3hZohtFKAOx5yjGNV2XEBKoW0uzSqExYMA1CTrzvHH3mJnLqF4OUFHRKU26WWPiH3zng/lFj+KFJVhoNyDkEXNtRZNplFfYpSKdw+JQ43qyoRqfoHuOnesTZpMeut/RGkO+W9H2ItffOuNfvvPn/NEffY3+E013UnJGTvE4w295YlgLAmuVLwZFfmoAhbtdE+uE//DXfsh/c/vPeWE2mRaG5JOc0RPP7H5EOdmIqPWhPgyMHiiU16AVUYFdSGW255blVYl2UgWXNzy+kPtyBy1mmpDONWal8P1IfmtODAoKT0QJwUbx5hdeUAWLeppLNW0VIVGYTjpNux2IBnwRKF4J7HS9SH6pSSeaZld4m88iOii2PlQsr0un6oYR02q0VyRnlnjQkOSOroh0pSKWnuKloboWcH3QXlG+0rS7nrZOwETUMiGpFGalcONA1PIse8812ZnBlWBaJRtgCNGCcnLgQypQEg3KQbAw/qWiLQ3aQ73vOfj8GVchAy/3YysIVlE+TQhWYVqNzxXNnie7MJhWrkVUso+mhuxSUd10xL5HLw12YiAqTKXpRgE714QEVKfQM0uwkVgIR8xPDUkliCi/UCKQZNCNgzwLZ1BO86jZ4NmLHd66/4onDw7ob664mPXxztC0KVuHU+qNQFo4mmXKzuGU8Ish+eMUs9T4w4bRoGa1ygnjDrxGzxMoPXGWoqYJyUZLjJre9pLGJQx3FtSTgq2NBWcnY/Kdii5q8JpyWGOKX/uDD2IeKF4ZVFBop7BvzRj2GqpL6Vj1Gw3BWaniw4j2UiGZpCzmOWZiCd7IjV9lUBv+4N0f8a9/9A1oDOlUFKl6N+IzwGvs3DD4yNJuRnRlCGUgaI3vBZJzS8gjn6y2+HF9g8dH27SrVPjNUMuDiwo39qhW43ow/kg2S9RQnMPgRcQV8oCTCuEdpXTJkAh66gZRZGIv6pzyio23LnF/s0kbE95/5xHvHLzi02f7kEZubl9y9MMDgYFRrqmi2BqmVmKJoMCKIhdsJBQRf72BKiEUkcHbV/jnJXapaMbSXXwRKY819e2W4kWCboG5le9XG0gjww9T2rHYJ24YSOaakIJeGHDCl1RUKKfoth12KspxcaJpN0Q9VV6hIqgg3diNHXjN6raHoKVRRLBLWF4PBKvRQdY6mWsWZz2SpWbwFJIaXF+tLQPphOlc1jquux9RYRdQ70fKY+GDPgOfQn5scWVEO7mG0Aa5J1Orz2Bpty0HcuvdcyZdDkqRThXayVL7AqKNhDTCqMNcJZQPUrqbLVnuqD8dMO1ydObx8xSqhJvXzlm6FO8NG+MliyqD0wzloNoP7N664vxyAGmAKhGYbSMqC8Q1muEsI5Se+EmfsOEY9Btqn0ACpIFqmjPcXnK4d8WyyTDj3/2dD+yFyKjtlseNAtjIoKyJRcBd5gQjG1h78a90qzAL+cDdNy74jXce8MnxHnauRcKfa9rDwNVPt2URUVTXAsopekdSDV0pC5qfKexKYSeGZt+THyeoKD5eRNHr18xP+mAD+VGCAlwfkoUiGMHNwUbakShedrHe+I088Ob9Jb1fCtwwrcIVYA4qzGmKvbPEeU16mUCEUERWIaGzmlgETh7ucPZnB/hcoRrN7Ifb2KVYGsGC8gKBkpXGriA715hakSw01Z0WX0S2b05wQYsAcG5ZaSOyPCL4+FI8onSmGH1kWNwGgvDa4A39ZwZXKPrvX9CcFaQzOTzLux1uw7P95iVzn1I8SWUTbziwkfQiQTnZ+LpTZFOhAEkDq+siRqQTgT3BKFRYFw0DroTQi7AuvNnVej1Tga2gcD3F8rbD3F7S+pR2HKmvO3QjCqwvoL3dELwhaoGoUcshtgtNsJBNFO0oUp4IbOyGUUSpfkC7tVCTBzZ+Zuj/cUbQCYNnkXpXEEC7EfFlID9JcMNA/jwlpFDd6tDnGXOTEOuEvTfPmZ0MAERlrAsSE5hd9CCJhF8MQUu3b8eRpbfoJBIWAseLzQpXJ6jLlGgjFAE2OmJrMNdqBv2aQd4wnZegI0pBUIoyb5k3GdWjEWb87d/5QHfSgmMWUJ0mG9dcPdmgm2VkF4L12z2H3+lIBh1mpyHZqWkby6qzDAcVZ59sk1QCQ5IWBm9MmX2yQchE2u9Gaw7UaKIS8jp4Bv0Tz+QNRbISSJpfCtcafayprgUWiwIzN+THFp+C6wl3NJ3Am2ShSZby43oKlHh6zYZicSdQfpQxedfjCukE6ZWmHUTMwtBkoCqRjIszjbtXEacpX/7VTzl5uoVyitUNj241plFkV4psFukfBaodUdHEDIbyGLIpZJOIzxXdAMywo+0SemVD3VhGN6ZUVyUUgTj0RK+xh0vCNCVYxepAggHdZsBbyC81q1ueWHr0Dwb4DIoTEXuyc0NEET/skx8bupFw1ZDIplatJr9Yb1YLzaZ4mKYSuP0aVrdj4VpuEAmHDT5q7FKjWxEhfC8y+jRKUbEKV8LyZhA7ZOCIKBzyd0e/TLCLyOoAui1HcpaSXSn6L8EVax90GOlG8TPbJNoocB8YPhLFcvBUs/VzT71luP1/t5THHdnJgsGTmvLVCtumZJci4ERtKI8jEVGi/b0KfZ6Sn2u6bc+77zzjclXy/t0nrGyCC5qLj7ZZVDkoCEcFeg2Vm61IsrfCtwkbGwuqec72tSmLRc7e/oTVSR+seGQKUFcpvhEK1fgE5xLu7FwwyBqKvKOXdpw92CHaiNn87d/9oNvtiEAyTbBzTfpRTjdG2iDSxl0R0YuEYrsiRkV90peFrhKOLsZkZ4aYgF+rXtnNJfXHQ9KpojoIxK2O9JUoYSGDdKZoNxTVjl4TcKkoy1tyGFyp6DYCOvNEZ/C5pBdilK7RjiOodRXaCphaE9KIKyWt0I6R/88hDD2/8vmnnJyM8T2R3tOJQrViTOdnmtU1T4iawcGclz86pDzWRAu61SKJnyvK04DuwGfSKZRXDJ9ETKNZ3BLPavq2EPSw1TIeL6meDulOSpLzhPqqJLswooq9THC3a5IHPSlya5UvFKLqJXs12ZMUnymyk2QtPiiqXQkpFCdrjmghnUXSKVS7kZgFkkmCG4tC1nsBaLE76v1A1JpuJCJLsx2kwKXynEMaMYsEN1qLMgPxFpUX7hWNbMa43aIXBjNNyJ5Z8jONzxTVoccVGu2h/9iQzaSLtcM1lFSAXnNDr0jnAtu1k+JoF9A7iiR1ZHlg0A6yGdh5h55XqOkcVTVkL6d0B2MU62snItwoII7FoCYo4obDpIFFnfHps31M7rg8HRKTCFbsJ3tnQRsSfC+gR63wvEVCHQUy9vo1dWtZrvK/4449T/TSGAC6YNBJZHO45J/f/Gu+e36P93ae8/2nt4Xne43Z/eq3P7ATUZXcbovvB1nMJFI+FyVQt4qdH8mCd1c5dSrxl93DCZVL6G+usD8v6L8IrA5FJp5c9AU/a0W310Fj0J2m23ZifGbSnbpxoPdKo12k3la4DQdB0+x5zNwQSxEYcAo9cAQtCqMCilNRt/Jjg+nAl9BteJKlhigdc3nXo2rNzCT85tufoEaeyekAUyvq3Yh2ssmzS7Ey6mVOfqFYvNMI3FsZ3KYTxXMu3Kzeks0UraIbSPfqvYBmQwi6aRTUhmWTSXoii9iFxnTScaIR76p4ZAkZ8MYSv7IkK41uNaHnUWcZ7aakO6IVNc4Xgg6KM0VSSZdRURGNEnFnocjPDO0QTKVxo0BINPUXV/wv3/w/efPmEX8bruGDqLrotVBxc4XzGuU02dkaIVQi0uTn8qxMIwXS1Iqw3xGcwY9FRTS1YvBUfMWkEh6oncIuIqaFdkPRfx7xa84ctRjmplH4ct1pW9j5SU153NBspFy9K4mQ1W5CeaawJzNi26K0hiyl2+7z6pswfKxwfaEE+aUiXm/wShODJraGuUu5tjVjdjKg8QbaddDBC4fe3Zvis0gxbGhqy2BUYfod17ZmmMxx8XyDqKD3YU6761Gdxpxa7LnFDT1kIpR5Z+ii5k9+/EVGOwu+/+ltmFvGu3PuHZ5hxv/odz7oBhE/lOhNeikJg2ShwUg2LqnWHH8JpoOI5Mvql33u3j/h9GIIC8vqALJLRXOvIaaRGASe4DUYMTtjArrWuKEnPzG4YaTZjpiVZvQ4gBO/q/fckE0VTovfZcYdyZMcP/Qi2jTi4ygnqp/rr5MK50bibg1Mv9pgco99mdItMh43Y6ZPxuy/e0q43hDLgKutXOMLMyojKYR2I9LfXhGflAJRt5zAzVUCQDYVeNiMhZT3XkVW+5LYKM4j+QWsromf5AeeZCF+WEih/yJKR6yly2SXijhNpZslkJ9LDMjttlCIVWGWmpCtM4KtVNJ2rOQ6K2i2xRrIruQgN/te1vD6nN37F6zalD/+6Zf48fIArSNhZYlpQDlN3GpRL4v/X0FQUUQGghwI7YS/+RRcGUlfirepF4bsSlPve3Sn0W7ta2n5XkkDy0NZo2pXOhnr2FhcdzZTKwbPI81YMf64Rk9X5Fcdk7cLRg8Ue9+riVZjJxUqzwhbI86/tkv9Tyd863Mf8ejBNZrNSDQCR5MXGc4qYs9jZ4b02LJ8MiAaRXJl8H3JQ6aDFnWa8fYbLylSx8snOwA0i4x80HB6NJYYXxZIPy0kzLDd0vs4xfekCIU1jMyfZPhE4aLGjFoWj0ZQBqKCDs20LjD7/+prHwz/Mqfta7oth9vy4DWDJ5LWUAjvEFD6miwrVCfRm+nTMbu3L1md9xh9ApN3PaoyFM8tXmAwUcuC+kGQVqpFyQIFew32lV3DIEU2ERjkC8XsCx0hD+iluPLtlqiMupF/HzLoth1BrZMBGZ9V+Wwa0QsLc0u76QUu1IbRnSnnjzappzm6dFIQBg6belzUqCpBNxr9qKDZ80SjGP7c4q0Wc7aD4iowu2XE5/IK7aWb9V9Kx2sH8v3sVCpr76XCNNCueVQ0rzevcKjRw0Az1ti5Jhpotzz5RkM8zqWjGRF/es+NbJhKrjV4/4L21ToUraB6u8ElmrfffU46ark4GTJrcvxpQRw4+j8o5VCXUdIeM0VAvLWkUuhOky6ERyWVWDrdULqv60fKE+gdR5JauHF1y+FGgfTSiIpZRvJzOVirGwHTarnvoRi+r/eBXUgmNKlFqXQ9WcPeS4eZLlGdh7xPuowkTSC9qAi9jMVbmzz+54brv/WSbx084DC74i/P71GcadKpot2MtNue/NQQ9lvUPCFdKDY+8fhUi9+aKZK5wdWWP/zW3/Cnn77J5bIkNAlmZti4PWHxYJM333nJylnaJwO6ay26NmzenjD1BX7khQuPOnQS8U5EJZVL0NpcWXoPE+zn57RnJdt7U8zgq7//wfItB6OOtN9inhaENLK8E9b+CpQnYKtIO5Jq1w0V/S9e0L7qEQ9qFouc9NhSnkWCNpJ1XGPy7Z/A8nYkjh1mYkk2G9LHGd2GtOFQegm3ppAsFbM3IJvIYTYLI1bAUn8WE/JDT7Jd41KIfQ+dJg4d0QjW9wct6UlCNoGQCoaOiSK9saT3o5x6nqNuVIQqgYtMwqFNgpvKf+vutT+25qdeNpp2UoldT9F75Tn/iiQ3uoFsIp/LIVJBZO9kJXDLLhUbDzuKy8Dun54x/ukVwxewupaz+UtHO5B41eqtlmSS0A0C5ZGhyjXZ/lrtcmJydwOBuTGRarpoM6JWHHz9FYPrcz63d8LLo23q722wOOtjrwzmag1xEmj2Hao2koncDqChOJb0jOlE9vepQHC7UsL5zBrNrF7zaFheF+gctMZUmpBHkoVw2aSS4uEGYsr7DEyn6L+QuFY2EYoQDmuKJxZXwPJeR35maDYtvec1almR6JzFjZSkhsXNgqf/ccK7/9EDvnL4hC8NX3AtnXA7Pecv/+176A7m9zy60eSnhvqap7+9xF3ktG/UhCbF9aTTp1ea3jtXfOfdn/B//OQ9QmvgIkPXkidtlUaPW84nA3plgxo5BoOKal6gBo6d/SnzZYEZODY3lvgPR/gbNfmTlNgZ7JlFd4pqPxBOcvxIhBKz8y9+/QM/T8kfZ+hXGc3dhvJgSTcRIzm/tWA6sLjM4PrQ7KwNwr7DjCUjlrzMCKm0LtPB8pbwqmgjq2vS0cqdFU2XEJzBXhlcP1KcGNyWJxk3xIUlmwqcarZkQ9mVqJH5eZQHfy1grwx/771f8PjBNVRjiGlgc2+Ge94jakguE3wmkna9LZtTRcg+yqh3I9mVwpym6EaTzdRnqfzXEbC43eItpBNDslCfbTQU1Ncd2akhWI1pjFgCOQIDNyXr5wtF7yjS9RW9k0D/pZONunAkk9VaFYXeiWd5fT2iMlJEb+g2g2zapSa7MIRJhl1I+iKdGOxKUha6UfibNUnpSPcqzi8HLD/e4OjTbX7rGz/j6dM94VSpeHRmvxajtdP4zQ7VSkDYLqQ7mlaKgnZ8dh9uINJ5+UrjBlJ0FjcF/jebkW4ohyomYnrrNYxvNiLNnie9MOQXkW4oKRwVFHYlvHB1TTKlwQhHy04kg1rtKfqnBjNZYS7nxPGQ1XbC+W+3/ObnP+Fz/WPu5af0dM3IVPy3f/ZP6T3VTL7W0HuYii0hIIBwVKDuLPGLlK4vkLU40RAU7Zbnk7+8R3ZqI2hOAAAgAElEQVRrSbdM0ZstsRaLp7e9ol7k2NyxuOjhrjLa05KQB2IamJwNMIVnOFgx+WQTNwgUj1LsSlRZ3Qlk7kZRrBYgzlPMxpd//4Otty7ZuX/JSSgpH2Y0y4xkqQhbjq62qMLTFeD60uVUUHQJuM4QV5aYSjRHe2iHAt9QIpnGrY7oFd0ixVRirBI0YewwtyrSvKOZFjB0eGUIuXCt4lTTjiOmUqyuibfjR57BI4O5X3EyHWIWQmib05K436AnlpBF8YCiEP50KpXWLkRmFiijyCZrxBUVwyfrrjdTJBcJZmlo7goMK87Wylgr82M+B4xsKNO85iRymIOFdC6LHRPF5i8r7Kzl6q2C6T3L8JMVGIPb7vPiW32S37ugudfB85x2HNn5gSaZGUwjxnE0UJ5GQqIZPhavUK3zfdkLS1hZ1Iuc5Dz5TLk7/uEeIZfuFJWMFYXW0HsmBSgmEJUiDITDqCCf5fqQziX3aLq1mY/kKfMrucdssu7YpdynaSAaOZTFiVqjDolThXwNFw3r+UZBA9UBHHzpmPC9ocTQlHh7wUB+Hmk2EspXNQx6TO/3mP7Oii/desGXR8/Yt1MARqZioCv+5P/9CssbcHDvgqu6REX5TtlEUx94ksJx6/CCSVOgxh2+TTBO0aQyRtMuU5QNlD8pZF87RTvNCEoRUPR/mdJuBRg5Dm9csqxTYtTYXGwb5816DRX1rjSXdlespGgj44M5HZpio8b8J//b7gc///f3uLgckCwNvVdiaPZeaPRS8oVqZbDXV8QE0pep5PUwUHpYJeha4NbqjRZdi1zvepH8TNNtBsqtFW6tBKmgOPj8KaunQxmeGznCNJWU+3aLytfzZok8sGo/0DvShFS8ITtXPDN9srVJOf5lInj/0oqKBmRnRiT/Rq2VT3nQSSUQ2PVkw3QDEXiqHXlAPpWQLUphpgmmUyQLOUT5VVyreyL4DJ9Gqp11EmKdbMgvRP0KqWLjE0d2URGyhN5JS9ez+HFJ0sKL/zHwza/9nO1iSZp6Xpge/9mvf5dn/+4G2v+dCIEWb608VSyvi/yeLNdre6VEkNnxDN69ZOEzMYaVQjeS3AipWBdmIXzSNJqIkhGWc0uz52n3HC4VyyRYgcraQ70rWcVu25FeGvKriG5hdj9+Bq1dTyC1K8VecYNIc73DpeqzWb5mT+bw7DrJEiysXvTFrrhSpNNIOoN2pD77vZxozv6DId13JvzKtVe8N3rGOFnh1w84ovifP/zHLHNDsJHx5pK5svQeWOJ7c1aJYXgwpzrqw1+MoEkwZ5Z2x6/TPIroNCrzmJOM/d94xeRigF0KJRptLllclbQ7ns1rU2zmuXi8ideK5CTFl4HtjQWLqdg13VimJ0IRKJ9YfC7iXtxwWOtpmwTj1T/7wC4Ug2dSnfw3ZvjzjGYnYGea8kRS9nGSYS4t9e2WqIQPhaiJPcetN0/xOx3NeUmwsPelE9pPBlR3W5QNJD/v45UEcqNXtA+Gok7uBYJS9HaXlMOatrOSgVwmqE7THnaYhSQNkiWkU0WzCTgtftiZod6JpAtNeSzjGkktfKZ8pRk8k8HRZht6L153RkmvJHXELteHbw46rNMLSkxTNLSjQO9IYk8hfa0qSmVuNkWSRskhTGdQb6+TGE5gRDYNoBVm1ZJfOl7+C8c/+a/+ij84+Cm3sguGtuHf/OA9VKX5yasb4BOyqRz03rFDeUXvCBa3FMW5KMDNVsQNAwRNfb1DN5r2WASRaMUfS1YiSOgO3NdntFueUCeYRuR6MzefJVi8VeRnMm5SnIoU73OwS0nWM3S0GwGXGurdyPChZvTNE6YmRc8N3TCSXRnajSDRqcYw+lQJn84lbdPbX9LNMpKVov9MhC7WKEN5aLYVOsD0rcCtP1oSE832f/ecP7zxIw7zCW2wLEJORHHuBvy7889z9LN9zEoK9zSmDAY18w2F/bBHNw7Yn/TQXrO8Fei2PMEq9t44x388oBsFsIH0RYo7bJi+HMmM346jqjIW0xI7bEgLx3KRo342oBsG8lcp+q0F6tOSxaQkDhx+yxNQqNKjKhmcjQmEfuC37j/kwYt94izF7H31dz8oLiPzG6I4+fOc7lZDuV2xygy9Z5psJp4NWuHWHhaHNeVmxWhYMUgbLv/igGSlGf3KBb205YwctTJQG8KtGpYJMQuY0tOl0k3MUhO9Jh7lrIwhtpr0lcxQFXfmuC7hvS99ymM3JqSK1S2PruUwDR/JoCiaz/KMdhFJKmg2pNoqpOrnl/JwfQHNvYYu0yivqfYkxV5vK4rLSFRQ78qsmW4hmyoWNyGdS6fwuayBnUd6x4F0xjo7Kd0gn8irF/IryVmGPKE4qiSxUST8q//637KfzJiHgp5ueVDv8+ivb8umTIUrghzUaCRtkbQR3YiK6lOBfdlEfC6cjIuEbK1+dgo3CLT7nt33T7kYJbjzAn2RisqrkECvEuvG9aU7ocHfrHE6QXdSqNpdR8wD6VFKdpLQHDjefOclxxsZ9S/HgkBQhL4nKPnskAmcTirF3X/8KdUoYnsdMSrJqi5EYYwG3P0KZnYdZhYksvf9SH68xI1z5l/x3OhPOGmHWB0YJhU90xBQ/Hx6jdWjIdlUSZA7KoKJJKnH1anEuHqRbq9DV4bsLKHb6Qg/GkmyaG4Y/0JT70ngPCr57nZmZPZMK0Jl8Ys1bRpJhjWZGvwixY0C9mCF7wxp2RGMpESICj3sZILgvR9z2fb4g7s/5dfvPMAcvvu7H6goLRsEp5ePE9SzHF0Zpu94dG0EYu0KbBm/cUmSBMqs4/T5JhcXQ8qXmnYYqc9KFk9GBC28Znh3ypcPX/DsYhNVGaIVmJdUEsItj9Y+2cKg92tCZbFzTe0sZpLwYjJG9R2hH1BpwMzkFQrdQDYEer3ZrVobwtKRsumaQ6j1Icuh2fPsX79iedGj3fKYRjN8FkhqaIaa3plk7F6ra9W+xK6arbUKqcHU4iW6Uj5Le+FD6VzMWeVfQ1Wp1qvDjOLCcfm5km//1vdoomU3mZOrjn/98BssBor0NCHclmIUEvneSSP31ZWi9NYbmnYoknt2GUnnkeJcRBcVFd2GJxSR7MKQLDSTeQ9zZUUY2G1RqwR/0JA/zcBIREp3msEjxepaxFxYmSsbBzHFjw0hijWRziMu11wkKfpZgbvWoiqZ1taN2AMxjeuhXSmAZy82aC4L1OOCcJ7LjKdTa9EAkmNLfc3Tbnve//oDqv3Acdlj68cNyaxG/WTEF7/zgBeNvLqhNC1VyHhWb/Fktkl9LNMY218+Zb7KKfstWoN6kePLQCgDqjKYWmbv9EqytCoowk3ZZ/ml0J30UuYsu92OjVsT2uMSs18RJymxCAw+zOl6CrfXkV6Iz+yaFHuR0LE2wZWY/zFohvsLzpo+Ty82+cnFdf7q6Rty0LqBQEHt5P0cri/JA1co7P05S2uJSlPvejDQnJVkPyxZXvVIL9azY1qiPCEBdW+JukjhsGZvPOdnP7st/kKtiVGTn0riPowddBrXjzKa8yojZAIpdCviiu9H1CIRGd8AncH3olTxdh3MzSPZVMYnfCGSuu4k39cNokCYDP7Lv/9nfPevvyAj8zNJTnSZYfIltx6xAZ8qygtPTCRM2w3WA49FXL/3JBIySWOERGGXUVIpmaIZa5pNUeDSWWR1oOj6ClRC/CeX/Ob2Q1IlKuSJG/PHP/hV4now8vr9UybWwkJGXV4fYJ//nfQeE/GfolFEq1gcCnz9TIi5MoQUuhsN6WZNq9fzcwtLKDw46eR3vvKc6oebaK+od2H4UDrS6pbj4C8VGw8cXU9THUgucfVWh7fQG1fU2pCcpaS3F/ip8HW7EI5e7wb82DN4bNZZSUX/lRSDbijvLnmdvWy3JWp2/f4Zz6djLq/62IuEYmKxlytUUPzV8y9w7/3n3MovuOgGfLzY508/fpPVMkdVwsNro0nSwO5wgU08yyHkn+QkCyNTBHmUqQ0N6ZUW3eCaI721pK4y7NQQ3lrSJQpaTX1VyF6eW9KJpnie0A4Rf3ApQlV5EsnP5dm4gw61MuSHS9zKkl4ZmllGkyvCkz6cpGy/cYUZfufbH2RTqaDtWDF85rn6nEw6a6+oncSI2o0Amx0q91AlJLWi2vcMHylGD8FngvNDFtk/nFC96KO3WyaLks29OfrHfZqbHfkrK5DLKPFs1hJofiqdSgURFsoTGXt5PW5iahnkFF4khcENg8yQlaJwJZWi3Yi4QviMCACi0tml4vsv78gE8jp2lZ8Y2s01j1oakkYWL2mg62nakWzyZCmwrjyN2EogZkhlpgu9TmNsitRdXESySVyHaKUQrA7hH773E67ZCUNTkSnPo3aXv31yl/wswfUixVbF/Z0zXtQjek81toqsdkUECkZR78m1lBOVrxmLZK495JeRaDTNjpfM3iKBs4xkvxLOm3n0lcVODNop5o9Gcq2wjlW1YoUkS021qwjaEJN1tCuL/E/f+H+4f+2Un18e8Ief/xE/f3qDcJlBlBDCa3Xxra8+5WzWhy5Zq5Vi5KNlPyWr9Qt+DuU9Kts3J1x+b5eVt5/J8/NbmvGnHuUDq2s55a/M8GgWPufBZJf5Msc+z2SWcCQDtb4zBANb5YpxWXPWS3nv/Yf8+tsf047gcP+S49VA0E6uMBcJmzenTKqCsNvh6wQzkVSQbtYTGJX6LJPZbsk9oiQFtLwuqGdxO5JvV4SrFLdI19BfYe8saWtLREsSJQuY8j/97Q/6zzSrA+EWpoX0SpFPI/WWkNfiQnKO6UkCleB4VyLv4tiQF+2ks9cqkuZ8YAlaUXyUE6uE1aQQGXcuiuTrB+x7kf6ndg03InYmQVdAZr7cWoA4FUc/ZOB2OuyVIZ1IKDUasRt8BoOnAk9CKl0R5FUDIZWfdK5QnWTx/ECgjnwf4XKvZXlJ0isGzwKuFNiZTWTs3RcKV4jxGqyi3pJh2dcvIPKF+mzsxBdy8E2j+OavfMjIVPR0C8CJH/LcjrhSKTgFPc/Xdp8wTXKaT/qSp3TQOw1rf0u6V1JJx45GukV2tU6iBJHoXyvAvVeKel8Ctt9590OefHhdOKZ6/fo8oQq9F1I0XnNCuxDrI5sGsokIFd/7/tt8f3adX3vjEd99dRf/qsAdNtx444zJrMSsNNmV4oUfkJ5aTCW8uBtAdc2vg8/iNSaVIrm5olumhI/kLWKv7RM3iBTHmumbOadfz1h9vuVwY8JpPeSi6VH7hFWTYU+scPFDx9bWAhc1zhvubF7yaj7C/XzEs7MtPjw9ZPpog6O2h5pbVFCYaxW+TnC/GMgrFlcGOo2daSKaMPSEMmAnIhjVO+Ezq0V3am1vwey+yP4+aIJSJDODP2jFH0wiTFK2716ymhaYwmMOP/8PP6i3FURY3owUZ+s843pO6bXa9lqhC1aS8/mZprrXYifJZ+mIfJ3G8NqAl0oWMhg/kK6ignAMmf2RIK9u1zL7QlNfc2QX0vJfG8VJrVh+oSE6GeP3ZcRU4rHFtRCioryf5PVhMevJ25CKVL2625EfS1I/JnIg+k9E6NCtojyWQ/Fatg6ZJMln9+R+7BKqbdmMdgnFRcAVIn60A0XXZ91ZFMkyUp6HdfB5Das6+EFvl69sPyEqxV8v36CvWyqV8uxsS0h0HtgdLLg3OOeXz26gHBgnvHh1IB1BhkRFqDHN6/d4KLqRCCjFiXBK4VqgJ5ZkoXn8i0OCjdi5dFle86Wl3J/Lob7RSXdqRcmrtzV2KdDZ9SP/xbf+nI/neyz+rwO6PqQnlnOdYeYJvoz4VDr660HOdMb6lRGa4litw8WyHzjN0JWMHnXD9QhOJj/aiQ6gbq34+t1HbGdL2pDwdLrB6bNNRt/PPruW3+rI85bUOhITuDO85NHVFrXVJJsN0UB6Zj+LmYUsos5S/CDQ7Ylx7643qJW8o0V5+Tu9x/Jipe5+jRl2ZE8ymm0Jq9c7gWbXM74x49r2VN7hOc/ZffucG1sT9MCxXOXonmdx1gMFxf9H1Zv92JVlZ36/vfcZ73xvzEEGxySZzExmlaqUVZpaJam6hm7ZkiG73YAbDdjwk18M9INf/GAQMAz40X+CAQM2YLTdbsN+aFmyZqmkUmVVZVYOJJMzY4648z3z2dsP60RQzhcmGEHyxr1n77XWt76hn2G2PvrBQzRkW5buC2G9KxqGfN18mKFids/RaxjaxZWS8NSgbyeUqc/gkUDn3QZYCGby57MbJcGJDJoma/ZThWNxqzEzXToROjppFXUuw7QCWoeafN1RrtX4JyKvqXrieKRqRXR3Tp6EzYdlZS6zoCtRgEOj/k2h9jVeppqLQmDvOmpuJ/WWIKorUYHjpBJ5qSKcyTJVABd5MHXDws/WdCOYVJfV11/J72dr0mq2ziwmh3wV8+4Hr1naiJYu+B+ffZsX52s4JSuFuJNjleY3hl/xp4d36bwR5XI0dtSRGM12X1uWe7I4Tjcb/ZkP+YbIXfxEqq4NmurfFesEL6MRrLrLttuUjdBTCapqjaaOZcvttFS7OpT3wV8q/v74OqezrrhxJYr0To5KPEEahyX+RkatFHWnxiwNZcMmyTcres+EBB2OFeme8FUvZ6f1QlT3awXWh9oHu1XwwdVDtqIFga5Z1SEvxyPCx3Hz2YmOTvUrHuwc4hvLVnvBVrjgOO+RHLeJRhnuRZvWkSLdqTGptIR1S3i7Oq6oPcBqISCPRakSTA3pnoBvzipsYSjbjtHelIUNuHrvBK9TopTj6MtNwmHO9d0zXj3Z5jyPyZ72efDBK6Z5RL0IaG2tSJYR2uTis9h5qfFS11QyWO6JeFKXondqHWhWO8Kw1wtPUCRtqTuW5VXxqagDhb+ylC35geLnAcWdlMVNS7YubVY+UrRfa8pOA6sfKeITRetULO7aB/J3OS2vCeWEvFtK1fUSeQiqnw3wEkXZETOXdNORbjhWV+QQXTxEykLntQILyY4QYlsn8nPGp450pyJbbywOAqnkyfWKquVI7uZC56plAVzHjnTbkY2kPS364CWOOnAUQ0uy41jchNWezKrphmJ+zVDGcqOXznArPOaw6DOZdGjHOWvDJXEvI/IrSivixZ17J6x9lhKsLMHSMnxU0dmvMaWj8woWNxxVV0x/LpTeIFXX+tLaBFNRfHe/fSoXhCcHBwfB1KFLYfFU7WZOSxTDn3kiMeKCCA7dFxBOIDrW6FRTrNfSwcx9ISd0S7514wX5cYtv3H6JOZeFbXm1IL+Vcf/+G87/cUbZkcsqODeyy0sbHmoqO1O78Gn1U0H5einv9Q6xTvN0uS6fd+kJwDWEZMdSbRTYWnElmjIKE7ajBTeic07OeqzdmlA87oGFoiuSIZCK7y0ULrBEX8T4/Zz4pU+wH1DfTilHFWVPRheVa/xWyWhrjumX+KaZ37RlsYrICp+994+YPxvw+LOreDONeR1RdeXDyDMffz2l18pwiYcZfe+HD5UVy+2yrVheF8a2v1Asb1VUHbEmyEfS7oHMTPHYkaexaMvuJqjzgGxdWi5dQdlW5CNL97OAYKZIPkzlBvSbD9eXQ+N8aVXLtrSpuuJyFikGsjcSFFGJPXRbXlv3lSMbgQsc/S89oVAtFM5TNMAepoR0S8ity1u17EoWwo7wV47ldSEqKyA+Upd2dK19w/CxI9r3CBay+ojPLpbS4nsRzmDwtMYpTRWLj0U4vZgLFZ1m9kmuOKKJoJl/d3CLB3de8fH8Gm8O1tjZnLHZWlI4j53OQm7maM5hPkD/75rwLEOhcYEW8rGnmN5V1KOK8NQjHMsBdkoRjqHqQfeNRVXSiQRzh/55i2LQACgj11izSWvuN07XJpdflZOLq/8Vl0iq8+RwosXjMRibS45jOFG43OO17aDmHqfP16jWK1xs0VMfcsPV3TPOfrFJfSvFJT7q3hJ1EgrDZiLcw9atGZXSlLlHe5CxPG3z5ec3aG2vWJUhufWYpjFuJpbnZidhb2sKxvHt9RfMqhaLKmItWPHT02uUX/SIzpX4hQ4s7dcGf6VIt+SCivfFAHbzxoRpHgsZvTH20YW6NAtSgxL70wF1ZajalsHWguNxj53RnOmjEWXHUp2HdJ+JeqFcr9CdikkWE0Ul2TKkVooq9TCd//B7D/M1S+tQlqLBXOao7r6lta/p7AsaCQ0goOVDyNYbD0KlCF4GpLu1UKY2pbI5v1ktGEXyfoY+FfQyPhGwwBSCmAmN561hTtWRUmRKUQx7qaL7AiHSxm9ngDqS27t1IG1SsltjA8XgiRxaZ8ROTufqkvHuJY0KOJJ5Lj4TUEfV6pKy5IywzatI/CVbZzVFVypNNBNCb9VRjWW6WNehmsujWQO0D9++Bi8TiN82kqGd2+f88dN7BO2Sq/0p73aPebd/jKcdae2zG835+9PrtP9IQVGijKZq+XIZdTTWV1jd6PyQ1i4+EfFpOIay01w2TiqSM/L5WU/Aq/i0AaN8kdpUHfn585HDRtDZh2BhWe3qRgAssH1xoxAvk6KxvJtKt2ND8TaxnVra+kLT2lkx3F6wmsYcng9ww4peL0Vt5uJcPbSi6nbCLy1mEbZfEUQVoV/h/6SDcoqjKEJ7jp32nMN5n7Lw6NyccWNtwo3umO32gp6f8Xy1htaO9WDF49UGe++ccn7eI1g0/io3rMxf91bUBlq3FxSzkD/42k/4+evrjO6d8+6NAw4PR9h+Rby9oh6HuKUw8au9nCCsmL3qY61m9abL6P450+OeXFyBotwp0FFNq5OTrUKKcUR3YyXLdK0w/d/73sPoxDR2YTTzjXACW0cFNjINcqcoeoqqJb+WPdlP6bKx7M4U7X3INgSetz60DuRBCHZTCq3pPdJE06a9iwVZjM+aQbkvM4OqFfmGpY5g/efib1G1FV4mFdd5Yn1mEtmrRWfCxnBanHyX10TW43wlvn+NuWZ0Lt8Tnmshx9Zyk/efO5Jt+X4UtPdlZlncBF3qS8qWAkzhyDYaOzRHoyQWIMDL5NaPzyDZlUvL6bdIW9kV78QvH13DrZV8tPeK0FRsh3OuBBMSK/6FFsXjySa9P7Y432N+v8/RrxjSdYHmBe2UC0vX4jqcr8vfX7UEeRS9Hwy/KsmGBm8F2ddS4mc+JhdycvvAUQzlkiuGAmb5jRNyHQnKW7ehvCYCWXMc4AYl8U5CuZB9Z74mAAIImqsrRTWqKJOApAjwzn35erciO2pTn8aNKa/m9kevmb7uC2UugKvvnjB5NqJ+HWMKmW/VByvaQcnTs3WsVdS1YXNjzsmygzIQeSV/+PJdrvZmDIOU9WDBejvh58dXyCv/cmenC+Fcxo8inDO4VzFV23Fld8zjoy2SRcTh8Qg8h44rep2M7KSFbVuqjQpyTeXEarzzSIjGnVGC8524GfdqwnaBUo5sHKMDMbgqTluUhcfV3TFm9Ds/fFiMaoL35riDmGxNBleTKw5+xxAfCW3GT8S/weTiNGV9RbYjvhT+QhGfyO/1XglzPpzJPBZNFMuBoru2ovfhlPOsR3QqlcSGMtT6S5nJsi3hy4VTRXwMszuNPkU3sHvjcDT4xKOO5UCk20IGDqfy9e6rtzOaqkX2byOB+XUtg3Qwc/ipyFNWu6oRI8oF0z4V8abJpWJmGwLn60oqiuzO5AEVuFzR3bcsr8lrqz1hCSgUq2v2UrJjcqlqZdfxzq0jfnPtCevBko4uGJiEAo/QVMyrmP1Vn/jvIo5+vc/0XQjemZNqj/JOBssAp6BzYImmjnykWV2vaL8yYN5aA6DAerKPs74ifO2DVkwf1JhMs7zhxMuykAtKPC/l5wmnjmRLEMwy0OiVoR7WxM9DilWI8+RQB7MGYIhF/e3tpty8csb4rEt3bUVWBLhh2cgIjIhzG53imQ6p2paPfuMxL4oB81d9bjw44DzpEJ1qfv+/+DP+/qf3mFsxNFUGWHkkymCdIgxq9tpTxmWLtShhPVzyTnTC3eiYIwaclC28w0Bs/d6RIA+UGDS1DsSc6LNqA70y6FHJ7u6E8vMeNx8c8vrNGt7c4F+XJbReGfH59B3t55psHZZZSLkMAMTXxmqMZwnaJX5QM+on5EYTdXOWaYgZfe8HD92gIvpRh/mHhdy8tdxo1cBStgztQ7mdy44i25S2q/tGInX8JSy/XtB9ZGid1SyuGRa3a1QlyFIxgK99/TkvX2ySvOgRThSLd2paB3IrZxuWYt0RTjTFpnhzhBOpUqIjkpkMJTevt9SXEHDVlo191ZGHefRlDVrRe1mSjcRHxF/JbW0Kud1MJjKZ3iuLv5T/9xJpi4MVeKljfsPgL/8B1SoUUaqu5e+KT5t5baQIluLw5KWy9LahADDZjswGFxbbZV/oXapW7F4750brnBvBOS2Tix2fCzgrupTO481yQLLoM/2oYPudMwatjNlBD9MrqHKf1onCGkjXRcEcnb21+Ba4XH4muTCaChXJzBKdCgopC2uZyXRjRluMHNmWUO68VKKoqmENvYrgMCDfri5lL+sfa8qOwm98HKkVduUzHnfRvZJ8KQtt5TXeJKXBaWG1Kwd1y7K9PeXRwTauEG+Y6aLFtRunbD045Q8/fZ/27pLyPMYfe1RB4/8ZOTrtnLT0eXd4zMqGDIMUrRzfbL3g35z/Ml+Ot0jSkPYTn6LvhNDeL/G2MoLHEct3KnSmMSsj2RK5ofq8R7FmmRz0xKntWka5CvAmPvWgwpt52HZNPlR4icYkGttvhMe1xhWyTytnIdYoVq97eIcB7iTCTQJM7/e+99BMPWn7BmK6Y+PGyaldY0cVq22NzjX9VxXjD2SpuLgB0blUCT33xFsj0MRjR7qh+fC7jzl5ss7wkeOpHtF64+E9mJNWAa0DIzuhttyg0Y0F5Syk/dpgMnkAioHMY8Fc/j/Za3ZsRpafF0robEMg7XAiQ+zgaYqXVmAM+Uhej8DzMqcEC6lmddDMKoEcaPG4cOQ93aBfvTwAACAASURBVNgNyPK57DuGj+X9cJ7C5NICVi2By8VkhktWSdVpDGxCqXidl7LzMY21d2cf8nsFvTCn62XUGCoMCxsxq1sEquL5fJ3R18fc3T6hH2bsz/uox20KPPp3JqzSGD8RDmK6IbOkl8h8VqzVclHGb8nOVUt2cF4m64J8TZbw3kre3+is0aHlQkq2dxOq6wWFMngzT5TfHUfviUfRF2V77yvN8kbjBq3E87NYExidzKP9XP7Mv/yVv+bJcgPCmvdvHfDvf/hTfvLqBlSalfXRJ6F44BvH99//nI+/vMnJuC8+My9i/ulv/YQXpos7EndoGzrywqMofJ5MNiUVxhh8Y7kZn5MREAUV+8s+RRUIyKU03rmHmwWgFOvvnzKtI/yl2GLY9ZJqVLG+NyU7blOPxBxYp5q6WxMeBigrfNy6K/u0qmcJTj3qQc07t46ZvRCPkeDMQ089gqkWQ9lMngNzv/v9h70XFj+TRbANNMFEE8wVzmm2/lxhjUGXkI00Gz8TQaCfgJ842kcloBtSr2t4d5qTp+ug5IEu1qT6VeMIk11QWwT1ah9A8GVItsWlM1XVlW4j36qxnqJ9qMTSIBEAoOxyqXoue072RZkmnEOwtARfHRJOSvLNNtFUmBVeejFTyWu6aAVN7ihGEmFkSkeypfEyx+yeE6u8uwWkPn4ioEI0FtCkc1hThxLeeBFUmG0I+njhBhyfCifRX0iHoEvZsx33I7bW5/jGSqoNCl/VrGxE6QyVMvSDjNIaQlPz/HQdNQmwoWN9Z072VRd/5WReHrpGxSCzTue1tHOmkPZcGC3SVqMh2ZH3UCG6OhvIZXdhQdc61JSlD9MAbzdFH4UU2xX9LzzmHxaYlcFFlrzdWIVvOIorBVUMqlUR7ov4Nt+tUKXmV299xc/OrpIvQlJl0D4cuZb4bBRG7L6PPeJ9j7MNj1IpbObR216Sd6DfTXnxehN/Ltozp5HIrtxgEw8990gCzVZvwYedN3ye7PLvPnufIKoINlPmLV/wgwNItmWHlh20qduW/pdCcWM3w/iW1cu+OHQNC2yt6T4zcuFnimK7wg5LWk/FTaAeVuK0ZWDxbABA74mRLmCjIjg3FAPp6JwBc2frtx861eiChpq1LyraRxY/bWKCMkf3VU3nTUm64XH6GzIP5GsyVwVLh5cLu7voC3Axv1cJ8DAVJn10IusBfymzRd5XZHdz8g3L4HPF+deVBF9oqTLFRiUPQGTpfeG9bYms+LbHJ7KhDyfCNul/JYvldEvh5YroJEU5R5AZvKQmOsuoOgGKpo1qSTWgOa/tA4ep5ENQtSCeGz+tOPlehbMKb2oIZzD6oiDdEOBIW2mZTOkoOw0vMpO5Uxx5hT9YR5DcFWaKKJkVxWYNkeP5ap0b7THnZYcrwYRx1cE6EdXWTpNUAc8ma+gf9QEoNisWZx28lfgoXkDydUPqzvZKsi1LHUqlKvtyCL1UwKeykcXkOyX+TPLHbOmRXKvFuzGEqgv+XCpi6USGc/vBPvXNnPrzHuWopr2RkFmPeljhTT1crxJ+ZVyLRz3iYlYMLV+7/ooff3aHbz94yvPHu7xJe1zbnBD3crrDhKQK0BMPUyiWyxbv33/D2YsRuTa0uhkvj9fw4lLsAAolnNdC5mpdCnF58/qEll/wK92n/NH5exA4Zi/7VD64TESvRV/h763gLBADp0pyDlZ3C9wsoHYaSk10pul87pHu1RQ9iA+EqF13ZUYN5jK/F+sW1xJ7Z29hKDdK8h7Nwh9GXztjXkSXwlDT/oPffVhHmjrQRDN7aQ0dnZe0j3L8lRW2RWmpI4/RLwSy9xIIF47lroefQbIlClr32xNKZ/DOPTFKnUoFq9rSnsSnjqqjqLUmOPNYXpP5xpuLoU90piQbrEk9kRIsM5GuBF7Otiy9p5p0Sw5H2ZXl+u5fZbSejFGJaMCIQ1RpUbXFBR7+siZYWKrwbUCDaxa5RVdTtjXtk5pwVqOsY7EZ4PoVlafZ+GlFHYmpZzSzOKOITysU0h7kDQH5AsUTFoLQvbyZtMR+4vATKGNDvJmgFXie5U065HprzHHRk4rmDC1TsqpCjiZ9up/6ZJvg7yUM1pesltJGJXcKbOMo5i+lbb3wyS8H4q3vGhpYPnIy2/nQfiVmt+Frn/5TR63F6ThYCGfReVDczGl9FeAvFePjPvrjFlVbIqKKVUD/+gz7tEPVdty8fcx41pYcg4boXEeyf/14/zrB1HDyZJ1qp2AwSJgs2/zGlWd8Y/CGY9tl1VZwHlD2HUerrnjWnEZURmErzd7WlOV+F1PKjtJfyaqmakM1qnj3yhFPJ+t8MDwg8mswijevNiSUojBgxPVLnQgZ+WJFVPaBWhOOJb+gva+b1ZWgp60Xvuwpm5VKfCIXrA3B3Ugx+xFh4yamCqEOhjM5B8lZCxfX+DODP9OYzV//wcOiqxo3Wc30rmL8AUweGJKtCDBUbY985NM5LPBnJVXHQ9dw9kBEmKsd8VJPdy36SYvOE8PaFzVFz+AlYh1QbFg6LzTt4wovExjeyxpLgZ5j+5tHTDLxbnC+zH7BWNqTqiW3cvvU4q9kRku2FcV6jb805KOaq39SU3UM/qpGrVIIA/Q8QZcVth1SR+Lpf/5eyNoXOcGsRFtNsmnoHAl1zCnwCpk1na8oeoZqrYLMMPtWxey6Jjwz+KnDFCJX8Zc1/rImW5PKG04F7jcFogrIm0smaBahhez3wm0Z4DtBTloF5PgsqhiHYjNYMK9ikirg6ERcoPMRuF7FleEMPSwpXrehbtjhTZ6Z0+LdgpaqpEqxc89HIvGxvqSLptvNAnvNEYwblcZ2I/O3inSvZPj3AeG06QBiyauznsxiKNBrBcUsIr6xYJWHlKtAZphBRT2QCN18S5ypgoXMx/5eQpJEGGN5PltjqSLGaYzv1ZTHLXZ+6Yjlmx5F7dF67VFECqxmftrBn0ub7qVNwEaDWttuzZKAovRY7yb8z59+hBdZ/GFO/qQvBIWmu8pHsic2uYBnRV88ZYq+pe7XFDsVla8xd5bwOhb2z8BdhpjQZAOubla4hS/RXHOhDeabF+GMsk6Q3a3DW4kvixl+7wcPq44odL1EBn5dypxWDESeEk0t85uGsm1Y7QWXcpb5u058PFJ5wIqBRN9arZnd1mz+tAbV5E9bRXqvIDzw8DKHqgyd15ZwJv/e/LzDzl+C0xobivNt1RGvvvY+lzw+yWiTsh9MNYMnNdQGL4Nkw6C0T3prSLCyqKIErSHwqboB6YZP61S0ZtqCl9coZ6hCaQG1lepWB6KyzQeK9jOP4m5Gv5cS9zOSWzVFGuOUVJLVloefOMK5zHfhrFkPNORmnMxA8ZmAMF4GyTaEGxmVNWTWRytH4Tys03S8gp6X8XS1wbIMmR30wMlFVndrdoZzvj56w6eLbby52L1VPYvtV3jDnNIYwjPzlnPakpWH86Xylh11maxjBxVm1aTXNEEcJpXgRKfV5aK7+1oOXLFXsHv/lEkRUVYe5JoyDShSYcbbfsnvfPAlL6cjqhCGO3N++8EXfFau07o9592NE06WHar9tkQahY6y8pjt93AKqk965FtiQ1hu1HS2VpS1IV5LyItA5E5LMKXIkKo20KlRxuH7NTf7Y1qdgq9ONlg9GsrKYSmZdBcJQF4qdhDB7B90WrFFp4ZvfPCc/UWf8LOY+ERUDMnNWuwMhyX1xTButeTdTZvLpGlp67ZEZdWjivYLj9ZrAf3iM4fZ/ugHD+NjuamEeiWto7+C9qEY11jvLQtk8LQkOi8peobRZ47OUS3wcKTw5xJDi2roTJER7Zav0B8sMF+2KYaK8S/XeLMmZURB+9iSbmo2/2ZG3Zb4nNWeLJ7TBxnemY+fOPKBxssdk/sSbJAPFem6Jj4TFv3kgWX3P3jDSz0kSAOMDiD0qfohNtQsr3q0D0qm7wREU4s/ybGxT/sox8ss+dATP5RaMslsoJi/L+xt75MY+7JFcaWktB421OQDaRdNqciHcnMFK2mtnZH3TiGVoHUss1wdKIohFC1HXnos0ojTaRftO7R2OBSxV/LFZIs3L9chsngLI59PqGj1MzbjJY/ON8WubVixe+2cZRLBcUR8aAgWQqmT6i/7TGXFSk4sHoS03X6hydYbEsBWjfMdddteCmVNczNXLVmnBKcek1VbrNpR7Nw7hVZNfRwLM8S3vL91yFef7+ECR3nY4sn+DjrVbF2d8vhok14nJfc1zH1WWUie+piFkbmz7aDWbL57SqkU/+V7f8pfPr8L+/Gl1bq/amLD4mYXqxA3qqjmNze/4ijvs6xDVtqDsKYeVVRaY/tVk/9nMYkmuVXJwYgdG3tT/H7BJG3h/6TD8mZFdq0SXV0I/qmHLcXtqhpV+Ash34NQtVDQ/4pmThdEt2oCUPxVg1YPv/+Dh043CNVcjGyiM7kxnJE0yAvgI5w5wmkFSrHa9ggWDucr2gc5zjMyhC9lIOwcyLwSLBuP+KOI+NQRzsA5Q3K9Ameomx1UOIXxg1gOz5bAxmVPER74jQuulHw/gcU1uW1bh45gKSyOOlJ86ztfEpqKV2mPznNDPvCwsYf1NMmmx+hxjsktwdJRtzQu8DCF5ICZwjK+H0js1MqxuqLZ/uFrdjamzB4P6b8UDz1vP6D6WoKbixPzBTfOyx1VR1PGzSHbfGtpp0veRhcZmQ2qELRxlEmAOg+I1jKudSc8mW6Q2JCs8sme9Wi/8CiGDi40fLFlvZXwYrIGhSEcZqw+G1EH0qqG5zIjlG1pU+sLVLErBqL+ojHd0bKIN4UAJdG5pvZE2X6xYxNpA6RXqsvEl7rt6N2ektUei3mL3Y0Zk7TF/dsHmMDy6eEu6izA7KS4tuXenQOuXD3j9XRIPo3Ia4/feucJr59uE5wbqo4lPPMoh5aqY/nWR09oeSUH4wELL2ZcRkTbCfVxhJ82VggNBU92etItlUrhtS1p7bMqQ5bTFt5ZQLCRsb4zY3d9htcpyZyHLQx6VMDSR7UrkpMOQbdg+dWgERBrqkhMkFS75lvffMJ+0cWi0KkRA962Rc89ek+FrF61ZPYr1mvRpo0qvHeWrAJfvDJ3fukHD6u40aCphvURyk1cDJqHQwvTPZxbnK/IhwJJW19RRZpoUlHH0hLq2l3KLKb3ITxXmAqisRUw5LzJAT7WJDtSDbr7lsPvWMmXfirM87LTSBqcQn9jhtqXg7raMaRb0ga0Dx1lVxOfQjSG4S+f0/YKXs6H9D4xtA9yvGWFl9aYSmHSGhuJAWrZNhz9iiE+lweq6hryoWiwvExyus7HfQ7TLv7dBfMwIpxINVhdcQTH/qWgtH0kcn1dNhqsqhGgRnLZVC1p3Tr7NcVAyMH1oMbOAlSuaR0ZlkNHv5Xx9NEVbMuSFAH1SYQz8uHpUihAhdZErZLT4z6mV1IuA9RGgT73JQ0m0Y2CXUCicN64YbUkxrcY2Euf/LIrkL6/lP2ilyiKNdGttd9AuiNweuvGgnwVYlsOF1h0VHNr+4zE+Xx984A6gqdf7LJcxDANcNs5YVRR7beYap9vb7/krOygQnFHfvJsF7VRQOJhu7UYExUavZlzsupwuuyggLXuikE75eDZJrbxJKGhvjlPVhrKNdBxZvj1O495lYwYJy304zbFeo3aj3CfdTiqO6RHbVzq4QIHc5/4yFArjV4Xjl0VQOU1lLKNgpvXTplMOrw5XsNrlbiFLzPqOKD9uKF4BYpiVBPMDFXsaO0b/G9MUU/aVLOQwd0x1Zs2Zu/+9x8qp0g3LgLJ5Qcpu8KQV1ZauyCxZCNz6aZUDLTMTQrCaYXzZJemkDknWFmiM9FmxecW5YSsCqCdumScBzOY3tGSf71TCfUlkU1PMJWvL/ccg4+NvK6OoGjhpCG1+kIRKzuK9GrN50fb1IVh7SdgkhIXGGxkCOYFTiuqjkfZMXi5yB4W1zX9ZwV1JNZr4cISH+cc/brPxieO9huFO4pJ7+ckW4r8bkH0OAbHZX6yl0nlLjvq0jtSLO1gtQtKiX7LzHxJGu056thilkbUA5Wi0IagX5A87bFMIux+DLohJW+WsrOJLFhF5SkKZ+AsxMWW8GlEdTVn4698MS2KYHWrxNxKaP3CJ1sX/5Xkao0Zlti4lkzr1FBsVKhKeJRlR1To+Zowc2zoCK8vMcZSH8XygAcOFVis0jzYPORHr28weToCFO/cPyANFfd3jjlftQlHGXkS8M7GKV+ebZM+E1R1tDvDoSjSgGAswRPdZ4b6Wk4xj7CTkA/uvCE0Fa/nA7KJgGTRqdhMqEZviJaKbXKJ7PrWO085Kzq8PFinisEfG3rPhf2DUnSfC+lcZxI6ku40kby54Ydf+xQdO6Y2pEIT9XLG8zZbmzOGwxVZ5aNfR7T3NeEEsk2xPa+uZ7SGGSk+LhQn5zTWBEceNoBsGoudxt5733/otByOqq0adXMTyjAUqlXe0/iZY3nVEE3EektQLtXA2yJOdE2kkinEJ9EZdQkOqCZ1tuxIC3LBynC+zALzrxV0HgUEc9GKhXN3yb9bjURqnq1rySi7SDix0t2EU2FrbH3jlPvrxxx8vEv2u0uypEfVEbTRVPI9dcsjnJSstnzaJxXBUjVOxjVersj7Bq9UTN9VQr49gmhSoxYB2ZZlc3vGqgfdn/nEZ9B/XtM6KVlteYRzR+ukwvmy5/JTCU20RhG/9oQ1UsjlUPtiVqTLBs2rFPF2gv15F4WAHzZuLOY0+GtiAW6dYtRf0WnlLJ1Hu5+R9x16PyJfh+qdDJd6/Off/VN+/MUdrDZ0DkQRzr0V/W5KlkuiZV1rvLl4ERZ9R7leU27UUClaN+eUWmOdIhvH3HpwwFz7WKdod3J+becFr1dDJqsWtVLobsmNtXOc0rwaD6krQ7+dsTrs8Oh0i7I0dHeX7GxOOT7vU5cGb+xTdWwz5yiq2hPalVL0OhkvpiPmkw567mFblu4z+ax0TRNtrMCILMqGcPfmAf/Ppx/QHqaoFzFV78IDRKRfTium71nyIZeqEH8O6c2KJ8+ukP5kRPfejOJ1h+BJRPjKZ9z3yD8Z4j8NBbHMHJMH4kpsMnGMLlbhpe0hQHjgEZ+K2a0o2hWm/09/+PBCJmIKkemXbWl/grlUrGDlqGJNNpLFMM2q9+LwxGclZc/DFO6ylDsjoIKf2Es/CsWFP4V8XbnmTavBOY/4RChNXiYIo9MXjrhiN3DpEV9zqYoOlg5diXL4o9/6klkVcRjFJLMYdy9l2fJx2hCdW1GOtzTj+4F4TvQ0XgFF11B2DPmgmUNCUXuHvzYmnbYp+hpdOrK9mtUsptXP6P2VT/dFQr4WsNryWf90ia7loorOJccr72mSbfnBvUTinJwnkU66Es6c84VorGqFGpaki0hcwWKH6wpqi4beKMEBV9Zn+MbSDzPGSYuroxnFn61davHqyrD94QmHeZ/Z0wH5dk3rUDiRbhayGMJ/99G/5W9nN8krD7Mwkmi6k3Jt91xY51rz4ZUD9t+sg+fwWxVoWM5aqMSj8iA3Htc7Ew6W/cv5c1bGLLOQ7DzGxBWV1fi9gjIR48YP9g5Iq4Bf2nkDIeKXkhlsLC1svVVQlYbrO2Oevt7EC8SctEaDdnSfy0N7oZi4UJj7iXQXa9dnvJisUSwCSUQ1Yveej95aW9S9mtZrj3zkWN2qqCJxZnO+tN3JpEU4bRJ/aih2KvTKEE6FcickcU3QkDFaRxdLft3sn4X/6SewuCG2h6oGc/X+9x/ma4rWsfTPZVtjiresiaKnLxe6XiZt0cXXlBNCbXxaCkMhkh5a128ffmcaBoN11IHE6qJlcBcWvIScS4KmSGx0I9wEmlZBjGrEy6RZiAYCQOhaDmQdKk5vGz55co3g8xbf+NUnRGFFb3NFfrUkG3dAaTlUXSFHXywuW6c1fmIpO5rOQUk0rfByxfAfnXE26ZNeqxh864z14ZLprI3yLWt/Ysm2IqJxib+0jR+/j7+sZe84MNhGPlP0Fem2iEWX1wQsMnnDnImE+Q5ivpnnwlywsSPsZ6i4IurmrHUSKqv5Z9d+ylHe59Nf3MBNA5IvB9ShcBjLjrB5JmXM9PlADmurpmgb0an5wMLjz3/+gJVvUIl3ifxWlaEMFIuTDndvHPGdtSfkHcO0iPG8mvTTIe0bC4hqgqCmH2c8m67x7sYJifXZHc05nUgCy/XdM07O+kStgqLwGKytwHfkzuPrawf8zeENjl+P8NsltTX4/Rw3D+hfm1PVhlUeYCtDVXhix1cKstd9IcEYprp4ApsFfSa72mzTsnral3jivqCLJlOs9izhREAeby4epfntnOAooBzUEkzoCbZQrQt9qm5Jxaj8Ju+gaNZUjZFu1RU3gHz4NnFWl/IcL27ayzjmaOwEBd75xg8eBks5vflAs7oq1tBVV9o+gPZJTdHT9F5VMoe55kHP5GaJz6RdckZKpcmaF9mWg+e0HJAqks2701zurHQp/6/c21vkws8QLYfKy2U5rK27rKLu4g2/1IXBSdGjd3tGtVlxmnRY5CEWRSsoWVy1dP/Ww8udtL9WUTWMktWuxnqa2T3H4qYh2RYz0a2Pjtmv27S/CBlHAdaDsF1QfdGjcyjuXya3FANfKFBDg1KqQRcVtS8zRT5qMtRGouQ2lXxwfhMqUfYtrlsJqjX2qXviwlQvferSg0DAkcCv+OboNcdFj+MvNsTzshJ+ZR3KzFG3JK0VpbDtmsHGkuIsphrYS1ZFeq18qxXT0Lo5Z3dnwulpj729c5692eCVHfJLoze8v3ZIEFpeFX3yRFyAy9xjfNQnW0Ycp13Wugl7nQk318YUeNzrnRJ1SqZZzKiTYp1mftRlZ3PKJG8xXrapM4/eMKGojcyf/YpeO6NGUz7r4lB4Zx61URBY7r9zQP7jvpDYS/d2dGkUCjZQ1FcKklp0OGalqQY1qjCU26VYv8XSoUVjRd5RtPc1qtQEY0M5lO4hPBLFcrZdU65XeHNPnscQilFDb1uqRk8pa7FwIrkDxZqlioQSGI0d/soRLizhrMbc2f3uQ/HEaJIoU2GDS/ypVI3lFUPnsGZxTZazykEZy0EzpSOYV9ShwZTNgSjFZFRZ3v5e01c7xduWsZnjnFao2l36319UKWWbytn8WZo/S3NQpb0U2+yLNJjxrsbux4Sfxix1QGI9FklEmXv4J4Esl8cF2skN5C8lj8160hJEZ9KOeBmY91YsipDOzwI6zw1JEbMKNeGRRzgXtUPRl6pQdA1e7rDeWySs7IgCwPv1MdHfxYBi8KKiasjI4UIszKtY07q+oK6MGOQYJzlm00aOkfjU3ZpWVJKokHkZUQxrsmlMPazwZ7IYRQlMb3KxPHORI1uEEtUb11BIFriqxVjU203YujphlYWcHfd458YJ3916xDFdpqsWfmBZVBGPzjfJJjHhoY+Z+HRvztBxTYXmwbUD/sWVH/G/PP6I87zN2bzNwkUczHpo7ZgtY+Kw5P1rB7T9gqzymWcxXlyxPOqwvjNn0Enx/JoP1w/ZXwxQ/RLnO6rIiRWfcXxw5YDJX22IOVDTyZhCfvVTqUaTVoA39fB3E/RhKPq/YU38MqD7utkHdq2sBrQgs/GZouiBQ0neXqXhzkpciiMrOrNrCW4aYDJFtV0QNh6kXiojlj8XWw6TSiBi60zg/mxdNyEoCnP1wQ8e5n1NPtSEC9dQbuSbi27jYTiXA4MVe7OLgRQlC9tgVoDR6MriLyps5L1tG1Xz4DWVx/py+6qL4t+wKC56RVPJ7XRZxRrFt4Arbw8cTeuqrRzYi1mw94Vm+/fekP20T3yqKGKxHPdbJVUR0j6yeEmFDQxFV6J+i/7bndEFq8MphXc34fxggL8wxGNLfOZovzBCSNaKfCih9nWsWNyC1a5U7eldhbLi7Z9tOuK/iS+XrLr5WcO5u2S7lG1NOgA7CYleB4QnQucKFg1YlCtKT1N6MCtjXu+vkx+08eea4NyjGLhLz8uy54iONcWGRXdKOqOEq5tTJrO2AF3tmpt3j5gkLRywM5wLsyKuuNkfUzkj0h2l0Qp+8aPbZKHCa5dUhUc1rNnenFHWhn43ZRCl/J+vPqQqDekqxNaawhmMsXSiglZU8t7omNpppnnM0aLHe1tHTPKYrc05V7tTjHYs8ogrnTl7vSmp89nqz5mkLTDQHSVUGOofd4XRkzp06S7n/mBRo2vF4p7oFQtlxF0ssnzzveccnIzEj6aWS7TqyQ0u4R5Q3Mq4evOMTjcjOe7ARNhPvb05rb+OsbOQYt1Sdy3dLwLKHuQbNcFckw+FZZKvX1RWwRJapzWt0/oyFcjcD779MFiBn1+YclYES9fc8NLSWU8ePq9wly5LupGHBAtLcLpC2YuZTKOcw+QWXUrFu6hMAv8L9E9TxQS1FPjfaYWfWrxc3kRTun/AlOfyP+WEkmUKqbx+Kjs6k0ll+5Xvf8aXX16ndSbZYmUbdFyTx4r+I0Uwzqlb/qVWS5a2qjmw4hCFhuU1S1F4qNIQTSSJxmvAGF2Lo9ZFgF84o7GnE8cuGzRgTugaPZjQyUwqw3GQCFAkmXKarKeIjgUhHT6qyQf6Mq3Gy6AYOeraYKIaXrYIFpriRoF/6lG15PNpXV9QZL5YsbVqPL9GG0fsVxQYusOEX7v5nNeLAXsbE5Lax/cssyTmWzuvuNk659lqnX6Q8YsneyytT+kMLHxs5uFtpWAc373+iOeLNWK/4k7vFGc0v7b7jCujGd1Ozvvrh/z29mN+Pr7C2Ys1umsJbS9nK17yajHkg9EhgzglMDXXWhPZWWYdFlXEMEzZXw54/XwTL64I4pLQryhqD/NJjKkc/qoWonslz5aXSds3/9CiMsPGnXNWzkNlHgdnQ+5//RVX7p7wMh2g13N0KMEc3u0lWQd+++5jPnl1lcW4TXRoLlN3Zi0P19CuTCrIt+xOG3PfBhAshsK/vTgzppBnupQNSQAAIABJREFUwnlC7QsWFead4a891A6U1lQtI9YEq+oSkChbsoNZ7WqiibSXyiEGN4EiHlf4pwvwDLqocZ6RA1TJ8lrnNSavwWi8xEr+Vtl8rQIvtyI3ycXDHiNfV3VTRZuK6GXypjqtMJVkG8PFvKgv29Qq1rz3nae8//XnPPmLG+II1VKUsUMHNe2vPIJFRdnzyfv6Mt7o0qIheNvWLoJQdleFRhdC1nVK3rw6UpeH3jZ+I65BCJ0WyYyuhEamrNgDtI7k3/Kyf1DNukYqYdtSdS39J4qioyj7kh12YbNX3slxhea9vUMOVj3sjlhXudqIydB7Ceu9FfNlC700BGsZw57YXF3vT3h/7YjP/+4Wbr3in+99zL97fp/fvf058yrmen9C30/5159/g8QGPD7c4ocPPuMo7RF1cza2Z+hOyUdXXrNwId/d+JJn2QahqdmMlwyClL6fcTWcMLcxtdM8Xmxxf3jCmY44GA/otAquxWN+beM5L9I1Pj7cYxBn/OzkKoXz6EcZ3SBDK3j0YgfVGN34xrJMQlb7XUafyfPjJTU4h8lrgkkmF3/lmNwKCW8uqJ2myAJcpVDtiq3BgrO0w3zWwqUe4asQt5UTBDVhVPL6j2/gTb1G3Q/tI1khJVfFKFg5AZsuKGB1JKuBy7Si0yYDIhYF/4XRMAraBxn++Qpz++pvP1SFyD3CsxwbGLxliSksRd/HzxxFT9E5aJbNdWND1ng/mArqvqQtYjS6tuhVKS3YMkdnJaqWdg2lLt8Yf15IdZvkmMzirUpM4QgmOd68xJTyRl5wLE0hch2lBLW7eHMvK+FSyMIKePd3nvFvXn2dWdWi+1pIyEUX8MDlPp39krLrXZKLdSV/h67lsAfNIagDCcJwQLDQl/biFzcZ+qKNlUN3wTnFNOLW5rXLiZR+Pp7Wb30nPUXe05dpN6OfC/uj96YiWzOXTJSyrah2KoJ2QTsqmL7q40rD1++/5JgYu1OgjWV81MO0K3aujTHG8StbLzjOuozTNq8WA37na5/z4xc3mHkxe4MpSR3iacs3By9p6ZK1/orDpMftzXN2ohnOKH7/6ie8SNb54ZUv+Gy6SyfM+WR+ldgrGYYpH3b26XkZoFjZkH/Ue8xP5te51p7gnOLR2Sbfvf2Yb/ef80H8hhvBGX8xvcNOd8731z/nLw7eYdhO+cebXzIuO7zbOeIXs22G/YTFokU6iQmexVTDmsGXzRhRWHRRoyorMihrUUpx/k0f06oIvJraaWxteP/WAY//6iZF39IfJqTjmGqzxKUe5XlMdRrTfwbL664R6DbqeyDdqwnOmtjfbZnllb3wgBEFe+eNdCXJrtjx1ZF4tbRORKcZf3WGykvMrWvffahnq8bMxqK0phiEeMsChVQKOcWaYCF6tXSz8cKoYbVtOP0WTN/1md0JGX8QMnkQs7gZMbvbYnGnzXIvxkYBKC1tYKCxkYfOa5zRmLREpyWqqNGrDFXJG6nzGl1YwuMl3kLoVP6qIlhU+IsCL6vxVhVeZvGWBd6iRNeKtR+c8uMXN7BrFfELESJWsaYOpZXsf2Vxvm52cQ1zv0m69HJp6WwohNuqa1GVxl81MG8TkGEK+d6LqiqgTgPSOC5lMhI0LyRfL3f4K0vRMf+/tQRK2o4rf74kmtR4SU26GRDOhQqGUbjbGduDBW/GA3aujykjx5tnWzjP8cs3X7H/6S44xb13DrAoSmv42as9Vodd/uXX/oYwsDyeb1KiaQcF2/Gcm61zjHb4yvLnZ3f4ztpjnGd4dL7JvcEJLb/kD/ofU/uGLX/Obw4fMwxT/pPNH3FsB3yz+5JJ3eZPTu8yCFNWdcjPlnv0/IxJ0eavXt3kn9/7mPOiw93WEf/v7D570YS/nd1ikrX4dH6FwhreGx3zb7/6kP/42k9o6YIy8FlVIYtXfeENRuC6FcNPpQMyWYXOq0ZrWIPS1J2AbBjy9W8+Y62V4Izizs4xr2ZDqn7NqCMZ6p1RihfWqNBSoXEtSxEb/JUmH1kxeV0oljfAmwmR2Cmh+OlKxMXh1NE5rMiH5tK6PjqTm9b5kl89+rym8+gcZgtwDs+czXFhANbhfA/vaIrKu7jQYNKqIZkqlDMoK1ZnJmu4fZV7G6buJKjCRpK8Ua5b8d9vAI/VnqbuKLxpS2D8qkERm3nIWynCicPI5Siwf+XwU0s4CTDLAlVZkb1czGpljUoLtFZQ1aA1LjR8Pt/BC2qiuEDZUHxC5pqqK7bXdSzDsrIOU4pNuckbNEopcI5gXlO2VaOPsyLfaaqUrpqdX4OM4pp218rPq7W4PZtckmt0LahmFSvssql+/wBBDRaOYij/rjfNKLbaAmFraYdLFGVp2G3POP/DXfTnIYOOoWdgdiviJ0f3qDYLrl85p+UVzPMIrRwfXt9nVQX8T0++xaCV8qubz/mZusrxosv1zpgP4jcc+X0+W10h9kqs0+TW41/d+yP+r7OvMQwS/puXv89WPKeONP/b0TcYhQm3whNuRGd8nuwSm5L/9Mpf8yjb4elyHesU+6sB41WL/+Eb/ystnZO1fSJd8kfVe/zh9AP+xe7f8t9//gOKwuM3rj/jOOvyn93/EU+zTf704A4frh8wSyNsq8YpQ+e6sCSs38UU9h/M6g2xwTeUPR9/CVnt8cnrq2yM5pwkXTphwWZniXOKG70x8zLiamvKx6dX+fdu/4J//eNfphpWROc+9f2E+qhFugVYeZ51IQBW71VFsu7Re24FJGxp2oc16ZpIo9LR2xyB0SeK1rMJLg4Y/5O7TO+Ch3MilPQMapngBl30KqPs9VCFBeeoIw+TWXQuPhkokQHoQh4arwltV1YWgs53kHo4zzXh8G/BjGpYoQpNbRp3JEcTLCjKVl0q6qiBKJWQTbERykYNtxF00RieZM0mfuXwlwKOeInlZDqk086obUP3qkUTlG1KYF7ZMfhzUUybQvp+p8CkVuZUeMtmyTUutJLq2JiWilPxBXtFDp+ycqM4LWsP2ySB6oasra3A+VWkxV/Dvb2Eqkhyp5fX2yLRifVleo1yzVPlFC8XQ6782YKiH+AvwBSW+BTG74WU05DzL3aZLWmSTxyf3F9n+LkieWBZv7tiWrY4W7b5V/f+iP/2//hn/M27N7BWEwclk1mbx8cb/P6dT/k02WM7mmMbpPCXBq/5y/PbfGf9CYdFn79b3uL91j4Tv82OP+VPZu/yze5Lkk7Ap9NdrrSn/Nc3/29+nl6Xi0dZ/npyG09Zfjj4hP/q4/+I7916xLhocZ63WZUBf3H+DtMs5kp3xt8dXmOtnbDWTkhKn26YU9YG/f+x9WYxlmXXmd639z7jHWKOyDlrLrIGlkVxEAeJGixT7TbUMmTDlh8asNsDjIb9YEOw4RcD9ku7AcOw+8EvstEDYEkPLaEttdRuSWwNnERSFEtVxaoiqyor58zImOMOZ9qDH9Y+50ZRHUChMm/euMM5e++11r/+/192gvJB0sZWxn1JgNA0GwbdBVqfcH33hNQ4xknL48WUs2qNF7YPsEFzsBzz9oPLvHb9AT4oXnz+EZvFkh9e2QVnSJ89obUJqXGcPlgbrPJdLmupWdfRg1RcwIKC5RVZK6YSA12fwqOf32P2hQo3c2RHBvPcNanRMJrQSN1EnuLHmYAbRktObAXSdoWhG2m6qRT+1aVA8eIZm1fPSbcaLj11wsblGe0koKedcPZizwIPqjVit2x1bFKHKCRVhESoSX7kIQGMkFhNpXFTL6819iinxSMwDjtotsV0Zn5dM7+pMTsNRntamxD2S/JzLyY8EzNI7Ef7XYwoF1ng0hTvWwrnz8WpNkYEsH3/r9kUojWs+nl9LaZiG6J/jaCU9PmMtELaNdG5NeurUUn5TLRjPpGTsu85aifXvF1XFC/OOPxwi+lthek8pvN4I1nF+EHLxg+WLG4UbLzfMb3T0GymXPoLy/hhy/ixIXxnzJ33r1DPR/zlH75MvReo24zi9RHcrLmyec7h4w3u/dHTvL64yg8eX+aDD66yvjfn6uiM1w+uMQslt8530Caw320QguKf3fsxXlg7oAsJX3n0Ij+z9z61T9nLZrzfXOL95S6vn9zgtBnx2sYDPlY84s32Bg8X6+yWcz443cEFjdGBRyfrrI9qXNBsFBWzNueptROujc54/2SH8Z8n6M6jG1mvGE0oUpRSuFFKtgg893N32F+u8cL6IRtZRVCKz+7d4UmzxuPFlMPTKS9cOUArOGnHpNrzYL7O0fGU9qSgrnIu755Rdan08tpUWCdbsl7TpRCus3O4/LUTDn+8ECQytmFk3oN4evrOoMZWepe/8LH/PoQsjYW9QrUWNa8gTQhpAloRUoNqLHZrjBslnN/MsKN+F0f4upTuubKrU96VAmf7HLyJAxkQMqYtA8GEOK6pEwVf5tEx5csSR55apnlDmXQ0NqH1htYZjApUXcrZvKBbZtBqzFxSO1PJht195YCmSzh5sM76OwnFkfTZTl6SCHP9jzvS8y52xBWqk53hywRlA64w3PoVjTlNxAYgD+RH4jTlM7jyDVED9EhkSIiqa6mrgo6IZCIpqs2lMd9OoxVdvFamhWQhaK5pBIkdHVp043GFod4yHL8Cn//S9/nq9z5OdmKGSBgM2InYlOtW4TM5qPJjiaT5SaA4degmYEd6iNRJJQwG00qqkx83+NzQTeS798LVdO7Q1ss0nsqhG0u7VaA7T72dsvjbZ3Tf3KLa84yfPeO1vUf829tv8sbyBu+cX+aLWx/woNng/dkux9WI/btbPP3cPj+z9x6pcnyw3GVmczazJX9253m2pwsWTca0EER1bzRjM6s4qCfc+n+fY/v7UpfryqJ8iIoRQ3Upi2wk+Pj/+CYn7YjWyXrJtOOD420mRUPTJcyXOeuTGqUCO6MFn9h4yL3lJkf1mA/2dxiPGnxQzA/H0CnWfiAtl7NXOqY/SLn+e09orq+T3z9Dnc14+MvPoXzg9CWZ72ea2AxPAjtveE5eMDSvViSqaVGdBe8JRS4nRZpA6HMWUI2FEFDOo1tPuoxW20mvvQqoucJUkakR+ZA+lQZhaBnG4PaTJrM4UdSWML6V4jKilQLYsqTpYJkHzpwMAve5pIxAXNQiglTxS7ntDpN5ghJZe92mnB5NQIfhJqRLT3ZmqPa8gDtnsil0Y8EFYYK3Ht1aOZnygN/1cDcThngin92OAkntsIUR1orzMaWOs76S+D0dsiBiOlnHGQY2zjjz0TrdxYHpKgiK1afpPtfCER0HjpuxeKi0oilLIwqaLExU+wIL8feoduVzdCPF4WeUMC2slltqNXQKMkf+MBV7PJuQn4ahRdJFTV07lbRJBbBjg7YpLteYSnqWe38vw5U1Jy/mVCebfPCFln9SfZ7D5Qit4N38Ml+99Rz/3kuvc1hO+OKlW+w3a/zBo4/z1PSED8+3+BtX3+GfvPETPH3liB/bvM9XHz+HC4pn1o4pTcc4abhtt5jeiy5pnR+yj2D0YPmXzToADuoJifZkxpIZy/vHO7ywfcBJM+Izu3f57uEN1vOaUdJyVI/5vQ9fYTnPefnmI57aOybVjmWXMU9K0qOM5VVpSOf7CfNnpU2VPzwnpAmLTz/F6NAzv6KZfiji6fUP4jSlHI5/ZcHNrRMena+RhGUt6ZMT5ycpugwhTVBNC00LeUbIM1TncWua7NyJKc8lMarpxY0+UqpkeKHIUkwdhpPfGwZwQLexKa1VBBIELKCTBWpqoqGNyGhsyQA8yHPB7Av1SMxTBF1Mqmh+86Un5JOGrk3wiWxkbaE4CiyvB7qRJlwp5ZAY2gSQLiwuyXClgVNBV/uRtiBRWjlQnSdxsc/nw0CaVhEY0VXALC12msbHg9R/PVu6p8YEGZDhCrmh6TKQzFpx7ko0bBpC4fjwaEvmHKx7fOnxrVhHJMsY2Qqxn5AJmkQRqtyD0eslLhe7AuUUyVzRXpGBeva5jjSzzOuEJHOEAOOyxcUacvZoyvhOIuOKq37kk45sngJTObqJwN0Hb+9y/vSMF3YOuXe+zt35Jq9ee8Q755fRBF4/uMqP7T7kk9sPOO1KXt7c59ff/TQfu75PYTq+vv8s54sCd2vCqz/3CKMCdxeb/Pzeu/yuv7q6dt4TjERo03iSStpIvkjZzpe8f77DOG15cLbOtfUzZl3B82uHpMrx4sYB06QGYJo2PDs9ovEJj5ZrrGcVH55sc3Y6glajnlng746prjnMXKNaxflLmywuGRY/tcAeKNbfjZNZ9x3HHzOkS4/LDSdfqtDvTbm7XJPeH8FLMWQMWEuwDpVnq9QxTVBWrLZJNHZiyE4tah5opxqCeGGo6FaVx9lbtgR0pMmEgFciM/Bm5dgk/oMh+ovIKdlPGJVpnkTdT4h8SFnEdiSseBn8J+yRZBkGwMXlisw40tTRzHMxwXTQIc9TraIbycSY/NwPQKZuA+1aSjfSAiMvNe5KQ1tqskepzHWOz11cK4TZ0fghJSMiliamfWnnCDojqRyukNS22QpDWpnMI8UszuWWZqyXA0/L5nSZolhvWJ6WZJmALNmxzBhL54JqulxqP30qt9HnUF9xhJGluJMLeDUOlI+EjgYwupVR73mYFTSFjI/lTKM0VHaCfWGJbw3pRoN/mODyQPtMQ/swJ3l+Rv1ggvIan8PonrxmeqapHkz4q7MSOsXZZMzl7TMeH63zdz7xDdayS3zj3jOkqZX0v0lJU8ckbbhRnqBV4Ml7OxgNs65gbnPOm4Jfe+Mn2SlE9mGaRLIEpSTDqp2gz41FdY5vPniaMus4r3MuTWeMkpZR0nJQT3i/3aFMOt5rdnFBUSSWcdqSKE9uLK/fusnNq0ecPlwDHWhPCtRui0o8vstFnPyfHDI7H6HvjAg7HbOfbOBRgSsMoyeBesNgC0gSR7PuUN5IBoSKK2c6hvlSNpTREs2clzQSUE2H3xrjUpGDmNoPTd78LGCL1WLvxkQrNvm78L/CMAhPCkdhSEghGaNakLSz2VAxJZNT36cMA95VLbC5T/rh6UIN0042d1BSmxjtUSqgdMCOAnahKCIhunwiPMTRI6lHXFQXJPihpmrHGrtt0TpAKqx4MeyUy9WNdbQVX5kM+Qhu2EIiyvzqdEgldTw87Dig9hrCfk52qi60CkQtnJ024AK+kJpJd3LT1NLQXW+YrFfc3DjFes1xNeLg0TpYja5FziRM/kBQgeJOLghtJqRX3cn7yxwB8BNLeTtDnZjYiIXlVY9b70hvl5AHnEkxsSxMHuaYSlHN8mHsVnouM+/yUzh/zpOdGPxc021bktTy4PYOqMA/evsn+MUX3sJ7hbWGxmm6KqVpNOzB7773KvaoJOSe9NqSd4/2+Dev/5DjfMzjb15FBaHZdRODjo1qXYmyXzVWEPN8jcX+mM988h0qlzI2LR7FB2c7XJ+cspkv+eHpLkYFZnXOJJNWSB1RxutXjrl/sEm+XdGcFKjCwTwhOFE9tOuBxeM1CGKbn447tPE0paddV3Rjxfb3HaBpznMoHbbVFPuaBO9QSQZ1S5iMpF5zIl0O4xLVdoQyR1UNurEs90aM9x3dNKZtS1kk3ggnrx8/myxCLAojtB9kiosrIkUlkQ2W1FJD9XC48uIjH3TcnKw0bclCWgIu6+d/yQZrpzFSWfFlDBq6CJr0bQKfx3ooVyQL8UM5+qQXZNME0hMNSkZU5SeKbgzZ2pLy6xPOXuliyGPQ00l9JSmTeM/HQyW+hytilpPJAvZGalACBC8L345kmqY3ck20BV11BC3DB30q4EvXGcb3DNM7UsMd33gKlyrGTzrCtRTl4OQV+arthhwmWzdO2XixxgdF1UkY2ygqdooFB9WER7Mp6v4a1Y2O8m5KeSSHJV6RHqQkS4XzDOOmTLyuygKVwZee0MmUnpAIsyJZSnPQNIpOQzPLIRWiq61Tfv/WK3RNQsgsxgRCbci3KqyXCxuMlC71MqM6HPFbtz+LqTXrd8MAsEmNm5BgCamIO/Ge0HbgYet7hrduXGF3PMcmmllbMG8y2pHhzmyTzhkOzkdsrS/IjaWxonk7no0xxrO+tuD4wQZrl2cs392Qg24pmywkAZ07bl4+5mgxYpR1HPxwh+LaAn1/iisC9Ya0v8xpDFA+jnjGB0LbQpJIlz1JhjpNtR1Dn02L3Nw0sjGqbZl0qQ/CwIcEhkjU1zz9NEnTm16mCqXDgNRBv3HkhoZYs/k0por2wnNjTSM2BrLJ+tGyIW50EMaGjg2oJHNDumRHogFLCCyvwvbrooDuX0MOicD5CxaSgHFRqKoiwKGkXuxyz+LLC7o748HjcvRAU13uRxNL3ZrOJIInS8DL99dW4Q9EFu9SBiDDlrD5njTGMaseGwrxTSwhmwvHT3n5PN3URJ9LRTqLvUwn12321jbLRnHpOx0F8v53P73HXWSz5CeB9Aa0ex77iTnHdcre3hnPT095anTMaTfiwXKdJ/MJzfWErk3oTnLMwqBGcoP145xuEhg9lrni/TheOwmYc5H8qJEjWEXwirZOxLFqkRGPLprDkjvlJt15Fm+eJzRmdbBdq0lfz+UQCDEDKUDFMcQqCoxVkRMSTXHiaYHD5ZjUFPigMDrw9v5lPr63z+3TLTbWlszrnI2iIk8sszonBKjrlGqRYaYd54dj2OtQs4RuXQ5kXSnCScb5Rs6PXXrAu8eXSBaK7vaEzUeBxVVxcCsPRCHP2JLfyoX/GKw0/hQQtBm67YQg6IbWcZMFoaKceFQIojZFolC7JhHMlrJh+gilvKRRKGg2YtTRAiakdcD2kz6NoHAhZdhkhPg7FZEp0kcMFZkYskEhMjCi1i2tol130uFyxbLOsHstye1c+lJx46TninTpSRar6CgpLARjxPbu407QuDo2vuOl0a3CvztBpeCmnpB6ZtctSepYH9e4yBAps47DswmjcU2Zdhx+7QrZidC+hDnC8KMClAftQEq2hSwkoWgxzKmWUzJgxxpbik5whXKqSLyWNgcaqq1EromSDVYcB86fg/IJjO/D1lsG5UekS48ttvlgb483rskUUTmcZDKoKwIUDn+pYbpWMcpbDtIp4TBneVks2pstoR+VjxSLGwGzMDgtX051Gh8nhlK4eCjLvTx+sobqhBiAV2ACdIpQONwslQmyMaJJdiQ+LKQalUCSGEgTma/g4cbaCYfVBIBUe1prqE5KjtfGnBxM2bl0zs3NE+ZtjguK2bzENYbJ5hLntPyHwRyllAcCxPVRvXq1wujAt+89RbPIYM9izg0nLys2fiALZPa0bEqXK+prHap0JDiHShLoLORmaLzivQAjCfKY1pHACdV2Ar1URkE6k5M8qaTm6kN8z5iot1YTMSVKxQVrxd4rqYQRLbVXTLeiixRRyyaRUH7PtJE9HxhY/6aV1EeMbxQ2aFLt6ZoEZTxnn6u5/HsZ3Uh+L52vUlDdhYHyNUTHCvQTOWXH9wyLmw6XSVpkGnHo8gmEU4NuDS6XJmFTT0SECVQZkAVO0zGLmTQzie0NbVdSI90JDctUVmhkiR7I0q6AYEUyM7+csHnWCXnASwRu1rQ0wY300HrdHwqwsV7WIu+w40DXKFzuqXc1LoPRE0+9ocnOBTXVVsi1onKX+6AtlHc1utO4PEVXBfMRPP2dmm4SePwTYhNAuNC2KAPpicJNQVkhGKhOg0cQPSv9TtIAjSZkkbIXkWU0YDUbbyZkc0c3kpSsV9irgFi3a0WyVqAjomXagA8aFxSjtOPh6RrWGlSjuXNnFzpFmXa88+FVNrbntNaQvldS1KCbDDcBPw1sfgjlobQS5lcM2blIvna/Zzj8L1OawxLVaZJLS9IPJyxvWsCQLgM7b8DDn5f2ydO/MwMXSIJzsqlCQDlH0Fo2nlbQWYI1qCKHJuAmmwPYkc1k1G06FwDBFooVR3HVc/KZ0JW8EWQxnffMeAaqEiGmAEEgakJPvyLOlV6daH06lc6CgB9aarReltKNBCI/WZa8vLPPw3Sd5O0x9SXHycc122/JKKigoRvFSBZrw77PF2KK6nc6qt2c0X6g3tYxgkudGEyUTMSomp0TjVv6/lmE3UsV2xnIuKkQI/csHjxRJu9j+wDr8eMUb+Satmvw/FP73Nm/jjeK8X6GbkWL5bNeBYBYuldyXfs0OCR901w+h/JhqOHajdhrG2uZ6zaWDQsxW8jl90wj6CgRqOqnpfQpbzq3Q2ulm4YodITJLUM3Ecs3kRDJ4z4LqFr8WnwWCHGKT4AhqqnayP87RXkorB7lvcivvER00zi6cSJKEt1nNo6g4Y2/eprtZ084rwohPvzhGq5Q6M7QrsE9dlFWMX+yCRp2fii9L5G1BOotxdpdCx7Kh3NMPaXZ0PHAOaNaTphcmYuLWOJoRgHVKXZen3H+3ITJ7QWjD6fc+KOZBCkj5wbBrYiaAMFaQtvhm4bQNISqIszmdJNk2ADiQiSiu4t6sT7lG/pEMdwnddx4qbhaDeBHjHD9DG2f9HVadC2KjAmB+4P8WYlNwKr3JT6KEOF+ozh5tEbrDZ996g7dJLD1PZH315uadOHJzyM3sxIgoxftXYwIo7WaZieQ1IHiOH5Wp0T051jZFsBw2vYD52WTSbrR12KqJ1LbKLdxDH3BEFPGkGrpQcYfVwTef/8yxaFspHtfXm0GW0YnYmJ/spPXMu2qVm6n0VKiiWLFyEaXVDLWwxm0Y2mA21IAHpevyAW6x4I6cfPqH3cxooRE3suNPelMkcxheteJtuuhotxXFEdiHJQda/ITTTJXZCea4kCmrSQzEVzqpTTEST0hDaKe7qKQOJK/lQ3YIo7PcjLpSMVSx2ViKXB4f4PqgzUW39+k2lPDoVwcBya3EtKZ5so3RXrTjRT5mac8FH+P8WMvs78rkeLoToKJN2A3RqDEqi9NHHWVoZxi7T2DPl2w8dYJzU7B9T+eo1qLT7VIz5RSBAJKKUFutOK0wqHmAAAgAElEQVQjP8YMAEk30UPa06eI3ihsLuihcqBDIH/oh/ldiYN2oob0LKlBLYQB3QMdsmHDEBH6P6soW7el1Hd9rRIiM76/4bJIZdH2Vtij2ynzF3MmacMrn7vFe2fPsfOmZ3FZ7AtMI2lgthCWSH9SJg0y9KIOzO5PCGtORlodSuSDVU3ZbzDi+/cgxUXbhaBE/dwb0+JWm7IXuKLk+rgyIZm1+OxCmhQAI/6OKoBZiud/UsdUMW4ynwp6CTF60B9gq88RYl3YD3tQVvpvtgQdh1/4LIpgFxLxg44E7maFqBJkg4dECdvEyyEYxpblVcgLw8//Z9/mK7/2OUnvrYAk/ZQV3a5qTm1XtXdPYwsJ+LNMxgP7jnTWDWkiCJm6myQR9Q0DSOLzBJcp1m7B4pr0GvOTQDcOgg7H61MehkiC0OKcreTQQEXFROvjaOGUbN/L5vYRj9jIIFjqZUYdYGdnxuJVy/njCVd/H9R8yfj7S9Ca7soGwejYOvpIKPNxIfQd3D6dsZBmstDUhVNbgek82WLVUxNUcIWM9UpTl0vPSDh6UTgXjVaqHakRJKpIv01HGb/L4yYLYjcQTBgQzJUjVvy4EYLWNlAegA+Ks6YkTywbX3rMabjM9juWrtSUR3b42t4wDBYkiPrZZ4r0XKM/NqcbTcjPpP9kx+CyMKSDdiwHRt/X007YE81mHDkbwBlIrfTh+kgzpF+qPyxkio3Ok0Eh0ayrQUrjymjP/Vhx+Bpc/rYniTO3+zHBsLomAyJrL0S9mD3IIL5YP2+roZ1iS/B5oDjsn6dWh5mRk7+nv/Xtjb7/6XJBk9MzzdoHgT+69zH8L5yiVWBZZxjjqffHmIUguaYWzmu6kEPNtAGaVf0eFEwfWNJZBz6ga9kQwGDyK7RAsJMM3Rq6aUo3Vmy9WzO9J47ULoXR4cpjpN+s2RxGD2pComk3UgkENgj/NRpGpTOZRqRbNxAVisMad16ye/MEExnlXZtQ3jcsX9ihm2hmNwz5aWDrrTlm0dLujH5kowHBB5T5kcecRxexQP+RExMPSSUbzZZ68HIIPUnZB1z0GUlqTzuRiTAEQShtriiOhOQqHiXxTWP0WqWN0kezYxVP2DDIW1CxfojRo28cJ9ozSRus17Q2wfzECYd6k73Xu4H53qd//QIVkEd2QLfuSZyKKYqPDXaFTiX1lVODVWoWJKXd+c4JD35ha5i51o/2ddlq0Q78RBhAIGFwJIMvS7WnSM+huxxoLslgvJ6KNrtuBrDJXBCgEtPhdk3eo1cC9ARmocWtkFttpU51udSSNo19PyXXu1tTqxZH1qObDIveJ5HjakAnosRoNgRxtc5wfDImLzshD6y3uLEmjX9v2oRWB/K8wzlp8qraYObi4LxxS8KeqbpVzwywkzSuM0WzrvFZSjoXKw47VphFR3q4ZPHsOrpTjG/Ph5ZJv9F8ZjBVhxul5IeNaC69pKHSm+v7Lk6s5ePhEpQwcxZ7GcsnY575LceNANn+MfMX1rGRQ9uv5WZ3RDrvSEIvnnMejJFN5nos2YD3KCMULdOGQQbgE9CNXASXx01oJPT3EHyIzeXi1EWoXw0uxEkj/MCelAyyKHqUUWD2iGSmUb1sEdqRW6WL+XzVSvAJuFRY6d4q5m3ORlZx0o7IEsuySbGfmHNvd8SNP3CkcyuM9Uim7dMZl4rb18b3NSefzaJFm/TDujH4tG9BCKfTJ/J9J4/lg4XUDIeDgoGf3R8G/bD5vmcYLqBpuvMEpQdaW1KDOcwISZBBeqeCes6e9Wx/T1oUPjH0bH4XG+Rh2Aiy+URBH1PbTqay2CIii508ua/L5ORn2GQhcsx9LjVjfqzwSTykbExHPbjGoDPpa728uc/M5kzyhkWbMUo7DpDmu9aBECAvOpLE4Zwmyyx+rMm2KhanQuHSjSgGsF72tVW4cYotpZmfnVpskcbrqam2NfV24OFPr5EfiwXHzluN1L0B9KIZbkYyr8R640wiY4hUQ/G88YQk9umqBlU3mG6NbiqI8OihYvOPC1QQYC2JhObx3Tnh6QnVrkx4DUZRPDhn+cwGiTKGgJMd3O/imDqqCOuLZmsFnyaVXGTTBPR5RZIaQiYD3+TGxAXUKJiInbZEQPH+8IksZPQq5ZGNJ0W5iulnMo/1WS2opQqgYm00uG5pBret5baQnPuocf/Ny5x9eJX5zYBPAvmRpqhFoPf4JzTX/8RhKkc6lxunI/IpES7OF3uYsrzqWbsj3920EV2N9U9SrzaSN7D3jSPaSxNBLeMB0KdDysmilfda/U5fQ8EqQtebIv6U1E5kMNXNjuRRKhZ5G3D2Aoy/FuLoYzWgnXJ9iGODL7x+f3sjqGFLNbxnEuVOfl2eLAMZiQBVVGvkAd306UwPWjkhEzgEtncCi//JN17llU/dZpy27JZztArcnB5zvThlM11w2E2xXnPajdivpxxVI5ompW0N5VrN7j8eDZxPcEM0G36ClC35mZyOYuuucKVnMQnMnw6UV+fc/kxGsBnqJCWZT8S2XUnUT2cy5ShpAvlxR7LoRC61bIQh1XYSdJQim0t9bycpxYknqZwc0iEejkWCrjr2P6Pxhad4oukmKcsrJdm5jfB+9F1AKwFFgmy6EAK676slBhcjVXEsMv90GVCdJTld4sc5Zt6CUrhS9G3KBoJOyc46uSlt7BH1wsYuoFwYJrlklSOPqaZPxIY8m8kUReOI9nIqQviggqSs/SLqPTkEtjZsvan43H/1Hf7kNz7D1juWdg3asaRI69+ynD6Xs/leTX7mqHaSOGxCXqveFiQqP9bMn/O0Y0l5Vey14cHYC60BraLJj+bs6VyQu4h0Te56ibSxVaRU1J+5VaO9T/vEZl1TbysmDyS8N5viPTK6k1LtCQKKgnZHjH5MGwZksOeS9pB6EtO6ixSmnkFjmsgPTaSehQsgjhY5UH4SzYHGnmBEssORDJhspjJLTHcihlWFA2U4e06z9gF8f+8KWW5RsR4wxvNudgnnFUUqAztCUEzzhlR7PnX9HrVLeGF6wHeaTwuR3HrcNI91vVul1g5cRGhDnM7abAXcxMm8gIOU5XnPgxNz1FAnNJsO1UmtXe/A6WsOTEAtUzApWCUTgiqh6pWHgfxMwD2fAlFbqJcdSSKyHTtOSc4auq0RW2+vWkw+04weVdS7RUQd4ybDB0EgjV75KGoFxhCyVCyxzzzKCipDgPbmFt0kIT23qMiR9NFjXyWQH9aCvGSaZGmxI2lAhlTHEN5hJ+nAyLZjQ34iG9MbUXSnc4vLtWjAyoTsXCwH+miWzuTfcwemdvhoP+cy+P0fvsKXf+Uv+YM//TG23lSUxwIFB60YHTjqrYx04YSp4SRtTJee4jAMSN3kljCw056P2KkYRSCYVeuh3K9RnR0ihZJZi2Qzx3InEddmLSOmJNqtPEfwYYj2LhMFbzbzeKNJltAUwiVcvtDS2kykLhk8/KLh8p97XCmOueQroKVPhXtWSA+GmLpPhQVISRYyFllaMnIIiN0Cg/Xe4PgVDzUVZLSXP5Hv2mx7VCKHXHbKML+haxPSzNIsMnTm6DqDtYZZ5KHaNuG06GirlHt+C5zizrefZ03b2LBPJPWzATtOpZaK1DzTeZw20sctxQJDjy3jSc34aktuHJ3XrOc1yy7jeLfEqMBimdNVKWoeEb1OjGXpJAi4iSBQrhQAbnFVOLDpnI8Y+OrKcv7cmPV3Z+i6Rd99RL71PEmtyY870vOWxc0RkzvLHwFDYqEYnJfNdkH8SdT/SA0hgEG1rTl6rZDGYyLzlHtUzWdyQ8vHOSr0c9Zc/DexRwiJjpFAjloVAsnC4XJDsrCoREVLuUCydJh5Ozhnpad1jAABV6YkswZXpnLCNRp/Tay68zdH/KvkBT77+R9gP6e5e75J9S/32Hy/Iz1zVLvpIGbtQ8JyV5NFX/x2XRa4GO/EyDHYFzCMXUqaIGzyQoiVygER/HC5RsdmK0ia1k1WqZC2sQ6NqJh2QghIF452qiMFSDbC9jcyjj7foZYm9sWk9u039UWQZYD1e/pS7O81GzB60r83Q40ZtEDw3VgEpEExgDR9W0U3KsL8Agz5RAlLZeQoi47gSmHupIqN9QVNlwrwoQNae7zTBKfwWqFNTPvqdFi8WM30nh3y8ZDKYAtNLBd6pLb3DtWebizNcd3C+NslwZS0y0AVyd3LWI8ur4qWT3UKs91Sbi5ZL2vyxKJVINWOzhs6ZzhZllRVRn1cYOYyPaY4DoPQ1BcJ3XqGtoH66ojsJMHeWJdeX22xE4MrS8b3K/SyXYEhQ30GBOcIzqHShNBZYYpwYScPKROUT2T87v4XgkjpG7lJPvP4TNNueqHfOMXJy9KrMJUhO1XUl4REqxuh6GSnMlAumStARittfGA5eyYhPwmMDhLaNUlbsllKUrlV3RECZtHhR6nUDRqKU+mvNG9MWV7KeOvbzwoz4RlPdSnhqX9hyc/EcEi4frJwfvnv/jG/8Rs/JyqDLOA7ESVDBE0iO6KPGL1lAUB1dTK0N0KiGD/2Q3QxraQdLldD+twzUmSwoaC22bkT+4Q4x6Bv4NtCBjOiZMSQbiCksP8lx/ZfqOhMxkBjS5arA6GbrqB6zap+LA6DDOHoe27RKKndlCf6AzNkN6pTQ5TXrRrAFVeCyjxNlZKaOLhjAt2yGNLGNLc4pzHGY1JHkogLtE48bpZK2lkZ4WsGSal9LpIYE1NzW5iBJUSfcvswKNRRMivPZQwGt/lRD0ApNt9Z9YKSKgeVY1mjG7w3I7kAYKIoFdTbIWIL8rArpPVy/PJI3u/MU96fs7w5JZ1b6RGGgCs1xUGNOV5w/trOv6aPBoIyDsdtf5XFQbfItfS08vglc/HBSOYGu93hx0okAusOb4KQSDMPJhAqA4XDhZTlU04iQ+ah0fjcU1+JfYmpEl3ScUK6MMye9iy/sOTJaYEatSSpo1umqColjBz6LEH5TNAzD1tvX5BVKKiuW7bzBW5TIsH6u8KCOH2+YPvNGc1OSToTwVtIAv/87/8M9uOyoXqv/KEZHRdyUsHkUcficopuItjTivGpcjA6csyuy4xs1/cSU0nJfITQJfWNl/5CNErjdFJXGFQwkhLZFYCy9lc556+1ZI9kVeiFEapXpE796Od1mbAa+vs2eiRc0XQexMEpRE5jK4vXFTFyOEm/u0nAbVhUbdBLuf/pXDF/xuGy6BomxadIZYLQsYLgVSgF1mq0CjhrKEcN1l5YY04RrIZUBtL7NAjNzAVZIxF4ISLa0rOU6xMSLRE4D9KEdx4ZiyUUwW4SpVjtis8q5cFHQ39fMvReKuFESXR6W9L5s2fSgRyhHOQLj+kC02/d5fQnn2J6a46eC6pZP70JgE8NukhJFv6jGy30US10oDRKr/5Z+gxIHynSoOpthfrkGdsb57w6OsOowNi0ND7BBs2j5RqdNyTKc9YUdHHg+GIswxC81ySppbEaEk86Fll9U2e4RYK90rKoc0LisW1C/sTQPduJpEJD0JLnh80O7xWuEVPU86cNo8eRruMU+VYFIC62GzUnZcm1f6mxucJOMrLTRi5K57GZIT/3XPouHL2UDGieoG+CmvYuyaZyJJHnVx604D1rH9YsL+cUTxqW2+ZCc/XCdV4drMJMNyvoX1BHBXGQo498xb7lMbQBzhJs2UfOwPkLjq03NO10FW2Dkb5YOZN8KxiJ0C4XAKebrPxLtGGQC+lWobZa1qYV6unA4vYGyaFs6ulLx0zylnsf7jK5lbC44fhbX/guv/PNT6HWxak3nctrZEVHVWXkRUfXGXxQJO+XLJ5W7OzMODxYE9vuoGSjpp6dN1cyBZ9IyugzPRxGPuobBRDR2LFstEHdkaxaSH0bxeWK8SM3ZBJZG0nwSznYpf6XWRGpk5Q4WXoIgWQhp5vuEryR108rP5gtLX78Bms/PEc9kFzcPX8N5cT2MJk1LJ5dY/qtuxEM0YAPqIF+FU+pPm00hpD3O1pqlZ7pYb66zoPxOre2r4mPY+FRmRTGWW4xxpOnHeOsY5o3rGcVm3sVpWnRKlC5FPOM/L/zhnmX03rDeVNwVhU0L3WE8xyWCeaVc7oqI9to6JqEfKOjWaYEr6DVoAMBKcxHj+PJpxTeafbrKQBNlYKHkxcMV79WUe9mTG4JYJOed9RbCakXb0WR06wcq/p0q5e3BKMG64H89hGLl/cElDkVJ910GQYCMzBYGPT6OBBGykUfEWn2K3BCyQpKUDA5IePvehg91NjPzuhuT0RWYhWLK1ElETmV3qwW5fC7QWEnImZ0GQP/skcmJ3cV/ssnuHc2qLoCgiJcspQ3TxnnrQwJDIpPvHSX9+8/S/HE8Dt//inSU421Oa6QVE63UFUZ7nFJ3Y1AB17+zG0+++pt/u+vf4n6X+0SXmolmhUOGo0uhavoUkU2QyJg0keRaF/gV4eNKzVdqemmDO5T7ZoiP13JpXwSIjCmhvvRt5v6lo541gSxGNdKeJWNE7MmJ+Bfn8m0Y0W2EE7oznfPwShOX1lnOslp11PGbz4iMZru2hZ2PWf84YywuRZrtAv12cUfFSlJNA0+0UNnHB2Z6m1kJQSFCv2pc1HaH/AKrIfTSSxuk5hcmzgwL57WFLI5g9WY3JGkFu80RdmyMa2wTjPJWzZ2jgDItMDDifb4oGh9Ii69bSHy9O9fEgMeA/ag4HyriN9JFtvyKUv7Vkp+3EUKj8ONU7KZp1nX8dRnYGII7K7gRESTwUhDVY0Mow9OCMnK/dhlGpMLyjj0DONG64eE9D24Hmjon5dasbyW1Eit6mIXCQKNcBB9Av4HE/ymR0Uj23bDk93VA4CBYphIo2MPb/hO0RYwpETFN8OwxPreGgnw/Jdu897+LhwXzO+sM1fi3DtP4eBcMf7sEXuTOe+9foPslTOuT+fc+d41AVx2PP6gYOfFI57dOOJb7zyL9ZrfeO9TrF2Z8d/87Ff4337t3yf56SNOT8YEHfCLVHim0bipJ0CItdyqxhSOrWyebiLLKZ0LG8blsslME7B5IKmFwykodgR40p57G2J2EhkonVgk+MwMwItPdARiVuhrDyy1uyXnN1K235yjnGf8wSMBENensp50glrUqEUVFdYR+OCCuLBflaGzqLIgxPCtnSAvw0IJMe3RsQ6IF2hAwyL9RzeyaHpb7X4jyogjoTWIm5XAtC5SfSo1Yl5Kfn1m4EFft1riBheRoysi5y6Ti7ehhPWgAmSnms5r3CIlf5SQtZLTn99U7L7e0k1TisctzXbB6XPJgA6KpZ1wHE0TBikQMEhK0plF1Q3183tyKrZEgqv0HYNeIX89P1T5FQvGp/J4cRjTQBVNOK2XdkcZ67lEbrK/YM5qakU36eAoptJpEHPXh4Jq9pTVfpEEFY18NmWeQE8RU8jm+9lf/i7fPbzOs+WSt+9c4e03bkpyE8W6uhPQKuQenxvm39/iPNvEjzzLeY6fLLj0iX2ujM9546svEC41HDxZY/6NXcafOuPO8Sb1MmNrc8H/+cFP89/+5/+U/+WNX6B4r6B+sSZ/mMRygKFXplsZatn/CBASBkjfjiT6rdyi5bquepthsGHo075uFJHMThqYpo6AiRcARnX9AgjR09TFKKiGLCFoWO4mTB7buPYTTJqivCc8PkBlVzHeo5yneuXaX+c6fuQn9Hh0MlCrTC1FZl9PSA0im0LpiL5GiD+p48KI6YlLidSUiNjF9FN5NfRmeovwvgi2pQgRe1Fj/+OTECUr8nrJIspBTL9xZZD8YiJjdc4WJZOdBYtmyuRD8TtJloHllZzRwxqfGbLzDrSAGyevOUb3k6EA7jeF8oHy2HP4mqG6UjD+cI7fmHD2TPYRFXSeq6EO6ylN/abSvRwoW10f3SHNcOsJqQHnhwhoR5GBoqXmMHVAlwocjN8qWDzlCJlHLwzNlY7xw2Tw2Ow3dz8r3OVxMHshcweufOEB916/yq/+O7/DP/j1X8JngcMMkgDduhvuTTDgVcDUatgEKEEik5nBlY6D2YT23TVOZ5eZnAZOJxnpXJN+5oT5rMCkDm81x6djglP8/eUv0D0Y469baDXZuVwu3a3IDH5QC6gB3e0Jwq6IvqEasnMBQ/prFowROppbuaqlcURYuvQD5xEvNaBpnGQS8eGQChVLuQDexylKcsi5tPczhWK/wk4yaeHsraPevY2ajKXGnjeEZUWzlaKHleHDCgwZ9ll8zMcUKF2lPsCqeXehV9Pnsn2NoC9GyQtyll6X1aNkaEHyIDK7G3muaeImtKsNLARZFT08ZOH2hjkoMMuI8mWr+sh2hvWyZnr9nNlzlvFDolmo6IWU89LtXwbKI8//9HO/LY3Xqldhr76L9JuihmvZ8PgnN1lcV8xvKOY3FWcvruB+aUD3NdBKQxcShgygP421E0EjsaHeX/OQhGEBivUeURsWr1MSSI8Tua46UO1Gtohdpb0Qo5eTQ8nUCj5/yoPvXiV5as4/+H9+iZ4xHgxxloJCdSo2q8Nwr5VXQ8qrQn/9paflisBoX2Qp4/sG/3SF+somwenBVdpHT5DpqKY40Ix2F6Ajj7WPSvGA+ojCIfbPXK6G6CyRanWo9P6dQTMMFwlGzHMHxkuhI882gAbdisYNkN6u0YJZuCBTa6I+0JZqdWAqmNyt0KcLsvsnjN7dJxiN3tokLCtwwppie4ONr96+sNGCFILBB0kZL266Hvb3FxZvv/jiB+ymcjrY0YoQrK0sJjtmUOv2TPk+qpkmbqL43J4h3iNgkppKH6NnNPQnkW5XBf8gAYmsaeVWdaTP4Or2GQ/ubrN8d4Pk3IhurRHL7HY9EW9A7+nGimpH8/d+4z8gmwXyE4mOJqJa/QboJoHy2FI9vcHpp1ra5yqaZxvqq92gcIb4nXpIOh40tlwtgItRzzQOn+oh7elvqIoS//60HVDIVuqMjTcTeGopA0U6TTeN037666MYUGNtV2p19bUNEWNmdqBl+TTIprGKoKMKI/FD9MLLtfdx8/dlAicZ3muxey8UR5/0/OJ/9DW2/0XJ7r97D3WSoqr4YVpNWCQc3N+geaWifX8Nah1rytW664Wl/aF1MaJJmcBwAKVz8TZBScliY7p5sdfZC15NvG79waPsisqnm5V8Sr6fRpyBo01CIlNhUVBfygmTEtVZ/PoYc2ef5StXUEWBPpsTzmfYjZL2xSsXNhoSwVbI48WTReMKg47D11yq6Najxife8Ow0bhK9Qul6VauO7O4+hPuYQvY9JNOsmqu6ZZgaY1qGRqGpVyeY7lntsReVzlcbFlYnXG/Oqizcf+MyW3+RkM7ER7/ZjoPG55bisMUXKWpRs347MrKXcmHLI09+EtFDxUCmXn8Pyjsz5v/1OZcun3Jt75SbV4+49tQR4wfxesa0upeYiJaNYTzrIMuJ8pXktF79XqqH/ps0QRnmt/XSmx759QmEeyNUp9CVxq475k/7QWzbczP79wkmDltvIP3UCfa7m5JZxKig+u78xUgGg03BQFy2q6EOYeRoG2HjuAKufFXx27/7RX75v/sj7n/1Bl/83NvoKiqoF+JDqZeGcJDzyuduydSguJi1k3q4b+b7H3EFQ6nhMVdIVDLdCtLvQY4BdY3ZhInk8x4I6SlvXCQsKyFK6ziLQQWJbNncDRmIiQR43QaanZIwKtDHM1RZMPrhAe6Zy/iDQ7pXbtJs5ejG/fUaTZUloV7ZM/Ubz2fCDWynwiO0IyleitNAs64+MjsMVv4ZOqaH/ZeGFanV5ZBGKzafr2ytbbmq72ThycVLlyuY2+Ux1fRx4fbklSCPXdSXmTbwhS++zdeyl6J8X9FtWR7+lOHyN1LGD+poPCSNUoDxI49PZOj3sGG0WMSZJjC911JfnzL/TipRIJ6W6++DSoWIOxwsiUT6QboSn39RiOkT0OdLVN0R0gR7eTwcSGHcR/3o9Bwjo8/AnAmoNL6vOHutQ8+l8RYULK+KiVDvOSnvJ32r5Scq1tYq3De30PEgs6NVNuAN6KUoKZyXIYz954SY+uZ9Ya0wY9GUhTLIfDGBd/lHv/Vv0TxT8/7//jLP/BcPuPf16zKIJG5qNLz17WfJZhdgd9PP3lMDsNH/XcoHec8+qiVxfbRbnrJO6CfBJnUY0GPdxVl1kdUk6aIna5y0DrILMScOPQlKMACsI1k4gk7RbRiufw+2hCyBMhezYaVkyu14RDdKyI8bkifnstF6JogySJjUCoURNDLLwLu4QWQVN2ua8pEhXXjqDTXA+b0Ickjn/Mos5qJsRFk53QkCVcOFOkXwCPHbiJGQaC03bCYxHBp+LyRysqVzJfZ2SD5dnAjZVjvFN77+Mp/9/A/53v3rXPnHOXak8QYxXXEFo/tL0SApmH22Qn2zpDgVvwhtA86IAVA/fLC8dcT9X7xKOmMlmizkSO0X9TDA4oKPSH+NhrZGPDXtWIY2iGFtJl4TiRgAibWALJqkDtFoZlWr9NYSG3+ZMXvWD72p+qpjckeijImAlG5hec1Tfr+EeYlfX13npBIWflrLzVR1PGA6FcnTsY9lFcR0X8XFmGVWFNS14vK3PNW2pJFBQ3pe8OTTgY1fv04xWm0o00j0G7fwk3/323zrf/209CZrP0Qv0wVEzCpSGTsyMZLLoUOsl12uKB8IiyY/i5tHQTdNMI28XkgUSRUb0E0cmtHLw3prihCG2WtKa/l7Z2UCrs/lQOxNgpzwcFXdDcbDYbFEbW/A3jbjd/YJZU7I03896jg0sV3ceD4yQTYMSe0HEEQmgTJYePcW3SHareF7xbP8v/8y/kKjVFtBI3thp9iJM1CU5KqAamLdVQCRLdFdQOOysxXokC7kBAsm0odyRXameWp0zOvqGi4XO+96Q4u62YCdZpiTBe1Es/lnBe0aqOP4eWPaCFAeWrKzFrc+HlLC/kd3sLysSGegiQBStqqT+naGttJI7TdxbZsAACAASURBVEcrye8GyDM4OkWVeQRGAuP9qEw47mg203hay4XJZoH8XCQcbafJFp56x1A8O2M5y1EmcPKKYfcvGShZyVKx9r7m9LWOnW8leKMGdbjLVbQYiHVhEKmMqUTNYerehq6PyApSsZao2gQz05QfP6V7Yx3dwvFP1SSZpTvLQcPJz1o+ceMh3//Ws+gWisMoLUoCX/nNz7K5tPEwiBq7GHUGPZ3ScdPowYulLj3thma0vzrQi1vSa1WdpShyGdqiFMoL2wPnUZ0VkacVkvow4CUEmR5rNAP9sLPoRYPupkMpQsyYVOdFZua8PN8HuP8YtbmOPzhCb28RRgXJII9xDqWVRLcsI8wXqxXkXLzAko8P8ouY/6ZzaKdygudLBger/gQPWj5X764EDF70sAJOgpJaTRyNV6lV32j9a+z0nntmL6Sl0TLAljIHLJ0bsjiSaGYLjPHc/3Lg6X/myE9681RxOyJNhtdbXg5M7q8+XxLRPjvSjG4tOP7MjnyPCLYMnyvI5w3RClp8U6QmM40a6sjstE+D1eAnWV+ZULQdalnjk3V8CsWTGleIxLk4bON7mpXlg5fX1V3A1J4bf1hz91VNMW5p6hS3YTGtIZ2J5q7ehc/8jbe4+z9/DFd4dCdEZhSos+hbGUcnKx9orUCNdiRCWFPHYYo50dtSBpvMlwnqckv4xibHrwTyl87Yy1vmdc76tTPqLuGpzRP+6tZ1jAmMPnHKss7omoTrl06w/98Vqi3D1jsLWaxaDdC6cgE3SqHzUja6eNjE2sJnUB45FtfEv3L+6i7ZmRV2fz/r2nsCMjiEOKZM1YLwqsqKw4CVnhg+CAAYWVE9a6q3eghRrSGkBSsHpI0RclxClhKWNf3QE5wj0ZMxYbGUFzYG3zTo6SQuGtmlIawMUhdXpNHZbHtGj3oIW6KIy1bpYT8Ct0cZTXsBYYun/8Cz60WLSlLKi96Q/XN74qtA2KvWwcAWuNBGEFs4BoWBaWWj/Ond56irDLPWEYykFNoKtKtbOZV6rtzosVhs28IMzU4BXhxqWTO/rlco6gVl89Azy1bgTc+AMZV8Fpd/9PpoGzdsqlk+v83o9inl/Rm6HTO/ORLzolmgfNLx5NM5QfcKYaE79RHJNBpXanZ/U7H4j0+xnSGkisXfnjP9h2sc/s2G8vWSh//D86TOktQK06y8OJSTkUxJ5QlHwutsp2bwrtQuAgPnerCiUF44g4u7GXxihh3ljB4r6m6D/ZsNo7Wao+MJednx9ps3Seeabq+j/u4W4eU5SWY5nI1pfrzCz1K23onIn4rzxM2qH6l8lCL1zlJLMAu5T6aJuXqAe3/Lo9MQVQIB2yX4oPCtIbQaVWuShWANZim0tXQeKA+lTJBN6jFVh66j0rpumd5rOX0+w0WTXp9KLUdnCWUuG9h5grVSbkUbfWUdSbi2R3j7fQYaQYT3CdErpJcQBFkk6Txw9jGZ1pktoDGK0F1Y8ENjN24I/VFYH7U65VVsBxBiChhru97EBiWnBxcQ196FCaBdk+ZrNuMjjXHxTAyDF9/QtNUBkziZWmJisd3EmchNR7c3pZsqXCdMDW+EEOzNihakXMDtrZMsGNIIHVYRtf9Opo7wc6R8JRUrw9UeQ+BCVNdQ7SaUh5b6xjrF7RPm1zMOf9zDWksxaTh6f8raB4HxYzekxotLogyf3LfYkWb/04bdT++Tec3V7TPW8prKprz/N6dc3T5j/sUa9+Ulizbj4MEG+WMhTvc0JldAUIZsxtBcN7W4QYtiQ3H6Mdj9y7i5K49pHK5ImOQt84/PKX53xPwm/NJrf8VOOsfFL/nbX/8Z/sO/8xV+fHSbX/2//lOaOuWnP/5D3viHr2LWxeRHVzLvAaB3o0KvUjsVtYv9uGfdgUtkE/YTZZUOjCYN47zlfFlgEk+eOFqTYCZeJtp0Cb7TtAGopDbHRDdlUoIOqLYYDlLdKsonapiV3vMv8UBi8HmKqVuJilYOCrwnjApU3ZCELEFvb+GPjmVXAHg3QP2h7VBpgnaB06el2x60NDOlhxYLShQhB13L2vLIjeqnrQzgRgQy+oGEKucj9me2WJ3yA1jgwU5Wf+5t3YrDvrG0iigul0UOcdZYMAOD5aXdfQ6qCXc7w8mLJRvvW5JZkFNJa04+LrVZspQoIbYIIXIWZRpOdlJTXR3jSkhidq1tWHEYY3/M5ULf6nVbppV2g8uF3TE084MAJomTWrFdMxTHFrs9YeebB+z+mZyWQSnghFAk0gz1HpSi2NfxANLkh4HxXeCfT+gmqUTI2nH0coF5OvBof4Obv2mwxRrTc4v51WM2X6g4rkaDsiLYBOc0y86wPq1Y1BnWapw1XNk549E7e7zwb9zjyScmKBWomgylAv7DjPMfbgqDJzJIfv+9l8lzEVU6r1m+4Pjt/+Pn+M1fPKX75Jztcc2f/uAFrhx7Nt63nD2d4ctUooj1UpurgMviqCYr37lXROTngXqp6TZ8ZC7JktnemXFj7YTL5YwkpjoPq3UOqwm1TVjPaxqXsH82palS8fwPoCoz+P+buWgjVafi/ZR0ujwI2ELTu1WHMkUtGnQtNh7BOtT6GlS1BKzTc8J0TPL/0/XmwbZld33fZw17OsOd733z61YPr/u1Wq0ZAUKAQSAExrHNWATbZYJVJHFsl2Nw2ZWKKVNOyiFUwHaRMsFxAgSDMbIBWwIJQgQIWUi01Eii5+nN78733HPOPntYa+WP39r73Mb4Vr3q4d33zj37rOH3+/6+g2o94cIWHJ8sb7SmFVjfGAFGnOP0kmV+YTk1taeK7KimGaSoeTc8jGGCCeiY8tmd1vYoRLBDUewKyta565o60rpAeGtOMtLSU/q5m50tF7RtBanzicjwZX6nlpB/kIew2DR9H6dd4LX/4xp2Ebh64ji8DrPzhnwP3CBBV20cJovTlF0Eij1x+Cr2W5qRYfXZUxYXBn3YXGcHICmnMLwdOLoO7VhcdpVTZPcNg/uBZCrAhXKBesXE0oNeBtPlSXsL1arBnjaSUaeUpPkkFrc+FPZBaAmdGDeySIJShMxECDxEqX/LS9+d8OjPzji5nvPwT8sJlpwGQqIpfmyNhV6nUDBwAZ9pjq4lvP07v8hxPaB2htS2jJKawkp9/9hXfJFP/funsO86YnpSoExgOJKTbeXaEceHI04WGePXAvWTDbPTnMGoIgRIt+ccfEUGh0PWt04xv7DBA3tywnqrOHkUtj8do56NRtUBn1vMQkq5YMRDRANBS4+dryTkB1qiiJNAOlHUv7nFq+0WL0WanSDAqp/T7cfRQq4UOdJWiAGUAFVCvFa9SkP0bJ7dd2jqkZIRVC6DeZ8a9LEowkNiYXVEODjGHR+jiwKVZYS7u9j5lRHpcYO1Vm4voyHLoKoEJNGCQvbJ8yXCq3MWe1xRZIZmKL7kppaavRmoXvCogpR1Xd9W7Pveg7+XiwT63OvOEdfOEVqMVtg422pjEEbXk9ko3uvQys5Lz1SBeqxITz1lIwERbZS1d7qyzS9UET2NDasWE9fxDckTSCcCEduZlAHKBfTpnMWbx9QrkfDaxFNNwdqL0bp6YWlX5G1l9414f0yWw9S2kN7ALjzeqTeUnKYJhHY5i0RrqfujjYS4kSl8KtbsZ4EhN7DSR56VgVjF1Y9AeS7n8seDNP5tN6IIolxWirYQ3ZxysPpqy52/9wiH1zPsn91nPUYblW1CZlueO95heCdQeo06SvGpZ7x1QvPAjLq1hNLgrVi9LRYJKysljTNUC4Fn03FN9ukRR4+tcO579jn51W1WXm+xlSc/UITcSlyY82A0eiFhg1KKEW92xOIg2sg1I0V5IV+yVJRUH80olsOZKKHP8iRFLSHrOz2Vm9LEcrTjQdoYtmlLGfOY8k+0NLAsbWuZf3I4BWuxly4SJqfy2Y6G6JsfUNz78kLmZRAdsFz/390H3uaI7kkuLtpBQFcN6eGCYrdmcL9ieLcmO2oZ3mtJp57iyJEfOQYHDlsFhrsO3QrZN53KfMhGgCCZBeyC6KUOgz0vdm/TaPt2GsiOQ9/rJPPYiC9ChPTlVEqm4Q2nWJsvDwBxMoryk0jtqTZSQiJw8fBujS0De++SBxhsRL4iO0A1LUFFDZOjZxgM73uK3QqfSkJKcqIpbloG94XC1XHsmpGOdgnQRel2Ys6eFuXB1GcIf51UyZrYE8jh038plsPWfjHK0Hd60aKbwK1v9jEzXFTJLtNwxt9fN3EhVU7Y8qlm9dWW0U+scuu3rvLkyh2eXLvD9ZV7HH7qPItNxQ898Rt8+9f8R97y5hsc/d550qQVP8b4lU4CxgRcUKKuNiJ9UiqwcsOx/fuW7Cc3yP6LXe68T+JyL3/siIO3jPtcvh5qRzZYSHQER+Jmi4u9XoGja8vU0o6R1CHlQUsGwdmBuFgHyvoSO/vOkFc+82TuY/vgsLMWs3C92r4LZul6eNXEnuzePmo0IMxmtLfv4KsKP59D22KvPXGLlza2I8Ko0CsrYsyzqOR2A/BeQtJr1fPsgpaJuF40vcuVGF66uIjkNPCZwaWa5NQJfD91+ExjFp50osVOrDBiTRfLns41tsuz7oazppJhrYtJofVIvD6061QFIt/pvO5dKhB7x3trC5m96Ub1w86goVpL0CNLetyw8kqJLfMI+UvErZ02qMkCvzaSMPBUIo8IssEHdxboqmWxWqBrQcPyw9Dfvi6TnszHm9tWPiKVol1zmbynahxDG1qFjkNTmc3ILNNbQdvkFpaNFay8F59oQuQE4sDOHd5a9j405+F/mkkfrQXZJATaUYJZyCLu+KrBKBkMdxC3Vmx/ruH3P/ce9t6WkH75IckUeN8R//DpP0vwivxLBT/7oR/ne/7g+1FTw8YzUkFsft/r3J2sMCtT9PMjhm87xAfFbJZz52tg+zNQjzXmX2zxd37kV/jXH/8m1Lxi/YWS5sI6dv8UVTUiOG49oTDxcBQSeDOytJl+w0ioPteS7yWEQgCxdCJ286KmXq4hGcLHxxutHjh7dkVlQudR6keW9Ljuq4iO7dOlugKEwyOxzd/dB2PQWYav5UVUnmNWk+/84Qsfd+ibu+g0RQ0H+MMj+YA7J6K25eAbL9GZnKhW5hWnD+Xsv7Og3ElZbCQ04wSfGar1hHZkacaWdmDwmZZTOKJIUkbG0UAmVmISpi5vOHT/NAo7czJT6ZgClZw20DHUIwpkFOnMkcyE41dum2W01FyYEeKTvzzNBCHV+FR+KYQ5MD+fMbo1R/lAciSSArVo8Cu5SE1yTbUlSt6V12rsaU27klGvWqoNJQBWKa/pU9UP4ZN5ICkjB9HFm8R3G4aefJyUgfSoRpUVXcwxaULIIkPfSm8A9P4ZqG6YrOmMgervOWL7xwc9lUlKMOL3y22pW7+8IfvnrKLQUg48FcTfcPzbmvn5BH+1xr0yYvzHCafXWp5Nz+OV4vqDd3jZb7Dzhw2nz28we6zl4b99yNornvFvenbfm5GkTlx+Y2Jr0Ipn/93DvPrthq0/8syvDISTeLoArQhJAokBEx2gjRZvx0wOFhfNjnwGwWvSU0WzItkL3XPVLf0FIZtN3q5pYq8fsws6syQX7elNZ6iLIpnWlOdS+T0vpYRykM4g2ZsSdjZQ1qJVLPdjgq2yBr22ik3KQPrKHiFNcNeuoj73fBSBLgdTejAQVvYwLOdGlRixmDef4B7UzPYLzj1wyMGsII3mmAAuolnlcY7OHXlRY43ndFKImjpvxAWpaBiMKura0FaWMBMtmF4Ihd3UktNlKnorOx2v/q4kCFqTzAO29NEAJ/TDcPn9+EstNXSd1ZupPfWKIT2O872yEZXzKBPuWlmhqhxjNdmJwc41w3sOO61pNnKq9Uh1inSmdhg3j1H9GEC5zrGpk9B3RFpPPba9KLQL25DeUXqAYGSRBSXGocFqlIqbRKnekt2W4mlyesmS/+wG7dD1z6cbefRzs9rLLamWt9ryVI+9StcTWWhWJBh+818OufVdCzZ/XTG9kvHHn32QlUeP2MmmhMKx/9YM1ULx8THYCXpWEhLLIz9S8co/SOk8PCEyUnLNcGeGnswZ3oxOV8McPZkTrMbnoocUwEs2WD+60cTnLLrFzuI8aEF4xV1MLSU4baR1hSV6DREBd0sjXBkXKHTlz4B60W2rJHIvRXFRXtshf+UANSsJTQNp0nOEVZYRTqfY7Fhe6e73vpkLv3GPkCY9ONBfi3XN6Ebg5JrqB7CqVcwvOYZaHI2H52aUdUJT295PXalAtUgoBjXF2kKgWqdpGkOaN1STjDxvKJ1i/XdyJl8v9BBtA+nOnLqWWUdYGFzqaa3HzxLMijAkfKsJdVfeyhtLDiztQDF+VeB9OzP94NvHzdVlsKGiXGII2UHD7FJGvZqKMWhq0dMStzHATCtIREpjp3LLtYN1intzXCEw+ln1de/FEf+Hih+clJDCIu/MU7vxgYqlmgzw46Lvqgq/NH2VhSbvuZfUKOltg1LYhWN+LiX7jvukP74Z/7yo4k11RvCIyFBEAb/sCXvnZ+TGFe9NYjRUh5Qqzv1aRjtwtKuOweuW9LrjcweXUJljcM8wP69ZeU1Kp1BkMsi1mp2fL6jGy5uyQ01HHx5z8JVj3ve3P83Ncp3nf/5xtr6YYSa19E1hGZslNgNhCfVHcCL4KEFK5LZ0uaCHwhOVPt+lqgc8VMxb6DL3TNONabqsvzgrnLVxtBCroFSRngjgU24l5IetEIpDIFSyNpW1qEFBqGpU0Oji1ilH770sCN7h8XJYCPJG4s2WdidCkDcSNKxePSG1LavDkrqyjPOKLJcXOrd6yvZ4xuqK6F/Kk5wqUm5cY6hmKem4Zn6aEYJi8cEJWdbi4yyvWiQyyZ/ZGMmq8HMLJuBKK783t+AVam6kpPKKdsX3ZUI71H1wg8tkKK7bEOkz8sB6YejQMrxbcXol4eInJqgoQ9eNF2ZA9xX5csObpfQKY0szjI5auerJuWZBDIAIMe1FYphmlxXVmqZaVSzWFNWKlrnMmQH2kpqm5eDTOt7CsReLGreuvAtGIp/QsnkO3qK4/4VzwpZQSjZmvDm6Pq6zRpBFquMsMvQiR5HlhGUJFCO5TAVHjxmG9yrKLcv65w3lZcf+s1vMqxSbtey9E06v19SrFr86xGcJaIUbpD1fNilDv6G7Ayr9S/d55q8/xe0fe5SHv/sFXGZ6R2sf34MY7qhep9YBInIQiA9NOxYlRjJlmewSldG2DFRjTVMscx/OkoRN7bHzDhzycpg5+cx1HMG0BYxvVXTiYoDw+m3CYiF5FcjlRN3IeGxRYW+/fwMUjG77fmP14RZn/j2dRncXLR+QzzynL6zjc08oHMmo5uB0yKiQAvi1l8/x5sdvslVMGdia4nLDKBbHWgVGpqLylkQ7tuyUuU95pdzioWKfeWTqJsqxakp+6dY7uDg64ebpGucGpxxVA47nBYOs5mAyRCm4vHHMwWzAyWSALy26iXou4sggUsPqVbEF99EF2eUSwlGPNdlezWAvYXZ1yOilk+V5s6gJeSpzrcTSrsst167k8e+PiaM64NplWmnQ4J34vNtZlKG0iKtuI32TnYv2StjoQCqHgWo9ZKmUiBF56/PpkjeyVYTBIWDHra9LuPJbDa/+RS0LNfZk3dyxu5niVu77EpAyt99g3XuPhxbIzzW842lGitn5jIO3BgZ3NHquyY4U7vYGeYTWk7mNCZm56OyUIL3ZiRcL9kThkmjHFzPp9E9scf+HpjStY/qL16jeA1c/upDNdGaDSTVCFNUuN6pPYtZA4XBJItzEoeTrdQp5H9OGuhFLJ4Gy88hVbGNs78jG/9cdgEK561Qn6c0j3DsugIL8ubs451AmR8wwQ5/ABKCKArvYCSQnokjtrr0Qd3C3O31ZcvxQAp3i1oOdysmqF5rQKtzE0gw8VT0gDByq0vzxMw/IpN16VOIJpYXMQatR6bIHDE6jjEfpQHCa4BU6cSgNvtGgA/ePx9SzlPvZqixu66hbQ5q2KODuyQqjvCIvanzWEmzS5xJL9nGkGZ3GcsGHiNaJLGO+YRhmlnTSUm6nkdoS+xSjUVUjDXkQypYbZT387xNFNnE0rWzudiQfRley2hKaleWCxS15kKDiiRp7p7jIfS7aJrUQlnnIBFRaqrVVf3jILEfe1+Cuoh1orvw6cWNF8WvMjdMhSjv+hBGToLCisFcsf9ZupCAnO2QnDp9IisrF3/Xc/CbP5mcM5Q7LiN1YKQiv06CLBGU11XpKvl+jnKcZJ702rJuP7n6l5eJwzmuv7bC47sjPzeAjAZ/Gvi3evN3G6vCCNxLNFfYgkd4vBjHqMwVJdyuqEGgLLcY8QcAjO3eyJqyW3gz6eF3VOJIyUEalOmkiVYuHUDfo8YhQLmQs5hqZRQffE/Zt0FDshqVCtWPyY3rlqVldwcXat3szZ60KdBOv8LmUL2pql17wlRbpVRPLk5kFD3picAOPqjW2UrTrLVRC81caQjCiq0o9dmqoNzSqMrhaY08MzdBT2wAqoCpNSAIzM0A1muRIR6FooNqMV7mKg8sjmF4ybH5xQb0qO6FaMdh5oF5LMZUnO25xqzkhMSSH82XpmOT48UBEgbnFJ0LiBblROgVv0zXCcbNNrrUMbtqlDVz3geuurFURvpcfVDkJsKtXDKuf212iv6oDAboEG9mo3QC23DGsP99w+ETC1hfqPpCxV8K70L9+N2fqvEw6OyzlYNmxnVnQXU+FYrAr6NJiw3D+E3KTpCf0MVE+FUSvy7ZrRgkuz0lmrZSrYfl8esjcKN76tS/wuU9eY+WOrKfqaAx6isvlZjhrPweqtyLQUdDqY3mb78sBmE99T7o2degNVHs2ziLIiEPHpJpcMh8wcR5plJDN44WTzJxs9hZwHpdH0yCjCa1H5Zl8rzF09h8h4h1W17Jh1r50IkijVkuH4t4OXPfk32AhrDW4kwQ9UUKojWYunce8ajsxqCwQPddITOsyu4wgt6GuxFrAHNueeOzysDypcggmsPnphM0vzNBzoSWdPL7KYl2THwV2vyxu6CTIA7KyeG3le5W2jAaIGVowP58yulFSbWbUY/kApxcto9stR48lDO9ZVl5s8KnFhEBoW5TWqBDhck0sNWQelLou903WbLMiNnU+gcEN21sadD9LzywwcliFYYdAiBRnviUH09qiBqPxqX2DwQ8RtetKKKzm4G2B7Hc0yTT6YcTNrCsfS1CWP4fiDMsCdMe4CfQZAN3f4WN8Urcgjx/JGOw6jh/RjG7F3q0OwkdvlRASTr0Ek1Q+Ajjx1jQKkthrdSTyTOE9/OFnH+VD3/ybvDTf4dkffZJTb5blb2dEq+hbAh174G4spKAX3PoEBi+Lu5kKATNvaUeJbCYvjJ+O2K3nDSEzZLNGKFWzBjTCuYygi5qVpIcZIEbCbrWgS5wNrRgNh6omtJFd5QN9sKfS2PxAQg3Uq7fxTftG1oEX6YzKMzGfNMhCrrQIObtTJlJfOqtrn8T/0HGjlRo39nJUxt6k16rZpfNRUIg8vvtvKzKIrc/B6kszMdCZV4RBxsorM5JzBcW9OWufX/Dc39gUX/huLXc/QtudTODWYHzT9WDEIDPkewu8LZhva2aXFCs3hIHSZpF2NZlDIQxsd2EjEpBlAfhEsVgT5nc90rSF6q34REUeN1sGbR79BVXX9yy99Hudne9+9qWKOowK1LSkn391hvZh2V8pLdL84p5l7+2BBz5aRgaIWpaA/sxGsqrfbF2Z5xJFsdegQmB2PidoGN1poppDABM7aynPpRw+5ck/oVhcrRneESZvJ2VKZx678JjSk98XVPb44YzhrsRpyWvKs/JmifB5Ax/6+t/iV//h14nG7UP3uPiDBT6zoJJ4+6t+k0HnEyIcV9WAVvJMXQ6zC4qtpxvswUxKfqsxCvTCYea1fI6tox+jTGWUobs1HzVr8VqCqsbuTTCLoaT7RKi/HShUngvdKnKDiZuOqkIVOTQtliCizTdsMLq/P4icu8jl1GuU3FyRo6dCrP3jwvF56OUxQUf2tVO9j4eOFnHhDCtaGKIQEi8S+SC/73PH4JWUaj0wfq3E5RZlNT5f7T/84t6cajMnSU3PtgbAqV5y3t0wIQZTLDZ0358cPp6x8x8ryThWI1Ca/SdTYWgX4IYpqowkV2uXsLrVPTrXyX2q1Tg8LcClkgxa59IfuTSQnkgEVPcszPzMc449lPS8ErhQ7HuagcKPcszpHFfY2PdFD4z+YFOxSlDkB4GN319QryXCE+1Ks8j06N63Broctg6yVg7agWGxbjh+DHb+0MfF7MUXPyAe9aXn0f+n4sUfSLh25T7T37gkvU6nias9ZiE3RjCK2eVcQKiR7m+QzlhWIovl7/YJ/NI/eT/f9Q8+xm69wuf+9tuRgZXCp0os4lzo55/9gRqIpIXleKVX+9et0OawtNtD5jupZN/VLfrwtH8uJFa4vTbSdyJtJJQlnWQMJ/G+yVSy5BbbuSSiVhDGA1gslsJR51FpAk6DNrCzik0nATuXhq7/QIwWQKTbfLF5dmmI5Z9w+s7GneoWKGNJ1UqZKBut+4blw9Gl7NKgQTUKny1VAbpReA3BK/7uX/7X/NT/8G1MHipI5p6m0AzvN/IhakU7Mtz4gOXKb3WLLfYgi4ie1cKf7KQz1bocCOsvNEwvycI9essKG08fMbwx4/ihFeaXvSycdx3T3Bii5xnmpMWvjuQUVHFxxrkYyCZrO++TFoiIY3oi39uuxHleVFl3N3owoGJD3enaOhfj0c05el73G7oZmT5WqkPLui+vZF50fD0wvi09MJ2Vdvy+EA1vXCpeJMrB8K6wX9ww4dz//Co3Ttf54Pnn+eR//W6qjQw7bbDHJcFqZg+t0DmeledyVp62vFZssB3oAyak55FNpluPKxImbzIkEzG79XZpEdeVtd1sySRpMgAAIABJREFUjADBB377296OOjklM/dEy5Va2jwGY4YlgyN0vV2sWux82XNKflngxb+yKRt76Dn3ScViU1NuG+rNEcmJvJ/8QPiwMrCOZkg6joHKzieHfvbW3dzVil6a2q4P0C+9jkqTniOsigK3vSZoaWKw6TRQ7Erf85948PsAzuGHBZ2ymaAI1kPmCLNUoOws9usRkQxZRHJMRLycgljPygkbliePFR+N7it0xGWv+Ee/9B3sOJmJeKuo1hWrr0iAxPFjI2wV+O8+8Ov8/B99MM74FCHxmEpoT53xqi3pG+j0NDB50LLxbMX8XIrLFNX5IfmNY9ArjF7V8GeOOP8/WezerjCyodeBYWQRe3PG4DTCzJ0dAxrJiqtlYaQHhvqJEnMjlzCG7hbp8ri7m+cMgqantcjvrRa8wCyNazt4O+jlQjNV4MrHHR2Chhd1eLdIdBsILkiGVyNI2uJcwfSCZXjPcf+HHiQP8PMf/Br8n4NLvytE2dsf2GL9hYbBrTnNaoauPXtvLyj2PZMykR4peqpI2kuc6xnLyUNZdEwWpkZnQCojCnpbB3kIgFacPrHJ+Isejk/lglobLjeVXn7rG4x4O2es0IEYAni0G/ICG5+xuAwWm1BvOClfH1zgSkOzbgjWoxZG1mVYVm7jVwyuhGpd0QzjhmukL28HwlKqx1CvpRR5tswR1AqsQb92h1BVGGOw823N2u/cxrWtXJHqzNXTfZnICBi3ktoCsDCYSqQGomqOP0il0FW88eKDCDou0Chv0bXYdock9PZv7chj5ppgAnqh8EVgeFtO6vQ0RiXVYuVlDk5p3jnm4CnFs7MLlDuK4a3A0Vt9H5Yniu2uaY5UrGiRkMwD5XbC6nMnLC6MmF5KSY8LLnxyzu2vGTD41TV0dYwfFuiTqZQULvQASFieC70BTz9vUqJpU05CFbQTZ2B3Kxd3YGK50TmCnelvOiTRW9GW4bQIIG0XuhBvp44ME3ucgycVj331q0z+8ZW+fOrnRW3ALhxm1vTcznotoxlpBncWjNvA9FLC5OoAFQLFrvSGe29N2PySIpkEDh9LSC5ZBvuefK8m+cZ98n+6Ip9vd6MZRT3UmDTgk4R6pHu7boHxBY1so1SpUyp088aOGFytaMbdw3VOyr+oD1MuenXo5Wv2DsaRuR+M0EPRYA8sH/j6p/nSLz/F6RVLMAF7qmnHnryoeffDNzhtMrQK+KC4NxN9U9VaMtsyfzBhWmZkWcN62rD74hZYT3FbqotgID8IJJNGSkUfhJN6fhOfWtTKAFXWhHt7WJeBn5zKBPtPbrDgwXt8ZqUEbCSd049agdpTSflUXvWbpz9x+mOI/rQOCjDQjnx0vVX94FaXuneSVQrGzyfoJtAUCrsQYKJek1XkVwZMHpLb8ON/8BR6OzC8IzA/yP9HdYRTemi3WxT5Yct8x7I4P6R4aZ/0eMzhm8fsfYXj0Z+dc/RYgVo0zK5tkB3mJLcP5XbpBpBBTi2XqN5Tsr/JsggeJLIxXQL1uYb85tKbXwV6ewZTLU/kTnEtujFRFAuc7N7gEXl2gQXE3vv1Dz/Eatr2ZZxuAsmkxU5kWFxeGjLfsuTHjsGdkuy+5/5XrkbhKr0ywlShL6Huvtfw8C9NCQqqrZxq1bD3tgI+VpDfP+bh/zunGUWAJd6wEnoo4e2d9svO5efuLCx69XxnaeFkEBy0ZO4dvmeHzd9rCSenslDPmDJ1m6p7TRlbdDYLstaSOaAUyRT+v5uPsE2UWR1qJtcbLj5wwGq24BPPXZPP4zCRyN1a9/4vPpVUVQVUDppKoda9WPBpJOXULT1KUQqVJfjzm7SjVFyn8wStFOrCDjqZhp5m9Z/7ComRBdR9acjPzdBNTHjsXqtLpYz9knLye24oQIepFD73vZ/72XjWbgEqD67wrNxwfb+im8B8x5Ccgjmacfi2dd7zvmfFlGWuWb9+IImNE9nwqpWeqTPPXNqVya+jayn5geP44RS/PsKclKy9OGf7yhGTB3PWny9ptkeY0lGek9mIWohGqiP2StZ0WC4AG3rXK/FA7Bp3JVVABBzOesv3IFFk85/9Uk1ExOKH2Pd1nUQjiTfEAHaebvCpQPTeiuKhuD3DlA2TayscPSkn9doLcwa3ZhxdH7H/zhWSqE73EZRSLtAOFM1YSuyNL8D+W0eoAIOXDhndqdj64gJdB46vr4gwtlyyJ0wtdDPRFMbbvIzqijjMpj8slkBS5yyto3FRPVaELIUL2+B9/z0qPo/eN1/JbUkghk4EbBlIJoHBvUB6Etj+5wXJSU21Kuj6tUfucvqx8zz/zFV2dk6w91LWn1WYqSE9UQzuajb/SLH1tGbjSzB+BTa+FNh+puXKx1w/M5Zc8Xiz2shJLXLcICE5mKGqRty3btwTNHP7aVGB+jN8vuA6nFmDFlnC2QWlrGcxT/sH07POzfJNKxcXvVOYU9PP0XQpMzVJiwn9vM0s4gaNSOXeWzX1mjSq0wuGak2x+mqD2xyz/w0Lpk0GRvw99u+vxGtcxZ4vWttFPVpPxSrlZ9t6pmR62ZKeBvbfNpLB9O1Dwi9vcXpVo6tW6u4Xdxm9ckpILKoRYqluXAxCiGdOtLo7SwXqDpiuVFZxCH3Wfu6syVA3S+vtuyN870ZxAIpY4nXEZZdJZKxLFcdPenyqWH9RhsGjl05IT2qOr69w9MSYZO4Z3m3IDirqtZRb37BKM1zeMJ32qr8p3RkASwnHdfedI+YPb5DcnZDuzli8/5TH/+aXWGynuFyzWNd92otsBMgmIuwtDnyviIeYw9aZOXU2gXH9dO7WQSlmj26g5gtU1fRcUZdEnaIRFNIbeQbKL0XE6SQwvO/YeLZk6+lj7Kyl2spQDsoHayZ1hlmIEkQpYUVV64q152Ht+UCxG+LfJwyaZcUhiKpqiIdoWEq3FlKe+NUhZi4wvFo0KO9hax1V1Wj9wg0hQP7nvoyhHYjrrGpj7xVP6GAhmag+7M5UZ1BIJ0PskATc0OFzv3Qqdggc231vHdHKWG75cUsyk2ywal2JxitAMmt56TtHfMXDr/LK0QYhExrDxs6E4sCTnixBlq7UcjFqSTs5EU8e0iy2Uja/MOsX2NFTa7QX1tn83htsPttSbeYMn9uTn+14KhzHpmNwx/K1g6hTcINOndshV3LIdF92opfIYiwZO2qQdkukUWhLMtcpr65y8sMlix+d4dc7Z6LljSbpncC4oRlqsoOG/H7J5PE1jh4fkU0cK68uyO+XJJOa++8ecfKw0IZc3mnY4mEUF2zP61PEGFn5NbzvCVZx+4PncOOMB//enNv//cOMnzvi5MGEcksxvlX1XMmOfJ4fikSnGyB39L2uL+utBwLoqqteBPYvt4yw/r0nP6z7Z9TP/ToLvKh2T2ee4qBlcL+muDvDHs3BBXxmqMeaycOwff6Eg5OhZN2NAuHnthndDr0P6Obv3Ra1tV+CLfqMusKU7RItTeU5uVShFy2qKCTQ8ugUNZkKQf+VW3B4TEgTbGhblDH/SWQTsFRYw5I+pAJ6aglrDR2hFY+kj0TEsHMM/stf/zuMzYKBrnBopi7npz7+9ZAEaGTjdh9Md8uZBt75rlf5w8mjPcAwuKOZPN7QvLfhbeduclwXVFWCSjzVpuevvemz/LL9hpgzFucp8c+KkavqQQY7h8kDBp8M2PzDQ9qVnMMnBxxfG3L4B0MeOKkEOIiuRgThfWINhDO8u7jhumFpd8gEo6CVw8NlopEy1bLsU0565t4XxC8Xm6lFVq9d4PVvNTz6wwXBDrn7tUPWn69lxBIVAt288k0X9zkeXQINJ9dGZEeO9KRFu4A9KWnXC25/dUFyCk1BDHskonhvHM90P2Nnhyf6uhAPUc/GczX7Tw0Z7BfUI83mpyZkJ57tp0uSe8ckewXVxRHVqkF5RXra0OYGHcWo3WFxNm0oKJkJnmV5+ERAk2ZzSHo6x55UJGUmaaDR79Mu5EDq0mey4wYzqdFzCWwPeUIwhnRvhsvGrL5o4SloyoTpVcXqczKWOf/7xwzvFJxeTcFJALwjtjbtMrHVRk6pcvL8m9xHdTvyeuMB9niBPzyWctcYlNGoPMfnf5oleBc+CAQHSjtmOwY38rKRbCC5OKM6znspiCtUL50Rda/I8Y/aAQNTcb9ZxSjf+/vZeFuZmv6WNAsidSrwzO1LgtoNPCFztMcpZtxwZf2Yo2qAVZ40balPUwb3NS+VO9z5oGPlC4bkJNb9iTAHVJCmvFrRfY+Qnkgwx8E7N1h9uWTrc6ccXR+TThSLjYTxoQj41HAAdSOmRcQHqpYlXx+ZG2diporPLHS323JTNMMYot6Cje7Lpgox601uXVt1VtgdEVg+i5PrLRt/HBNMnLBWUFCtQvW/XyBNA0eP5Gx/+gii3YFqPXvvXmd+XuZXi82ogYsyD50sHcM6tQGcQTStwnjRb4UWTCQzD/Y8XexsKFKyY09y/wTqBh0C+estuVaExOBGGUntRXpSWZKZ7ofV3U3eGw6raNCklo5obmDFmKj1pCeOsG7kAFnIM5LhuENXYtmtygpaR/XoOZKjBXpaRp0YzC4pTJ2gdKB+cEGzkuJzR/ItDeUn1tj8ggg2gxITqKTshK9EQWg8kJqu5Ba2Ub2qwMVk0Dt7hKbBVxVmbQ01HODOrRES859J/DRnLIUjetfPvxRY62nmAk404whPo2JZEkimAhicNAWnTY7VjlmboZUnmSqUF8uurrzrxgA63nLVUS4nSCz6qw3JtvYo1rM5tbcoFVAzy/xKy71yjJoaPvTXfo1//tPfKos0nJlrsTydXaFkQU/FY2Tv7QNWXmsxdWD+aM3Vj5SC+KUpPc8tS2Xq3/Wu3RA4zrB6FjmygPDyuEzdoYqBPJaSKjI0VEUfFGirGHrXdpFCHlIxo3GDBBKPaZYHoLw4tE/O2B0O+KZv/Cyf+sl30W4WJHszSAw3vmVdqpDYAwvHMQJUiqX6OOk+P3rzGYiLS8m8yJbiZXg2WD2deuZXVxi+eoIfFzDIUVWNmi9E7XBcow9NDHlISQ4Vg8T0QX+CQCtc9JTpuJ8EyE6EPypXvzhM5XslwQwE8Jg2YiQ0q0Tz5QQdD6MB00dWGdwQtXbIU0l6UfKZlC+t8t3v/yQfvfEE7Rdyrnz0iBe+b5Ncg104gjWYOpCfOBmSq64vBCKS2Y0RsiPFyg3H6SWDni9wq0MxFdIa8+hDhDxBHU3Rr9yRy6VDHP/UXLT4JeWX3GaowNqgpJ6vSMRrKyiRiSeUnaneDvtTH3tSXmTeDfmkTOiJxbFk0LVsvCZCvPbE4AqPaoQo7Nda8qIh0Y55K0fv5dUTni1G6Lnhj25eBg3/6+99E9uHknjpMmgKFXcBPS8NYPzanP2nhuTHgfxQtFHzHc3lX7PyAWWJlIog/6wbsGKDZion4BDSS3hLn8/t0uWMyC5kY08elmdS7IZ+cK66991GW+3oU6niYLlbcCExtEMDjUJXdX8wSZABXPq/Esq/ucd//GfvwhWw2Egxs4aXv2MskHoq8ytJB1W4IuCKsERGY0kt0b2qJxzLTEtKXt3KDdr7biBWEbZ0lNspB+/YYO9dEmv78M8dCV2tqsW3vm1R07lsvjQh5CmiitYo50TnZ028ScSMtPPaLxKDahz11Q0OH8s5vh549OcEuNNlIyOPWYyITRNmT5xH+cDwZcnnDdbQbA5pViyzHcvivIOVhseLO3z481/FzkstalZy7UfuwfYmaA2JFc7oywfMH9vCZcLJ7MgaEusF9aocWsmkxT9oaLfG6Hm8yS6eJ5ycwq0pIU2EB+k8tvcG6ThdSguLX2k6vwqXIpqyyOioWgn0G92VPm12Tq5n5SE79cx2NPm+fFjdCdihc310kVuWWyoIUtgMheJydB3RtJUyrS9WFlxaP0GrwFpaclwXWOVRmaPYmhM+syq2bl4zuN9SjxOasaBCyanqF34wMLrjqDYzlIf9pxT5nmXt5ZbRHYdZeMLkFDUeCaFUKfzaCHV3XzifzvU0rC7HueNQeisXvqnAlPJ+7EKGPYN7QSKkUhWNhVjaFXQ9alQ3dyJMe5CKYHTuSA8zyfKaeZqRlmFsGWiHhvbfbmPbwOyiYn7ecPcrx9i5ohnLSKVTQ7TDON8zHWDUzQCFwdJGnqqpVR9PK+7SCoPMM+XPgUk0xY0Tkj3NyZvXGN4SsvDL/+U6Ky+vs/3ZE/T9Q4L3qEGxJOc2rdxQ0evErwz6G04vGvTxTG6FeDOgNeUjlzj3iT3S6Rb6dCHAlA9yg60MmT2yjreK0csnMblT41ZzplfWSE9dv1nC0PHQpX1++/g69Zb0saFcEJoWbt9Dn9vGZ5bi1qls4Fj+d8GIXfSuzOqEC6vbOB4pLOakRK+vEY4nAi4qRYgxTnj/p5SOWqHUUiajlBieUGuCcSgFZZ0wvBPId+VEsbO0l9knkxpdZ2SHFc046dninZLVLDxnA+aSSUOzmpKc1DSrqcRD7Sa0FwMh9+jUYYxnnCwY2AYfFLlpGNgam7V83dUX+A833skPfO9H+emf/hbSk5p0YlFekR+3lFuWyQOmN9MMGk4vW1ZfbcRkZyEwbn7QkhyVuEcuYfZPBZoFGZie20DtHkXPy0gJM90YY/noujifHuDxcP7Tjr23WrITYWp0vpCdfyCx5wudhCT2BBtfEMfiyZtS3vTvTglaYRYeOxfJ0tFTjm9/7yf48E98HUEpvv8vfIx/+a8+gMoj/atVtIVUISFz0MQmwwZwXekbHcny0INH3cyqo8WFzoMy6uV0dAprtoekN4/6JByXi+i03IaXvnuVnT8cs/r5Pbm9mrZX63fWBDQtumrAOcJogC8SqvOCrtrTRuz2tCY7aqkur7LyypxQpDQ7Y+r1lC5wZPjKSTSUVbiVnPnFguOHDKuvOhZrouD2qWyO13c3eGRlDzvR7D2Vc+nzIthEKdpzq/KM5w3KWnHGCpAd+wjcBPAyp6tbofrpxks10vlwKiXvs8iXbQYQ6hqL0ugiF6NHAB8I/dAsoKwVlCoJaOsJQVFXlu17TWSM+FiaSbJ9MJpk1tKspD2pVcohMYgRkSFkR5W4QmVG6u3IhLCNJz+0nCpZEMErirTBB40PioWzzJqMeZsyGlR818an+bX07Xx0980sNoRRMbpdU20kHD1ipV+rJRCjvNLSDBLcIKCbhLUXF9iTkpAlTB4eMmo8s4sZa/ejjUHrUKGSmz3P5L02Dt14ktLjren7m2DBRa8/cQuWG9SlhvXnBbnsN2UgMkG6HGUZenbzSIDh/YbJAwmbX2wkGE9r7NxhK9P3sr/wyjuYvtXzyT//Y3zd//lDhEzmOz4Dn3o6ZQRt1APmDpxCnWG6+yxEJg2oWpjycsvRjz9AUFZdi8sWLtCME+ondlisa+pVIpdRNujgnuL0quHw+nku/e6C9NbxUopXNfhBThjlqDLOmpoW7T3F3kkUTQYpKUMgO9G9oWpIE5JFQ3Io1nMoRbuas9jOaHMtSUfzwOqrjo6c0IzicHlh0EXDM/uXyA4V1WZAra1QX90gfek+5sVbVG97kyCLg03aPCoSfJcdp0kmXp4LUhmoxknY5MBiJ4ZQ12LXODldWhnEME8L4MuOR7K81WSDKtCKdhRkuOw0wSna44TFhmL3nSnltQqdOtzEQqZQpwnKy2YyC0U79vRE2SpasA3kCFStEksEBdlxHhUCsmhDKbeqTR2pcXgUtTfM25TKibPtzmjKh4/exeWPK37sm/8N3/6xv4M5mrE4V6BcYHA/sP/OwMYz8uFPU0P1eMkDPyv9V3kuxawm5PsLsiMhK9fjQvxBpmW/2UKW0IXXAeha9Fa60NhSWCid4NDO3wgwCGQvu8eWfkkodkE8FV0QLmmAak1svdNTkdSPb7Ykkxo3lN7GTmuSqSVLFNt/oJld0nzbV/0BX/szP4gby98dOj1f3Dz97WUDtBpMIGRCN3Ir7XIUouRzb8dO1BmRiYJS+FreX72qSGfgM4NdCIG5GVl8Enq7O+Lt1g3g957Kce85T74fWH21Jj0QUyM3SFg8MCCZdg7JHjaG6HkjN10tKZphvpA+OUvxo0IAlNxSr6U0I818R7PYhOwYRrfE1zMYRbkp+QjBSK6ZahTve/AVPvkbT3H5Mws59BNL+vIu5fULFC/ucng9Y+vzc+q1VIx6FgLhm9IJC6gVUyEVlFh4GE07CMx3EtL7CqWNJH4mFpQWQaiRFsyGtulvru6r8wohSUBpmhWPzhy+0dj9BN3C7jcvKIY1w2gpZzdKvNNka7JAvVeEoCisY3qas7oqN+Z0llNkLasD+b5FYymSllFasTsd4RuLNZ72uTXc0NMcZeiNCVVr0TawOx1hjWc1X3BS5fzK//se/tIPf4LfnF2XwXliufkNiqsf9SzWNbqWks2litHrmos/2zC7klLsVqSHC9wwYX6xwM4c1VYhza+O/alHHtw0o3pgg+zmMWpaoocZOjc9Crf+vATMz84bigMRPianToxVxyn1qmVwa46Z1UI2dVFuEzeZaj0hMaQHCJ3HxYSb3n+xxedpT0Gan1fM3rJg58Nj/sObvoLmvOtLv2C9kAC9gtSLjbtT0kBGQrhqoxq9kzJ1fi2ZgkYOUzeQW7PL38arHsCRQ9NRns/73GsXidXeBKxTJCXUa1DlsuGasWL/yYxmnJEfBMY3HdmRhIfMzmU0Q+FZprOcZOrJd0tU4zFKSf5YYmk2ciYPpLQDxWIDmnFgdAN2PtdiojV8tWp6IkFv4+AF6a68lejdl3c5+OrLFJ8/JWysUjx3j91vvIp//xHtSyPJSDv12FLkWAJYSYshh6UGHaTVMTKPI2oVSeVQJnSaNPmsrZiJ/ClcR62jF0JLMIE8byhWaw6rtagng0FW0zrNtz7+RX7xt7+SwZsE8UmM43gypBhVLKqE4DRF2tA4w/mNCS4oRknN3mzIok7Ik5a92RDnNeW9Efk9Q15BhaYdesomYS0vOVwMKKsU7xXzKmV2kpNW8MkfeDe33j/ErQV8lvDgr7bMLoiEp1Mt60bsu08eHVFua9oixy4C+UHN6KUTms1BhLsTfJFgpvHQGRTgPPnLe4Qsldtu0WIyiwoSTTu4NUNVjpVnfY+o4TyqdVTb28L0TkxUeoty1+epLPIQpMfoDrnGSVkUxGIODW40lLK19cx/4JgfffxXeHr+IC9f2+ZT//6pSPVS+MJBElDWEcpowdeeGfwFBOpPIyCTiQFSltfix5k4yuMclTuC09Aaef0sCKc1ENOCxIKiGUgSKNBLnlSnMLDE75cF3+Zx4UcL7ulFg+p4bAGKQ/mZgoZqVdMMh6gA41dljqarhsWGmMzmB57sqJvFRYBuzdBmy5xzH3PoOk6lmStuz1ZRD8yoH9pmsaFha53Zm1a581VbuCKw/pE1svsTUU54SQuV96L7QMLBbQ1vX8EVnmrNECxCdu/MbquWzsYApSBJCYsFViklO/TsoDrGgbLwoDXJsWH9oTkKSPcNzZrnG649x59ZfY4ryQEv1zv8b9/6M9xr18hVzaad8m/2341Vnsv5EUftgNpbzqUTPIrPHD7Am1fvojcCh/UQgNvzVRpvuHB9gv7JEcEo2pWc3XcOODnd5OiBIXlRsziQIIVaBbL7lrXnA+a0IjsccvEjd3BbK7jCMHlIsfqyhMW3hZR3uhGyrPIwuN8QFMx3UqpHckZ3W9ITIee2oxRzPz44LQ7B88e2GLxyTEhSVN2g6wQ78yQzzdJ6QQvaZAWmDkp8DPsIVq17q7fy4pDFuiGZe7KjFjtrpGe10veG3AqAlGhJHTWK219rufjPHX/r3d/Hlffe4ugXLtO+SaRGPvPx5gKVBPSoxTuFSgO+NijrCRhUGm8vr7CpQ6lA0xiStKWqEnTuUDrgKkNIRV2taymRklOFWTjMXLw1qlUtJSkR/GmW1LOOBdOnvMYSNcgjFdlLN9j3ZwjGUaDaBZjsPzXqY7m6TdXGzexdd5suw0M6gatuQuRBys/QDgNaBb7s6g0+994nqDY9p9fWuPM+xfV3vEZuGp62D3PuV/bEZKd1AtQEcQVTEUU00znZ4QrVlqg3OrrfyeOrrL1+J6L13YIIUFcoa7EdgTj46EUH9CrrIIF3zYajrBMmL66TzRT2+pRP/cLbufXhbYFsu1lTjBLtPPxwnjusxQeteD1s9s/8j9WleNXI96sQSGNUT0hq9HRO0qxw4ZNyqqjWc/rwmHRb92au6cRR3C9RIXD+k8e4zTH3vnxMMhPZTLmpCVkLytAOA4P7cPyoJt+TDzg9WKDbjOxIcfRYBiGhXhHQhqaBXBx20ZrB8/ti9dy9X+9Jpi3u6tLrEqBZL2gLQzM2LNZUnwl352uEQT+/6Dn35l3etHK7t01fOMvufMzxvCAxDYl1JMaxfzIiyxbkSYvzijUFs+c3Ke4rjn7+co9sdqwFNNKDBUVwSPloAsmwppmn6LzF1wZMIB+Jx6YxPrpKw/rKnJPTAlTAJV56utQRgpKk2FointqBJLe0Q5bynWRJ7eqVzoEenfXRvbkzsz075PeWGGBIDHyUct9bxcG7HY/9ixKfaA6vD4Q5n6ula5sTwyVJ/4EuVIQgUhYQwoNykJmW33/xIfR64E1vu82tq2tc+MUB9770IIPvvMfG0xo2Vgmtg2Eh878sJWSWdpgRjGJ+IZMYrjND/2Bg9fkJwfnejIc0kT0R91Rfs/xpA2ulFCQJa39kqXdkVrY457kwLJnVq4RZKccKLMvPs3G8XZ4v9LwvQPzJO1uu7qvjWgZP+9gVzCBDdbMVHwh5SrFbU+yDPSgFiQJILH6Qcv89Y46faBm/BLOLiuEdycdSTpgt6oEp8/kI89YTZs+tkB8n2NJhTyratYz15ysJuvCWcssyUCrW2kFoQCFQXlmhuDkBJUTS2QMj3vF9f8RnsrcyuxRYeeKAN28bIsMTAAAgAElEQVS9xCsnW9zdXcPeycgOBa1bbAWyA0W2r5l95DzP5Od7b0fl4zwRqC34Evw0MNLiUVGta+qVyEhAYqlME5ifk/zmkHfUeFFWhFbLzFMHjFBs0Kn0cSaXa6CuErK8xmpP0xhJ9XQaY71UQdajYonpnMMpjV0IKmlLT7VmexXAUjUvm0Wct+jpXZ1FenfLycEJHVfWRCSvM5jtyOSD+4Fv/7LP8Mf/ywNoa0hnBeVG7DPd8s90IYNdQs9iQ6KM63EgP1AkU0V1vmXepGxuTln/Kc/XfuAFnrx6kx987q+w/e773Ly9iXpfzfETm1L5HC8Fvi4H/9gU7xVu7hg/azCnuh/qt4OAunV/qefUSphE3WbTCis3j+s3QziD/5MkqEya8FFeMVsdMNqaUTsjtfpkwhs8RoIXUCXa1Clrl8RkY/CzpSONIJotvaI7eELTotIUn2jufuMG41teKDEHNbpymEVLO0yYPLFGUDB+dcbkkSH3vsYhLkGK+QVJfUyngUkhMOz8XGBjZc7e6oAroxmnb2loXt2kGSc05zNGN+aSKtMa0lMj9XueLf0cG/FWz3ZLcB4/yAB4/O9+kWd/9Eku/rev8cJnH8D88iaf296iPOehCDQbEiPUFtBstDTnI1ARTWHtse11a+LBImUggFlodA0rL0uqabkjm9Wlmp2nmz7NVJ7dkgFDQMYiSkoeHxRaezn7FKCkhNLWkcW8skG0cW+9pm0Nedpibax0ApQug4XYvjUDKX/LTSFNdy8fIvumG953P1tv8nqGRAzxBowjhA646GwnhB0fmF6BZ/76U+gNhyvEbcunwrhpC5nLBkVUzofeXDY/hHJHgB6fQL3uUZVm0VrWipLD65t85M6beccjr/HgV97kr17+JP+o/CBVZSkenhOAYVZzdDqg2i8g9ySvDQlZIJ0uSeK9OWv9Jy4pbeQC6jYb3Y1mpPkLbbu8ZbRkpInXPNStYevCCVXb+VAQh3OF/DNJ+tdR1srfFeN5aVrwbT8uOLu5egMgZWWTGkP26h7uvVeYXtIstgOEHJeLsY2dKs59tmF23vLSdw8FPYvGrjptURPD1hda7NSR72XUW3Duy+5xdXzE3s6Y92y/xn414hk2SY8ryq0B+0+NWHm9Jj2uWHuh4fixodgYxJWmnCckcPODqzzwb/dwKyn33l1w8uNvwXz/Lvd+8QHMZTh6AtzA9fMqYqJkO+g2wfIDUZXG5Z7elk+DrvUZOzp6/p9upUzxKy1tnXD8SML5v/A6k996AFfEFR3dybCIC7SSW8m3Gp0ETAwe0SrecsAgbZgsJPsgBIVzmiKryZIW63wkYGiatEUf5OTHDhWg3NBMryIGuNEBGhXQpVr2Zmr5s3cbtmPqd/ZynQ5PvCNjvxWDA/N9ybzrXIJt49Dn0t6jxFQB18lygqjvu1tSN1LmuiJQnvOE3KNKTeM0B7MBk68rca9t8bc+/V/x0Fe/xj/7+9/J+fui2tDTqmenrDcxi8K5vuJSG2u8/Fcvg5L2pR1AMpXqRxkta9sv90NYLCDL/nRSsYp9lkrkdqrWFdZrsqTGecXenTUuzvxyw0QvvA7KJMQXtVZsks+UiKERWU6/wfqS0Qk/Tn4Ahl+xz7TMaMuEJGspEkc5T/EKXn9EAzU2b2gXCeYgYf1Lis1nStwA6rWEaiNh5aZj58/d5c9f+Dz7zZhbO2ucSya8OtuUiX7ryQ9FyZ3tzghGCKL5Yc5rf3GDh37mlgxOgZAYrnxswu1v3ObC75+y+v577H/6POf/ySbZamCxqWlWnSB6XkAJnFjMuQxB/6IwFhVk3mUj5J56aGIemVPQKFwu1CiXg5pHvqhLCEZg8+N/cQV1FUIaIPHoxOEx4JW4Qusg47TE4b1mUCzIrGO2SEmswwfFvJbFoGW1kiUN46xmssj6jVi1olB95vt/gvf+j3+Df/z3f4r/5l99CHd5AU4TZhYz073Y9Q2uZ10tFUvIpTJANkS3EX0i3x8QhLNTyPtEDmY3SHsbc///8/Xe0bZlV3nnb4WdTrrx3ZdThVdVUqkklYQkRJKEgvFApAZjsDDYbgfcbXd72GY4Nhjo4WG3DQ7tAcZ20wJDu7HBxk0QQQKJRqWEAlUllUqVXqoXbz5hp7VW/zHX3ue+Eu4zxhv3vfvuPXHPNef85je/LxGKWDtUmAVU62AXQmiXVgFmpz26kZI9GESOvutdg+LhU7d4JpygPTTkpkF99DJ+dw+SRKYkzgmY1QUPESAE1PYupjzTO8duPOlZ++hVyDOhWxm5pkPToJIENRoRqjq28D7Q8Rz7GZpzUvrlOfVaILVOPhAA3elbeEFjOmpSLBv78rNu7gkyYDkxV3r5uNAzArrbdJHJBmzWUu/mLGapNLiVIRvWMLMknxthbwgdZ/8BZMg4r1E+UA8V6X7LWjZntx2S64bcNqzbKbvVgMOLMDs3pBkZ8pcPI0TuwAhLvbgTcJsTrr/3JG59BFrz0nsnHDzcsv/AkJefPca5D8xI92psJc4l9lBj9yx6bnr9kl6OodQSgDHTASjr0cNGrrBELvZuYwEjS7Od+lXPQDGBZhgw8cLtWB6+lJUFZYUDanJHVjRoIz2XQqqSLGn70sh5TWIcrRPZ9jz62g3ShkHaUCQN1ggK+dP7FwgG/taP/gXqU3EXMW7Nu8LLc2k7upMEVy9R4Zd9qG7pV2RcVBDrFa00dFKGne+5SLxF/fsQ+iBVrWyOmGqpSaKjaK0phZnjBgE/cASvUNYzySvWh3NevXKDh0/f5Je/48d45rceFPCju06Pjrq6iixet92Omc+EP+pTSOaesFgQumQTEwwgysVVDVodUVuMdxic76O3u3W1eOPkg6JV0RN5+ev9kLePKM1/8/b/p1ESM5xzimFek2UNZhwFLZ1GH1jcl0Zktww+FWa8ncvF2KzluFHKzkMJ5Yainlj+8EOX2EoOeCi/wXtP/CGHruCwymgulqT7LYMbVa+d2FkcZbdm5DuBm2+dUE/g6nvGBKtZe9MtdKn5wR/5aU7/jlg9mVlNttOQ73bwN5iFDLtpVb8JnUyVZLXu7YkwelfGyWcQIPUSYFZ0R1wqF6RdxKzmJbCUD5GHSGTzhx7wDU5hrMN7RVPdW7T4I+XrIKtZVClKgdWe1DgGiQAkw6Rm3iRkxnFhc4f3X36LDJ2/qmH92IGIqoIwhuxyX6vz5e6l4PyyX+uUyHr15IhKdkCGSFksV3m8lapDla3Q0AK9fECHMJpKPKzrlUA9CTTjEDc1Am7oGR6bo6zHJoLkrmWCE7ReUwbD+ucdyhpZi/JHPoskuYfEsfyMTPSwk6XPZBrbrSpS9brY0THoIjCi7ynjYPn37vtxWGHjyQegMoG20UoM+tSR3/FxIn7kFkKQBbyjjxG6E+AVjx+8zDBeHOK8oiwT/N0M+1KOMh6f+x5O17WcZsmhIttWNCNLcmfGiSdm6AYOzxo2P+dJVUsdDKeTXeY+ZZjWrK/N0LXH7i5i6dsNHYWZkcw9yTTwyNd/iaDg6rsm/I/3/S6qVTwxe4Bsr2F+QvyVlQskM0+6LzQzAqKg1ESJtJmgWMlu7N4VJFlLlkvGMRE11Jk0N52wUUhDLzLUqVWJ7B5LbcdC+jFlPTZr8Y1GW49rDdbK/drE0bQGH1TPtgIo64QiqynShpWipHEGrQKJkd9L49fXrV9jXqVMX1PxDa99Su4zdT2SqVoRXQp9aRzLQehVrnQtw26hni1fh1xQ9IunnSpaN39Tkfqmp2XcwO6ymfAxF1tHlNg6mQgHfqUFE3rH2aKoSbTjNZOX+U9PvZ7NfAbA5Jk9yUbQg3jyxGVLmhBkrhZ/JixK7EKuOZ9Ben1/uUaVJEsgpMMiIr1Rh8isPnrrA8cHOeWHDuc1k7wity02b9B19E5rjqhgxjUInLtnAK6sFSXko7eubPRh2ad1N+ewM0VZJ6SpIwxbUR/aTe/pBbr1+3QvMLwZ2fZlTTNJWH2hFX7eWPPDv/2tnLD7bLcjXNDszAa4X9mQIDOKkCWEaF8LgFHMjxmGf/IGn//dB2jGAfvmXT60+whnPtTyK1deja499Vjhc4uu2t5wsCuPFNKQ60Z27ZKZZDx7YMDTXwAANmnRqcNHLqL0cI5O0FOF6KFWi0aLnXe6GbEmVIBXuDb2ZqU4pTaNvJ72CHzfNBbnNc5rrPHkEXmsnfzsvEkxypMYR2ZaJlnJ0/snObg75PjxPf7Uxkc5nBZoI2RylUkGVm4pjtrddL2E9XtL40htA3oxH1QMuvhzXX/XCTZhDSFLoox5BCAOFfNTvrfTDTZQbUq/3U4cKvEM1ufkacNosuCRY7f46o3nAdhYn/LGlZdogpFDPWqadtgE0RPwaGWn8gxV5KJG7GKV55GVGqOXmSxe90rFJBWxC62MvneedeQWQkclkYY5My21M2gtHmF9udghjl12i8HTP9HYXH7ZrQu2cO//Be9lA1sFirQhm1R0LjW6FIFWO1+qHvlUybqLCzQnV7nz+hQ7l8PDW1j/nObzpQzIP7Z7kc1/UnDsszP5QFU0Xo9ipCEuJq68UHH5yibZY3uYEqaHOR9/+Tx3XpfwZ+9/gmZkCUZRbg1E1LX22Erk1XUt6OhRCFjXkB7EC6oV9K9rztvGSh9hgsy/bMAUDjNqemecZixinaOrgZUXvPjZWdCpQyeun5npyG0MTuEag+qUn4PCGE+eNqS2JbNyQDbOkBiHUYFJVpIY6cW1CuSmZTWdk+qWtz36Rd53/hPcbFfJ8kbg/wChNJK5Y/buRW3iomiw8Y850o8dZY2omIGyJVSvohpYtRaDzsuB3OmdBCOloikV5ZbDJ6Gngvnco4YtSdZijGeY1WwM56yncy6X6/zy5dfwNSee52q5zp4foMpKuJSdBH7cg5M7i1nMebCW+ZvvRxUFyVTUtQe3IiJZN8Igch6VZagkEbJHkgi8n6RYjFnOi4IXnLUro7wXUEQHrPZUTk7DNG3lzUiTGLH+nuwWnLsnDYcQ7gVFol9zn8mO/l8MznQ/sKgttfFUs5SBh/RAU098XK6Mdr8ukO/GtftCU1yv2PqUiRqFcoH5FD5w51Eu762x8eMD7Dz2ZVrjiiTSdny0JhKEEeDs2W02iymfPV/AQcp8L+Wvvu/X+KW/8m6wkO94Fscs+U3x1VLOol00LY8rI3ZB7GeJ+vSyptJWFqUbMV3UnhCbnOBluKy1x7WiOd8WcnGVG4r5+ZZkz7DyRXCFR2vwrQSpD8K6J/EoIzSr4DQ2ayMoorDGY7Sn9ZoiaXBBkRrHMKlJdYtWgTTWYFZ7am9pg+H3fu9RfnfjIbJRRZa2NE5LG54un7s+2oPG3qyT0OtRxy6w7DLTdX1mvwHg5XumFoCL6FntraC4plJLub8o3GtKTUhkFSg4jTFiSjFMak4N99mrC+ZtyuJTG7jTz/PHVp7kR//W97HCy3Itdo8D/VxYJXaZMEIg3W+oHjpFMpfrd3jTSZJJGmhqMR/swMEYoCpNCGUZwZBX9GivBEOEJ7dspBVIcwp9ExlC6P+oaF/TlaAdMvlHCrXGGd6X/QmgjZfHjMGSHEq/I55uolsxerkm2xPZaJcq1Kwkv35AtZb0sLFu4OZPXeT4Dxns/hL88KnB50ZEYHyIJF7ZmbOzhp3fOcnt+ZjhuMTMNPltw1iXNGPD5W80DG/U1CPhI+p5QzL3Swk5J9nMlFI2EmQFXgi64moaAuRFHdkbROQtoLSoNflZwvB6WAIqM7AHJno1x1lRrXvu4vKwQoIrSk9o47HWo7WnSARNJH6ejTOEoKicJTdtXKxtSY2jdpZ5m7K9GAhaeGDJ0hajfWSROJT1y3LXhF6FuFdVjqBGhxaGeOB0YrIdV7CjkvWgil+OCkJmCUUapfGgXpVM420QYV8t5WLIpJxNBjV52jDOK6ZNSuMNmWnRylPcCfzXpx/jB37izzF5cltmxTbOcLXqK7KeaKFVn3B2LxXsXspI9x3JgShv+ZVOClBapqM+1irP+hmzXqIkAmUqpfrBcQfF50XNok5ovCxfWuNQi4rQtLK2rbWMAqwVIRut7g3eRBgindNGH2CJFSg0TeRrfLG0rQwzvaJpDOrQxtJLWB+6kdNO1wF7WGPmLXbhGb1cCRdRy56SLF7Kw40vl+hZia5bOuN1N0xoBybKiPleQSoYjU80a886Ht+8SmpbLrzhGqMrgR03pFw13P8LYobucpHLVt5HYR3EztYsJehMIwPn/K5odrg8CCLpo4FFoEcflVpC/8VV25dcdi6vXx1hV0hwSjbDS7kYnELZQFNavFPYrKUuk75HAwhBYWLQJcZhtCfRju1yiFaBgyanbBO08tTOcLDIxSvBBsZ5RZE2KBXQOvTyFrqJM8AI03fakz5ZIoW9vqMR8KOD910e+uDqd45NzHypwQ0zfGZlleaIZmZIZROhIzZjAsVKyXhYcmw4YzVfcHq0T6IdmsBTL5/EZYq33P8i2U4QLqM/cv2rIzMzH0TmIIoIh7ph67evymdROuxcerSQW8KZ44RzJ6RsLAq5tsdD4csqBYMC3fdOX+Yks2zqBpm8sYn2DNOaYSonokriQLrTP0xlf40sgySN9ald3nd0FO1LRSVB1TeO3vUMlXagaPZy6WMSeS6mgmw3yk43UcgmBEzZku6U6EVLGBbUW0OqNUW6t+wNunLYp1YY8eOMZiiLlnYh4qgiVqMk+IwmOWj52K0LhF/d4NqOkKOfPDzN9Kzi+e9M5WeHMDthRVJs7kgWHlOLObxdCJCxWFfke7IcObih8UNBCoNXNJFp473GRN9uAJu2ZLuRAxkZCPsPwqk33hD4X8Ugs156qqTD0JVksajx4r3Gpi1ayyy08ZrWaxpnWDQJ47QiM0tAq3GGga1JTUsbDKOk6i98Ri0uKMrGYownTVpCK/PBrgTs5OOOZiefSPnbBZqL4qNoATEIwuLovteJzdpFoF7LqDYyyuMFzVBRr/q41SwBpgpHp3qtjMcYz+ZgTmIcqW4ZWimJ7x/cwTvBG9698bQAKGWFsmZ5PQa/xBliv9Ytb6o0IewfcOK3bnLrDTk+Vdx5XUG1kdOsFczPjQnDQk7NLCUcsdkNicWitayTH/E6610lQTiKQU5BrQJla9Eq4DbGqNEA5T0htVJ2dev4zhNi6pW6W/WmDW6Q9OsfunTY/QXsHtwT48pomqGAH85p7NRIBmtDhL8lS6jWo6eVlBaDFHtjF5RCNQOaobjRHNwvwIlqI3Rvxf2xGVnagSaZOXQlO2DeakKio76Jws5aBknD5de3nHt/wZt++GP8zr96C+2DgbMfCBS3Fsy2RpTrEVDpTmUiH28YA7cQaexmqBld88xeJ7Ck0oG6lovWRChem8hfCipKUstrrtc8P/Hef8f//P4/z8obd6ivrgOB4BR24ABHOUtlidMEQTC9QPtp2tK2BhUBmCKtcd3eWFDkVnB2HTODVZ55mwpPUgWR9mulJDtc5DGjgfNatuvnUs76GjQKom5lB/V3WFen3wgsaVpBNEF7XX4TIFG9rDtAulfTjpLY3ync0Akn1HpCZVDDlnxYMyoqtArMmpRT2T6pdrig2G8Kzky2cQeJ6Gsqx/oXKlibyHXaif0UKT5PlvZYpvPfNujG0w7ERSbbCxyeh2bVk8wSRtcbXKpwqwNMIoaV+u6+qHtlKc2xkVCw7oExleopVSEKqhgdcH5Z1gDc+aGGnaur8sYlXqhEScAMWtxBInV74oVvN4uoZGSDi72uFO+P/PPZUpI8+rGpQSHyCQqSxFENPS41IgMduuY6YCoh+Jqb2+g0EZmzPIt7YWBLj0ujHLfz+HGOywzNSkI9kYPAzo8oW2UGl2lcLiVk2nqmv3AS9ZgnmTV86CffwrFPHzA/tUK2W3P4IzPSfz9kflJRrYsgkW4sthTVqMHNwGJT6ETJXNxoqlWFupWhz8xpa4tNW4JXGOux1lHXFuflAu/oRskMgtHcbFcEAf3iGu0jFXo3Aa9oW40xy6zmm469L2swTWNI05ZB2lA7Iypm2jNIaqa1MHAmaUnpEqxyWO0YJRU6BlxdW/xWTdsaxoMKFelaZZ1Ib3hkTUgsuoRwLJ+TEqwj8lG7TKfiLllHOhbvAullgw14RE8y2Pi55IrFsbAcJcR+TGctwWmypGW9mHNYZxRJg1aB2huG1nF+sMOqmUPqaUeBQ5fzwnck6PIYxS051Lve0tSSfVUrKG+wS1P6ZB76zN2OA5defY1n1RlsaTk8p7FlTlJYkut7EmRG41cGNJPkqA/nkVsHccb9sty24q2mPUYFppELp0YtZCJzoMcNyajGOwWpRxet7DMpSFYq0rUSnUrzrArHcGuGWWng7k6U5DqCQOZiSmD3NdnvjaUOj/1WP5MxYBYNupQe0Y+HhMkIPxLrTW+7i1tOxmpDArAZJ5SrhnJNsq8upfTwiQSZTxVtpsSPepwwudLw/e/4baq1hK1P7ONzy+J0y8HFnMGPTji4IG9huSbrQSouLSYLGWIjlRx25nC5IIcrX1I0c2keXSwd00QQP2NEhdk5TceEENg8MDEl89Med6LiH771l5a9jzNoLb+XZY2AI0GJt6RX8n3ryGxLYuSUX80XuKA5M95jM5/1eplphPqPamiGoNDWk2UNszKVQ8BrUutIMxkMqxZCEpOxEZ6mACIhOsVKn+oyec5uEHqB137R2sh9+ESoVM1Ice27W978Tz6J+0t343hADmDVyvtjrCd4xeEs5+WDSf/cx7ZiJSnRBE6me/zn7TeAUzSrjs9MzxGsx8wV9TgycKINcj0O/fNrxtGlNJMWwGVyDVZrCjYqnr1ygjBsmZ3Q1JMgRiITaZf8sCCMZCGuGf23lIqPoIVoxd3DIafX9u/5kapJCGUksUbUrDlMe6Ksj02yr4ycCq1GxRNXm0C5SAWH6Qbenaak0YQ0waew/qR8GNkNK/V91EUMRvQifWYxN3cJw4Lm2IBke45a1MAgfhgyazG1Z/98wsbM0Q401aqmLWDlBSfSArGc9KmUep3eunaQ3K74iQ++C/2Viq1kwvjynM1PGPa/eUr6c+KEOrgZ5M33IlNNMDFhH5U+F5MPNwqMrgG1RiXCw8NAE0s7pQJtDL56slw7QcNAVeRnD9maTLnarMfPKmCTtg+qo1WHnFueQdrQROY+CNpolcMo0/+7g/VbL7ITAC4odqqhENinCa3xrIwWKBWwxjMrU4zxdErIPsTE1iJeeRGmj2SYeEAGsU7u0McAroiBCf2qkPJweB6+7zVP8Cv/+G3cfmdDWG2FK5p7kqIhSVvGRUW+0XJieMBeVXB2uMetckxhahYuxWrHetSlULlslH/mzhkJunWPmtT4xjB4LpX+v4Rip0XXgWy7xOwLc0iVdY9b7H/lWaYXEwF/Es/6FxoOzlv2Lg1Jpx43zrG3JV78aMDK07vdHK2+Zz2mQyI7A4y21YwTKS28Vcx1QvnkKml3Cu1F2bWOHBpAO9vDvCYuAcIS+u55a8YIUqOVNKejIdXZVZpjDXuXUta+6Dn3GyXX3jGILieqt0gKVhGGBX5SsPtgxvGru1IiWvlkXS56+6NrNftfm8uAOQbZ8KYnPWgEHEk1bWHjsBq0kzX4eqjJgVMfCdz41opsT9Rz8z3PXHuuvVNx8iMel8LBBUU7TrCHDcpb2dKOCFxyCCFZmtTLrEQyRWg1TgXa2qATOZ2VkgOqHQXS50UctTv1F7OMerjgJz79dQKcOBl6l2VCljWSCRVY69Bxe9p5ybrzJmGjmFO1Fh90D+dP2wwfFJOkpQ2axhsKUzOyNbW3JImjCUim9QrdWUkZT1VZiGI/ysnn0ylwqRBNIGJv6MYOM9O9V52PFswyvI6+BjZAZLy89fEv8rNfeBNrADPLpYev8+yLJzCZZFKjPYs6Ibctt+ZjLox3WE9nzNoUH5GYs/kuh77gnWuf58PhQcJeyrG/PeeYKZeqAN1guo2MptCNmJZEiv74Upr0QEC9YAPjZxKKG3uYuuDKu1I2P6c4eGDI2peugbXosiJsrGIFebFfNjs7eivyhlmTMUwqKmcZZTUn3n8T9g5kCzlNRMkXIAhq2O/jeI8qckEnuyA2hjBf4O8/fe8DaRkB7DyS8YNf9Z/YaUf8y0++HfUbOcPrgcWWWrLYO7BGK2g9s9OKMCoIPXooPY5uEI2LLBOJgYmclsWdlk5QxcUeoNOccNHRRCloVhI5LK7luNzhBimDlxfsRTLtfMtQT6AdBcp1y+iwQTuRL0gPpCzJ9sRPWkeWSDNEnFOxkHp8adFFizsQKSnViE2WnSvKqATh0sBf+b//e9769i+IvuV/Ps7BRfBj6Z2DV+Rpw+G06MnKRWToD9OaxmtGSc2sSUl0lO9zhtxKP3M8P6QwDTv1gDZI9qtaS+s1VSkwoXNinZvblsoZ2kWG9zpSxWIVFHosR3YFVezBclFO9pEwDaCjKpfPQk+4Vn7pSvS+rSf4xOXz7DyqePTRlxjYWhgzEThyXjPIapQKDJOawyYj1S3r6ZwmBtrIlKyaORtmSnCa8WWz3HyGfrUreM+XqQUcZTd1cZYa7GEjg+pas/bFlv2HJuw+osW/YUtz8iP7ELzsosXH0ipNlrs2SslQuQNE4tfUOsZpiQ8aqzx7ixwVtfdC20bHlVrWBeYLmYM18j3qRrTInSOUlXy/LOUCHybLmVs34Daa+YnAoSv41ZuP8j+96YMoD8MbbV9qdDLieJjftwoa1r/gefHbVsTUXSJRBs8LCIlh/IL0UUHD+JrHzlp042lGFpdqMVro7Z3obXObgbyBk+fg6jfA7kM5qnEs5hmqaDl480JWNaaKclVeiwA1oUev0pnHZzELVEoEVisRvSH2Gn6akN41jJ5PKK4b8rtayLOTDoFTpPuKj/7BQ3zss5dID4QhQatpKktwMnxGBax1jAclRq6RAdMAACAASURBVAcGWU3Z2l4bE2BaZ1Txe/M2ZWQrFi7hoM3ITItVnsMmpwkaqz0u7szZqGXSXeRykKpetk480GI1ZCTQQioseojZSgua3LkIKY+s+sQo7YRfgw68VG/y8KlbrDy6zXef+DhP3z6BNg5rHUXaMMorBkkjmiZBMU4qdutB1AC1TOwCHzSXq00civNn7pLuhXv4uR3rIwZA/HpknnY0yOIw28wqTObASg++f5/GvnavHyWZ27syBM9zua6nczTO9bs297CXoQdEugZYZisyZMWa5RPp6FSvXI3pqFbyySxfTGR/tHnUF+n0OdKE2auO047Eo+p/f+A/8Lt3H2L3IR3tWqXvEf9mhT2sxBDQaA7+xCHv/IZP44ZJ7yTjDay81LLzcEG+57nzFZ7xVU9xp0a3XuQLEi1e19GLunMJJfZY3iqynYbBHUeyUjG467j7ugnj0YLRyoLBHxbUK4HJi14M/rTCVJ58N84hvaIpNM1A97bD9Tiu8Xdl9tyQ7BgmL8Dasy3pPlTrgcVpx+RFx/BGYHRZZnO6Er6n6CDK/fnK9NB8ksQxQdy4qBqL0b5HG7v/S4xjZCuschw0OR5F6RIab6i8oQma2lvp36zH5AKoJNozbxLGWUWeNtjECd3LdL1AhPaNZDMcqGaZpULhZNBspWzsLZuNBCWKXgPl56++idoZDucZ7xlcZ7FIyfOGcVHhvMJ53c8FJ2lJ5Sxr6Zy9ukDHYk8rz2sHl/nQ/qt4eWfCxpNTIQEfZSl112QffV/Oy+3EqggeVbX4Vg653UsWU8F8llHcVJz+4G5MUnqJO4SAJkn6jdJ+eB25ikoJs917hVUyGN1b5LKT9spbJ0vQLXV2ARizVL+bo3TPAmkH8WfV8v92H0wISeBV2XXmwfJ3zv0K7/6WT+CTI4Z+Sr6qxmEWnmY1o31qwq/+wWup1hLwokNoq8DBWYvLJFOtfl6Lp9ZCtPfagY1BJuVipwsoZuEC87pMUW0IH3LwxJCgFKObLbOn15jkFdNLDeMXIZ3K6daMLdWqjc6dQrnqHsNHBNQVoff0NnONnSlGV2VAOz9maIeIOEzi2b9fsrBdiOG5OPMoKaNr+t0tgMw6UuvI0pZZlfYM/dSI2nPZWpEAHO3Rek3tZS1mYGuGpubmbELtDXu1ILepbqmd7QPYB+nzNgezGMiCRCrrIfFR90SykWqkfA/R9bWbgfUeAN2wOq4DSa+m4uA5kG0uuHp9A60C3/nQp3n3576P8bAkBMWiTnBeo1QgNY5RWjFtMqx2tN6wlR+yns5YS+acsPvkquGpvVMUeYOZ1UtEPTKh+mv1j7gppZbcx46eVdWEmYXEMz3nqdYD+dMFa19q0NvR5KJtI1tKUHTb3RlIqlTWLqM9saI/r5C5hvKcHB8yrUW4ZrldfYT50QfekUx2VLZALZtN3Swznkpz6otbNBMIiWeoKxLlWVct75h8nk/bx3uo1VSQTD2+SLj7WEp+N9CMAsmuoRpDcijPw5Segwfh2Kc0baGl7Fx4fCbD6XZk8InqvaE76hAsuXn1WKGcYX5CsfWea1z72GlGVzTnf71k/7UGM2jxieX243KyTU9ZXK6YXBZhIXGvlMXUztKpHQQJJB25m43i4H6PPr1gZbxAtYZMexa7Q5qhpXpYntPKlyRDdu48g9uBclPTJrJWI1tNgVFW9xzGjteYakcxmPUfT2oc+3VBoh2TtGS/ycmsMCmmTca0ydjI5txdiO5mHpHIcVbhg6L1Wqh4KtBkLVWUUAhWJMdDG0GRrrR0Enh0f1rZ10N3ZRu9sGtoFd4rdOJ45vNnecadxR4rWZ3MoZXt8MQ4xmnFyFaME9n5auPBkSjHil0wdykzn3FWNbz4ybOcevwG7WQF27SoLuAjv5XWLUGQmI36WIjzXSI1karGzAx+2KKPlRTPDTi86CmuCNKoBoOlo0xdo/LsCAULlnfcITHagDUM8opUtxSmWW7oer8kCR9Nta/cL/ujds4iohOivoJKBHlwA0tyCHjFpxcX+fYn/iLf//x38lx1gnokaKEK9HofuMDsjKctFH/66z8CSqBZ5WRdJZm1nHnoNsnMc+cNoTc0b3NDWxhxuYnNek9+jVoQBJmZdAjn8U+VHPz8aZqJJ9+Tuv7Cyg6T8Zw3//nPUNwGXUO1rvqS0Fay4l9uLEVrhL8XT/CYOX0iy4tJ2lK3Budk968YVdQnG8xCSq9mpFBxQ9lbUf81tfQ4SgdaZ0TtOWqBGC17ZScHwryZ1hnOa+6UIw6qHE2gcpaDOqd0CYl2NPFi9UGzWxdC7jBBdEZiX9b4uI0flKCQ2mPTVpj8me/R1m5jXGUONZCZK0cvjSz2Y5nrg6wTFupK4GA9ar2WBVntSSIQUtgGq1xPH8t0yzgpmdgFI1Mx0DUPFy/TBMP3PvHnGF5RpD+4gr0bbZm+rIJTcr1312xX+nWLySa2SlqAk2SqOL61T5q2zE8GVp9RArB0eEeRS58WSfeasERWQtvK34+k05BahmlDYRraoEm1o3L36nvc05slVv5osyQKd6Vjd4vf94kSpCexhGHBzTenkYoT+LGPvpsffcN/4VtOfJZ/9dmvExZB7KPSacAVRpYuNysO7/P8mbVPkN1V5LdLEWM9COJp/M82UQGKM4dLT+JUPLNczGY+lQujY54ERa990YzlMZuhRXl41WNXcAk044Q/+OSDjLKa337+Em0B+Y5oXYyvtb2zJwqqTS9uLN2qiKF3BvUGJm+4S8g8i1lGWSUY48mMzMbwMvHOtrV4ri3A1IKK7j7qyXa7IZWibiyt0xgt+2RGS7k/b9N75mt7i4KytbTRoWe3LFi0CTuLAaWTvqzuA04CyWiPiv/2QZFqR25bhmmD91qG5olsXKMQoEBHnUmn0CaIBdeojUyS2I+ZZdZTqcNmLclA+jATg80Yz7AQ4GMtX3BuvMskLbHac9hk+KAZmYpEOQ7agpPpHg7FUNcMdMXj569gqkDy8k7vyomN+ECaQJGLjfL6CuH0cTh9Ak4eE4PCY+uo9TX05jp6Yw3WVlDDAZtPOlons8/8VXtsPDmX6z62SqHICIOcsL6CO7YipaMeDAiLxXJnrNNl1BqfLBcDC9OwrzyZeYWYibXLYFOq77mUkiHksmc7ApgYw/SUYaINlBVhXGAe3yN8ZFVO+0bzb65+LRphiO8+pKm2WibPCqO9XDPsXhoyHu0wdTlv/8W/QToEl1tcosn2vLD1m5zdSwlZ0pLviI1UtaLFB7o7WWPP19n8yHA8OnM2whJZbBj2HoLv3XqKf/baC6w8a7n4yxXtqwPeGcotOe3aUaAZaPKdVjieHtzYifioRXiUKvSycrqF3ac2YSMOiZ2WPqRNhOY0akgOE5oRok/5hcD+QDO8HlCtQVfS62jte+mCLqic11StpWotjdcMkobCyuPktuVYMaUwDS8drjNOKsZJRekSchN/xjS0zpCmjszIhdUx/8dpCXXOoo1KWtrTNjKuwCtUEpdQAZ22kg2DrPWIQ2SAykjGiwRoYzxJIn54Ssn7ig0URc0kr0SzJpUMVrYJqWkZ2JpMt0xdxtl8h516yEvlJnOf8q7h5wH44Y9/OxdeqJg9eoLFhqVck4OqPCbB7pNAcqBJ92FwWw5FW/qo0KUEzGhBebFjVh5uvRnYGzIclRgVOLxYMLqqMSOZ17bDBFNKOdpMUmwfgVH+myTamyaW0DphTATF0FQ0wbCRzdmvi2VDGTPfPdBot9cTg24p2SX9moqNaD2m79H0/ozFYoMsmiGE3LFf5qRG2BMuD6LE64jmCrLKnjvDyrPw/r//47zvH/91TNniiox8R8wk0r0KU6dMZznjeUflivZR3Va1VvescHQqTi4DEDBDN3DmgzU/uf1e2ksN6dRgDyv265QkbZk8BQcXiAuammxPeqlgQGUOghV58LEMcnUc2jfHGuxOIjC/FZ38BSk26rdrFci3A5vvfplZnXLr/Jg//sjTfOv6p/gbP/4XObxfyjEfxU+tdQySBqM9d6dDbO6ZZCWpdszalNJZhmlNZqQV2K9zytYyThWzJhV4Pz72tMl6nZjcNrRRNavbWautyCDYKARks5a2slHXv12Wf0GhlKNtDW2QkYDSQQAUL6hmpzeZJS1F2jBIGu6oAM2S0bI1OCTVwsXcyGY0QTOyNRvplO16xNVyHY9i6jIeHV5n2w/4keffy/CqplpLyHYaNl7chxD68RQdqRikn4oa+6KVo0TmwFp6fcckheC59aYH8ZVh6grGKwv279fYRYoKibQ5uYB3+a5jsWnQoW0J88US2GiOaHt4h8stmWnZqYdsJlPaoDkoc3kCsc4NZcVR6yfVlYzWokYDwsqYsDYhnDpGe99J6gdOsnj4hMxUlJwYoazQLxXMzwuzfbQ+5zUbN8hsK3w6wOyJm0gzVDTDLqFq5icV3/Rf/hrHP75POxL2Srq9IAwybnzVhGQqNKM2VzRDjcsEoBCnlKV3M9Dz82T9PuDyJT9vfiKhPBb49+/81xLsk4zJj485tbaP/q7brH/Bke0o6rGwVkwZPcuiclVQsDgWwIGO6y+DtYX0bCCUNiXZyQXFbJ6RZi1v/v5P89KXjvNnL36UN953mSvzNT548Gre/zd+jJVLO+JuWtSsDBfYSBZ2EazIrHAoc9uQmZbVbMGZ0R7jtOSZ3S0Om5yyTli0CRtRsCY3DakWpNIazyivCEGR2ZbMtIyTijZoBraWlRorxOi2MaADyagmSSKI5oXwK8EmiKKNev42cdi0pShq0qwljfolJpaoK+M5+cZCFlZtQ+sNVjtWkwVaBUa2xirpKxcu4dp8lcI03FfcYcNM2XNDbv3+KQa3PG2uSG8doual0KmOtkhxlqaUWgr/Hk0cHUhiTI8m6lpWlL73dR9jNstZnBEJvukJw+yU5uB+qY4OzwqR/I/mOvaZSvZ3ctNyrtihCQarPPvTnC09Ra+tSpCMBrQbQ+rVFJdr5sc09YpieqElWS+5eGyHNmjuTofM5gpuZBS3NKvPevzxdfT2AVQ1pz/ckP7ATZ67cYx/+dh/4H957pulH0haqkIa7XotobpYkj+bE7YqkqQl1LD+ObnwVeNpNxKxxC3EGimZe/xuRltoWTZUSxOFzlPbmyXiqOIMU2hPQRxpBtK/rb56m6erM9QTxe3X52x9usRqx7QcwUWDKcGPoB5pMSwsFe0kAi4JtCvS7JtaeJjWRPUoE1CZI9SaFksyLGkTx8mVA/761gf57c1L/Jt//k2YEl79/U9xZbHODx2+l+kfbjDcV8zGGUZ7rHHcPBxT1lIunx7uMW9T7ixGDJOa2hkeWrnFdj3iysEaiZasc/twxH6Zk9uW+0bbAFReJLR9UKxkC3arQT8OyExLqlvuuGiHG4VaBUcQylUaM57WwlJpnCGeq6Rxd6xpTCRTy2iig+sBTk8OuKEmpDbqTdqaIpa1SVyBOZUdcrNaYZzI5/DI4Aankl2eq45zo17B5YHRyxVmWvcz236FC2R4HYkZwUUQ5Mt2M8O9X4HitqK62PJytYLfTTn/qx67aLj1pozsLmQP73OQTvBZwB5osW36I4Vz4q0tDB6FUR6DDAC9M1z5UxeYPVqytXlAahw3/2DA4IZi9LJj6+P7qHmFOpyJoQVg85zTzXZUyAoSxCsjtt96gvU/VLhhSn5rzvbPnGXybbu81GwyyUpy01C7NcyFPVaKksvVCVZW58yGGSZxnFvd4wsnV8h2FG1uKO7Mya3GDzJCotl4uuba2xNWn1wGkiwoKjr9im5AHQx0SkzdhrS3IpRZrUJyAO86/Qz/9Be/mfq1FSc/kHDtHRnD/3AO/54DQirZz0aLAZdHBr7qWBOQby4od3OSmQRx01GXUicKw0pQPu81VZkw/8lTfNvxH8CdE/OGrc80fOP65/jwwUM8t3ee/NV70jN5zWyW4xZyOKLg3IUb3F6Msdqzkc/ITcPI1jx9cJJ5m0owaIHorfYczHLavGanHjC0Is82tHUPjLRxw16rwEqyIFGONjUcDnJuOUPbGEyHHkaCdGpbjA40EU0FsNFIA2BYiOyA7MUJObgwDQuX0HrNKKuonSygFqZhvykYmrqH9O82IzyKNTvnweKQ/XbA3/zUt/MDX/EbuESz9SmP3a+49ZYVTvzOHWFqHA2kaOErqxzdSOoVIqpHiRdRhKdaky32T906y+bFHa6+Z4Nzvy5gWPOmQ06Pp7ywOgAn3u72KBtEHdmq7nqtYMScvQmGuUspTMNkPOfEr8zgJ2/2oMgDel9eRJ7fU/f2uv6NzN04wqtUi4rN37lK9cCWBMmsZv3zU559+5CBrrhvdJfKW5jAjdmEjXzG1c2KvZcnJBpcYzieH/LC2SnuSxMpBccZL31jihtZHvi/GkzlcGcc+vk8chnpVW07xaZOe7BTZlJRKMZb0QsEeuvcT++ehQC//PZ/xZ/9/b/Gsc948jsV+/WE2UnY+Hwr6zYGAUO6NzdIT9jUFnToh9fzxmDmmjbtts7BN5rDacGxD2S0heJrvu+TvHX8HF8oT/GB61/L3/v59/GXv+NXeejCTf7jtTdwc28scyfjhN9pA77pSruGTLcsXIJRgcYbThX7tMFQOcteVVC3luOTQ4wWHmMbNLfKMSMrJaLVnpVkQZ0Z8tjbDXTNyFRU3mKUbAhU1RIYEREgYadoFagaK+pp2omDTUTsrPHktpU5nxV0e9amWOUZ2Jq1yYIv7R8jN/IaNIFxUpIox8DUTFvhN96px8x9yhO3L7K2PuUXbzzO95x+gnqsObx/LI5CVU2wZhloXXr1R0pH90cknc4IJioVB+exc0UTFJO84vr2Cn7UcuWPWdJdxfHVQw6rTFxypwnoEOdoRzPaURqWc6InGD8grQJZVEhSi2ppMN/N0YIEVM99jDJhr5y698I93kPbkj13m/ymrLioumX0ZIYhxOGj50R+yKPrN+Tr6RuYqajFKg33D+5w6dgdTBNYrFvaoeV3/8Q/4eIvefCw/aqcr3pA9PyCkf4uWIHvdQs+Y+nrFYhKuqpnKgQdeneTdqB48aPn+N/+5Pv5t3e/htkpsTB64dtzxldrqvXA9qss6YHD1NFovBGhnGDiVsDcQi19pcsEKBheU5ipkRUQL83c6odyknlg/q37fPDyJRLluJTf5K/+3V/gte96hlfl1zhh9/lL5z+M+ewYFWdPNmsJAcarc1bSkmmTcacaycXuLPtNzl5TcNDkFFZAkyJtuLa92svM3VmMsMqxVxf9Z5ZFhazCNCTaCZweZ6uTtGSY1myuTMnTBq1DPw44mOc4rzHas1KUDLO6X8XZGM4pIlexsDI+6spTqx2FaVhN5lycbKOVjDxeNb7B6Wz3y2LhvuIOXzV6lr3fOMns05vMm4S3DV5i+50lsz+9z+lfu9kDeMHovnzsA6nzm+jkF1X3Nc7XlOxmhk5QVQEq8MaNK7S3CwbPp1z6P/e58Es7XH7xGFvDKSc291k7tc8Dr7+KRmv0sc177JaWESE8QBv383MtKd0aL4zklcm9adY5IQ93AQZLNaGjNyMztuB9r1OuZyVf/HtjXvj2VZLDgFGec9kOJ7J9hlbIoi9MN9ivcwY3onaEU+y7gievnKJaU9z5Ck+5kfC9z343yV7F9ExGcdfzqevnYjmoekXcjmFu5+Jg0g3COxVdFTduO+P7Tv8i31Y8mNzlt//zV/B93/Fb7Dyc4IeO/Qspk+fh9EfmLDYMzUBTrhjp0RojCNSOR88MxXXbGxQ6p0lmgXRHYw8Meq6xdxKSeeDlr1bM9gv+5qt/i4fTW7w1v8xpu8u3bH4GQ+D+5A4DXYlH140B850B/tqAk5v7vPvcM2gCpwb7PDi6zdBWUT/DMbGyPT1JStayOcO0ZjQoWdQJszplmNTcP7or8L6XzLiVHvY90rQVkdXGW9ZtpGMpoXp1VlCt1ziv2JpMqRorvVqkTK0NFoyySu47qftxRLfV3XpNph0+aGYuo/EGowIns33OpDskyrFm52zXI5pgGOgarTz/6O98D4/+d18g3Zc4eNcTfxm/sJz8Ww6/MpDg6kjE98yBu7JQ6IG9ZgjQ+VFzVP/UaOYXGrJBw8KljF4ynP+pZ9C3ZE73yD/bY+cnznOsmPGWk5d5YHxXwBB/5+4yyHokRrKNN4rSWQamJlGOxkhm6xWJj7iEokQNS04BCD4aEfaKM/FrlErorZ5infzw398mZCkvfPcWA1XhUOw2Aw7agvODHSpv+bUvPko6hJAGimdzPvDpt8IFz/Btt6FK2X5shc3WkmzkbPzFy3z+8knUIqFQAnjYBZhFNI+Ih0FyIFnOpfIzqgWtVPSXjk85gXpVNBv/6+FrWfnqW7x99Hl+ev2d5NcTqnXIdgLX3jEg25bgbQex32s19VhB0KQ7caPAiAzdtDKUmwIFm1rGFumeEI/9wGESz+VqkzpYVs2ME3afq806v7X7ap741cfY+pqXMRXiXw1cfP11rjxxhv+SHBe619ij12ruP3GH161f4/WDy9xpJ9yoV6i85U494sTwgLJdj9eVYq8suJWNOTPYYyOZcWWxTqYbVpMFszZjNVnQBMPIlOy3A6zyfZ8H4mGeGPl72VrZIGgsLiiMCgySWkrBNsFqj1YNHkVhGoamjhsEkjVfmG8CMNQVW+kBd9oxu82QJhgmdkGmWx4prvNj/+C7KE9qvnD3OKaGnekApQKX/l1FSAx6Vi2v8RhowWpUE5vorn9vhLTRlZEqz5a/09G1QiDZsfgVRRM008cq1HjUgyoohfozt/ncM+c4/vqn+M3nHpY5WufT++WZR6Dwga1xQbPfFiTKsT8r2CBKdSVHoNDuFiUQVDwh+tL0lRnTmj6VozUhsfhJQXoARnmO2UPmLuN6ucql4U2enZ0g3M5Yed4zvG7QbeDgvVP8Xo7RntS2TN5wC6MCl79ZcaFJeftDz/IHP/eY8AMjDmPLKOncZapIVBaiKz0S2X3tAA2XSWn5rz/8Dj7yTf+U7332u8UGdgGLE4HR9UAyFU32YGVHDQ/2dtwocAHdKvIdMa+oJwoWsjRbbsoQ21Qy06u+7gB1mDEeLfjgzYf46Yd/lm0vLIjz6V2OrR7yoYsPM/2PJ9l7vEUVjrXfz7h89wxbn/H4RPXB3YwKrkzO8aUHtviF5o2M1udM9wpW12d804Un2W8LtsshiXakcVft1nyCL3QMrDn3pXd4br7FZjal8pa7zYit5IAbflWyY9Qcab0mNZpRWjGwNdenK708QsdUSY2TeV5U2MpNy2Y2JVGOyic0QXM+30Mrz151lq/feobGy7JqohybiWxM77uCFTvnx/7BdzG+UrH7qpwHV/Z5uV3DPz0heWyPoBM42na9MqMdhfi7KqzLbOYotdDL9Rs9JFa/AHdPWVpvepvi7j73Xr/J4v/RpKcCv/m5R3nop0opHVVXixoTPdFUn6nqFXkiiXLxjbDUZRzgpclyKN2JUCq1pLdoLT+TJuKg2QWaNTIkz1L8KI/6joZQpNQrKc0QyiDZLtcNL+2vc9zucybfJb8tSF65Kast+YfHqNQxLTMuru6w89ETABz7mOHap09FkRsxJ3cpohqMABG6QcCHTmcwlQVLl4r+YkehWqoiiVtJfsMwD4oXXjzOD/+ln+Hwfk91smX/Pk21JkBHcTsGsoWNp8JSez4ind26jz0wVGtBzMwbRXm8ZX7Gs5inPHjmNlujKYVt+P3FBeY+48DnzH3Gi9UxfvCt/5VmpEjXS9hLmJ9U5I/s9Tt046st46sN6880HP9kw+izOff9fED93ir3/0xg/V8M+fDffiuf/Xuv5+avn+XscJfUtOwsZKfrxnxCZlrO5juUIWG7kuGlwfPZ7TOkquVuNer3FHPTcKyYsjU4FHpUnTNKa9ayOYOk5vRwn5ODA0a2YpKWrKULuRy0XFd7zYCz+Q6zVrKID5pLk9skypHrhkwLCDPQFZv2gBWz4Of+6TeQLAIvfnOGnUo2NhU89vVfFJaN0dyjjHMkM6nOOjl+L2QJociiXFwqf+8wjM64JfZyxY4jRGn35vmxJIqYOLI9x95rWr7ljz8h79f24SvEeZwT0cij30ohUV6MD+LMpRjW90TwvUrHukdxjjaZ/QvqZ3RxluHiizSKYAwHF1KqB0rGumSnHZEoxztOPksZUi5mt0mmMhfbeKphcqVhfLVl5eM58y+u8gfPXsANREP+rX/lk7ztbX/Ih194gHolookdkbfjjsaBdb0qw8V6JfTiMKrp5mj0K/Y+ATf0VJueO67gyW/4lxwzB7zlK58Bpzj5tms0kwBa5BOaFUfQoqjcDhDA5kwcvkex1XxbUa8Lu6Ne9aiB4+yrbvLgqdskxnFhvM23nvwMc5+RqBaP5myyzS8+/zrutGO+8898ENcaNj6j2XjKcbgjuhXKRRAnkc2FYEW/HyDbC6jGY0qHXchnuvWZig9+5LXc/l/v4+bTWxxWGXenQxYu4UJ6F4Mn1Y7np5s4NF93/Ev80q3HWU9nPfy/lU159fgGp4p9ctNwbrTLhdEOqXFsFYdo5dHKs5lN2cxmZKblRHFIFq+r9XTGTjvkZC4s+Nv1uJ+bnUm32TBTdtshhz7nVrvCz/2L90CA9/zQh/nGt3+KbDeOIBJ4bmeTtdGc8lgqGU1Hvq01S0gfCIPoqx55imGY9+aTaE0YD6HICZGPKweuJjlsecODL7FbF7QrTn4nsYQ8Id0p+crXfIn/+OTjvPbSlajrePTWZaF7vrf8axJFL8ryXlsmmZp3k3TFK5vNYI2cHiAvstvejgEarBbtcwOTKw3f8frfI1fyBt9tRrxh+BKHPqeJXrO7l2zv5livBtLHdklaw9vOvsgbxi/xjz7+x/i6r3iWn736JtzNAjKhWSkfLZDKQJsKj61eFaVcF5cRg5N9LzeQnSp5zjHYsriODunaogAAIABJREFUX3j+wme+h597/P/gfR/+8/zDt/4SHzt8hMfXr/JSOIU38OK3mX4m5xJFPQmCRA5adKsJjcIiz4tRiy8No+NiSH7nd07xzX/i/yXRjkfyl7lcb/Kbtx5hZ2vEGwcvcNYecHLlgN/ffoA3rl3mdeeu8vLiAXGz2bGY2gkrxcRBrDHo2tMWgWZkSKeB+cmMeqypVhX1apwjnZpz/esKzBx2PnuMfFvx0dVVdr92wHu3PtcTlD915xwBOFbMqLzlVLHPQNfstQOmTsrbE/kBbTypTuQHZFqGzt011ISlMNCxtKL0CbluGJmS8+ldLtebLHzKA9ltmmDYaUc0wXI82edOO+bf/vK7ufCdV/kfzn2Iv/3T30dxO5AupE9sA5ycHHBlb5VRqgiJEQn7joWktWQtZKTlh4V8Vqllen4ITHrvNt2KI5EtZa0r22toc4MrNLfnY06N9sGKlKGe1ygX8KnhU7/3MPbCjNnfPUni9rHKWnnAjoJ19OY8rggMbUWmG/AC8wYfOWDacK8PtVoGWFc+BiHnhlguKh8IXckJ8vMuCFCiZdb0U5/7at74lS9wJt3mRr0i2VQ5xrrkzd/zGZ54+QLve+AT/H/tvXmUZFd95/m5974t1syMXGvfVFJJQhLaQGgBY3aM8dKYY2zaG405dnvG3eM+43HP2D0zXrs9uE3b3V4wQ9s9bTBmXwzGwgazCAlJCAntpVLtlZVrZERGxFvvnT/uey+jsjKzqiQBch9+59SpyLfe99793d/+/f3Xx29hx0iXvfUlbmge48nBNIf8M6gll8dWt9E7MmKh3lat3eP0KZktrdrCznhUl03/hBb5//nzS0rsC+3bcIGRBvyMfidgj5PxEzd8lZuDE6gIPvSlFzHypGTlUMbUXYq5WzN0oOlPOqSNzErvrmuBYEVeLSAgqEcMclf6lVNnqb7xBB/7wO289k1f5ev9PZzoj7H8wR3c85aI2+uPczptcPjoNG+6/j4khmuap/nGDQfBWHvv1B0O2jPUTknUoFjsIJ2IWbjGw2/bJiLNYzHiaduA3jiC4y2fA5+0razIbAMRHSg6X9zFyu89ye7KEidXRxkNBiyHFbqJX5ZO9bVHRcalkwKgnVapqYi6ilhOq4zk2wtbf5B5VFRMmDdT2+Et81Q4xXa3zWoWMOr02e4uExvFqOrTzqocjydwRca/f/N/wxUp//PHf4rxU4Zw3C6kLT/k1E0pjcQjDF1US1Id9UkrFhktDWQJ3hQ1bdlU5lrnXRFPNTJ3ZlUgrWuyRgqOwa0kpLFCyNRWtc+Psre5yP69c6xcsR0ntNlGMjE4qwK+Wef0HQDVvPCzaO7OULBaCIRvG0UUiELFy7NdSgpogqF2vL5nC+gK0VyojUNkZG7DaWNdp65jdehUYwKPcFwhTzsoDO2sxoFgDokmEAl73QV+afpOliYCWirkVTc8QowkMYq2rvLfjr6Y7x/9OrUTkkHmogONs5qvnMq+vCxvfJHWDGlVYyra1k2lAqK8rasPZKLEldd+fow0NivdtZnyP33kh/i/93yMXz35/cTbE7Z/WtHZC87UgOq8j0glqifp7TQwkiAyh9YD0iI+SdCeXQBa9T7U+9TcmIYb8cDZHbz+R+7izve8hO5+bTE3bkoQnRF++ss/jVCGPbsWONZvccf04/x95yrE7h7uN+oESwZ/xZC5FmavNyPLPtFq2bXhDA/ClqA/45cLkHahegqWrrI2jnatV9RvZ/S2OZyJR7imeoKPfvF2Vm5a4urJWWKtiLTDmNOnqqI89qlZSatE2mHas3VwGsGEa50dmZGMOAMbl3UiWk4PXya4ImM5rXF15SQ1GbEY13npyGOE2qWpQj6xdD2+TNlTWeA19Yd51+wruf/sTrZ92TqWkoYtoE20zfhf6lVxHE3noKZ7wCOrarxWiO9bTcl3MuLEIY4di7nSd5ADidu1faltP/Fi0ZW5hFM4A0NaEaQVyeJrU8LM5aWTh/ngj9SpfngElVhQqMH+GP+Eh6nYomSnbJw2xGwo69wwmSZtWFHfz3wi47AQ1TCxzcgvXfdFXY+UmKqLyKtVjeeueRwLtbSIq+UNJRC2H9lgT42lKxxWr0ioHHX5mS//FJ966R+ypAOejGfY7iwzmzUZlQu87d3/EyoGt2tw+4a4IVjdBVM3nOV//3dvp5Zq7v/cIZjKyCqarGKDz7qagTL4jQjP0bgGHKUZhC5Jz8NUbT2V8Sg9kkIalJeVGepSGip+gutknO3X+Z1Tr+P/3PlJXvPYLzL7xpjg0Qpjf1NDhRHOqsO2L2ecfKVEnfFBZBbrI85bME0bsoambgS3Tj1N3Yl4fHUa87kWH7rxenYdTxk9bFtDrRxwWNIj1J+wq//b3/4J/o8v/RD3PrWH5n0Bzb4NkPe2C6Ixkduigolvpixf7uB1DOGE9ZwaCdrPvZyhoHNdxPSdLisHJI0TKU6YIRKNTDVpzaV+OuWrv/Ei7kluRt8E5nMtHlItjICHmhDMwcQ/O8Hrph8uHRc7vaXSoaWNXQyl0FZl1DDhreYxMOuxk8Kwx1tACs03+rv59GNX8aV7biR9+Qr9k3UYTXD9FM87wJ+bW+gtV5BehtuQOANDddawchnsdhIa4z0m6j1mVxqIVOD2BN6ShFN10txO72NtdkdAtQvRyJrTqygQNkO+h6I4OBoRpTklpeay2jwjTp/tzQ69QYO4Jol+qA1n63jXLdNbDbh8+1yO6wgWirtggkxjTGLTqTyNIzOqKkJngpoT5wjEuVroSJteVQlsgqYqqrPX2XrFtQvYBEeu/XYlg5YieVGXkS82bBPwWZ/HkykCkbCU1vnyykF+e/tn+WbctK1Newa3Z1ecpCZIGxlXjM7x1NI4x36weDu5JuvaxN1qM2S83ifR1ltUdRPOdutl8wORd7E0Wd4UUBiUm+H7aY74a5GafTdvXaQlx7pjtLVHc7zHr131KX71sbfSfWMX+aE62jNUT3TZ9bd1zr7YxSjobzMIIwjHbWec/pjm9ukjTHkd/uyjr0ZkgrEFzcrA1t2lVYXX1bQeMSzh4rcNWSC4wT9B9bBH/zLrmEqrgmgMopbGX7RqeOWsIW5IwklD85gmXlCMHMkQ2qo44ZjE7WmLiSKFBQUaU6xWHOqztmNqFghEClFDUp1PUSFMfmPA0z8L//r6O3nf8ZtZuXOGw8en+IPjU1y97zRvmrmP7c4y81mTULsWHMjYgtJA2GyPnvYJcuzAwl47Ek3x7i+9jMZTDlUBzRMpwTtdZNxHREmOi6848aoG++6JmH9hhdHHe8SjHr1tLpWz9rMHbmrxUZQmDXNNysmTEIYULJHLiTSw8N9Jwy5QRRNFoKwbLOdTWSlvSEOXxaRGhuSJJ7ezOzL4WlN9d53ODxt+/MC9fODo9fzY9rtzZ4gsYGaHVL0hVCyFXYkkhswIZGiZq+j8UvSuLryKxnVs+yStrZqYM5jJr2dc6ygo+pRF4wHzL84Y/7s6aWAf7rqXPIkrUk4lY+zxFmg5qyTG8DOfejsjcQ47oARZLY991VMi7eAMMi4/MMdTZyeQUpdvql6NUNLQCvp4yoLOPLkwQX+5Ur5EoQyOm5GlykYv/BTXTQnclDSzYDAqVyeVMHg5xvsvH34TADNOGyREJ+rMvirFmXfp727gdRLcjktSlWRVTVJXxK0Mp+ewY88iBytnWcks6rF7bZvedYYxqZm9pUXzMNRmM1RiGHtc2/KcwKpj/ctihKupvO4siys1al+sk/miBCbt7oVeYmGw525SJK2E/naVq0WQ1TJUVyGmQ9pXBGSBJhq3FQ29HS7BAghjqCxoOvsFacVhsD3j1EsrZHHE73/yDaQTCWraoDzNjve7HDu0j39f2Ufc0rz15V/k5fVHmU1HaKlVQuOijUQKiwnT0z6TTofTyRh/evh25MdaTKYw/z0RB9+d5vV8uebju2vNU/KJP31fiPYVTpjh9hyMhHZYoeomTFW7PJ2O03cpsUALzMnC0VH02VaZhfXzlw3RqAVSUol9hwjQMp8fRaahzCvkga/P7+SW6aNUTjhgLIzG4tUuRCmnolFu2/Y0h/wzeeFnWvSxVqDEWsaGsjDeNtfRITIOnbhisffGRhBpVnoUTWBTKHTFzZlKYBxJ1PKpnuhaJlNr24uXlVUdVva7NJ8EsC50lcB9j+7jD/Z8lMRb4A8W7uDt41+iawQjjynSunVwgFlLpZrz6OwPOPp6Hzk3znSrQ5w6RKliurGKylOEJoNVluMKT8xPEvY9ZJCtZeCorMS+L/L+itShZmBThlItCfKyDYAodXCkZqw64AurV5LUDNN3Q/hjXTrLYyxd4VA9qxh7IiWpS4xnGGzPaGzvkpwdY6FT45Nz19qmgE3D6EdGcHsWayRQNibXm1ZELUF/hybY1aFZDUmM5Ldv/xDtrMpKVuXdy7fh9mxjPhlbZtGudfCIIEP1HdK6tF1Y8vcGoKu2tCbZFdlJlVcwx6kiPmibwrdnqzhTPcx8DZEIJh5Kafd8Jh6M6OzzaB5LSOoeTj9l5p6E7i93uXxsjiuD0/z5/G3Mh3W+d+JxHujuZNrvUlcRJ8MxzoYNXtA8zT/+5ktohAaRpahYU/1reY7aZoQARZlhtPMfVnnqR6rs+0hINO5RORvidT28TkYn8tje7HB6dQTPSUnHUtyeWyYeFHgrciiKlVncWuKmBb21xcCUjGYHQYmQViY6dB2uPjRLO6kw8c3Unodg8oEYFXp85b6b+K1f+TP62scRtWqZVlKiCFd8SFJ0LcDxUgaZx5TXYSWpEGYOIhV0XzBZVifbxhMir+kSZaFk0S41bI2WzSlsJbMt60+r1imhrugw9lc1BuM2E0VmIHuK97Zv5HQ0yr+e+hw94/A7p15HVsmbJbg26OwM7L3qxwWzL2jwipc9QF1FfGVuH9P1Li2/V5bnj7oDvja/m04/IOx5SNcylRCGLLMtgx251oIWwMmzGnRe+GhSpwSEKTLbVYF1qELS0QwVCVaOjIGw41vdJWi/IaT5mRpj21d4y/57eWR1O91XzjMVrOLJlHt+9yYmAkHcFKxcZlvq2ipwyEatLhOMRERPN5hTDX6s9zYG7QC3lnDnbf+ZP9W3k9QEMoez01WLz5FmgkZzQGenRNUTsroqK5yVq+F0QFpzcWa9PJfatxKgauvlkh0RKrLH97YbTCth7nrfVh5Mu5a5lcBfTnKV1CIjL4R1TiQtRtwBT7Yn+cS/eQXaFRzPhry6xnCX2IWbp26oyIoJt2Mb+AmdhyikwCCsMyrNoQZWJYNpn+4uhb+kbGgjslUBAN3Qt9B7YyHiqFvGREUuqIxYY7ZCOgltC4Ktc9SUwgA4J2Wv6H6jBhKJYaBd+0y62CdQoSFoa37xL97O//XW/46TbhtDDhLbhMFzrJtda0zDR2Sm7HYSaZdIO2RG5p1CjAUGrVkwz/4OTdbMqE/0qHgJgZNSdWMSregnLt1BgNaCwXIFEUpUX5arQ+1vGjiDjCwQ1q2ag2m+76kbedvlX+E9S7dybfUEb5v5R/5l80rSmi2ozCr25Ts9q4a2uxUu2zPH//vordy++wiTXpd2WsUVmuW4wv1ndiGltskrXoZy1lCVisbtvpsS5SA3VT8mTh2qQYjOM8wzLak4NjevIW21cS/1cGXAu5+8FTxt7TFXQyNhxbOr6Wgloru3zkwQ8Z4Pvxoj4fZXPsSnH3oB/gkPeRk0jhucnv2Yyc4YJ0jQoYvoOIiW7f/V3Y3ttCkMEzMddjRW+PUzr2Gy1WVlsoLfFoQK1MAh0QKno+gaCE67aOVg6jYNzDgGpiJUDHrFLTNWCga3sN0CowVuVxBGDtWOIJmwXtOoZYhH8v7RAwdhHGbusvZf040Z93tMOl0S7VD3ImJtcPo2SK49q9HIRFvJZYztlxdri+Kc6rwLq0FkGTpvw2UzbaxtP3N3wslXKNwOGEdw8vsypj/v0usY9KjAczIqboLTyOhFjXLROkdK5VlBMv9NDi+R+ZTdcApmtFJQlN1cRWahAh9c2M6OxoqtzkiA1BCO2yTypCYZfVLz+7/6Fhw5sBBZ2nOs2hglNhVFCITOcL2UTuojRYOT/dGcowVzbxqQtH2cjn3YkccFRjogRkiBrhB0cykmtOVfo8DNB10UYfb3pPgr9snjJkTTKbKWMD7WY1dzmcP9aSa9Lu85eTsHm/Pc8MpHueubl4FQpBVhcT+0lajyiRpX3XSKG3ecYF9lgXvbu9FGEma2eeLusWU6UUCqJQOpqfrWkdAdBDSroZVseTuihh8RpRZfY8zvE2YunkyZqUXMBB26ScCo28eRmrasMOb1eXp+nKAR8W9e8kl+82uvxz3mM31vxs2/di9XVGd554M/QN2LcPqCy173FKNuH6E0v/qjf8UDvd188J6bmdmzSHSiBbEk7VasAR5o1KmAjpuRnayiBlZriKSBK+Ch+/ahxxJGlmyFQNywcSFUDrktbZzQ7YmyUkE7FuujrL/L/5UAtY4hrWvqowPM9SHTlZD5awzVIGbg+5hEInpO3q3HLrxnblOogUDEPs28ZgwshmQkBSrKe9G50jamzCyQTz6V7T6TZxYV2UJizcsnMm0ZTVvplY0YtOPQ2eNTa3WYu6UOAotTGQUl1ogwMJgweMvinAaJRYaQdnKHR66BZa5AxjY3tjhu2CFi++0ZKmcN0/UuS2E1T4jQyMxQnbN5k1lFWUDcQOAUwWJhDGKQWobTGjWwXTCV0sTasfESz2I1pOMJE39XLcVxofNrV6xVLLNmeJZND4YckUXC7sjDDt5KRH/GJZqwfdN8N8FRGQ999TIeCDQ/esddHD4+xatvfoS7w31s37NI3Y05+tVdeMs2FtU8qtG+5PFwOy8de4J/XL4cgDG/bxF3tcPp3gg7G206cUDkObgyI1ApdS+m4tgmfdW8+2XRUtYVmpoTMcg8pNCMugOCPO4jhSGQCZdV7cqdzFbxtvX47U/9IGY0xekLZl+s+PCD1/NHd/x/IODakVPc8eOHcUXGFcFpfviOe/m1Iz/I7voyspYwe7JlY3ipoICaU7WU4AmXXq2CygrV3H755ZUaf/TG9/COL/wkUQuL0DzIwYyKlLOBdRQkDct46XiC14jZOd5mzkuJIocsUeiBg4hzO66S4R33SWYU5sk6c7UGTk/AagVnxJQLqJGQ1Awqz9TJqgZP2qThnrY5i4FKmJtQBEt2obUdNC33yFwVFNqU0sqoXIJl1v9eFmpKYSVhqhG9hG13Vpm9zeB1DfMLVSb3LXGodZZUK/qRZ2vjhB1rMC9y3E6bU2ryKo1yPkowbl6j6IEZUNqxRdqeEOTdkOxC0Dxm+xTUvYjFmg2EG2lBd9OKsIKjpTGexjGuQmSZ1X1dZZtHZIDWaMclTQX91CvLx7upbytGU8iGcgEBizwMiNiKc5nlKUbFB8/Ff1a1/8ctzehhq/92d0uC7R1GqwN6kcfCg+MYZXBWJe/76i3IRoLCcP/Tu5GO5qwRmKrB6QnSikElVu26zJ9lKatzQ/M4oXZZzXxWM59uEjAe2Ly8TEtcmQPEyIyGG9JLcswNqXOnh6Ll9RlkLnORzblrOQNSLVnVPnUnYre3SCATdrmLhNrls1deydLfbiedMUg/s/j6XYG/7BO8NCFYELy08TgNOeBoMsl82uSonuQdu7/AXneBx5anmD3RshNdsCapVWY/vmtbUqlQlA05soHio8s3goBwZ0y4E5trOdZnvBJyWo6jqinJqEQOJLWTgr5wiQWc0GPwtIX/VsJCMepcBZI7YjA+4aqPn1rgVpFZlGU1sO/c5N+zCHAXjFdk6a9kFZTQrEQVVvZLOnslXsfF6Vnwo+bRBBXZlsuFhxFjEKU6mSc+6LWGIWWlhTYl7PriNQpVj/iFA/+AJzL+ZukatBGMBQMW+rVygXdXyWO3lAnjuZzImX7N2aGSHANU5aGB/PhwzPoRwklD2pBUtbJdU98yTyOw4EjbKnmgvmAMwJFx3g3G9+xDxql10QuBTDKS+RrMQM2JGHP6zIomRCp/2DVRWiTtFr2vyCdJgV8xdE+r9wobNBVG0N3p0t+Vcv3UWb55ajscq+KExYoOtBW3vPAxRlSfv7z93fzSEz/Cr172KX7u734SoyQyFfjLKb1pn8+0r2VfZd6u9nmGQi/1aXl9FuIagUqR/oA4c1iJAwKVshRVbd/j+gph5nKm22S82qOiEhyZscNtW5wMZ0BVxky7K9RkxAfnb2I18Tm92iRKHOLEIQgtcEuyJ6W/TTN5n/1o/8v/8w76ew3fGOzm+spRDrhzeUWERmGsF/Hyj/Avln+CYCJBSk0cO3heSqs64PS1ICIH42tSwIQKkQimt7f53Gevh4kU/6yD2xFUFgwrB0ZYuNzBm3NImhKnazNE4lFrW6QtSBOFq609on3r4cwqBpkJskwgHIPoKYxjbNfUaVuOQ8fFm+qj8v5rSeygBw6yqxCZKIFXv9HZxVX1M+yuL3Nc7CYLDJEUJHW7+A6mPNxunoGyYqieiWwfuTiv6cpyG04KdAGok7v4k6ZL5grGHha0r9S89eqvccCb4y8WbgOg1wtgZMWqrbGVUio2BAuQ1EXp2hfGMlHRUot8LvenJNG4ofqCZaYbXVp+n5oTs6+yQGQcVtIKs2Gz7Iq6d2SpRPMuNKFIOwwyl4WwhoNeS4MSUR5wNgby1cTpSOpOxJhr02xSLdfa7DC0MuR4GzJfEbRrrH5dMCNWVBcrZloBf06RuZrBlOD6q5/m60/sQS27uANRXtcIOxG+9ukX8JXmVdxy62OM+CG/cfj7kPWEpKHwl+wK769o7p7dzWsPPUhf+4yoAZ5I6Wm/zJVLjEIbSTcLOBs32VeZ5xudXeyvL1JRMZF2uK31FMfCcRpOyD5/nkAmZcxnxlnhc92r+fCR6+idbFijOV9MZCzQr1pmdbmKPF3j+19+L587+yLGnkjxVwyD/T3++J6X8UcvO05bV5FomjKkKhP8PJfzB654kA9/7Sb7biNJYsDsEWRnqri9NQO9mCidfmDVuEha1S2wNoeKBHGqbFOXXEJaz6+hOisI9xrEgmdxVBxDMmqzZlQ1xdkZc2BikaPBGEQuyYgDXZfglIvIXKtinWqUqqhThApy9/cgdXGEphnYurFJr0taMTnatFW73C6EDVuAG48KunvB31WhMm/wO5l1nERZPn9yj7gQaFflTdyVzezo2/f+4SPX8aG7X8b+1x2x8d5Vh4lglaVBlcapjN607YFuVWgrhQc7Miozq0w0elwxausYi3xN2wPbFqvG2kFiGHX7LKfV0vbrpx6D1CVMHdvrWyiWohqD1CVKHU4dG8ebc0jrJi/8lNK2pHWUze7Ia2/isYB0R8Te6iJjTo9Iu3gyAyNyDIw1STUceS8M7OHCyeJDFBLOCcGds3jy/csjHvj6AbzVXC0Sawmew/VgMhUcrM3x6fZVzNS69Edc2sseoEqnSG/g84XOIa6rHScQMZd7Z5nLGoTGZUeeoFrQPn+OlazGgdo8O7xlIu3aSmLVY4+3gCsyetpjr7dAO6vyr77yo5iBY4O8Gpxs7XmLBWX1yAiXX3eSowstPvf+F8GtbcxTDTp7JdFsFSHg5z77k6jRmDv2P8VbJ78CGqoyYTZr8uEHbkBEEtGKMJFvbVtjGSXNVeXC1nB6knDVx0tAhda2Squ2za+3AoOeg/CwdXRTKcK1ldDtGcWObcucVqOkq47taNO2z5RMG9IjTb65x8d7OsB4Bi8vGdKeKW0rFUPkDdk7Oo/bZYIodSzQjozL7I+iRKlotp40oHJW0N9mO+QYCdGoIakJELYHg7tqs3/8jsbp50nZAuIRJ/dCGrxVw+T9Au5vAprZ1QYz9S6qnjLprfKonqHxc6fZX11h1LVJzb3UL1G0ijrLDJsfa1U+yedP7qd/eISZF8zRj112j7Qt/J47YNyzxa9nuk0WF+tgBCsPTNC8bpHRivVj7Gy0ecsdX+PG4CiBSC2jiTCyUi2znqAii78/42KylG3eChmCr7X3WIdI0XUzD+oVL1Dk2e6Fm1hkVqoVgbzCRVtUL7sDQ39aghb4yzJXN9c8lTabP/+4wjLy+x6/kd+/4QP88anvscw3EWFmqxYPJF9aP/HkCzi2o8Vq4nNieZSDEwtsr67wwvpx7ly8kptHj3Jr9UlC47LbXeKJeIYZp82o6hOIhBPJODvcRb7Uu4KFpM5/eOQ1FjbtrG+boudSufDQFTGUrGLf2xOHt/HmF32Nu8f28s6DH+Adn/pFRo5owsn8HTiQdTw+/8CVHLh1Hldk1FXInz15G6Jnk2KLyWkEaC1skoAyxNXCQjdkrZRaM8RcHeIpG/+LY4fV5YCRhx1qE32idhOnJxEdmad0GSrzktPhJCIRuKuitEFK2AYfC32HlYyUQdq8qbrM43vjCVoZzKqDqGaw4pYwAgWsQWIUgUzKOQH5N80Eaa0ASLJB9iwoAu5WxU0awrZyQuJ1HEafSmylQV56JAwkPvRmJINpQ9ZKcDtVdjbaZANF0wkZrQzYXVtmwl8tofIqKiHSTunQslqO4GR/lEfPzpAcq3HZDSf44e/7Ap+cu5bTj+9ludJE1VIa9QHt00388QHx2SrBnCKpGQ7ceozHT03zO1d+qEyu1kaSIXCFxiGKbYYH2GRgKW15TM2zVcCOpqEG/NfjtxI4CQ03Qsa5g2PIo1g0NRfkEzCvKC6C2mu9inPGxCZv9m4aUHm0UnZLFBklOI5RIE2R4Gk/tpSGDy3exO7aEk/MT/LCXSd5+LHLrau/aLmUKVKteOLENFftOcNDJ7bzkuuO8PmlK7j/qwe51z3In0y8FJ0Ktk23+fl9X+BfffktOEGC76fEsUM1iIm/2iIeMWRVTbwqSacT1FKh3K+NqZDoMlepRab44BduQUyFvD3851TwchwlAAAgAElEQVTedJb+x2cwKivBfkRqO8R0s4BAJoQ6Bz0SICIBCz5mLMGkwmLRG4HfGuB9pcFg0pBVDXJFkNRi9LFa6RmTKTCZ4PYMK3M1vGTNY2YUmEpGWhOQ2Wz3wt2tHYsGljkakVlUaO3aSnPj2B5nIsixJx2Ne9aj+oRPPGYdEnJZWTVUwGCpQteP6aQVprwuvkzIgjx+V6iwjiHzrVRb3a1xemsS0TjWoSZ03rARqxIvH3SJWoZoV8zEZJcdjRWa3oBpv4srMs5GTV7YOMHJeIyvp/voa48odehlHg3tMBs2aTgRLa9HqhV3fuhF3PyDDzEf1nn48Z2gDL9y299w6MbT/Pyf/jwrb32M397zERr7Mv7d6dfxtY9ew77Xn+Rp4M+u/QsAGjLhRNpkr7PC4l6fQGQEZbNyUNimmo7IbAKwSIfQrJQknMw7u2iBRJceuYYTlk3PRdGF17H5YMWKVUb+hSlVxeFkzkLqzd+W4j0d5PVquZQYRgsuJnTheFFw+eQ8UmhuqB+DvfCJe6+n3rfepMyHXeNtjpye4OG79qMk7L96gUf0NkLt0o4rqEHe0LAfIATMLk3x15WbkPMeaeCgoxyObq8V2yomxzUBvxEhTnhknikndaEK2Qcr1GWBURrmAtrLPu9/w+/xzwZv59rWIg99fZ9FJpYgYkFDhUgMGpt5YoOy+XtbdZCpoBc1qO/o0J2vo1vWY6d9jUgsKKlxje0EmgdcKWKWy6rUDnS+wJWqrmNI6ynStyloyrG9od1UkTRskF3GwkJfh3knHKXscxd9AxoGtyOIxzQ6XxDR0HjMpV2psTxaIQxcpt2VXJKtnStyJ0xagWDBVkXrqu2qWq+FbG922FFtc0X1LKF2OR2NMuOv5FJIM6IGLKc1RlSfSadLhuCYa4F8HljaiQwlHz98DVdMzbEcVm3/CCdmkLmcGoxydtCgd0XE5x+4ktuufYL3veqPCUTKbNZkPm3yrrf/CeOyT1v7hCblV7Z9BvVznyZDwJ41BnIx7HdWcAWMyhiVr7xZPikyBJkRODZmIWwSsKNssNqRxDUbWzOh4ng8QS+2oJbaSFRsJZUwtu6pVCGHJM9wzAzOXf2Ljz36gEs8ssZ8eVXFOUmgWliVVOetWE91Rxjz+zw62M7fPnWldQI4Vk3NfMlP7fwKv9V+Lc7ZCtGYvaFJJfNxg9luwxZ3YggWrcMlagm+8egeaCU4C67tIpPBgdYCTyZjtnWvsHGiRjWio+plL+0C0bhUhwuVT+cqj7bM9Pov/QK/cdNHuSE4ye9XX8Gn77s2f1CoSrtkJ0aVUNh2ERO2W6YAUkH3dAOUIa0bvBVJ2rCMnvQd3NCqpJlnML7tvrN4Uwpa4I5GeH5KHDkkPRcRKrRrUKsS2ZYYadOTjLalhADK4RxVrwCP1eu2l8BFmQWKFbnNXj+tiVoB8W6H44OWtdME6IrGmbTeSoCZkS5R6rC3ucTB2hzbvDaJUayk1mnVSQOODCaJtMPltVkUhqqMOB6N27It7bDNXaanPTQSheFMPMLrZr7Jez++G/VYncOv1iSPNNEObLt+lgMjC7xs9HEOeWcI9+a4NCLJ7TTBjOqQKcGkiskMjJCgC4bJmUdhkIArDC6ghCAzBncoZ0sO/Q6kyQs/izecF2qG2+rli/TGQkbUAJXDSjsyKxlJO2LN2VGodsnaB9FFv7HCdiviaa49NljSxE2J9tbU0HPUyyLeIfOPqWHx6BgPZJI/u/Yv+PCxl+Dkx8V1STQGe915ktihf2UCWjDldRGOLfX5iQN38+67Xk88CtG4yStpDe5oSK0Sszo/ZlehiuYb9x+geccS8h9aJCM2plLzYgZXd4gfb65JMsNaf2ZpHTa6YJAc6TjrupxIWvzbO9/M//a9n+CNr/w6P/+lt0LXsWUkQlOVMZ4qvgN5m1pTNvIruq1kNUnou8hGQlpNEUaQNvJcwVWJiARy0UNkgubThuUrq0S5/8cdyj4XGTbDpGLOMQOQQ86nJP+uwtatKbHGTNq1qUjRpMaMJgT1iL3jSzS9kP2vW+Bof5xtwQoHK2dpqJDf+v73cTYZpeWsEmqXM8morVnTLhkSheZMPMp83OBor8Vjp2bgdIDc1eOOvUf48uJlVJ2Y60eO8767b+H7b/o6V1VPl5O5p318mTCVF5umNfDb4Pgx7/vnv8ubH/wZ/vCK9wFQEykZgsTEOaNlpXQapgKdwwUSY0hyRrNMZvOcAbL1yAQbkM3ez4H+jRSQZsQjTlnunUQO3Syg4UXEWvGFk5eVqmNZq6PX1ILS4M2ZsHAYUHgShxC83L5GGIl2rMND5BJCpqz1qS5UjTxk4KxK3nvtn/NDd/4Cbrq2wqZVQbQj5ucf/HEAJravsHh0zLpqleHLZ/bz+kPfIGqZtcXAgJoZ8NrLHuVgZY7/eOy11oaSICPBbdufpv3mWe66+xA4hhPfnEGmYgiernCnrrlGC8krU0rnjEgE/+WLr+B7bnyE3/7S97F/31k+9T1/wMe71+GKjDPxCCPOAEfYBhgiE3nSay4VOwrtGbJcynnLEt0psmTzf8PIaJ6V8HFd4C9aKLvCmVR4h2Ui7BgLz6nL2gIB+EuSeFTTONjmhdOnOFSbZcLp4oqUQCZoI2moAe2sRqhdHurv5IbaUb7cOciEu8q20RW6WUCG5IHebm6pW7ToArYAIDZOWRy6kDb45IkXsPRki8krFvjDF/8lM6rDoq7y3rN3sLPa5q3jX+Evl27BHQ053J20NYUyZsJdLWvasrzIdLA94+PveCeusAkm77v2vYRG4aKJjSRBUhtKDVEYlMgz14Aw/7SBsBJLYfJ4p2UyTwhkzoAXosyAYzP2bQ0ZSpFM1okatgpYuyDnPdwcDjrVivZ8ndaSwclHopVAZYZEirI9rXGG4mc6VwkLphvKNct8uTahhhjXFDmk0hrMMkcNJmfqN33oF/F7suwHnYxmZFUJiaT6VyN0X5NAw96jKmNeffmjTHsdEmzwVSPyLAcNCwH3jOzhbx6+CSntRJOhRHuGT3/5eq65/mn0aIIz55XSq3Dni8w6NOxYKR0kwlhVDGXssJVlvpeMPMVjO6c48tQ0H5q6ga8u7eOO8cMWcyPzGPFC65jwtL22tosPiX2fumLFSRbYxnlZYEpmU5HNN5Rx3gyxoWlfa1DNGM9L2T+xyHTeRL2qYiacVUZUDyUMoXZ5bLCNz528nPbTY9x682McqlvGWsmq/PnjL+Z+Zyc3zZzg5ubT9LVPQ4WE2qOd2cySq6qnCY3Hdn+Fo+E4g8yj6QwYcfo81N7OjbWjtn+D9nm8P0NiJKejUf7+6YNESxVEIvj1V3+QQ1efIUMQGpeO8UmMdam/dOQxTqVj/MDY/fzki7+MwrCoq9zb38/7j91Iu1OlVo1oBBE/tusePvqGdxEahU1zAheDO8RYwdDKVPzKjD16qHEZocntsfxVu/nUDjdgsOI6riiYVBAbgwIckcPLCW0wQtPfHth8Lm09QM6q5DOzV9OLPZJMIlcdKguaqJlH6jVkQ1DbMgZSYz2AhjwLe00dtBxlGa505Q8FvcsQgAaZWc4Tei0JGQHeiqR+whCNCLyOYHW3gMt6VB6s09sGJhUsr9Ssy91IHlme4c0H7uELq4eQkShtRJnY7PP5xyYQeU6c9q2Hj5z5n/rUAdSkdWsPj79Q72y80JQOnUIHM67Jt4tStf7M/NXsarSZzcZ5z113QCa47MXWve/LlJU4QPWlLdwUIKZC26hPaSQw2uwzVVul6YZsC1YYc/tMuR0eWN3NLY3DNJWNDUk0oXFL6aGRVGVEIBL62idDlgzyYH8XH3z4eowW/PqLP8beF8zzy0+8yWLdNxL+5O9fwYff+C4aMuG+aAfvOvIKlro1xhs9bpg4wZhr+y/4IkUJzaOrM5xeHSHOFMvdKnHXQ0SKf3v8h61zpxXRGulxqHWW20cP87M3fwFfZCzpgIaMCY2inVUZVz1GZUxXRPyLiX8kNNYdH+TZNC6GabXCNaMP8NOjDwDQ0wZXwIpWNGRGZs4R9JuSvPAhpRp5qddRWInooJTNMXMdjOeQ+mv1ZcJA9YzhxMIoQZDQ6wY2/zC0Ddohz3TOhgrp8gEZWeQ65tsLwzmPlRX9nAv3beEAkXkzdBWbvNWRZeKkaiVjPKJhX4/sRSGegDSTBKmiUYngtj5KanYHA463R4meDph2Vzg+2+KJXTPc195NVtW4XZlDf4vS1vAXJdGERiTSwsppQOfVzIFGJKJ0djh9q+6WmSuJtR9J7QswgG2zm2FyI9IdiTi8NMFfvfA9/PzgLSys1rh6apZe6jPpWff027Z/kcUf/DpNFTKbjNByVmnKsAyyz6dNMmzrpJazipeD3eyrzOeJzindzFaMuyJjyulyKhkrP3pXV1hK64S5a/ed97yay3fP8pHb/whtBG1dYTGr83tX/BX3D/Zyc+VpvveNj7Koq2QMuNE/xX+64v2lxy0xio4OuKd/gAe7OxhxB9w4coxXtXpcE5ygIRIeiWc45J21jenNWl/sDEFDJoRG0TUujdxjVxMpk+4yCVY1m1AJNSFp6yK1yTJPVQhCY8iMySWMIBCQGOuIKEpf1rc624hy0K8tqZjGWzHuZsyYGYPTeeE03Z0KDDSPp6WUkZnFsUsDSdLzaDX7dAd1nL4ENCqyicWOMhY+zdi4WFK1AUWVrHkkw3EblEzGUmQ1xa8ktOp9djbajLgDKiphzOmXZRXLaZUP3n8j1x08wSsmHitBXAqjGeBsMsJ83OBzRy9npDZg7skJ3I4gGdVkBxaZrPc4oUbp6gD3hM/cC5tUnRi3K6nMCtur2geRWRUsnNJ4K3a8OrRZEtozRNMZ1JMS9nlmpMt0pctSVOXy5hz7K/NE2i0zSYJ8wlhMjJhuViltmQf7u3jDl/4l/+FFH+Jjiy/kZ6a+xN39A7z/yI1cOXGWnd4iNRkTG0ViHJoyzCe0k0+ylFBXCERCYixSmCtStrttulmFvvaR6BxsNWMxqxNpt7QBj4Xj3D+/k7Mnx7jswCxffcV/oq2hq10yBKNywKgcUJUpt1afstIDQyAy5rNaPgaNi0bngdiGjPmh5td5Y9NKlcK9LTH0jcMOZ7n02PlF2UwezPYFuKTWGWEEXq4yaKyqV0zcnlmb3omxEzrMVbJimzuk3tWkJhpinEKVK/avZwiJVaa2klqFbXaxVDBmETQT+3/3nSaYE6xenlBpDdg11qbmRjz0lcuYuk/T26YsWvFLF2kv1whqtvvHVHMVX6WEqcvOetu23I0DpitdGk7IUmyx3Ftu75zcsU4S0PJ6ZdpLnCdeNpyQikpYimvcdWovveUK1x88xr7aYplbdiYcsRH81VFOHJmEIOPfveQTBCJhxlkhEAmhcfl051o+cPeLCGYdMt9mm//JT/0XfuWJHyZMHHY0O0wHXUbdvk2X8ZYJjUNL9QiNy7haZTGzUNe+TFBoujog0jYmJNGcSayjZS5u8IbRB2jrKqF2qcm4NPB72mc5rfHpM1ezMgj40f338fL6I8xnDX73yGsJnIREK/7jZR8gNIqjyQQfX7gegFF3wKTXZY+/wIyzQmhcTiVjuCJjXK0ym46g0DwVTjHm9JlLGgwyl0Hm0o6rdGOfE/NjZKsuZIJrrjrOW7fdxfdWTnM2bwgosW1s29rDQzOX1RlXPQKRlRKoUOsCkVIVKQlrzQgto9s2wHYCmyFGg75RjMgCMPX8yaixk9flXLtomDaSNIUzovD2DUWAz5M4wwyyFaMVDLwZZWZNml4MSc4do9j3l79pdCbYPbPE8TMtDu2e5fLmHFNul5WsQi/1+cwTV5GtOgRnXGQE/YMxlWaIUpoDrUW6ic+2aqfMJWs6gzKtpe5YjL6aE9FQYdmFBGAhaRBph6W4ii8zUiM52RvlzEqT/uk6B648jSszznSatOfr1B/3SG7u8s4b/ppD7gIf617La+oP82QyiStS/tf3/Ay/+BMfpSkH7HUX+On7fora39bpbRd4NywTRi7bxjrsay4y5XeJtMOU28WVKa7I1oKQef5bYhQKTVVGeCLjRNJiNQsYc3o81N3Ji0eOkBhFpF2k0LTUqm2wEU1wb3s3D5/ZRuAn/ORld/O9tUdp60o+MQQH3RX+ePFWEqO4sXaUQ94sTyRT7HUXSg9XjOSz3Wu4Z3kvR5fHWG1XMXER3Cq+qKEyErJttMPtk0/xisbDjMsBDZkRGtvtJEOUDAAQGkWGKDMYhvcV5BatuoTJ1bE1Uusmbp4tdx4V2zdTzYrtxQS+kPo2fJ5LXs3Fxal1w+O9GHtrMwpygJnMmPL+60lSSGW7gEhA7PnPv2sOXnmKX9v3cXrat0hFSCSa08kYgUzoZpVyAr4wOMbRZJIH+7v45JGrSZ5s2gbpI4akqWEkYdtUm84g4JqpM4x6Fiyz5fXopT6DzGVfdYGn+xPMR3Xm+zXSTNGPXMKBh+64BLMObg+6B1KuOHSKH9t+NzcHxwE4nTXIjKStq3x84Xp+dubzKDRHk0k+tXAtPz59F4FIqAnbZmpUxrxr/uV88pFr8A8HOCH0dmhquztMNVYZD3qkWrK7tswgcxl3Lcx13YlIcoDQumPVxuODFmf6TepuxMKgblu/ehGL/Rr9yEUpzXRjlVdOPcbL648wWhj3OsjVPcWoXAtKj8iMvhEsZUH5fhOjcEWGhy5VroIhQqOoiTR3CEBPy1IihcZFoXk42snl3izTymbO6/wa7tCUULmGsFHcaP1k3IxBhvdtxmgXoouxjTY775nQc8lo9npmU0m8nsR7H7/FeLka15ADEuMwrlZ5Kp4iQ9KUA0ZVn6OxbW5QqFWuyPBEyqTTQWEYlX06OiA0Lo+GO3iiN0039TnRHWU19Mkym2luYomz7OCuCptbF0A4mTF9cIF37PsiNwTHqYmUrnaZzZo05IAMyVJWp6d9FJp2VmVU9Zl0OjRkWKowhe0QGkXPeITaZYfTIUPYZuMypa8desbl7v5l3Dl/iMNnJ0iWrLdPJtZGc1dtYSN58ixYh4ipZtRbffa1lthbW+TWxmGu8s/Q1R6TakCYS/ERmbCkvZJB2rnN5KFLSVGMqWCkQGS0C9dtTkWtWvG7rx1GZEKSB1eHJYZL7orOf9t7WCYoJNLwBMvM+Qyz0cTfiOH+qTFa8azfLkZb/z5dAeIjh681XV1BoenoCtoI9noLBCIhQ5RSzhMZEl0a5naiSGJjuzEWenqhYrVUj64OypsvpzXqKmTS6VrmEJpfuvtHeO+t7yUxim5u5APERlGTFmI6NC6uSEsJBZRes5qwpeoFgxXjsuep8ncxYbOcCQtKjCIQabmv2FaVCS66XPn72invuahr7HWWbfBT6Lxxg2UeiSHJp1xi5Jq9ItZm03DCaUFFSo8G4txNW9x7Ld1nLRPhnI/KuerLeiYrPjScr+ZspHKtnyTFpLyQHbOZJLxYZlp/3fWu+eL7FFL42TDLRnSxTHipEq14DscTWTnBAxET4pXu5NgoNNKiy6o+Ck1WTiR7TGjckvnAxnBuqBy1NkbOQAAzzgqz6QiPDrbTTioc7kyinIz/vvAStvsrTLsrpTu7JiNG5SBnkh7AOcwSmLVYSjEBE841uIs4SpE2U0ibgvGAc9SzQrIU1c4J0oYZ8g/bkDFt7fPRxRt52+Q/5ucUKTL5s+fOAIkhkNl5to+/jlmKjzQcDJUF9NrQBy+yFdaftxGt37fVxNnKpgmNoCrMRRv/zyVtFP/ayI78p0Blfv1nj1xhurpCbBSeyFhM6zTUgEAkePnqOyxhCuaT6HL/qBycIxGGje+GjHMvlqUkz2ZuSE1NSJa0JjSKqshKpkiMxcsLhCbJr1VkQQN4Qper9PCqPKzKVEUe5c+ZrXAKAKW9krAmdYp9NZESG4lGlF45lTN0EelPzJrHbP2qPzyO4Vy5Qo55+TWGPwIbnFO+r/z6wSbnbUabOSeGqbhnIM6VjMUzLWUurbw0X25w/kbXejYSbfj7raf1z/Ns7LSNzr0UiTbs7dzqnRTOkMyA+NyRy03PePS0T1OG7HLaLOoK9w/2csg/Yz1p+WQcrrVZr/MXVEiV4RdTfkA2f4rhCV+oS8PnX8gGKO6x/rit7h0IU66e62Mkw9JxmJldcfEfZe0+a56qizWev520kTp0Ke7sjey3jfatp/VMuOWkXWdfbnSvS6VhTWJ9+OHZXrvQQnL8b5w9TqeUGnmbKFpylb2Nb5arWMHFw9ZFoa4Nr9YwPKHXRi7L/zd/62We2AbHbOUiLsjdZH8p+Yw5b7XNhhaF9avpRh92+JrfCZXq20mugOgSg7TfSlrPCM/E+VKc9534do4NGBaGt83LkuRAp/lBhahcb4wXhrc6Z9uasbrRxN9MOg2rloVEG2aMC3nDtlpVt9q2fnXcyOGghtaOb8WHeq5W6GG6mCDshmNhLbl2+Dtd7PWeiRfxPJV2qO5rPT3b9z98bvEsz+R6FxqHxpoJGIMrRNnrxb5gNq6t2Wjyfavon6rR+126dNos6XerOfB80SQuZRylcFGiWEE2/vdsaKN0l61IXsQxz4Q2u6YSW6/Sz/VYvhXP9u2833N5vc0m61b3GK50/k7SsNmxFRW85diT1rwowxJuPZOpIY/LhbYX3h2XNT2/MLJhY1to+AGGJ/9Gnqz1+7aiIu+spPJ65z/LsMu9yKkrKMSc55m7FLIFhGu0UU3TVvl4BRXOC+vh3NjBUjhuzhn/JkWKw9vXq37l32Lz611q4PlCDLbR/thIvDzEs35yb5W9sv6aWwXeN7pmcUyRM1k6jjb49sX7GI5dFmOQSohyAhSTYP2E2Io2Uzc3o+EX8O1e3f8pkx76952mS/nezxVpBF8c7H8G521sl327KDOGxBic9en8xc5zDiZ3VT7H9tuFsqUvZd9Wq6o8T2oWK/HGkrigQmIocf5AL+WDbTYxN5IehT6/1Sp9KcyWbSCtNnPBlw6hDd5lZrBV8eWqbZ4TKbbZMevDPCMyY6+7cM7ifKlzpKD1kuxi3PuX4n1df64SwiJ4X+glfDudIc8FPR9W/WdKFxNofr7RheaQZusY6jBtdlxiYLvT3fC+zxdJvxEVGp84eWLmGekBaggPYbMbXAqDqqGg7vptBT2T+11oHIUkX3/M+vNcIc4Jd2wk5Yp962mjZ9toDN5GEnaD8W1272Eq3tVWdvX6MW9mlw9fb7Pxr99XgNsUEnpYIgwXZa6HcCvO2YoxbTHq+feC83NCw4uY3VtVLRR+hot55wUNz4/ivX3LzKStJvdWg95y3zO43zOVxpc6/sLm3GhflpfcP6N7bbFvK3om73/DhSof+7dijOupkEwXI/3Wp2Y/VxJto5jtpdLw+x2OTX+XngPqb8FIRYzynyJ9O8deJnibtbzWjehbqSo+19cu3p0z/AescSBs7V1av8plnK/6bKa2PJttW9FGatZGk+RSV2CVq43r8y+Hxyc5F8fiUu+3mbNpq/Mv5v1c6ntdrwYOe6ILlWj9+UUV8Rq425pkutgEhGEppsRGYxbn7JOspQCuAZuuhV+2lujn/l1ghhS/N6LYmHNDRBdJxXd1Cld+fImT+kKUAXwH3MDfStoKLNO7iMXpuaLiW327nVSFYf98cI6dW4N37oLnXcB/8O2kMmBdoK1unON3CUY36xwZz8kwL40uJE2ydf9fyElyKZDPF8tg67WH8+61ydiGj/lWv9tCO4FNJOIW5w0nIsihgPawRlAmMJg1J0iCIMilVWI4pywKIBhCyDrHxT90Pc3aPCze0Xq3/LDUHX6PWpyfIL/+GPJrB0KSbCCph8NGw9uUEDjPV7fo84Eu1XN6Mdd7Jvf6Tth35yFMGXPeJF87lg0zJTaLNQ4zXOF4qA6piyWTDp2/UZV4cZ2tFqD1qu/6bWvPcHFaQoaFv/M2YKZNzzF5k4sL0VYu9+/S/5g0bGtdiApJsuF1tqhMKGwjjXX5++dJn+ef6XGpC29Zj1b8UVxkIy4/58R12zZScZ7JgJ5LulgJkG3y+1tF69XDC0m44XOeC7rQNTcaz/pSmY1os6yJYTf5cFnJRtXkG1Y9D4k0vQHTXUjdPncsW8/lC73nLZ1V64RPYY4V5ykhcM5J0QG4gBi8ED0fDNDv0qXRxXiZLxUzcTid7Pz7PbN7nHfPdec+H+dewVPnqY7P1i65mI/2XXp+UZF1vmV5ykXkDq6f7FmOu7KeNsvSPx9rxWwZwB6Gr3i+BoSL9+EURuK5QDEbe082o0v10J0zkE0Yc7MMi4u6JhenCm7mgXquaDhNrfi9/v6wtSr5TNXbjbyt67edVzpygXKX4djYsCqozblgQmtjWPtjuDr7Qtn0wwyn2BjeYpg2S73bbN9GtNXxm8WDNzoO8gVnKAXLW686FrRWk/XM3PXPtbfufwR6ruOUF0PrIbOH69aeST2dlRxrLvviG2+Eqz9MzxRgdTNaP/biudwNj36W9+JZanj5/w6srTZFdD9Zd1Bxw+GVqCiAK9QOzRpaLrChu3cjyobOh+GV8dwgZEGbgYCup/Vu4I1g3oZr8JKhY2FjiVBQca2NJtA5uBq5NNuqCcP6beslSk2uQdxtVQC7/jw9tG+95Cokk1sij63tL57pvO+xrmxluLjx3LjWuR9+7dlNidc0XExZ0EaAR9qswQYOJyIXqmIydL1iPOu/1VaZQcU3D4a0uvXfq3CCnHfdi0heGD7WUULk2dBDO/OLuEPbitWiYAC3SHsRBcKuBSHZDBV3+JyNgn3DevtmkHHDxyYbqLcbXS/JnTsu4rzKaneDZy6u5wuJNoaM84P5LqKscVs/Nk+cexysPe/wuIfvVcRhJGsMEg+9ZynsdYtxB/J8dbvYtlXWSDBUmDcc+xkec7xucSiuE2yhvimxthD7nH//9ZK1mGvD88AV4py/s6HtFijq3IVXQarr21wAAABfSURBVPk9FXYeuhdZsOyLAgRY5+eL8juvL3oux1wiYQ9reQI5NIf0BswnhT3OGZMBrnj2il5mNEo8X03S79KzpayYlJt848xoNOa8uVRsB5BFScwW19hq/7M9/jtJ/z+UvbPsxm0gBgAAAABJRU5ErkJggg==\" y=\"-10.14\"/>\n   </g>\n   <g id=\"patch_3\">\n    <path clip-path=\"url(#p0c17502d69)\" d=\"M 64.790034 44.934361 \nL 231.387452 44.934361 \nL 231.387452 220.429164 \nL 64.790034 220.429164 \nz\n\" style=\"fill:none;stroke:#0000ff;stroke-linejoin:miter;stroke-width:2;\"/>\n   </g>\n   <g id=\"patch_4\">\n    <path clip-path=\"url(#p0c17502d69)\" d=\"M 73.08032 49.565964 \nL 206.848433 49.565964 \nL 206.848433 201.157502 \nL 73.08032 201.157502 \nz\n\" style=\"fill:none;stroke:#ff0000;stroke-linejoin:miter;stroke-width:2;\"/>\n   </g>\n   <g id=\"matplotlib.axis_1\">\n    <g id=\"xtick_1\">\n     <g id=\"line2d_1\">\n      <defs>\n       <path d=\"M 0 0 \nL 0 3.5 \n\" id=\"m5857e43e2a\" style=\"stroke:#000000;stroke-width:0.8;\"/>\n      </defs>\n      <g>\n       <use style=\"stroke:#000000;stroke-width:0.8;\" x=\"33.772857\" xlink:href=\"#m5857e43e2a\" y=\"228.14\"/>\n      </g>\n     </g>\n     <g id=\"text_1\">\n      <!-- 0 -->\n      <defs>\n       <path d=\"M 31.78125 66.40625 \nQ 24.171875 66.40625 20.328125 58.90625 \nQ 16.5 51.421875 16.5 36.375 \nQ 16.5 21.390625 20.328125 13.890625 \nQ 24.171875 6.390625 31.78125 6.390625 \nQ 39.453125 6.390625 43.28125 13.890625 \nQ 47.125 21.390625 47.125 36.375 \nQ 47.125 51.421875 43.28125 58.90625 \nQ 39.453125 66.40625 31.78125 66.40625 \nz\nM 31.78125 74.21875 \nQ 44.046875 74.21875 50.515625 64.515625 \nQ 56.984375 54.828125 56.984375 36.375 \nQ 56.984375 17.96875 50.515625 8.265625 \nQ 44.046875 -1.421875 31.78125 -1.421875 \nQ 19.53125 -1.421875 13.0625 8.265625 \nQ 6.59375 17.96875 6.59375 36.375 \nQ 6.59375 54.828125 13.0625 64.515625 \nQ 19.53125 74.21875 31.78125 74.21875 \nz\n\" id=\"DejaVuSans-48\"/>\n      </defs>\n      <g transform=\"translate(30.591607 242.738437)scale(0.1 -0.1)\">\n       <use xlink:href=\"#DejaVuSans-48\"/>\n      </g>\n     </g>\n    </g>\n    <g id=\"xtick_2\">\n     <g id=\"line2d_2\">\n      <g>\n       <use style=\"stroke:#000000;stroke-width:0.8;\" x=\"82.308571\" xlink:href=\"#m5857e43e2a\" y=\"228.14\"/>\n      </g>\n     </g>\n     <g id=\"text_2\">\n      <!-- 50 -->\n      <defs>\n       <path d=\"M 10.796875 72.90625 \nL 49.515625 72.90625 \nL 49.515625 64.59375 \nL 19.828125 64.59375 \nL 19.828125 46.734375 \nQ 21.96875 47.46875 24.109375 47.828125 \nQ 26.265625 48.1875 28.421875 48.1875 \nQ 40.625 48.1875 47.75 41.5 \nQ 54.890625 34.8125 54.890625 23.390625 \nQ 54.890625 11.625 47.5625 5.09375 \nQ 40.234375 -1.421875 26.90625 -1.421875 \nQ 22.3125 -1.421875 17.546875 -0.640625 \nQ 12.796875 0.140625 7.71875 1.703125 \nL 7.71875 11.625 \nQ 12.109375 9.234375 16.796875 8.0625 \nQ 21.484375 6.890625 26.703125 6.890625 \nQ 35.15625 6.890625 40.078125 11.328125 \nQ 45.015625 15.765625 45.015625 23.390625 \nQ 45.015625 31 40.078125 35.4375 \nQ 35.15625 39.890625 26.703125 39.890625 \nQ 22.75 39.890625 18.8125 39.015625 \nQ 14.890625 38.140625 10.796875 36.28125 \nz\n\" id=\"DejaVuSans-53\"/>\n      </defs>\n      <g transform=\"translate(75.946071 242.738437)scale(0.1 -0.1)\">\n       <use xlink:href=\"#DejaVuSans-53\"/>\n       <use x=\"63.623047\" xlink:href=\"#DejaVuSans-48\"/>\n      </g>\n     </g>\n    </g>\n    <g id=\"xtick_3\">\n     <g id=\"line2d_3\">\n      <g>\n       <use style=\"stroke:#000000;stroke-width:0.8;\" x=\"130.844286\" xlink:href=\"#m5857e43e2a\" y=\"228.14\"/>\n      </g>\n     </g>\n     <g id=\"text_3\">\n      <!-- 100 -->\n      <defs>\n       <path d=\"M 12.40625 8.296875 \nL 28.515625 8.296875 \nL 28.515625 63.921875 \nL 10.984375 60.40625 \nL 10.984375 69.390625 \nL 28.421875 72.90625 \nL 38.28125 72.90625 \nL 38.28125 8.296875 \nL 54.390625 8.296875 \nL 54.390625 0 \nL 12.40625 0 \nz\n\" id=\"DejaVuSans-49\"/>\n      </defs>\n      <g transform=\"translate(121.300536 242.738437)scale(0.1 -0.1)\">\n       <use xlink:href=\"#DejaVuSans-49\"/>\n       <use x=\"63.623047\" xlink:href=\"#DejaVuSans-48\"/>\n       <use x=\"127.246094\" xlink:href=\"#DejaVuSans-48\"/>\n      </g>\n     </g>\n    </g>\n    <g id=\"xtick_4\">\n     <g id=\"line2d_4\">\n      <g>\n       <use style=\"stroke:#000000;stroke-width:0.8;\" x=\"179.38\" xlink:href=\"#m5857e43e2a\" y=\"228.14\"/>\n      </g>\n     </g>\n     <g id=\"text_4\">\n      <!-- 150 -->\n      <g transform=\"translate(169.83625 242.738437)scale(0.1 -0.1)\">\n       <use xlink:href=\"#DejaVuSans-49\"/>\n       <use x=\"63.623047\" xlink:href=\"#DejaVuSans-53\"/>\n       <use x=\"127.246094\" xlink:href=\"#DejaVuSans-48\"/>\n      </g>\n     </g>\n    </g>\n    <g id=\"xtick_5\">\n     <g id=\"line2d_5\">\n      <g>\n       <use style=\"stroke:#000000;stroke-width:0.8;\" x=\"227.915714\" xlink:href=\"#m5857e43e2a\" y=\"228.14\"/>\n      </g>\n     </g>\n     <g id=\"text_5\">\n      <!-- 200 -->\n      <defs>\n       <path d=\"M 19.1875 8.296875 \nL 53.609375 8.296875 \nL 53.609375 0 \nL 7.328125 0 \nL 7.328125 8.296875 \nQ 12.9375 14.109375 22.625 23.890625 \nQ 32.328125 33.6875 34.8125 36.53125 \nQ 39.546875 41.84375 41.421875 45.53125 \nQ 43.3125 49.21875 43.3125 52.78125 \nQ 43.3125 58.59375 39.234375 62.25 \nQ 35.15625 65.921875 28.609375 65.921875 \nQ 23.96875 65.921875 18.8125 64.3125 \nQ 13.671875 62.703125 7.8125 59.421875 \nL 7.8125 69.390625 \nQ 13.765625 71.78125 18.9375 73 \nQ 24.125 74.21875 28.421875 74.21875 \nQ 39.75 74.21875 46.484375 68.546875 \nQ 53.21875 62.890625 53.21875 53.421875 \nQ 53.21875 48.921875 51.53125 44.890625 \nQ 49.859375 40.875 45.40625 35.40625 \nQ 44.1875 33.984375 37.640625 27.21875 \nQ 31.109375 20.453125 19.1875 8.296875 \nz\n\" id=\"DejaVuSans-50\"/>\n      </defs>\n      <g transform=\"translate(218.371964 242.738437)scale(0.1 -0.1)\">\n       <use xlink:href=\"#DejaVuSans-50\"/>\n       <use x=\"63.623047\" xlink:href=\"#DejaVuSans-48\"/>\n       <use x=\"127.246094\" xlink:href=\"#DejaVuSans-48\"/>\n      </g>\n     </g>\n    </g>\n   </g>\n   <g id=\"matplotlib.axis_2\">\n    <g id=\"ytick_1\">\n     <g id=\"line2d_6\">\n      <defs>\n       <path d=\"M 0 0 \nL -3.5 0 \n\" id=\"m87decbf0e6\" style=\"stroke:#000000;stroke-width:0.8;\"/>\n      </defs>\n      <g>\n       <use style=\"stroke:#000000;stroke-width:0.8;\" x=\"33.2875\" xlink:href=\"#m87decbf0e6\" y=\"11.185357\"/>\n      </g>\n     </g>\n     <g id=\"text_6\">\n      <!-- 0 -->\n      <g transform=\"translate(19.925 14.984576)scale(0.1 -0.1)\">\n       <use xlink:href=\"#DejaVuSans-48\"/>\n      </g>\n     </g>\n    </g>\n    <g id=\"ytick_2\">\n     <g id=\"line2d_7\">\n      <g>\n       <use style=\"stroke:#000000;stroke-width:0.8;\" x=\"33.2875\" xlink:href=\"#m87decbf0e6\" y=\"35.453214\"/>\n      </g>\n     </g>\n     <g id=\"text_7\">\n      <!-- 25 -->\n      <g transform=\"translate(13.5625 39.252433)scale(0.1 -0.1)\">\n       <use xlink:href=\"#DejaVuSans-50\"/>\n       <use x=\"63.623047\" xlink:href=\"#DejaVuSans-53\"/>\n      </g>\n     </g>\n    </g>\n    <g id=\"ytick_3\">\n     <g id=\"line2d_8\">\n      <g>\n       <use style=\"stroke:#000000;stroke-width:0.8;\" x=\"33.2875\" xlink:href=\"#m87decbf0e6\" y=\"59.721071\"/>\n      </g>\n     </g>\n     <g id=\"text_8\">\n      <!-- 50 -->\n      <g transform=\"translate(13.5625 63.52029)scale(0.1 -0.1)\">\n       <use xlink:href=\"#DejaVuSans-53\"/>\n       <use x=\"63.623047\" xlink:href=\"#DejaVuSans-48\"/>\n      </g>\n     </g>\n    </g>\n    <g id=\"ytick_4\">\n     <g id=\"line2d_9\">\n      <g>\n       <use style=\"stroke:#000000;stroke-width:0.8;\" x=\"33.2875\" xlink:href=\"#m87decbf0e6\" y=\"83.988929\"/>\n      </g>\n     </g>\n     <g id=\"text_9\">\n      <!-- 75 -->\n      <defs>\n       <path d=\"M 8.203125 72.90625 \nL 55.078125 72.90625 \nL 55.078125 68.703125 \nL 28.609375 0 \nL 18.3125 0 \nL 43.21875 64.59375 \nL 8.203125 64.59375 \nz\n\" id=\"DejaVuSans-55\"/>\n      </defs>\n      <g transform=\"translate(13.5625 87.788147)scale(0.1 -0.1)\">\n       <use xlink:href=\"#DejaVuSans-55\"/>\n       <use x=\"63.623047\" xlink:href=\"#DejaVuSans-53\"/>\n      </g>\n     </g>\n    </g>\n    <g id=\"ytick_5\">\n     <g id=\"line2d_10\">\n      <g>\n       <use style=\"stroke:#000000;stroke-width:0.8;\" x=\"33.2875\" xlink:href=\"#m87decbf0e6\" y=\"108.256786\"/>\n      </g>\n     </g>\n     <g id=\"text_10\">\n      <!-- 100 -->\n      <g transform=\"translate(7.2 112.056004)scale(0.1 -0.1)\">\n       <use xlink:href=\"#DejaVuSans-49\"/>\n       <use x=\"63.623047\" xlink:href=\"#DejaVuSans-48\"/>\n       <use x=\"127.246094\" xlink:href=\"#DejaVuSans-48\"/>\n      </g>\n     </g>\n    </g>\n    <g id=\"ytick_6\">\n     <g id=\"line2d_11\">\n      <g>\n       <use style=\"stroke:#000000;stroke-width:0.8;\" x=\"33.2875\" xlink:href=\"#m87decbf0e6\" y=\"132.524643\"/>\n      </g>\n     </g>\n     <g id=\"text_11\">\n      <!-- 125 -->\n      <g transform=\"translate(7.2 136.323862)scale(0.1 -0.1)\">\n       <use xlink:href=\"#DejaVuSans-49\"/>\n       <use x=\"63.623047\" xlink:href=\"#DejaVuSans-50\"/>\n       <use x=\"127.246094\" xlink:href=\"#DejaVuSans-53\"/>\n      </g>\n     </g>\n    </g>\n    <g id=\"ytick_7\">\n     <g id=\"line2d_12\">\n      <g>\n       <use style=\"stroke:#000000;stroke-width:0.8;\" x=\"33.2875\" xlink:href=\"#m87decbf0e6\" y=\"156.7925\"/>\n      </g>\n     </g>\n     <g id=\"text_12\">\n      <!-- 150 -->\n      <g transform=\"translate(7.2 160.591719)scale(0.1 -0.1)\">\n       <use xlink:href=\"#DejaVuSans-49\"/>\n       <use x=\"63.623047\" xlink:href=\"#DejaVuSans-53\"/>\n       <use x=\"127.246094\" xlink:href=\"#DejaVuSans-48\"/>\n      </g>\n     </g>\n    </g>\n    <g id=\"ytick_8\">\n     <g id=\"line2d_13\">\n      <g>\n       <use style=\"stroke:#000000;stroke-width:0.8;\" x=\"33.2875\" xlink:href=\"#m87decbf0e6\" y=\"181.060357\"/>\n      </g>\n     </g>\n     <g id=\"text_13\">\n      <!-- 175 -->\n      <g transform=\"translate(7.2 184.859576)scale(0.1 -0.1)\">\n       <use xlink:href=\"#DejaVuSans-49\"/>\n       <use x=\"63.623047\" xlink:href=\"#DejaVuSans-55\"/>\n       <use x=\"127.246094\" xlink:href=\"#DejaVuSans-53\"/>\n      </g>\n     </g>\n    </g>\n    <g id=\"ytick_9\">\n     <g id=\"line2d_14\">\n      <g>\n       <use style=\"stroke:#000000;stroke-width:0.8;\" x=\"33.2875\" xlink:href=\"#m87decbf0e6\" y=\"205.328214\"/>\n      </g>\n     </g>\n     <g id=\"text_14\">\n      <!-- 200 -->\n      <g transform=\"translate(7.2 209.127433)scale(0.1 -0.1)\">\n       <use xlink:href=\"#DejaVuSans-50\"/>\n       <use x=\"63.623047\" xlink:href=\"#DejaVuSans-48\"/>\n       <use x=\"127.246094\" xlink:href=\"#DejaVuSans-48\"/>\n      </g>\n     </g>\n    </g>\n   </g>\n   <g id=\"patch_5\">\n    <path d=\"M 33.2875 228.14 \nL 33.2875 10.7 \n\" style=\"fill:none;stroke:#000000;stroke-linecap:square;stroke-linejoin:miter;stroke-width:0.8;\"/>\n   </g>\n   <g id=\"patch_6\">\n    <path d=\"M 250.7275 228.14 \nL 250.7275 10.7 \n\" style=\"fill:none;stroke:#000000;stroke-linecap:square;stroke-linejoin:miter;stroke-width:0.8;\"/>\n   </g>\n   <g id=\"patch_7\">\n    <path d=\"M 33.2875 228.14 \nL 250.7275 228.14 \n\" style=\"fill:none;stroke:#000000;stroke-linecap:square;stroke-linejoin:miter;stroke-width:0.8;\"/>\n   </g>\n   <g id=\"patch_8\">\n    <path d=\"M 33.2875 10.7 \nL 250.7275 10.7 \n\" style=\"fill:none;stroke:#000000;stroke-linecap:square;stroke-linejoin:miter;stroke-width:0.8;\"/>\n   </g>\n  </g>\n </g>\n <defs>\n  <clipPath id=\"p0c17502d69\">\n   <rect height=\"217.44\" width=\"217.44\" x=\"33.2875\" y=\"10.7\"/>\n  </clipPath>\n </defs>\n</svg>\n"
          },
          "metadata": {
            "needs_background": "light"
          }
        }
      ]
    }
  ],
  "metadata": {
    "accelerator": "GPU",
    "colab": {
      "collapsed_sections": [],
      "name": "model-localization.ipynb",
      "provenance": [],
      "mount_file_id": "1lwWGRE6-BugrF1L8MW1OdWJWn7Rf5Y57",
      "authorship_tag": "ABX9TyPZl5KF5FdFqQGqiBfYZKG3",
      "include_colab_link": true
    },
    "kernelspec": {
      "display_name": "Python 3",
      "name": "python3"
    },
    "language_info": {
      "name": "python"
    }
  },
  "nbformat": 4,
  "nbformat_minor": 0
}